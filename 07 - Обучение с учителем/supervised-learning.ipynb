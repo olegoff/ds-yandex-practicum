{
 "cells": [
  {
   "cell_type": "markdown",
   "id": "c805f91c",
   "metadata": {},
   "source": [
    "# Прогнозирование оттока клиентов банка"
   ]
  },
  {
   "cell_type": "markdown",
   "id": "c894b294",
   "metadata": {},
   "source": [
    "В «Бета-Банке» решили обратить внимание на отток клиентов. Банковские маркетологи определили, что сохранять текущих клиентов дешевле, чем привлекать новых.\n",
    "\n",
    "**Задача исследования** - на основе имеющихся исторических данных о поведении клиентов и расторжении договоров с банком построить модель, которая с максимальным значением выбранной метрики (F1-меры) даст прогноз, уйдёт ли клиент из банка в ближайшее время или нет.\n",
    "\n",
    "По условию задания необходимо получить модель, метрика (F1-мера) которой, составит не менее 0.59. Дополнительно качество модели необходимо также оценить по RОС-AUC и сравнить этот показатель с F1-мерой.\n",
    "\n",
    "**Описание имеющихся данных**\n",
    "\n",
    "* **Датасет из файла** **`Сhurn.csv`** (каждый объект в наборе данных - это информация о клиенте банка с уникальным идентификатором) содержит следующие признаки:\n",
    "    * `RowNumber` —  индекс строки в данных;\n",
    "    * `CustomerId` — уникальный идентификатор клиента;\n",
    "    * `Surname` — фамилия клиента;\n",
    "    * `CreditScore` — кредитный рейтинг;\n",
    "    * `Geography` — страна проживания клиента;\n",
    "    * `Gender` — пол клиента;\n",
    "    * `Age` — возраст клиента;\n",
    "    * `Tenure` — сколько лет человек является клиентом банка;\n",
    "    * `Balance` — текущий баланс на счёте клиента;\n",
    "    * `NumOfProducts` — количество продуктов банка, используемых клиентом;\n",
    "    * `HasCrCard` — наличие кредитной карты у клиента;\n",
    "    * `IsActiveMember` — активность клиента;\n",
    "    * `EstimatedSalary` — предполагаемая зарплата.\n",
    "\n",
    "\n",
    "* **Целевой признак** в данных:\n",
    "    * `Exited` — факт ухода клиента.\n",
    "    \n",
    "\n",
    "Это всё, что известно о данных. Поэтому, перед обучением моделей и оценкой их качества понадобится расширенный обзор данных и при необходимости их предобработка.\n",
    "\n",
    "Исследование будет проведено в шесть этапов:\n",
    "1. Обзор данных.\n",
    "2. Исследование и предобработка данных.\n",
    "3. Разбиение на выборки и обучение на несбалансированных данных.\n",
    "4. Работа с дисбалансом, обучение, валидация и тестирование моделей.\n",
    "5. Финальное тестирование.\n",
    "6. Общие выводы."
   ]
  },
  {
   "cell_type": "markdown",
   "id": "077996e8",
   "metadata": {},
   "source": [
    "## Обзор и изучение данных"
   ]
  },
  {
   "cell_type": "code",
   "execution_count": 1,
   "id": "a03dbbf5",
   "metadata": {},
   "outputs": [],
   "source": [
    "# импорт необходимых библиотек\n",
    "import pandas as pd\n",
    "import numpy as np\n",
    "import matplotlib.pyplot as plt\n",
    "import seaborn as sns\n",
    "\n",
    "from sklearn.preprocessing import StandardScaler\n",
    "from sklearn.model_selection import train_test_split\n",
    "from sklearn.tree import DecisionTreeClassifier\n",
    "from sklearn.linear_model import LogisticRegression\n",
    "from sklearn.ensemble import RandomForestClassifier\n",
    "from sklearn.metrics import accuracy_score, f1_score, roc_auc_score, r2_score, auc\n",
    "from sklearn.metrics import roc_curve \n",
    "from sklearn.utils import shuffle\n",
    "\n",
    "sns.set_style('darkgrid')\n",
    "\n",
    "pd.options.mode.chained_assignment = None\n",
    "\n",
    "# чтение из файла с данными\n",
    "df = pd.read_csv('/datasets/Churn.csv')"
   ]
  },
  {
   "cell_type": "markdown",
   "id": "63ff03fa",
   "metadata": {},
   "source": [
    "### Обзор данных"
   ]
  },
  {
   "cell_type": "markdown",
   "id": "050e4399",
   "metadata": {},
   "source": [
    "Посмотрим на общий вид, сводную информацию, проверим количество пропущенных значений и наличие дубликатов в предоставленных для исследования исторических данных из файла `Churn.csv`."
   ]
  },
  {
   "cell_type": "code",
   "execution_count": 2,
   "id": "1fc8dcde",
   "metadata": {},
   "outputs": [
    {
     "data": {
      "text/html": [
       "<div>\n",
       "<style scoped>\n",
       "    .dataframe tbody tr th:only-of-type {\n",
       "        vertical-align: middle;\n",
       "    }\n",
       "\n",
       "    .dataframe tbody tr th {\n",
       "        vertical-align: top;\n",
       "    }\n",
       "\n",
       "    .dataframe thead th {\n",
       "        text-align: right;\n",
       "    }\n",
       "</style>\n",
       "<table border=\"1\" class=\"dataframe\">\n",
       "  <thead>\n",
       "    <tr style=\"text-align: right;\">\n",
       "      <th></th>\n",
       "      <th>RowNumber</th>\n",
       "      <th>CustomerId</th>\n",
       "      <th>Surname</th>\n",
       "      <th>CreditScore</th>\n",
       "      <th>Geography</th>\n",
       "      <th>Gender</th>\n",
       "      <th>Age</th>\n",
       "      <th>Tenure</th>\n",
       "      <th>Balance</th>\n",
       "      <th>NumOfProducts</th>\n",
       "      <th>HasCrCard</th>\n",
       "      <th>IsActiveMember</th>\n",
       "      <th>EstimatedSalary</th>\n",
       "      <th>Exited</th>\n",
       "    </tr>\n",
       "  </thead>\n",
       "  <tbody>\n",
       "    <tr>\n",
       "      <th>0</th>\n",
       "      <td>1</td>\n",
       "      <td>15634602</td>\n",
       "      <td>Hargrave</td>\n",
       "      <td>619</td>\n",
       "      <td>France</td>\n",
       "      <td>Female</td>\n",
       "      <td>42</td>\n",
       "      <td>2.0</td>\n",
       "      <td>0.00</td>\n",
       "      <td>1</td>\n",
       "      <td>1</td>\n",
       "      <td>1</td>\n",
       "      <td>101348.88</td>\n",
       "      <td>1</td>\n",
       "    </tr>\n",
       "    <tr>\n",
       "      <th>1</th>\n",
       "      <td>2</td>\n",
       "      <td>15647311</td>\n",
       "      <td>Hill</td>\n",
       "      <td>608</td>\n",
       "      <td>Spain</td>\n",
       "      <td>Female</td>\n",
       "      <td>41</td>\n",
       "      <td>1.0</td>\n",
       "      <td>83807.86</td>\n",
       "      <td>1</td>\n",
       "      <td>0</td>\n",
       "      <td>1</td>\n",
       "      <td>112542.58</td>\n",
       "      <td>0</td>\n",
       "    </tr>\n",
       "    <tr>\n",
       "      <th>2</th>\n",
       "      <td>3</td>\n",
       "      <td>15619304</td>\n",
       "      <td>Onio</td>\n",
       "      <td>502</td>\n",
       "      <td>France</td>\n",
       "      <td>Female</td>\n",
       "      <td>42</td>\n",
       "      <td>8.0</td>\n",
       "      <td>159660.80</td>\n",
       "      <td>3</td>\n",
       "      <td>1</td>\n",
       "      <td>0</td>\n",
       "      <td>113931.57</td>\n",
       "      <td>1</td>\n",
       "    </tr>\n",
       "    <tr>\n",
       "      <th>3</th>\n",
       "      <td>4</td>\n",
       "      <td>15701354</td>\n",
       "      <td>Boni</td>\n",
       "      <td>699</td>\n",
       "      <td>France</td>\n",
       "      <td>Female</td>\n",
       "      <td>39</td>\n",
       "      <td>1.0</td>\n",
       "      <td>0.00</td>\n",
       "      <td>2</td>\n",
       "      <td>0</td>\n",
       "      <td>0</td>\n",
       "      <td>93826.63</td>\n",
       "      <td>0</td>\n",
       "    </tr>\n",
       "    <tr>\n",
       "      <th>4</th>\n",
       "      <td>5</td>\n",
       "      <td>15737888</td>\n",
       "      <td>Mitchell</td>\n",
       "      <td>850</td>\n",
       "      <td>Spain</td>\n",
       "      <td>Female</td>\n",
       "      <td>43</td>\n",
       "      <td>2.0</td>\n",
       "      <td>125510.82</td>\n",
       "      <td>1</td>\n",
       "      <td>1</td>\n",
       "      <td>1</td>\n",
       "      <td>79084.10</td>\n",
       "      <td>0</td>\n",
       "    </tr>\n",
       "  </tbody>\n",
       "</table>\n",
       "</div>"
      ],
      "text/plain": [
       "   RowNumber  CustomerId   Surname  CreditScore Geography  Gender  Age  \\\n",
       "0          1    15634602  Hargrave          619    France  Female   42   \n",
       "1          2    15647311      Hill          608     Spain  Female   41   \n",
       "2          3    15619304      Onio          502    France  Female   42   \n",
       "3          4    15701354      Boni          699    France  Female   39   \n",
       "4          5    15737888  Mitchell          850     Spain  Female   43   \n",
       "\n",
       "   Tenure    Balance  NumOfProducts  HasCrCard  IsActiveMember  \\\n",
       "0     2.0       0.00              1          1               1   \n",
       "1     1.0   83807.86              1          0               1   \n",
       "2     8.0  159660.80              3          1               0   \n",
       "3     1.0       0.00              2          0               0   \n",
       "4     2.0  125510.82              1          1               1   \n",
       "\n",
       "   EstimatedSalary  Exited  \n",
       "0        101348.88       1  \n",
       "1        112542.58       0  \n",
       "2        113931.57       1  \n",
       "3         93826.63       0  \n",
       "4         79084.10       0  "
      ]
     },
     "execution_count": 2,
     "metadata": {},
     "output_type": "execute_result"
    }
   ],
   "source": [
    "# вывод первых строк данных из файла\n",
    "df.head()"
   ]
  },
  {
   "cell_type": "code",
   "execution_count": 3,
   "id": "f76654dc",
   "metadata": {},
   "outputs": [
    {
     "name": "stdout",
     "output_type": "stream",
     "text": [
      "<class 'pandas.core.frame.DataFrame'>\n",
      "RangeIndex: 10000 entries, 0 to 9999\n",
      "Data columns (total 14 columns):\n",
      " #   Column           Non-Null Count  Dtype  \n",
      "---  ------           --------------  -----  \n",
      " 0   RowNumber        10000 non-null  int64  \n",
      " 1   CustomerId       10000 non-null  int64  \n",
      " 2   Surname          10000 non-null  object \n",
      " 3   CreditScore      10000 non-null  int64  \n",
      " 4   Geography        10000 non-null  object \n",
      " 5   Gender           10000 non-null  object \n",
      " 6   Age              10000 non-null  int64  \n",
      " 7   Tenure           9091 non-null   float64\n",
      " 8   Balance          10000 non-null  float64\n",
      " 9   NumOfProducts    10000 non-null  int64  \n",
      " 10  HasCrCard        10000 non-null  int64  \n",
      " 11  IsActiveMember   10000 non-null  int64  \n",
      " 12  EstimatedSalary  10000 non-null  float64\n",
      " 13  Exited           10000 non-null  int64  \n",
      "dtypes: float64(3), int64(8), object(3)\n",
      "memory usage: 1.1+ MB\n"
     ]
    }
   ],
   "source": [
    "# просмотр сводной информации о данных из файла\n",
    "df.info()"
   ]
  },
  {
   "cell_type": "code",
   "execution_count": 4,
   "id": "12b880a5",
   "metadata": {},
   "outputs": [
    {
     "data": {
      "text/plain": [
       "2"
      ]
     },
     "execution_count": 4,
     "metadata": {},
     "output_type": "execute_result"
    }
   ],
   "source": [
    "# проверка количества уникальных значений целевого признака\n",
    "df['Exited'].nunique()"
   ]
  },
  {
   "cell_type": "code",
   "execution_count": 5,
   "id": "506f5681",
   "metadata": {},
   "outputs": [
    {
     "data": {
      "text/plain": [
       "0    7963\n",
       "1    2037\n",
       "Name: Exited, dtype: int64"
      ]
     },
     "execution_count": 5,
     "metadata": {},
     "output_type": "execute_result"
    }
   ],
   "source": [
    "# просмотр распределения целевого признака по его значениям\n",
    "df['Exited'].value_counts()"
   ]
  },
  {
   "cell_type": "code",
   "execution_count": 6,
   "id": "c15e084e",
   "metadata": {},
   "outputs": [
    {
     "data": {
      "text/plain": [
       "RowNumber            0\n",
       "CustomerId           0\n",
       "Surname              0\n",
       "CreditScore          0\n",
       "Geography            0\n",
       "Gender               0\n",
       "Age                  0\n",
       "Tenure             909\n",
       "Balance              0\n",
       "NumOfProducts        0\n",
       "HasCrCard            0\n",
       "IsActiveMember       0\n",
       "EstimatedSalary      0\n",
       "Exited               0\n",
       "dtype: int64"
      ]
     },
     "execution_count": 6,
     "metadata": {},
     "output_type": "execute_result"
    }
   ],
   "source": [
    "# проверка данных на количество пропусков\n",
    "df.isna().sum()"
   ]
  },
  {
   "cell_type": "code",
   "execution_count": 7,
   "id": "c8a42cf6",
   "metadata": {
    "scrolled": true
   },
   "outputs": [
    {
     "data": {
      "text/plain": [
       "RowNumber          0.0000\n",
       "CustomerId         0.0000\n",
       "Surname            0.0000\n",
       "CreditScore        0.0000\n",
       "Geography          0.0000\n",
       "Gender             0.0000\n",
       "Age                0.0000\n",
       "Tenure             0.0909\n",
       "Balance            0.0000\n",
       "NumOfProducts      0.0000\n",
       "HasCrCard          0.0000\n",
       "IsActiveMember     0.0000\n",
       "EstimatedSalary    0.0000\n",
       "Exited             0.0000\n",
       "dtype: float64"
      ]
     },
     "execution_count": 7,
     "metadata": {},
     "output_type": "execute_result"
    }
   ],
   "source": [
    "# подсчёт доли пропусков по отношению ко всем данным\n",
    "df.isna().sum() / df.shape[0]"
   ]
  },
  {
   "cell_type": "code",
   "execution_count": 8,
   "id": "f7babbc0",
   "metadata": {},
   "outputs": [
    {
     "name": "stdout",
     "output_type": "stream",
     "text": [
      "Количество полных дублированных строк: 0\n"
     ]
    }
   ],
   "source": [
    "# проверка на полные дубликаты в данных\n",
    "print('Количество полных дублированных строк:', df.duplicated().sum())"
   ]
  },
  {
   "cell_type": "markdown",
   "id": "778e4333",
   "metadata": {},
   "source": [
    "### Выводы по обзору данных"
   ]
  },
  {
   "cell_type": "markdown",
   "id": "c5180407",
   "metadata": {},
   "source": [
    "* Данные успешно загружены и проведено предварительное знакомство с ними. Таблица содержит `10000` записей. Полных дубликатов в данных нет, но присутствуют пропущенные значения в стобце `Tenure`,  и многочисленные нарушения стиля заголовков.\n",
    "* Данные в столбце `RowNumber` (индекс строки в данных) дублируют индексы таблицы со значениями `index + 1` и не содержат полезной информации, которая может быть использована при обучении моделей. По этой причине их можно полностью удалить. Аналочиная ситуация с данными по `CustomerId` (уникальным идентификаторам клиентов) и `Surname` (фамилиям клиентов).\n",
    "* Данные по тому, сколько лет человек является клиентом банка (столбец `Tenure`) содержит немногим более `9%` пропущенных значений от всего количества данных.\n",
    "* Таблица содержит два признака `Geography` (страна проживания клиента) и `Gender` (пол клиента) с типом данных `object`. Остальные данные представлены в числовом виде с типами `float64` или `int64`.\n",
    "* Категориальный признак `Exited` (факт ухода клиента) имеет тип данных `int64` и представлен значениями `0` (клиент не ушёл) и `1` (клиент ушёл из банка)."
   ]
  },
  {
   "cell_type": "markdown",
   "id": "2f0b2a61",
   "metadata": {},
   "source": [
    "## Исследование и предобработка данных"
   ]
  },
  {
   "cell_type": "markdown",
   "id": "b164c7dc",
   "metadata": {},
   "source": [
    "### Предобработка данных"
   ]
  },
  {
   "cell_type": "markdown",
   "id": "25e955f0",
   "metadata": {},
   "source": [
    "Удалим столбцы `RowNumber` (индекс строки в данных), `CustomerId` (уникальные идентификаторы клиентов) и `Surname` (фамилии клиентов) из данных."
   ]
  },
  {
   "cell_type": "code",
   "execution_count": 9,
   "id": "3e80621f",
   "metadata": {},
   "outputs": [],
   "source": [
    "# удаление столбцов RowNumber, CustomerId и Surname\n",
    "df = df.drop(['RowNumber', 'CustomerId', 'Surname'], axis=1)"
   ]
  },
  {
   "cell_type": "markdown",
   "id": "a193a356",
   "metadata": {},
   "source": [
    "Приведём все названия для оставшихся столбцов в таблице к их соотвествию змеиному стилю."
   ]
  },
  {
   "cell_type": "code",
   "execution_count": 10,
   "id": "81463d1b",
   "metadata": {},
   "outputs": [
    {
     "data": {
      "text/plain": [
       "{'CreditScore': 'credit_score',\n",
       " 'Geography': 'geography',\n",
       " 'Gender': 'gender',\n",
       " 'Age': 'age',\n",
       " 'Tenure': 'tenure',\n",
       " 'Balance': 'balance',\n",
       " 'NumOfProducts': 'num_of_products',\n",
       " 'HasCrCard': 'has_cr_card',\n",
       " 'IsActiveMember': 'is_active_member',\n",
       " 'EstimatedSalary': 'estimated_salary',\n",
       " 'Exited': 'exited'}"
      ]
     },
     "execution_count": 10,
     "metadata": {},
     "output_type": "execute_result"
    }
   ],
   "source": [
    "# получение списка заголовков в змеином стиле\n",
    "columns = df.columns\n",
    "\n",
    "snake_case_columns = {}\n",
    "\n",
    "for column in columns:\n",
    "    snake_case_str = ''\n",
    "    for letter in column:\n",
    "        if letter != column[:1] and letter == letter.upper():\n",
    "            snake_case_str += f'_{letter.lower()}'\n",
    "        else:\n",
    "            snake_case_str += letter\n",
    "    snake_case_columns[column] = snake_case_str.lower()\n",
    "\n",
    "# просмотр полученного словаря\n",
    "snake_case_columns"
   ]
  },
  {
   "cell_type": "code",
   "execution_count": 11,
   "id": "b64641d9",
   "metadata": {},
   "outputs": [
    {
     "data": {
      "text/html": [
       "<div>\n",
       "<style scoped>\n",
       "    .dataframe tbody tr th:only-of-type {\n",
       "        vertical-align: middle;\n",
       "    }\n",
       "\n",
       "    .dataframe tbody tr th {\n",
       "        vertical-align: top;\n",
       "    }\n",
       "\n",
       "    .dataframe thead th {\n",
       "        text-align: right;\n",
       "    }\n",
       "</style>\n",
       "<table border=\"1\" class=\"dataframe\">\n",
       "  <thead>\n",
       "    <tr style=\"text-align: right;\">\n",
       "      <th></th>\n",
       "      <th>credit_score</th>\n",
       "      <th>geography</th>\n",
       "      <th>gender</th>\n",
       "      <th>age</th>\n",
       "      <th>tenure</th>\n",
       "      <th>balance</th>\n",
       "      <th>num_of_products</th>\n",
       "      <th>has_cr_card</th>\n",
       "      <th>is_active_member</th>\n",
       "      <th>estimated_salary</th>\n",
       "      <th>exited</th>\n",
       "    </tr>\n",
       "  </thead>\n",
       "  <tbody>\n",
       "    <tr>\n",
       "      <th>0</th>\n",
       "      <td>619</td>\n",
       "      <td>France</td>\n",
       "      <td>Female</td>\n",
       "      <td>42</td>\n",
       "      <td>2.0</td>\n",
       "      <td>0.00</td>\n",
       "      <td>1</td>\n",
       "      <td>1</td>\n",
       "      <td>1</td>\n",
       "      <td>101348.88</td>\n",
       "      <td>1</td>\n",
       "    </tr>\n",
       "    <tr>\n",
       "      <th>1</th>\n",
       "      <td>608</td>\n",
       "      <td>Spain</td>\n",
       "      <td>Female</td>\n",
       "      <td>41</td>\n",
       "      <td>1.0</td>\n",
       "      <td>83807.86</td>\n",
       "      <td>1</td>\n",
       "      <td>0</td>\n",
       "      <td>1</td>\n",
       "      <td>112542.58</td>\n",
       "      <td>0</td>\n",
       "    </tr>\n",
       "    <tr>\n",
       "      <th>2</th>\n",
       "      <td>502</td>\n",
       "      <td>France</td>\n",
       "      <td>Female</td>\n",
       "      <td>42</td>\n",
       "      <td>8.0</td>\n",
       "      <td>159660.80</td>\n",
       "      <td>3</td>\n",
       "      <td>1</td>\n",
       "      <td>0</td>\n",
       "      <td>113931.57</td>\n",
       "      <td>1</td>\n",
       "    </tr>\n",
       "    <tr>\n",
       "      <th>3</th>\n",
       "      <td>699</td>\n",
       "      <td>France</td>\n",
       "      <td>Female</td>\n",
       "      <td>39</td>\n",
       "      <td>1.0</td>\n",
       "      <td>0.00</td>\n",
       "      <td>2</td>\n",
       "      <td>0</td>\n",
       "      <td>0</td>\n",
       "      <td>93826.63</td>\n",
       "      <td>0</td>\n",
       "    </tr>\n",
       "    <tr>\n",
       "      <th>4</th>\n",
       "      <td>850</td>\n",
       "      <td>Spain</td>\n",
       "      <td>Female</td>\n",
       "      <td>43</td>\n",
       "      <td>2.0</td>\n",
       "      <td>125510.82</td>\n",
       "      <td>1</td>\n",
       "      <td>1</td>\n",
       "      <td>1</td>\n",
       "      <td>79084.10</td>\n",
       "      <td>0</td>\n",
       "    </tr>\n",
       "  </tbody>\n",
       "</table>\n",
       "</div>"
      ],
      "text/plain": [
       "   credit_score geography  gender  age  tenure    balance  num_of_products  \\\n",
       "0           619    France  Female   42     2.0       0.00                1   \n",
       "1           608     Spain  Female   41     1.0   83807.86                1   \n",
       "2           502    France  Female   42     8.0  159660.80                3   \n",
       "3           699    France  Female   39     1.0       0.00                2   \n",
       "4           850     Spain  Female   43     2.0  125510.82                1   \n",
       "\n",
       "   has_cr_card  is_active_member  estimated_salary  exited  \n",
       "0            1                 1         101348.88       1  \n",
       "1            0                 1         112542.58       0  \n",
       "2            1                 0         113931.57       1  \n",
       "3            0                 0          93826.63       0  \n",
       "4            1                 1          79084.10       0  "
      ]
     },
     "execution_count": 11,
     "metadata": {},
     "output_type": "execute_result"
    }
   ],
   "source": [
    "# переименование столбцов по полученному словарю с помощью метода rename()\n",
    "df = df.rename(columns=snake_case_columns)\n",
    "\n",
    "# просмотр первых строк таблицы после переименования\n",
    "df.head()"
   ]
  },
  {
   "cell_type": "markdown",
   "id": "7439b401",
   "metadata": {},
   "source": [
    "* Столбцы `RowNumber` (индекс строки в данных), `CustomerId` (уникальные идентификаторы клиентов) и `Surname` (фамилии клиентов), данные в которых не содержат полезной информации для обучения моделей успешно удалены из таблицы.\n",
    "* Названия столбцов приведены к соотвествию змениному стилю."
   ]
  },
  {
   "cell_type": "markdown",
   "id": "6a813c4f",
   "metadata": {},
   "source": [
    "### Изучение количественных признаков"
   ]
  },
  {
   "cell_type": "markdown",
   "id": "547801af",
   "metadata": {},
   "source": [
    "Изучим все количественные признаки из таблицы. Для этого посмотрим на их основные описательные статистики, посмотрим на графики распределения частот для этих количественных признаков, постром графики размаха, чтобы оценить наличие аномальных значений."
   ]
  },
  {
   "cell_type": "code",
   "execution_count": 12,
   "id": "a3635321",
   "metadata": {},
   "outputs": [],
   "source": [
    "# составление списка названий колонок для количественных признаков\n",
    "digit_features = ['credit_score', 'age', 'balance', 'estimated_salary']"
   ]
  },
  {
   "cell_type": "code",
   "execution_count": 13,
   "id": "fa0caae6",
   "metadata": {},
   "outputs": [
    {
     "data": {
      "text/html": [
       "<div>\n",
       "<style scoped>\n",
       "    .dataframe tbody tr th:only-of-type {\n",
       "        vertical-align: middle;\n",
       "    }\n",
       "\n",
       "    .dataframe tbody tr th {\n",
       "        vertical-align: top;\n",
       "    }\n",
       "\n",
       "    .dataframe thead th {\n",
       "        text-align: right;\n",
       "    }\n",
       "</style>\n",
       "<table border=\"1\" class=\"dataframe\">\n",
       "  <thead>\n",
       "    <tr style=\"text-align: right;\">\n",
       "      <th></th>\n",
       "      <th>credit_score</th>\n",
       "      <th>age</th>\n",
       "      <th>balance</th>\n",
       "      <th>estimated_salary</th>\n",
       "    </tr>\n",
       "  </thead>\n",
       "  <tbody>\n",
       "    <tr>\n",
       "      <th>count</th>\n",
       "      <td>10000.000000</td>\n",
       "      <td>10000.000000</td>\n",
       "      <td>10000.000000</td>\n",
       "      <td>10000.000000</td>\n",
       "    </tr>\n",
       "    <tr>\n",
       "      <th>mean</th>\n",
       "      <td>650.528800</td>\n",
       "      <td>38.921800</td>\n",
       "      <td>76485.889288</td>\n",
       "      <td>100090.239881</td>\n",
       "    </tr>\n",
       "    <tr>\n",
       "      <th>std</th>\n",
       "      <td>96.653299</td>\n",
       "      <td>10.487806</td>\n",
       "      <td>62397.405202</td>\n",
       "      <td>57510.492818</td>\n",
       "    </tr>\n",
       "    <tr>\n",
       "      <th>min</th>\n",
       "      <td>350.000000</td>\n",
       "      <td>18.000000</td>\n",
       "      <td>0.000000</td>\n",
       "      <td>11.580000</td>\n",
       "    </tr>\n",
       "    <tr>\n",
       "      <th>25%</th>\n",
       "      <td>584.000000</td>\n",
       "      <td>32.000000</td>\n",
       "      <td>0.000000</td>\n",
       "      <td>51002.110000</td>\n",
       "    </tr>\n",
       "    <tr>\n",
       "      <th>50%</th>\n",
       "      <td>652.000000</td>\n",
       "      <td>37.000000</td>\n",
       "      <td>97198.540000</td>\n",
       "      <td>100193.915000</td>\n",
       "    </tr>\n",
       "    <tr>\n",
       "      <th>75%</th>\n",
       "      <td>718.000000</td>\n",
       "      <td>44.000000</td>\n",
       "      <td>127644.240000</td>\n",
       "      <td>149388.247500</td>\n",
       "    </tr>\n",
       "    <tr>\n",
       "      <th>max</th>\n",
       "      <td>850.000000</td>\n",
       "      <td>92.000000</td>\n",
       "      <td>250898.090000</td>\n",
       "      <td>199992.480000</td>\n",
       "    </tr>\n",
       "  </tbody>\n",
       "</table>\n",
       "</div>"
      ],
      "text/plain": [
       "       credit_score           age        balance  estimated_salary\n",
       "count  10000.000000  10000.000000   10000.000000      10000.000000\n",
       "mean     650.528800     38.921800   76485.889288     100090.239881\n",
       "std       96.653299     10.487806   62397.405202      57510.492818\n",
       "min      350.000000     18.000000       0.000000         11.580000\n",
       "25%      584.000000     32.000000       0.000000      51002.110000\n",
       "50%      652.000000     37.000000   97198.540000     100193.915000\n",
       "75%      718.000000     44.000000  127644.240000     149388.247500\n",
       "max      850.000000     92.000000  250898.090000     199992.480000"
      ]
     },
     "execution_count": 13,
     "metadata": {},
     "output_type": "execute_result"
    }
   ],
   "source": [
    "# просмотр описательных статистик по количественным признакам\n",
    "df[digit_features].describe()"
   ]
  },
  {
   "cell_type": "markdown",
   "id": "64bcd222",
   "metadata": {},
   "source": [
    "По признакам `credit_score` (кредитный рейтинг), `age` (возраст клиента) и `estimated_salary` (предполагаемая зарплата) медианные и средние значения отличаются незначительно. Для признака `balance` (текущий баланс на счёте клиента) среднее значение значительно меньше медианного, что говорит о скосе данных влево."
   ]
  },
  {
   "cell_type": "code",
   "execution_count": 14,
   "id": "5e704cc9",
   "metadata": {},
   "outputs": [],
   "source": [
    "# функция для построения парных графиков в виде гистограмм распределения частот и диаграмм размаха\n",
    "def pair_chart(data, column_name):\n",
    "    \"\"\"\n",
    "    input: data (pandas.Series)   - данные для построения гистограммы и ящика с усами\n",
    "           column_name (str)      - наименование столбца данных\n",
    "    output: None\n",
    "    description: Функция для построения парных графиков для исследуемого параметра:\n",
    "                 - Первый график гистограмма отображает распределение частот с помощью параметра stat = frequency\n",
    "                 - Вторая график диаграмма размаха отображает максимальные границы выборки и выбросы \n",
    "    \"\"\"\n",
    "\n",
    "    labels = {'credit_score': 'Кредитный рейтинг',\n",
    "              'age': 'Возраст',\n",
    "              'balance': 'Баланс на счёте',\n",
    "              'estimated_salary': 'Предполагаемая зарплата'\n",
    "              }\n",
    "\n",
    "    sns.set()\n",
    "    sns.set_palette(palette='CMRmap')\n",
    "    f, axes = plt.subplots(1, 2, figsize=(15, 5))\n",
    "\n",
    "    axes[0].set_title(labels[column_name] +\n",
    "                      '. Гистограмма частот.', fontsize=14)\n",
    "    axes[0].set_ylabel('Количество', fontsize=13)\n",
    "    axes[0].set_xlabel(labels[column_name], fontsize=13)\n",
    "    sns.histplot(data, bins=25, alpha=0.5, kde=True,\n",
    "                 ax=axes[0], stat='frequency')\n",
    "\n",
    "    axes[1].set_title(labels[column_name] +\n",
    "                      '. Диаграмма размаха.', fontsize=14)\n",
    "    axes[1].set_xlabel('', fontsize=13)\n",
    "    sns.boxplot(x=data, orient='h', ax=axes[1], palette='BuPu')\n",
    "\n",
    "    plt.show()"
   ]
  },
  {
   "cell_type": "code",
   "execution_count": 15,
   "id": "a68fe853",
   "metadata": {},
   "outputs": [
    {
     "data": {
      "image/png": "[encoded data removed]",
      "text/plain": [
       "<Figure size 1080x360 with 2 Axes>"
      ]
     },
     "metadata": {
      "needs_background": "light"
     },
     "output_type": "display_data"
    },
    {
     "data": {
      "image/png": "[encoded data removed]",
      "text/plain": [
       "<Figure size 1080x360 with 2 Axes>"
      ]
     },
     "metadata": {},
     "output_type": "display_data"
    },
    {
     "data": {
      "image/png": "[encoded data removed]",
      "text/plain": [
       "<Figure size 1080x360 with 2 Axes>"
      ]
     },
     "metadata": {},
     "output_type": "display_data"
    },
    {
     "data": {
      "image/png": "[encoded data removed]",
      "text/plain": [
       "<Figure size 1080x360 with 2 Axes>"
      ]
     },
     "metadata": {},
     "output_type": "display_data"
    }
   ],
   "source": [
    "# построение графиков для количественных признаков\n",
    "for column in df[digit_features].columns:\n",
    "    pair_chart(df[column], column)"
   ]
  },
  {
   "cell_type": "markdown",
   "id": "779e6c7b",
   "metadata": {},
   "source": [
    "Смещение среднего значения баланса влево от медианного обусловлено большим количеством клиентов с нулевым текущим балансом на счёте `balanсe`. Определим долю таких клиентов среди всех клиентов банка."
   ]
  },
  {
   "cell_type": "code",
   "execution_count": 16,
   "id": "98566324",
   "metadata": {},
   "outputs": [
    {
     "data": {
      "text/plain": [
       "0.3617"
      ]
     },
     "execution_count": 16,
     "metadata": {},
     "output_type": "execute_result"
    }
   ],
   "source": [
    "# определим долю клиентов с нулевым текущим балансом в банке\n",
    "df.loc[df['balance'] == 0].shape[0] / df.shape[0]"
   ]
  },
  {
   "cell_type": "markdown",
   "id": "c16795a4",
   "metadata": {},
   "source": [
    "Судя по диаграммам размаха, данные по `credit_score` (кредитному рейтингу) имеют выбросы, находящиеся за левой границей, то есть в областях минимальных значений, а данные по `age` (возрасту клиента) наоборот за правой границей, то есть в областях максимальных значений. Оценим долю выбросов по отношению к всем имеющимся данным. Для этого создадим пару вспомогательных функций:\n",
    "* `outliers_value()` - для определения границы, за которой будут находится выбросы;\n",
    "* `outliers_rate()` - определения количества и доли выбросов по отношению ко всем данным."
   ]
  },
  {
   "cell_type": "code",
   "execution_count": 17,
   "id": "546fbe57",
   "metadata": {},
   "outputs": [],
   "source": [
    "# вспомогательная функция для определения границы выбросов\n",
    "def outliers_value(column_name):\n",
    "    \"\"\"\n",
    "    input: column_name (str)      - название столбца (параметра, для которого будет определяться граница)\n",
    "    output: val        (float)    - значение верхней границы, за которой будут находится выбросы\n",
    "    description: Функция находит и возвращает значение границ для исследуемого параметра за которыми будут \n",
    "                 находится выбросы\n",
    "    \"\"\"\n",
    "    # получение расчётных значений границ\n",
    "    val_max = df[column_name].describe()['75%'] + (df[column_name].describe()\n",
    "                                               ['75%'] - df[column_name].describe()['25%']) * 1.5\n",
    "    val_min = df[column_name].describe()['25%'] - (df[column_name].describe()\n",
    "                                               ['75%'] - df[column_name].describe()['25%']) * 1.5\n",
    "    # проверка на превышение расчётных границ над фактическими значениями\n",
    "    if val_max > df[column_name].max():\n",
    "        val_max = df[column_name].max()\n",
    "    if val_min < df[column_name].min():\n",
    "        val_min = df[column_name].min()\n",
    "    \n",
    "    return val_min, val_max"
   ]
  },
  {
   "cell_type": "code",
   "execution_count": 18,
   "id": "f4d15bd6",
   "metadata": {},
   "outputs": [
    {
     "data": {
      "text/plain": [
       "{'credit_score': (383.0, 850),\n",
       " 'age': (18, 62.0),\n",
       " 'balance': (0.0, 250898.09),\n",
       " 'estimated_salary': (11.58, 199992.48)}"
      ]
     },
     "execution_count": 18,
     "metadata": {},
     "output_type": "execute_result"
    }
   ],
   "source": [
    "# пустой словарь для последующего хранения значений выбросов по ключам в виде имён параметров\n",
    "outliers_values = {}\n",
    "\n",
    "# сохранение значений границ выбросов в словарь max_vals с помощью функции outliers_value()\n",
    "for column in digit_features:\n",
    "    outliers_values[column] = outliers_value(column)\n",
    "\n",
    "# просмотр полученного словаря\n",
    "outliers_values"
   ]
  },
  {
   "cell_type": "code",
   "execution_count": 19,
   "id": "ac646bd8",
   "metadata": {},
   "outputs": [],
   "source": [
    "# вспомогательная функция для определения количества и доли выбросов\n",
    "def outliers_rate(column_name, outliers_values=outliers_values):\n",
    "    \"\"\"\n",
    "    input: column_name  (str)      - название столбца (параметра, для которого будут находится количество и доля выбросов)\n",
    "           outliers_values (dict)  - словарь с границами выбросов\n",
    "    output: print() значениями количества и доли выбросов\n",
    "    description: Функция расчитывает и выводит на печать значения количества и доли выбросов по отношению ко всем данным\n",
    "    \"\"\"\n",
    "    outliers_count_max = df.loc[df[column] > outliers_values[column][1]].shape[0]\n",
    "    outliers_count_min = df.loc[df[column] < outliers_values[column][0]].shape[0]\n",
    "    outliers_count = outliers_count_max + outliers_count_min\n",
    "    rate = round(outliers_count / df.shape[0] * 100, 2)\n",
    "    print(f'Количество выбросов для параметра «{column_name}» равно: {outliers_count} ({rate}%)')"
   ]
  },
  {
   "cell_type": "code",
   "execution_count": 20,
   "id": "23187a3f",
   "metadata": {},
   "outputs": [
    {
     "name": "stdout",
     "output_type": "stream",
     "text": [
      "Количество выбросов для параметра «credit_score» равно: 15 (0.15%)\n",
      "Количество выбросов для параметра «age» равно: 359 (3.59%)\n",
      "Количество выбросов для параметра «balance» равно: 0 (0.0%)\n",
      "Количество выбросов для параметра «estimated_salary» равно: 0 (0.0%)\n"
     ]
    }
   ],
   "source": [
    "for column in digit_features:\n",
    "    outliers_rate(column)"
   ]
  },
  {
   "cell_type": "code",
   "execution_count": 21,
   "id": "809cea23",
   "metadata": {},
   "outputs": [],
   "source": [
    "# масштабирование количественных признаков\n",
    "#scaler = StandardScaler()\n",
    "#df[digit_features] = scaler.fit_transform(df[digit_features])"
   ]
  },
  {
   "cell_type": "markdown",
   "id": "aa7f07ce",
   "metadata": {},
   "source": [
    "* Данные о текущем балансе на счёте содержат большое количество нулевых значений - `36.2%`. Они образуют в данных выраженное смещение средних значений влево от медианы. Таким образом, более трети клиентов банка имеют нулевой баланс на счёте и являются важной категорией, в которой доля ушедших клиентов может быть выше по сравнению с остальными данными.\n",
    "* Наибольшее количество выбросов `3.6%` наблюдается для признака возраст `age`. Доля выбросов небольшая и они оставлены как есть."
   ]
  },
  {
   "cell_type": "markdown",
   "id": "0ff9d967",
   "metadata": {},
   "source": [
    "### Изучение категориальных признаков"
   ]
  },
  {
   "cell_type": "markdown",
   "id": "9b45e4d3",
   "metadata": {},
   "source": [
    "Для изучения категориальных признаков построим графики количества значений различных категорий в данном признаке. Для этого создадим вспомогательную функцию *show_double_countplots()*."
   ]
  },
  {
   "cell_type": "code",
   "execution_count": 22,
   "id": "974b53c4",
   "metadata": {},
   "outputs": [],
   "source": [
    "# функция для построения парных графиков количества значений категорий в признаке\n",
    "def show_double_countplots(label_first, label_second):\n",
    "    \"\"\"\n",
    "    input: data (pandas.Series)             - данные для построения графиков\n",
    "           label_first, label_second (str)  - названия признаков\n",
    "    output: None\n",
    "    description: Функция для построения парных графиков методом countplots() для двух признаков\n",
    "    \"\"\"\n",
    "    \n",
    "    labels = {'geography': 'Cтрана проживания',\n",
    "              'gender': 'Пол клиента',\n",
    "              'tenure': 'Сколько лет человек является клиентом банка',\n",
    "              'num_of_products': 'Количество используемых банковских продуктов',\n",
    "              'has_cr_card': 'Наличие кредитной карты',\n",
    "              'is_active_member': 'Активность клиента'\n",
    "              }\n",
    "    \n",
    "    \n",
    "    sns.set()\n",
    "    sns.set_palette(palette='tab20c_r')\n",
    "    f, axes = plt.subplots(1, 2, figsize=(15, 5))\n",
    "\n",
    "    axes[0].set_title(labels[label_first], fontsize=15)\n",
    "    sns.countplot(data=df, x=label_first, ax=axes[0])\n",
    "    axes[0].set_xlabel(labels[label_first], fontsize=13)\n",
    "    axes[0].set_ylabel('Количество', fontsize=13)\n",
    "\n",
    "    axes[1].set_title(labels[label_second], fontsize=15)\n",
    "    sns.countplot(data=df, x=label_second, ax=axes[1])\n",
    "    axes[1].set_xlabel(labels[label_second], fontsize=13)\n",
    "    axes[1].set_ylabel('Количество', fontsize=13)\n",
    "\n",
    "    plt.show()"
   ]
  },
  {
   "cell_type": "code",
   "execution_count": 23,
   "id": "1494416f",
   "metadata": {},
   "outputs": [],
   "source": [
    "# составление списка названий колонок для категориальных признаков\n",
    "cat_features = ['geography', 'gender', 'tenure', 'num_of_products', 'has_cr_card', 'is_active_member']"
   ]
  },
  {
   "cell_type": "code",
   "execution_count": 24,
   "id": "0f90863a",
   "metadata": {},
   "outputs": [
    {
     "data": {
      "image/png": "[encoded data removed]",
      "text/plain": [
       "<Figure size 1080x360 with 2 Axes>"
      ]
     },
     "metadata": {},
     "output_type": "display_data"
    },
    {
     "data": {
      "image/png": "[encoded data removed]",
      "text/plain": [
       "<Figure size 1080x360 with 2 Axes>"
      ]
     },
     "metadata": {},
     "output_type": "display_data"
    },
    {
     "data": {
      "image/png": "[encoded data removed]",
      "text/plain": [
       "<Figure size 1080x360 with 2 Axes>"
      ]
     },
     "metadata": {},
     "output_type": "display_data"
    }
   ],
   "source": [
    "# построение графиков для категориальных признаков\n",
    "for i in range(len(cat_features) // 2):\n",
    "    show_double_countplots(cat_features[2 * i], cat_features[2 * i + 1])"
   ]
  },
  {
   "cell_type": "markdown",
   "id": "869ef0c3",
   "metadata": {},
   "source": [
    "Преобразуем категориальные признаки `geography` и `gender` в численные с использованием техники прямого кодирования (*One-Hot Encoding, OHE*). Используем атрибут `drop_first=True`, чтобы избавиться от одного лишнего столбца для кадого признака и не попасть в ловушку фиктивных признаков."
   ]
  },
  {
   "cell_type": "code",
   "execution_count": 25,
   "id": "ced1e6b0",
   "metadata": {},
   "outputs": [],
   "source": [
    "# преобразование категориальных признаков geography и gender в численные значения методом get_dummies()\n",
    "df = pd.get_dummies(df, drop_first=True)"
   ]
  },
  {
   "cell_type": "markdown",
   "id": "285a4217",
   "metadata": {},
   "source": [
    "Так как в процессе преобразования был нарушен змеиный стиль в заголовках, то восстановим его."
   ]
  },
  {
   "cell_type": "code",
   "execution_count": 26,
   "id": "9a3ce0be",
   "metadata": {},
   "outputs": [],
   "source": [
    "# приведение названий заголовков столбцов к нижнему регистру\n",
    "df.columns = df.columns.str.lower()"
   ]
  },
  {
   "cell_type": "markdown",
   "id": "bf0a6385",
   "metadata": {},
   "source": [
    "* В полученных данных мужчин примерно на `10%` больше, чем женщин.\n",
    "* Около `50%` клиентов банка проживают во Франции и примерно по `25%` в Испании и Германии.\n",
    "* По количеству лет, в течение которых люди являются клиентами банка, данные распределены почти равномерно. Исключениями являются лишь значения `0` и `10` лет, доля клиентов в которых в два раза ниже по сравнению с остальными значениями.\n",
    "* Чаще всего клиенты пользуются `1-2` банковскими продуктами.\n",
    "* Количество клиентов с кредитными картами более чем в три раза превышает количество клиентов банка, которые не имеют кредитных карт.\n",
    "* Активные и неактивные клиенты распределены примерно поровну.\n",
    "* Категориальные признаки `geography` и `gender` преобразованы в численные значения с использованием техники прямого кодирования (One-Hot Encoding, OHE)."
   ]
  },
  {
   "cell_type": "markdown",
   "id": "9d7c5135",
   "metadata": {},
   "source": [
    "### Изучение распределения целевого признака"
   ]
  },
  {
   "cell_type": "markdown",
   "id": "ac15e64b",
   "metadata": {},
   "source": [
    "Посмотрим на соотношение классов целевого признака."
   ]
  },
  {
   "cell_type": "code",
   "execution_count": 27,
   "id": "bf4505fe",
   "metadata": {},
   "outputs": [
    {
     "data": {
      "text/plain": [
       "0    0.7963\n",
       "1    0.2037\n",
       "Name: exited, dtype: float64"
      ]
     },
     "execution_count": 27,
     "metadata": {},
     "output_type": "execute_result"
    }
   ],
   "source": [
    "# подсчёт долей каждого из классов целевого признака по отношению ко всем данным\n",
    "target_rate = df['exited'].value_counts() / df.shape[0]\n",
    "target_rate"
   ]
  },
  {
   "cell_type": "markdown",
   "id": "7193d343",
   "metadata": {},
   "source": [
    "Для наглядности отобразим соотношение классов в целевом признаке на графике."
   ]
  },
  {
   "cell_type": "code",
   "execution_count": 28,
   "id": "b49766dc",
   "metadata": {},
   "outputs": [
    {
     "data": {
      "image/png": "[encoded data removed]",
      "text/plain": [
       "<Figure size 504x360 with 1 Axes>"
      ]
     },
     "metadata": {},
     "output_type": "display_data"
    }
   ],
   "source": [
    "# построение круговой диаграммы для отображения соотношения классов в целевом признаке\n",
    "theme = plt.get_cmap('Paired')\n",
    "\n",
    "fig = plt.figure(figsize = (7, 5))\n",
    "fig.suptitle('Соотношение классов в целевом признаке', fontsize=18)\n",
    "plt.pie(\n",
    "    target_rate,\n",
    "    labels = target_rate.index,\n",
    "    autopct='%.0f%%',\n",
    "    textprops={'fontsize': 14},\n",
    "    colors=[theme(1. * i / len(target_rate)) for i in range(len(target_rate))],\n",
    "    explode=(0, 0.07)\n",
    ")\n",
    "centre_circle = plt.Circle((0,0), 0.25, fc='white')\n",
    "fig = plt.gcf()\n",
    "fig.gca().add_artist(centre_circle)\n",
    "plt.show();"
   ]
  },
  {
   "cell_type": "markdown",
   "id": "04157939",
   "metadata": {},
   "source": [
    "* Целевой признак в рассматриваемых данных распределён следующим образом: `80%` данных соотвествует отрицательному классу `0`, в котором человек продолжает являться клиентом банка и `20%` соотвествуют положительному классу `1`, в котором отмечен факт ухода клиента определять который с необходимой точностью и должна научиться наша модель."
   ]
  },
  {
   "cell_type": "markdown",
   "id": "6f78cc70",
   "metadata": {},
   "source": [
    "### Предобработка признака «Tenure»"
   ]
  },
  {
   "cell_type": "markdown",
   "id": "63a4f83c",
   "metadata": {},
   "source": [
    "На этапе обзора и изучения данных было установлено, что данный признак содержит около `9%` пропущенных значений. Попробуем заполнить данные значения на основе предсказаний предварительно обученной модели. Для этого отфильтруем данные, отобрав из них те, для которых известно значение `tenure`."
   ]
  },
  {
   "cell_type": "code",
   "execution_count": 29,
   "id": "8527b4bd",
   "metadata": {},
   "outputs": [],
   "source": [
    "# отбор данных для обучения модели\n",
    "data = df.loc[~df['tenure'].isna()]"
   ]
  },
  {
   "cell_type": "markdown",
   "id": "171dd38c",
   "metadata": {},
   "source": [
    "Для обучения модели из полученного датасета отберём следуюшие признаки: `credit_score`, `age`, `balance`, `num_of_products`, `has_cr_card`, `is_active_member`, `estimated_salary`. Целевым признаком будет являться `tenure`."
   ]
  },
  {
   "cell_type": "code",
   "execution_count": 30,
   "id": "f7d27846",
   "metadata": {},
   "outputs": [],
   "source": [
    "# отбор целевого признака и признаков для обучения модели\n",
    "features = data[['credit_score', 'age', 'balance', 'num_of_products',\n",
    "                 'has_cr_card', 'is_active_member', 'estimated_salary']]\n",
    "target = data['tenure'].astype('int64')"
   ]
  },
  {
   "cell_type": "markdown",
   "id": "58454011",
   "metadata": {},
   "source": [
    "Перед обучением зафиксируем генератор псевдослучайных чисел для воспроизводимости результатов."
   ]
  },
  {
   "cell_type": "code",
   "execution_count": 31,
   "id": "991f60fe",
   "metadata": {},
   "outputs": [],
   "source": [
    "# сохраним случайное состояние (число) в переменную rnd\n",
    "rnd = 123"
   ]
  },
  {
   "cell_type": "code",
   "execution_count": 32,
   "id": "747903af",
   "metadata": {},
   "outputs": [],
   "source": [
    "# разделение выборки на тестовую и валидационную части\n",
    "x_train, x_valid, y_train, y_valid = train_test_split(features, target, test_size=0.25, random_state=rnd)"
   ]
  },
  {
   "cell_type": "markdown",
   "id": "f2d2e8f6",
   "metadata": {},
   "source": [
    "Чтобы в процессе обучения моделей избежать необоснованного присвоения признакам бо́льшей важности из-за различий в масштабе данных проведём стандартизацию количественных признаков с помощью метода *StandardScaler()*."
   ]
  },
  {
   "cell_type": "code",
   "execution_count": 33,
   "id": "588e9ef8",
   "metadata": {},
   "outputs": [],
   "source": [
    "# масштабирование количественных признаков\n",
    "scaler = StandardScaler()\n",
    "\n",
    "x_train[digit_features] = scaler.fit_transform(x_train[digit_features])\n",
    "x_valid[digit_features] = scaler.fit_transform(x_valid[digit_features])"
   ]
  },
  {
   "cell_type": "code",
   "execution_count": 34,
   "id": "1c4f4444",
   "metadata": {},
   "outputs": [
    {
     "name": "stdout",
     "output_type": "stream",
     "text": [
      "Лучший результат для случайного леса 0.123\n",
      " \n",
      "Лучший результат получен на модели с параметрами \n",
      "{'bootstrap': True, 'ccp_alpha': 0.0, 'class_weight': None, 'criterion': 'entropy', 'max_depth': 8, 'max_features': 'sqrt', 'max_leaf_nodes': None, 'max_samples': None, 'min_impurity_decrease': 0.0, 'min_samples_leaf': 3, 'min_samples_split': 2, 'min_weight_fraction_leaf': 0.0, 'n_estimators': 24, 'n_jobs': -1, 'oob_score': False, 'random_state': 123, 'verbose': 0, 'warm_start': False}\n",
      "CPU times: total: 22.2 s\n",
      "Wall time: 5.24 s\n"
     ]
    }
   ],
   "source": [
    "%%time\n",
    "# обучение модели случайного леса с подстрокой различных гиперпараметров\n",
    "best_rf_model = None\n",
    "best_rf_result = 0\n",
    "\n",
    "for est in range(20, 30, 2):\n",
    "    for depth in range (7, 10):\n",
    "        for crit in ['gini', 'entropy']:\n",
    "            for min_split in range(2, 4):\n",
    "                for min_leaf in range(3, 5):\n",
    "                    rf_model = RandomForestClassifier(\n",
    "                        random_state=rnd,\n",
    "                        n_estimators=est,\n",
    "                        max_depth=depth,\n",
    "                        criterion=crit,\n",
    "                        min_samples_split=min_split,\n",
    "                        min_samples_leaf=min_leaf,\n",
    "                        n_jobs=-1\n",
    "                    )\n",
    "                    \n",
    "                    rf_model.fit(x_train, y_train)\n",
    "                    predictions = rf_model.predict(x_valid)\n",
    "                    result = accuracy_score(y_valid, predictions)\n",
    "                    \n",
    "                    if result > best_rf_result:\n",
    "                        best_rf_model = rf_model\n",
    "                        best_rf_result = result\n",
    "            \n",
    "print(f'Лучший результат для случайного леса {round(best_rf_result, 3)}\\n ')\n",
    "print(f'Лучший результат получен на модели с параметрами \\n{best_rf_model.get_params()}')"
   ]
  },
  {
   "cell_type": "markdown",
   "id": "8f8d9e52",
   "metadata": {},
   "source": [
    "Полученный показатель `accuracy` модели, равный `0.123` слишком мал для того, чтобы говорить о том, что модель обладает какой-либо прогностической способностью. Случайный выбор между 11 классами даёт средний результат `1 / 11 ≈ 0.091`."
   ]
  },
  {
   "cell_type": "code",
   "execution_count": 35,
   "id": "60212f97",
   "metadata": {},
   "outputs": [
    {
     "name": "stdout",
     "output_type": "stream",
     "text": [
      "Лучший результат для случайного леса 0.106\n",
      " \n",
      "Лучший результат получен на модели с параметрами \n",
      "{'bootstrap': True, 'ccp_alpha': 0.0, 'class_weight': None, 'criterion': 'entropy', 'max_depth': 7, 'max_features': 'sqrt', 'max_leaf_nodes': None, 'max_samples': None, 'min_impurity_decrease': 0.0, 'min_samples_leaf': 4, 'min_samples_split': 2, 'min_weight_fraction_leaf': 0.0, 'n_estimators': 24, 'n_jobs': -1, 'oob_score': False, 'random_state': 123, 'verbose': 0, 'warm_start': False}\n",
      "\n",
      "CPU times: total: 1.3 s\n",
      "Wall time: 11.4 s\n"
     ]
    }
   ],
   "source": [
    "%%time\n",
    "from sklearn.model_selection import GridSearchCV\n",
    "\n",
    "\n",
    "clf = RandomForestClassifier(random_state=rnd, n_jobs=-1)\n",
    "\n",
    "params_grid = {\n",
    "    'max_depth': range(7, 10),\n",
    "    'n_estimators': range(20, 30, 2),\n",
    "    'criterion': ['gini', 'entropy'],\n",
    "    'min_samples_split': range(2, 4),\n",
    "    'min_samples_leaf': range(3, 5),\n",
    "   }\n",
    "\n",
    "clf_grid = GridSearchCV(estimator=clf, param_grid=params_grid, scoring='accuracy', n_jobs=-1)\n",
    "clf_grid.fit(x_train, y_train)\n",
    "best_clf = clf_grid.best_estimator_\n",
    "\n",
    "print(f'Лучший результат для случайного леса {round(clf_grid.best_score_, 3)}\\n ')\n",
    "print(f'Лучший результат получен на модели с параметрами \\n{best_clf.get_params()}\\n')"
   ]
  },
  {
   "cell_type": "markdown",
   "id": "2bb168a8",
   "metadata": {},
   "source": [
    "Проверим также какую точности `accuracy` можно получить на основе логистической регрессии. В качестве гиперпараметра модели будем изменять `solver` - алгоритм, используемый для решения задачи оптимизации, выбирая его из двух значений `liblinear` и `lbfgs`."
   ]
  },
  {
   "cell_type": "code",
   "execution_count": 36,
   "id": "564272a3",
   "metadata": {},
   "outputs": [
    {
     "name": "stdout",
     "output_type": "stream",
     "text": [
      "Лучший результат для логистической регрессии 0.112\n",
      "\n",
      "при коэффициенте регуляризации С=0.2\n"
     ]
    }
   ],
   "source": [
    "# обучение модели модели логистической регрессии с подстройкой гиперпараметра в виде выбора алгоритма оптимизации\n",
    "best_reg_model = None\n",
    "best_reg_result = best_c = 0\n",
    "\n",
    "cs = [0.001, 0.2, 1]\n",
    "\n",
    "for c in cs:\n",
    "    reg_model = LogisticRegression(C=c, n_jobs=-1, random_state=rnd)\n",
    "    reg_model.fit(x_train, y_train)\n",
    "    predictions = reg_model.predict(x_valid)\n",
    "    result = accuracy_score(y_valid, predictions)\n",
    "    \n",
    "    if result > best_reg_result:\n",
    "        best_c = c\n",
    "        best_reg_result = result\n",
    "        best_reg_model = reg_model\n",
    "            \n",
    "print(f'Лучший результат для логистической регрессии {round(best_reg_result, 3)}\\n')\n",
    "print(f'при коэффициенте регуляризации С={best_c}')"
   ]
  },
  {
   "cell_type": "markdown",
   "id": "6a5833c4",
   "metadata": {},
   "source": [
    "Логистическая регрессия выдала лучший результат для `accuracy`, равный `0.112` на алгоритме `lbfgs`, что ещё ниже значения модели на основе случайного леса."
   ]
  },
  {
   "cell_type": "markdown",
   "id": "26e16736",
   "metadata": {},
   "source": [
    "Таким образом, заполнить пропущенные значения для признака `tenure` сколько-нибудь достоверными значеними не представляется возможным. Поэтому, заполним пропущенные данные значением `-1`, создав таким образом новую подкатегорию данных для пропущенных значений."
   ]
  },
  {
   "cell_type": "code",
   "execution_count": 37,
   "id": "e12f566b",
   "metadata": {},
   "outputs": [],
   "source": [
    "# преобразование признака tenure методом get_dummies()\n",
    "df.loc[df['tenure'].isna(), 'tenure'] = -1\n",
    "#df['tenure'] = df['tenure'].astype('int64').astype('object')\n",
    "#df = pd.get_dummies(df, drop_first=True)"
   ]
  },
  {
   "cell_type": "markdown",
   "id": "44913e2e",
   "metadata": {},
   "source": [
    "Для проверки результата, полученного после предобработки данных и подготовки их к обучению моделей, посмотрим на общий вид полученной таблицы и сводную информацию о ней."
   ]
  },
  {
   "cell_type": "code",
   "execution_count": 38,
   "id": "caacf379",
   "metadata": {},
   "outputs": [
    {
     "data": {
      "text/html": [
       "<div>\n",
       "<style scoped>\n",
       "    .dataframe tbody tr th:only-of-type {\n",
       "        vertical-align: middle;\n",
       "    }\n",
       "\n",
       "    .dataframe tbody tr th {\n",
       "        vertical-align: top;\n",
       "    }\n",
       "\n",
       "    .dataframe thead th {\n",
       "        text-align: right;\n",
       "    }\n",
       "</style>\n",
       "<table border=\"1\" class=\"dataframe\">\n",
       "  <thead>\n",
       "    <tr style=\"text-align: right;\">\n",
       "      <th></th>\n",
       "      <th>credit_score</th>\n",
       "      <th>age</th>\n",
       "      <th>tenure</th>\n",
       "      <th>balance</th>\n",
       "      <th>num_of_products</th>\n",
       "      <th>has_cr_card</th>\n",
       "      <th>is_active_member</th>\n",
       "      <th>estimated_salary</th>\n",
       "      <th>exited</th>\n",
       "      <th>geography_germany</th>\n",
       "      <th>geography_spain</th>\n",
       "      <th>gender_male</th>\n",
       "    </tr>\n",
       "  </thead>\n",
       "  <tbody>\n",
       "    <tr>\n",
       "      <th>0</th>\n",
       "      <td>619</td>\n",
       "      <td>42</td>\n",
       "      <td>2.0</td>\n",
       "      <td>0.00</td>\n",
       "      <td>1</td>\n",
       "      <td>1</td>\n",
       "      <td>1</td>\n",
       "      <td>101348.88</td>\n",
       "      <td>1</td>\n",
       "      <td>0</td>\n",
       "      <td>0</td>\n",
       "      <td>0</td>\n",
       "    </tr>\n",
       "    <tr>\n",
       "      <th>1</th>\n",
       "      <td>608</td>\n",
       "      <td>41</td>\n",
       "      <td>1.0</td>\n",
       "      <td>83807.86</td>\n",
       "      <td>1</td>\n",
       "      <td>0</td>\n",
       "      <td>1</td>\n",
       "      <td>112542.58</td>\n",
       "      <td>0</td>\n",
       "      <td>0</td>\n",
       "      <td>1</td>\n",
       "      <td>0</td>\n",
       "    </tr>\n",
       "    <tr>\n",
       "      <th>2</th>\n",
       "      <td>502</td>\n",
       "      <td>42</td>\n",
       "      <td>8.0</td>\n",
       "      <td>159660.80</td>\n",
       "      <td>3</td>\n",
       "      <td>1</td>\n",
       "      <td>0</td>\n",
       "      <td>113931.57</td>\n",
       "      <td>1</td>\n",
       "      <td>0</td>\n",
       "      <td>0</td>\n",
       "      <td>0</td>\n",
       "    </tr>\n",
       "    <tr>\n",
       "      <th>3</th>\n",
       "      <td>699</td>\n",
       "      <td>39</td>\n",
       "      <td>1.0</td>\n",
       "      <td>0.00</td>\n",
       "      <td>2</td>\n",
       "      <td>0</td>\n",
       "      <td>0</td>\n",
       "      <td>93826.63</td>\n",
       "      <td>0</td>\n",
       "      <td>0</td>\n",
       "      <td>0</td>\n",
       "      <td>0</td>\n",
       "    </tr>\n",
       "    <tr>\n",
       "      <th>4</th>\n",
       "      <td>850</td>\n",
       "      <td>43</td>\n",
       "      <td>2.0</td>\n",
       "      <td>125510.82</td>\n",
       "      <td>1</td>\n",
       "      <td>1</td>\n",
       "      <td>1</td>\n",
       "      <td>79084.10</td>\n",
       "      <td>0</td>\n",
       "      <td>0</td>\n",
       "      <td>1</td>\n",
       "      <td>0</td>\n",
       "    </tr>\n",
       "  </tbody>\n",
       "</table>\n",
       "</div>"
      ],
      "text/plain": [
       "   credit_score  age  tenure    balance  num_of_products  has_cr_card  \\\n",
       "0           619   42     2.0       0.00                1            1   \n",
       "1           608   41     1.0   83807.86                1            0   \n",
       "2           502   42     8.0  159660.80                3            1   \n",
       "3           699   39     1.0       0.00                2            0   \n",
       "4           850   43     2.0  125510.82                1            1   \n",
       "\n",
       "   is_active_member  estimated_salary  exited  geography_germany  \\\n",
       "0                 1         101348.88       1                  0   \n",
       "1                 1         112542.58       0                  0   \n",
       "2                 0         113931.57       1                  0   \n",
       "3                 0          93826.63       0                  0   \n",
       "4                 1          79084.10       0                  0   \n",
       "\n",
       "   geography_spain  gender_male  \n",
       "0                0            0  \n",
       "1                1            0  \n",
       "2                0            0  \n",
       "3                0            0  \n",
       "4                1            0  "
      ]
     },
     "execution_count": 38,
     "metadata": {},
     "output_type": "execute_result"
    }
   ],
   "source": [
    "# вывод первых строк из таблицы, полученной после предобработки данных\n",
    "df.head()"
   ]
  },
  {
   "cell_type": "code",
   "execution_count": 39,
   "id": "e2f4e4be",
   "metadata": {},
   "outputs": [
    {
     "name": "stdout",
     "output_type": "stream",
     "text": [
      "<class 'pandas.core.frame.DataFrame'>\n",
      "RangeIndex: 10000 entries, 0 to 9999\n",
      "Data columns (total 12 columns):\n",
      " #   Column             Non-Null Count  Dtype  \n",
      "---  ------             --------------  -----  \n",
      " 0   credit_score       10000 non-null  int64  \n",
      " 1   age                10000 non-null  int64  \n",
      " 2   tenure             10000 non-null  float64\n",
      " 3   balance            10000 non-null  float64\n",
      " 4   num_of_products    10000 non-null  int64  \n",
      " 5   has_cr_card        10000 non-null  int64  \n",
      " 6   is_active_member   10000 non-null  int64  \n",
      " 7   estimated_salary   10000 non-null  float64\n",
      " 8   exited             10000 non-null  int64  \n",
      " 9   geography_germany  10000 non-null  uint8  \n",
      " 10  geography_spain    10000 non-null  uint8  \n",
      " 11  gender_male        10000 non-null  uint8  \n",
      "dtypes: float64(3), int64(6), uint8(3)\n",
      "memory usage: 732.5 KB\n"
     ]
    }
   ],
   "source": [
    "# просмотр сводной информации о данных после предобработки данных\n",
    "df.info()"
   ]
  },
  {
   "cell_type": "markdown",
   "id": "041847d6",
   "metadata": {},
   "source": [
    "### Выводы по исследованию и предобработке данных"
   ]
  },
  {
   "cell_type": "markdown",
   "id": "40afe461",
   "metadata": {},
   "source": [
    "* Названия столбцов приведены к соотвествию змениному стилю.\n",
    "* Признаки `RowNumber` (индекс строки в данных), `CustomerId` (уникальные идентификаторы клиентов) и `Surname` (фамилии клиентов) удалены из данных, так как они не оказывают влияния на целевой признак.\n",
    "* Изучены количественные признаки. Наибольшее количество выбросов `3.59%` определно для признака `age` - возраста клиента. Выбросы оставлены как есть. Все количественные признаки стандартизированы и приведены к единому масштабу данных со средним = 0 и стандартным отклонением = 1. \n",
    "* Категориальные признаки `geography` и `gender` преобразованы методом прямого кодирования (*One-Hot Encoding*).\n",
    "* Отношение отрицательного класса `0` к положительному классу `1` в целевом признаке `exited` составляет **4:1**.\n",
    "* Попытка построить классификационную модель и на её основе заполнить пропущенные значения в признаке `tenure` в количестве `9%` от общего количества данных оказалась безуспешной. Точность `accuracy` для модели на основе случайного леса составила всего `0.123`, а для модели на основе логистической регрессии `0.106`, что незначительно превышает среднее случайное, равное `0.091`. Поэтому, пропущенные значения в данном признаке заполнены значениями `-1`."
   ]
  },
  {
   "cell_type": "markdown",
   "id": "321f092a",
   "metadata": {},
   "source": [
    "## Разбиение на выборки и обучение на несбалансированных данных."
   ]
  },
  {
   "cell_type": "markdown",
   "id": "305c80ac",
   "metadata": {},
   "source": [
    "Так как целевой признак `exited` - факт того, что клиент ушёл соотвествует одному из двух фиксированных значений (отрицательному классу `0` - клиент не ушёл и «положительному» классу `1` - клиент ушёл), то предстоит решать задачу бинарной классификации. Перед обучением моделей необходимо разбить данные на обучающую, валидационную и тестовую выборки."
   ]
  },
  {
   "cell_type": "markdown",
   "id": "08034b7a",
   "metadata": {},
   "source": [
    "### Разбиение выборки на три части"
   ]
  },
  {
   "cell_type": "markdown",
   "id": "2615eed2",
   "metadata": {},
   "source": [
    "Из исходного датасета выделим обучающие и целевой признаки в переменные `features` и `target` соотвественно. В качестве `target` будет выступать столбец с категориальным признаком `exited`. В `features` будут находится все остальные столбцы."
   ]
  },
  {
   "cell_type": "code",
   "execution_count": 40,
   "id": "cf370586",
   "metadata": {},
   "outputs": [],
   "source": [
    "# Разделение выборки на обучающие и целевой признаки\n",
    "features = df.drop(['exited'], axis=1)\n",
    "target = df['exited']"
   ]
  },
  {
   "cell_type": "markdown",
   "id": "aef0a878",
   "metadata": {},
   "source": [
    "Разделим исходные данные на три части: обучающую, валидационную и тестовую в соотношении 3:1:1 (60% данных составит обучающая часть и по 20% валидационная и тестовая)."
   ]
  },
  {
   "cell_type": "code",
   "execution_count": 41,
   "id": "95d52598",
   "metadata": {},
   "outputs": [],
   "source": [
    "# Разделение выборки на обучающую, валидационную и тестовую\n",
    "features_train_valid, features_test, target_train_valid, target_test = train_test_split(\n",
    "    features, target, test_size=0.2, random_state=rnd)\n",
    "\n",
    "features_train, features_valid, target_train, target_valid = train_test_split(\n",
    "    features_train_valid, target_train_valid, test_size=0.25, random_state=rnd)"
   ]
  },
  {
   "cell_type": "markdown",
   "id": "c1e53cbd",
   "metadata": {},
   "source": [
    "Проверка размеров полученных частей. "
   ]
  },
  {
   "cell_type": "code",
   "execution_count": 42,
   "id": "916b7b6b",
   "metadata": {},
   "outputs": [
    {
     "data": {
      "text/plain": [
       "((6000, 11), (6000,))"
      ]
     },
     "execution_count": 42,
     "metadata": {},
     "output_type": "execute_result"
    }
   ],
   "source": [
    "# размер обучающей части\n",
    "features_train.shape, target_train.shape"
   ]
  },
  {
   "cell_type": "code",
   "execution_count": 43,
   "id": "ec42d269",
   "metadata": {},
   "outputs": [
    {
     "data": {
      "text/plain": [
       "((2000, 11), (2000,))"
      ]
     },
     "execution_count": 43,
     "metadata": {},
     "output_type": "execute_result"
    }
   ],
   "source": [
    "# размер валидационной части\n",
    "features_valid.shape, target_valid.shape"
   ]
  },
  {
   "cell_type": "code",
   "execution_count": 44,
   "id": "06fb4f28",
   "metadata": {},
   "outputs": [
    {
     "data": {
      "text/plain": [
       "((2000, 11), (2000,))"
      ]
     },
     "execution_count": 44,
     "metadata": {},
     "output_type": "execute_result"
    }
   ],
   "source": [
    "# размер тестовой части\n",
    "features_test.shape, target_test.shape"
   ]
  },
  {
   "cell_type": "markdown",
   "id": "2adc4495",
   "metadata": {},
   "source": [
    "Чтобы в процессе обучения моделей избежать необоснованного присвоения признакам бо́льшей важности из-за различий в масштабе данных проведём стандартизацию количественных признаков с помощью метода *StandardScaler()*."
   ]
  },
  {
   "cell_type": "code",
   "execution_count": 45,
   "id": "8b682b6a",
   "metadata": {},
   "outputs": [],
   "source": [
    "# масштабирование количественных признаков\n",
    "scaler = StandardScaler()\n",
    "\n",
    "features_train[digit_features] = scaler.fit_transform(features_train[digit_features])\n",
    "features_valid[digit_features] = scaler.fit_transform(features_valid[digit_features])\n",
    "features_test[digit_features] = scaler.fit_transform(features_test[digit_features])"
   ]
  },
  {
   "cell_type": "code",
   "execution_count": 46,
   "id": "44ba62ef",
   "metadata": {},
   "outputs": [
    {
     "data": {
      "text/html": [
       "<div>\n",
       "<style scoped>\n",
       "    .dataframe tbody tr th:only-of-type {\n",
       "        vertical-align: middle;\n",
       "    }\n",
       "\n",
       "    .dataframe tbody tr th {\n",
       "        vertical-align: top;\n",
       "    }\n",
       "\n",
       "    .dataframe thead th {\n",
       "        text-align: right;\n",
       "    }\n",
       "</style>\n",
       "<table border=\"1\" class=\"dataframe\">\n",
       "  <thead>\n",
       "    <tr style=\"text-align: right;\">\n",
       "      <th></th>\n",
       "      <th>credit_score</th>\n",
       "      <th>age</th>\n",
       "      <th>tenure</th>\n",
       "      <th>balance</th>\n",
       "      <th>num_of_products</th>\n",
       "      <th>has_cr_card</th>\n",
       "      <th>is_active_member</th>\n",
       "      <th>estimated_salary</th>\n",
       "      <th>geography_germany</th>\n",
       "      <th>geography_spain</th>\n",
       "      <th>gender_male</th>\n",
       "    </tr>\n",
       "  </thead>\n",
       "  <tbody>\n",
       "    <tr>\n",
       "      <th>8189</th>\n",
       "      <td>0.652468</td>\n",
       "      <td>-1.698690</td>\n",
       "      <td>8.0</td>\n",
       "      <td>-1.213083</td>\n",
       "      <td>2</td>\n",
       "      <td>1</td>\n",
       "      <td>0</td>\n",
       "      <td>-0.535390</td>\n",
       "      <td>0</td>\n",
       "      <td>0</td>\n",
       "      <td>1</td>\n",
       "    </tr>\n",
       "    <tr>\n",
       "      <th>8845</th>\n",
       "      <td>0.796864</td>\n",
       "      <td>0.002583</td>\n",
       "      <td>1.0</td>\n",
       "      <td>0.886952</td>\n",
       "      <td>1</td>\n",
       "      <td>1</td>\n",
       "      <td>1</td>\n",
       "      <td>1.637287</td>\n",
       "      <td>1</td>\n",
       "      <td>0</td>\n",
       "      <td>0</td>\n",
       "    </tr>\n",
       "    <tr>\n",
       "      <th>1165</th>\n",
       "      <td>0.621526</td>\n",
       "      <td>0.947735</td>\n",
       "      <td>5.0</td>\n",
       "      <td>1.258423</td>\n",
       "      <td>2</td>\n",
       "      <td>0</td>\n",
       "      <td>0</td>\n",
       "      <td>1.681465</td>\n",
       "      <td>1</td>\n",
       "      <td>0</td>\n",
       "      <td>0</td>\n",
       "    </tr>\n",
       "    <tr>\n",
       "      <th>1742</th>\n",
       "      <td>-0.698668</td>\n",
       "      <td>1.420312</td>\n",
       "      <td>1.0</td>\n",
       "      <td>0.022130</td>\n",
       "      <td>1</td>\n",
       "      <td>0</td>\n",
       "      <td>0</td>\n",
       "      <td>0.672609</td>\n",
       "      <td>1</td>\n",
       "      <td>0</td>\n",
       "      <td>0</td>\n",
       "    </tr>\n",
       "    <tr>\n",
       "      <th>1139</th>\n",
       "      <td>0.776236</td>\n",
       "      <td>1.703857</td>\n",
       "      <td>1.0</td>\n",
       "      <td>0.538309</td>\n",
       "      <td>1</td>\n",
       "      <td>0</td>\n",
       "      <td>1</td>\n",
       "      <td>-1.715362</td>\n",
       "      <td>0</td>\n",
       "      <td>1</td>\n",
       "      <td>0</td>\n",
       "    </tr>\n",
       "    <tr>\n",
       "      <th>...</th>\n",
       "      <td>...</td>\n",
       "      <td>...</td>\n",
       "      <td>...</td>\n",
       "      <td>...</td>\n",
       "      <td>...</td>\n",
       "      <td>...</td>\n",
       "      <td>...</td>\n",
       "      <td>...</td>\n",
       "      <td>...</td>\n",
       "      <td>...</td>\n",
       "      <td>...</td>\n",
       "    </tr>\n",
       "    <tr>\n",
       "      <th>7359</th>\n",
       "      <td>0.147081</td>\n",
       "      <td>-0.280962</td>\n",
       "      <td>4.0</td>\n",
       "      <td>0.705746</td>\n",
       "      <td>2</td>\n",
       "      <td>1</td>\n",
       "      <td>0</td>\n",
       "      <td>-1.142899</td>\n",
       "      <td>0</td>\n",
       "      <td>0</td>\n",
       "      <td>1</td>\n",
       "    </tr>\n",
       "    <tr>\n",
       "      <th>9213</th>\n",
       "      <td>-0.698668</td>\n",
       "      <td>0.097099</td>\n",
       "      <td>4.0</td>\n",
       "      <td>0.103366</td>\n",
       "      <td>1</td>\n",
       "      <td>0</td>\n",
       "      <td>0</td>\n",
       "      <td>-0.323671</td>\n",
       "      <td>0</td>\n",
       "      <td>0</td>\n",
       "      <td>0</td>\n",
       "    </tr>\n",
       "    <tr>\n",
       "      <th>3533</th>\n",
       "      <td>0.446188</td>\n",
       "      <td>0.286129</td>\n",
       "      <td>5.0</td>\n",
       "      <td>-1.213083</td>\n",
       "      <td>1</td>\n",
       "      <td>0</td>\n",
       "      <td>1</td>\n",
       "      <td>-0.474483</td>\n",
       "      <td>0</td>\n",
       "      <td>0</td>\n",
       "      <td>0</td>\n",
       "    </tr>\n",
       "    <tr>\n",
       "      <th>5000</th>\n",
       "      <td>1.879836</td>\n",
       "      <td>2.743524</td>\n",
       "      <td>9.0</td>\n",
       "      <td>0.865491</td>\n",
       "      <td>2</td>\n",
       "      <td>0</td>\n",
       "      <td>1</td>\n",
       "      <td>-0.110656</td>\n",
       "      <td>1</td>\n",
       "      <td>0</td>\n",
       "      <td>0</td>\n",
       "    </tr>\n",
       "    <tr>\n",
       "      <th>2530</th>\n",
       "      <td>-0.286107</td>\n",
       "      <td>0.569675</td>\n",
       "      <td>3.0</td>\n",
       "      <td>-0.117030</td>\n",
       "      <td>1</td>\n",
       "      <td>1</td>\n",
       "      <td>0</td>\n",
       "      <td>1.190537</td>\n",
       "      <td>0</td>\n",
       "      <td>0</td>\n",
       "      <td>0</td>\n",
       "    </tr>\n",
       "  </tbody>\n",
       "</table>\n",
       "<p>6000 rows × 11 columns</p>\n",
       "</div>"
      ],
      "text/plain": [
       "      credit_score       age  tenure   balance  num_of_products  has_cr_card  \\\n",
       "8189      0.652468 -1.698690     8.0 -1.213083                2            1   \n",
       "8845      0.796864  0.002583     1.0  0.886952                1            1   \n",
       "1165      0.621526  0.947735     5.0  1.258423                2            0   \n",
       "1742     -0.698668  1.420312     1.0  0.022130                1            0   \n",
       "1139      0.776236  1.703857     1.0  0.538309                1            0   \n",
       "...            ...       ...     ...       ...              ...          ...   \n",
       "7359      0.147081 -0.280962     4.0  0.705746                2            1   \n",
       "9213     -0.698668  0.097099     4.0  0.103366                1            0   \n",
       "3533      0.446188  0.286129     5.0 -1.213083                1            0   \n",
       "5000      1.879836  2.743524     9.0  0.865491                2            0   \n",
       "2530     -0.286107  0.569675     3.0 -0.117030                1            1   \n",
       "\n",
       "      is_active_member  estimated_salary  geography_germany  geography_spain  \\\n",
       "8189                 0         -0.535390                  0                0   \n",
       "8845                 1          1.637287                  1                0   \n",
       "1165                 0          1.681465                  1                0   \n",
       "1742                 0          0.672609                  1                0   \n",
       "1139                 1         -1.715362                  0                1   \n",
       "...                ...               ...                ...              ...   \n",
       "7359                 0         -1.142899                  0                0   \n",
       "9213                 0         -0.323671                  0                0   \n",
       "3533                 1         -0.474483                  0                0   \n",
       "5000                 1         -0.110656                  1                0   \n",
       "2530                 0          1.190537                  0                0   \n",
       "\n",
       "      gender_male  \n",
       "8189            1  \n",
       "8845            0  \n",
       "1165            0  \n",
       "1742            0  \n",
       "1139            0  \n",
       "...           ...  \n",
       "7359            1  \n",
       "9213            0  \n",
       "3533            0  \n",
       "5000            0  \n",
       "2530            0  \n",
       "\n",
       "[6000 rows x 11 columns]"
      ]
     },
     "execution_count": 46,
     "metadata": {},
     "output_type": "execute_result"
    }
   ],
   "source": [
    "features_train"
   ]
  },
  {
   "cell_type": "markdown",
   "id": "451e514d",
   "metadata": {},
   "source": [
    "Проверим соотношение классов целевого признака в тренировочной, валидационной и тестовой частях, полученных из исходного датафрейма после его разбиения. Так как подобные расчёты предполагается провести ещё несколько раз, создадим вспомогательную функцию *classes_balance()* для наглядного отображения баланса классов в целевом признаке."
   ]
  },
  {
   "cell_type": "code",
   "execution_count": 47,
   "id": "7815ef16",
   "metadata": {},
   "outputs": [],
   "source": [
    "# вспомогательная функция для отображения баланса классов в целевом признаке\n",
    "def classes_balance(target_train, valid_sample=True):\n",
    "    \"\"\"\n",
    "    input: target_train (pandas.Series)      - целевой признак;\n",
    "           valid_sample (bool)               - наличие валидационной части данных.\n",
    "    output: None\n",
    "    description: Функция формирует таблицу, отображающую соотношение классов в целевом признаке в количественном\n",
    "                 выражении и в долях от положительного класса.\n",
    "    \"\"\"\n",
    "    train_cnt = f'{target_train.value_counts()[0]} : {target_train.value_counts()[1]}'\n",
    "    if valid_sample:\n",
    "        valid_cnt = f'{target_valid.value_counts()[0]} : {target_valid.value_counts()[1]}'\n",
    "    test_cnt = f'{target_test.value_counts()[0]} : {target_test.value_counts()[1]}'\n",
    "    \n",
    "    train_rate = str(round(target_train.value_counts()[0] / target_train.value_counts()[1], 2))\n",
    "    if valid_sample:\n",
    "        valid_rate = str(round(target_valid.value_counts()[0] / target_valid.value_counts()[1], 2))\n",
    "    test_rate = str(round(target_test.value_counts()[0] / target_test.value_counts()[1], 2))\n",
    "    \n",
    "    train_rate = f'{train_rate} : 1'\n",
    "    if valid_sample:\n",
    "        valid_rate = f'{valid_rate} : 1'\n",
    "    test_rate = f'{test_rate} : 1'\n",
    "    \n",
    "    if valid_sample:\n",
    "        rate_df = pd.DataFrame([[train_cnt, valid_cnt, test_cnt], [train_rate, valid_rate, test_rate]],\n",
    "                           columns=['train_sample', 'valid_sample', 'test_sample'])\n",
    "    else:\n",
    "        rate_df = pd.DataFrame([[train_cnt, test_cnt], [train_rate, test_rate]],\n",
    "                           columns=['train_sample', 'test_sample'])\n",
    "    display(rate_df.T.rename(columns={0: 'class_counts', 1: 'rate'}))"
   ]
  },
  {
   "cell_type": "code",
   "execution_count": 48,
   "id": "6341d099",
   "metadata": {},
   "outputs": [
    {
     "data": {
      "text/html": [
       "<div>\n",
       "<style scoped>\n",
       "    .dataframe tbody tr th:only-of-type {\n",
       "        vertical-align: middle;\n",
       "    }\n",
       "\n",
       "    .dataframe tbody tr th {\n",
       "        vertical-align: top;\n",
       "    }\n",
       "\n",
       "    .dataframe thead th {\n",
       "        text-align: right;\n",
       "    }\n",
       "</style>\n",
       "<table border=\"1\" class=\"dataframe\">\n",
       "  <thead>\n",
       "    <tr style=\"text-align: right;\">\n",
       "      <th></th>\n",
       "      <th>class_counts</th>\n",
       "      <th>rate</th>\n",
       "    </tr>\n",
       "  </thead>\n",
       "  <tbody>\n",
       "    <tr>\n",
       "      <th>train_sample</th>\n",
       "      <td>4797 : 1203</td>\n",
       "      <td>3.99 : 1</td>\n",
       "    </tr>\n",
       "    <tr>\n",
       "      <th>valid_sample</th>\n",
       "      <td>1580 : 420</td>\n",
       "      <td>3.76 : 1</td>\n",
       "    </tr>\n",
       "    <tr>\n",
       "      <th>test_sample</th>\n",
       "      <td>1586 : 414</td>\n",
       "      <td>3.83 : 1</td>\n",
       "    </tr>\n",
       "  </tbody>\n",
       "</table>\n",
       "</div>"
      ],
      "text/plain": [
       "             class_counts      rate\n",
       "train_sample  4797 : 1203  3.99 : 1\n",
       "valid_sample   1580 : 420  3.76 : 1\n",
       "test_sample    1586 : 414  3.83 : 1"
      ]
     },
     "metadata": {},
     "output_type": "display_data"
    }
   ],
   "source": [
    "# отображение баланса классов в целевом признаке после разделения исходного датафрейма\n",
    "classes_balance(target_train=target_train)"
   ]
  },
  {
   "cell_type": "markdown",
   "id": "266db77a",
   "metadata": {},
   "source": [
    "* Разбиение произошло корректно. Размеры полученных частей соотвествуют заданному соотношению **3:1:1**.\n",
    "* Отношение классов в целевом признаке `exited`, примерно равное **4:1**, сохранилось в тренировочной, валидационной и тестовой частях после разбиения полного набора данных.\n",
    "* Проведена стандартизация количественных признаков с помощью метода *StandardScaler()*, чтобы избежать ошибок обучения моделей, обусловленных раличным масштабом признаков."
   ]
  },
  {
   "cell_type": "markdown",
   "id": "dfa86deb",
   "metadata": {},
   "source": [
    "### Решающее дерево"
   ]
  },
  {
   "cell_type": "markdown",
   "id": "b97f94e3",
   "metadata": {},
   "source": [
    "Обучим модель решающего дерева, используя *DecisionTreeClassifier()*. В качестве подстройки гиперапараметров будем изменять следующие значения:\n",
    "* `max_depth` - максимальную глубину дерева;\n",
    "* `criterion` - тип функции для измерения качества разделения (*gini* или *entropy*);\n",
    "* `min_samples_split` - минимальное количество объектов в узле;\n",
    "* `min_samples_leaf` - минимальное количество объектов в листе.\n",
    "\n",
    "Критерием проверки качества модели будет `F1-мера` . Для удобства проведения экспериментов и сокращения количества кода при его многократном переиспользовании создадим вспомогательную функцию *decision_tree_model()*."
   ]
  },
  {
   "cell_type": "code",
   "execution_count": 49,
   "id": "fa90ff2a",
   "metadata": {},
   "outputs": [],
   "source": [
    "# функция обучение модели на основе решающего дерева с подстрокой гиперпараметров\n",
    "def decision_tree_model(features_train, target_train,\n",
    "                        depth_range=(2, 9), samples_split_range=(2, 4),\n",
    "                        samples_leaf_range=(1, 4), cw=None, show_best_params=False):\n",
    "    \n",
    "    \"\"\"\n",
    "    input: features_train (pandas.DataFrame) - обучающая выборка признаков;\n",
    "           target_train (pandas.Series)      - целевой признак;\n",
    "           depth_range (tuple)               - диапазон изменения гиперпарааметра max_depth (максимальной глубины дерева);\n",
    "           samples_split_range (tuple)       - диапазон изменения гиперпарааметра min_samples_split \n",
    "                                               (минимальное количество объектов в узле);\n",
    "           samples_split_range (tuple)       - диапазон изменения гиперпарааметра min_samples_leaf \n",
    "                                               (минимальное количество объектов в листе);\n",
    "           cw (str)                          - необходимость взвешивания классов (None или 'balanced');\n",
    "           show_best_params (bool)           - отображение гиперпараметров лучшей модели.\n",
    "    output: None\n",
    "    description: Функция обучает модель решающего дерева на основе DecisionTreeClassifier() с подбором гиперпараметров\n",
    "                 для получения лучших по метрикам F1 и ROC-AUC моделей.\n",
    "                 Результат работы функции - вывод методом print() значений метрик F1 и ROC-AUC лучших моделей и значений\n",
    "                 их гиперпараметров.\n",
    "    \"\"\"\n",
    "    \n",
    "    best_dt_model = None\n",
    "    best_dt_by_f1 = 0\n",
    "    \n",
    "    # цикл перебора гиперпараметров для получения лучшей модели по заданной метрике качества\n",
    "    for depth in range(depth_range[0], depth_range[1]):\n",
    "        for criterion in ['gini', 'entropy']:\n",
    "            for min_samples_split in range(samples_split_range[0], samples_split_range[1]):\n",
    "                for min_samples_leaf in range(samples_leaf_range[0], samples_leaf_range[1]):\n",
    "                    dt_model = DecisionTreeClassifier(max_depth=depth, class_weight=cw, random_state=rnd)\n",
    "                    dt_model.fit(features_train, target_train)\n",
    "                    \n",
    "                    # прeдсказанные значения целевой переменной и метрики качества модели\n",
    "                    predictions = dt_model.predict(features_valid)\n",
    "                    result_f1 = f1_score(target_valid, predictions)\n",
    "                    \n",
    "                    # определение лучшей модели по F1 метрике\n",
    "                    if result_f1 > best_dt_by_f1:\n",
    "                        best_dt_model_f1 = dt_model\n",
    "                        best_dt_by_f1 = result_f1\n",
    "                        \n",
    "\n",
    "    print('=' * 100)\n",
    "    print(f'Лучший результат для решающего дерева по F1-мере: {round(best_dt_by_f1, 3)}')\n",
    "    print('=' * 100)\n",
    "    \n",
    "    if show_best_params:\n",
    "        print(f'\\nЛучший результат получен на модели с параметрами: \\n{best_dt_model_f1.get_params()}\\n')\n",
    "    \n",
    "    # вычисление ROC-AUC метрики для лучшей модели\n",
    "    predictions = best_dt_model_f1.predict(features_valid)\n",
    "    probabilities_valid = best_dt_model_f1.predict_proba(features_valid)\n",
    "    roc_auc = roc_auc_score(target_valid, probabilities_valid[:, 1])\n",
    "    \n",
    "    print('=' * 100)\n",
    "    print(f'ROC-AUC метрика лучшей модели на основе дерева решений: {round(roc_auc, 3)}')\n",
    "    print('=' * 100)\n",
    "    \n",
    "    return None"
   ]
  },
  {
   "cell_type": "code",
   "execution_count": 50,
   "id": "c485f66b",
   "metadata": {},
   "outputs": [
    {
     "name": "stdout",
     "output_type": "stream",
     "text": [
      "====================================================================================================\n",
      "Лучший результат для решающего дерева по F1-мере: 0.564\n",
      "====================================================================================================\n",
      "\n",
      "Лучший результат получен на модели с параметрами: \n",
      "{'ccp_alpha': 0.0, 'class_weight': None, 'criterion': 'gini', 'max_depth': 5, 'max_features': None, 'max_leaf_nodes': None, 'min_impurity_decrease': 0.0, 'min_samples_leaf': 1, 'min_samples_split': 2, 'min_weight_fraction_leaf': 0.0, 'random_state': 123, 'splitter': 'best'}\n",
      "\n",
      "====================================================================================================\n",
      "ROC-AUC метрика лучшей модели на основе дерева решений: 0.817\n",
      "====================================================================================================\n",
      "CPU times: total: 688 ms\n",
      "Wall time: 732 ms\n"
     ]
    }
   ],
   "source": [
    "%%time\n",
    "decision_tree_model(features_train, target_train, show_best_params=True)"
   ]
  },
  {
   "cell_type": "markdown",
   "id": "8244cbdc",
   "metadata": {},
   "source": [
    "* Лучшая модель на основе решающего дерева позволила достичь результата по *F1-мере*, равного `0.564`, что недостаточно для выполнения условия задания.\n",
    "* Лучший результат по *ROC-AUC* метрике для этой модели составил `0.817`.\n",
    "* Необходимо дальшейшее улучшение модели решающего дерева или использование других моделей для получения результата по *F1-мере*, удовлетворяющего условию задания."
   ]
  },
  {
   "cell_type": "markdown",
   "id": "ba2340c3",
   "metadata": {},
   "source": [
    "### Случайный лес"
   ]
  },
  {
   "cell_type": "markdown",
   "id": "3d50d208",
   "metadata": {},
   "source": [
    "Обучим модель на основе случайного леса, используя *RandomForestClassifier()*. В качестве подстройки гиперапараметров будем изменять следующие значения:\n",
    "* `n_estimators` - количество деревьев в ансамбле;\n",
    "* `max_depth` - максимальную глубину деревьев;\n",
    "* `criterion` - тип функции для измерения качества разделения (*gini* или *entropy*);\n",
    "* `min_samples_split` - минимальное количество объектов в узле деревьев;\n",
    "* `min_samples_leaf` - минимальное количество объектов в листе.\n",
    "\n",
    "Критерием проверки качества модели будет `F1-мера`. Для удобства проведения экспериментов и сокращения количества кода при его многократном переиспользовании создадим вспомогательную функцию *random_forest_model()*."
   ]
  },
  {
   "cell_type": "code",
   "execution_count": 51,
   "id": "a2feb32b",
   "metadata": {},
   "outputs": [],
   "source": [
    "# функция обучение модели на основе случайного леса с подстрокой гиперпараметров\n",
    "def random_forest_model(features_train, target_train, estimators_range=(25, 30),\n",
    "                        depth_range=(14, 17), samples_split_range=(2, 4),\n",
    "                        samples_leaf_range=(2, 5), cw=None, show_best_params=False):\n",
    "    \"\"\"\n",
    "    input: features_train (pandas.DataFrame) - обучающая выборка признаков;\n",
    "           target_train (pandas.Series)      - целевой признак;\n",
    "           est_range (tuple)                 - диапазон изменения гиперпарааметра n_estimators (количество деревьев);\n",
    "           depth_range (tuple)               - диапазон изменения гиперпарааметра max_depth (максимальной глубины дерева);\n",
    "           samples_split_range (tuple)       - диапазон изменения гиперпарааметра min_samples_split \n",
    "                                               (минимальное количество объектов в узле);\n",
    "           samples_split_range (tuple)       - диапазон изменения гиперпарааметра min_samples_leaf \n",
    "                                               (минимальное количество объектов в листе);\n",
    "           cw (str)                          - необходимость взвешивания классов (None или 'balanced');\n",
    "           show_best_params (bool)           - отображение гиперпараметров лучшей модели.\n",
    "    output: None\n",
    "    description: Функция обучает модель случайного леса на основе RandomForestClassifier() с подбором гиперпараметров\n",
    "                 для получения лучших по метрикам F1 и ROC-AUC моделей.\n",
    "                 Результат работы функции - вывод методом print() значений метрик f1 и ROC-AUC лучших моделей и значений\n",
    "                 их гиперпараметров.\n",
    "    \"\"\"\n",
    "    best_rf_model = None\n",
    "    best_rf_by_f1 = 0\n",
    "    \n",
    "    # цикл перебора гиперпараметров для получения лучшей модели по заданной метрике качества\n",
    "    for n_estimators in range(estimators_range[0], estimators_range[1], 2):\n",
    "        for depth in range (depth_range[0], depth_range[1]):\n",
    "            for criterion in ['gini', 'entropy']:\n",
    "                for min_samples_split in range(samples_split_range[0], samples_split_range[1]):\n",
    "                    for min_samples_leaf in range(samples_leaf_range[0], samples_leaf_range[1]):\n",
    "                        rf_model = RandomForestClassifier(\n",
    "                            n_estimators=n_estimators,\n",
    "                            max_depth=depth,\n",
    "                            criterion=criterion,\n",
    "                            min_samples_split=min_samples_split,\n",
    "                            min_samples_leaf=min_samples_leaf,\n",
    "                            class_weight=cw,\n",
    "                            random_state=rnd,\n",
    "                            n_jobs=-1\n",
    "                        )\n",
    "                        rf_model.fit(features_train, target_train)\n",
    "                        \n",
    "                        # прeдсказанные значения целевой переменной и метрики качества модели\n",
    "                        predictions = rf_model.predict(features_valid)\n",
    "                        result_f1 = f1_score(target_valid, predictions)\n",
    "                        \n",
    "                        # определение лучшей модели по F1 метрике\n",
    "                        if result_f1 > best_rf_by_f1:\n",
    "                            best_rf_model_f1 = rf_model\n",
    "                            best_rf_by_f1 = result_f1\n",
    "                            \n",
    "    print('=' * 100)\n",
    "    print(f'Лучший результат для случайного леса по F1-мере: {round(best_rf_by_f1, 3)}')\n",
    "    print('=' * 100)\n",
    "    \n",
    "    if show_best_params:\n",
    "        print(f'\\nЛучший результат получен на модели с параметрами: \\n{best_rf_model_f1.get_params()}\\n')\n",
    "    \n",
    "    # вычисление ROC-AUC метрики для лучшей модели\n",
    "    predictions = best_rf_model_f1.predict(features_valid)\n",
    "    probabilities_valid = best_rf_model_f1.predict_proba(features_valid)\n",
    "    roc_auc = roc_auc_score(target_valid, probabilities_valid[:, 1])\n",
    "    \n",
    "    print('=' * 100)\n",
    "    print(f'ROC-AUC метрика лучшей модели на основе случайного леса: {round(roc_auc, 3)}')\n",
    "    print('=' * 100)\n",
    "    \n",
    "    return None"
   ]
  },
  {
   "cell_type": "code",
   "execution_count": 52,
   "id": "fb46baa2",
   "metadata": {},
   "outputs": [
    {
     "name": "stdout",
     "output_type": "stream",
     "text": [
      "====================================================================================================\n",
      "Лучший результат для случайного леса по F1-мере: 0.585\n",
      "====================================================================================================\n",
      "\n",
      "Лучший результат получен на модели с параметрами: \n",
      "{'bootstrap': True, 'ccp_alpha': 0.0, 'class_weight': None, 'criterion': 'gini', 'max_depth': 15, 'max_features': 'sqrt', 'max_leaf_nodes': None, 'max_samples': None, 'min_impurity_decrease': 0.0, 'min_samples_leaf': 4, 'min_samples_split': 2, 'min_weight_fraction_leaf': 0.0, 'n_estimators': 25, 'n_jobs': -1, 'oob_score': False, 'random_state': 123, 'verbose': 0, 'warm_start': False}\n",
      "\n",
      "====================================================================================================\n",
      "ROC-AUC метрика лучшей модели на основе случайного леса: 0.837\n",
      "====================================================================================================\n",
      "CPU times: total: 19.3 s\n",
      "Wall time: 5.16 s\n"
     ]
    }
   ],
   "source": [
    "%%time\n",
    "random_forest_model(features_train, target_train, show_best_params=True)"
   ]
  },
  {
   "cell_type": "markdown",
   "id": "9f4db5b8",
   "metadata": {},
   "source": [
    "* Лучшая модель на основе случайного леса позволила достичь результата по *F1-мере*, равного `0.585`, что недостаточно для выполнения условия задания.\n",
    "* Лучший результат по *ROC-AUC* метрике для этой модели составил `0.837`.\n",
    "* Необходимо дальшейшее улучшение модели случайного леса или использование другой модели для получения результата по *F1-мере*, удовлетворяющего условию задания."
   ]
  },
  {
   "cell_type": "markdown",
   "id": "4e4f9ccd",
   "metadata": {},
   "source": [
    "### Логистическая регрессия"
   ]
  },
  {
   "cell_type": "markdown",
   "id": "c03fb7d8",
   "metadata": {},
   "source": [
    "Обучим модель на основе логистической регрессии, используя *LogisticRegression()*. В качестве подстройки гиперапараметров будем изменять значение `С` - обратной силы регуляризации.\n",
    "\n",
    "Критерием проверки качества модели будет `F1-мера`."
   ]
  },
  {
   "cell_type": "code",
   "execution_count": 53,
   "id": "e4599096",
   "metadata": {},
   "outputs": [
    {
     "name": "stdout",
     "output_type": "stream",
     "text": [
      "====================================================================================================\n",
      "Лучший результат для логистической регрессии по F1-мере: 0.281\n",
      "====================================================================================================\n",
      "\n",
      "Лучший результат получен на модели с параметрами: \n",
      "{'C': 0.30400000000000005, 'class_weight': None, 'dual': False, 'fit_intercept': True, 'intercept_scaling': 1, 'l1_ratio': None, 'max_iter': 100, 'multi_class': 'auto', 'n_jobs': -1, 'penalty': 'l2', 'random_state': 123, 'solver': 'lbfgs', 'tol': 0.0001, 'verbose': 0, 'warm_start': False}\n",
      "\n",
      "====================================================================================================\n",
      "ROC-AUC  метрика лучшей модели на основе логистической регрессии: 0.761\n",
      "====================================================================================================\n"
     ]
    }
   ],
   "source": [
    "# обучение модели модели логистической регрессии с подстройкой гиперпараметров\n",
    "best_reg_model = None\n",
    "best_reg_by_f1 = best_reg_by_auc = 0\n",
    "\n",
    "for с in np.linspace(0.001, 10 , 100):\n",
    "        reg_model = LogisticRegression(C=с, n_jobs=-1, random_state=rnd)\n",
    "        reg_model.fit(features_train, target_train)\n",
    "        \n",
    "        # прeдсказанные значения целевой переменной и метрики качества модели\n",
    "        predictions = reg_model.predict(features_valid)\n",
    "        result_f1 = f1_score(target_valid, predictions)\n",
    "        \n",
    "        # определение лучшей модели по f1 метрике\n",
    "        if result_f1 > best_reg_by_f1:\n",
    "            best_reg_model_f1 = reg_model\n",
    "            best_reg_by_f1 = result_f1\n",
    "            \n",
    "\n",
    "print('=' * 100)\n",
    "print(f'Лучший результат для логистической регрессии по F1-мере: {round(best_reg_by_f1, 3)}')\n",
    "print('=' * 100)\n",
    "\n",
    "print(f'\\nЛучший результат получен на модели с параметрами: \\n{best_reg_model_f1.get_params()}\\n')\n",
    "    \n",
    "# вычисление ROC-AUC метрики для лучшей модели\n",
    "predictions = best_reg_model_f1.predict(features_valid)\n",
    "probabilities_valid = best_reg_model_f1.predict_proba(features_valid)\n",
    "roc_auc = roc_auc_score(target_valid, probabilities_valid[:, 1])\n",
    "\n",
    "print('=' * 100)\n",
    "print(f'ROC-AUC  метрика лучшей модели на основе логистической регрессии: {round(roc_auc, 3)}')\n",
    "print('=' * 100)"
   ]
  },
  {
   "cell_type": "markdown",
   "id": "cbbafba7",
   "metadata": {},
   "source": [
    "* Логистическая регрессия показала значительно более худшие результаты, чем дерево решений и случайный лес.\n",
    "* Результат лучшей модели на основе логистической регрессии после подбора гиперапараметров равен по *F1-мере* `0.281`, что значительно ниже минимального порогового значения по условию задания. Лучший результат по *ROC-AUC* метрике составил `0.761`."
   ]
  },
  {
   "cell_type": "markdown",
   "id": "f5ad2498",
   "metadata": {},
   "source": [
    "### Выводы по обученным моделям"
   ]
  },
  {
   "cell_type": "markdown",
   "id": "d2728c49",
   "metadata": {},
   "source": [
    "* Исходные данные разделены на обучающую, валидационную и тестовую выборки в соотношении 3:1:1 соотвественно. Изначальное соотношение классов в целевом признаке `exited`, примерно равное **4:1**, сохранилось в тренировочной, валидационной и тестовой частях и после разбиения полного набора данных.\n",
    "* На несбалансированных данных были обучены модели на основе *решающего дерева*, *случайного леса* и *логистической регрессии*. Максимального значения **F1-меры**, равного `0.585`, на тестовой выборке удалось достичь для модели на основе случайного леса. Но, его оказалось недостаточно для выполнения условия задания.\n",
    "* Качество моделей также оценивалось по метрике **ROC-AUC**. Максимальное значение по данной метрике, равное `0.716`, также было достигнуто для модели на основе случайного леса.\n",
    "* Максимальный результат для модели на основе логистической регрессии оказался почти в два раза более низкий по F1-мере, чем результаты для моделей на основе решающего дерева и случайного леса.\n",
    "* Для возможного улучшения качества моделей и получения значения F1-меры, удовлетворяющего условию задания, проведём исследование по влиянию дисбаланса классов на метрики качества моделей."
   ]
  },
  {
   "cell_type": "markdown",
   "id": "c4e0a94b",
   "metadata": {},
   "source": [
    "## Работа с дисбалансом, обучение, валидация и тестирование моделей."
   ]
  },
  {
   "cell_type": "markdown",
   "id": "3254662c",
   "metadata": {},
   "source": [
    "Как установлено на этапе исследования и преобработки данных, соотношение классов в целевом признаке равно `4:1` (для классов `0` и `1` соотвественно). В рамках исследования влияния дисбаланса классов попробуем следующие методы борьбы с данным явлением:\n",
    "* `взвешивание классов` с использованием параметра *class_weight='balanced'*;\n",
    "* `upsampling` или увеличение доли редкого класса в выборке;\n",
    "* `downsampling` или уменьшение доли более часто встречающегося класса в выборке.\n",
    "\n",
    "Сравним полученные результаты для моделей решающего дерева и случайного леса."
   ]
  },
  {
   "cell_type": "markdown",
   "id": "5bea32f9",
   "metadata": {},
   "source": [
    "### Взвешивание классов"
   ]
  },
  {
   "cell_type": "markdown",
   "id": "b0811bcf",
   "metadata": {},
   "source": [
    "#### Взвешивание классов для модели решающего дерева"
   ]
  },
  {
   "cell_type": "markdown",
   "id": "370fb125",
   "metadata": {},
   "source": [
    "Проверим влияние взвешивания классов на метрики качества модели на основе решающего дерева."
   ]
  },
  {
   "cell_type": "code",
   "execution_count": 54,
   "id": "ec6a4afb",
   "metadata": {},
   "outputs": [
    {
     "name": "stdout",
     "output_type": "stream",
     "text": [
      "====================================================================================================\n",
      "Лучший результат для решающего дерева по F1-мере: 0.545\n",
      "====================================================================================================\n",
      "\n",
      "Лучший результат получен на модели с параметрами: \n",
      "{'ccp_alpha': 0.0, 'class_weight': 'balanced', 'criterion': 'gini', 'max_depth': 6, 'max_features': None, 'max_leaf_nodes': None, 'min_impurity_decrease': 0.0, 'min_samples_leaf': 1, 'min_samples_split': 2, 'min_weight_fraction_leaf': 0.0, 'random_state': 123, 'splitter': 'best'}\n",
      "\n",
      "====================================================================================================\n",
      "ROC-AUC метрика лучшей модели на основе дерева решений: 0.813\n",
      "====================================================================================================\n"
     ]
    }
   ],
   "source": [
    "# обучение модели на основе решающего дерева с использованием взвешивания классов\n",
    "decision_tree_model(features_train,  target_train, cw='balanced', show_best_params=True)"
   ]
  },
  {
   "cell_type": "markdown",
   "id": "0791d278",
   "metadata": {},
   "source": [
    "* Взвешивание классов для решающего дерева привело к снижению *F1-меры*, по сравнению с той, что была получена для решающего дерева без взвешивания, с `0.564` до `0.545`. *ROC-AUC* метрика при этом также снизилась со значения `0.817` до `0.813`."
   ]
  },
  {
   "cell_type": "markdown",
   "id": "070f88ec",
   "metadata": {},
   "source": [
    "#### Взвешивание классов для модели случайного леса"
   ]
  },
  {
   "cell_type": "markdown",
   "id": "8fa2f315",
   "metadata": {},
   "source": [
    "Проверим влияние взвешивания классов на метрики качества модели на основе случайного леса."
   ]
  },
  {
   "cell_type": "code",
   "execution_count": 55,
   "id": "6a50c882",
   "metadata": {},
   "outputs": [
    {
     "name": "stdout",
     "output_type": "stream",
     "text": [
      "====================================================================================================\n",
      "Лучший результат для случайного леса по F1-мере: 0.608\n",
      "====================================================================================================\n",
      "\n",
      "Лучший результат получен на модели с параметрами: \n",
      "{'bootstrap': True, 'ccp_alpha': 0.0, 'class_weight': 'balanced', 'criterion': 'gini', 'max_depth': 16, 'max_features': 'sqrt', 'max_leaf_nodes': None, 'max_samples': None, 'min_impurity_decrease': 0.0, 'min_samples_leaf': 3, 'min_samples_split': 2, 'min_weight_fraction_leaf': 0.0, 'n_estimators': 29, 'n_jobs': -1, 'oob_score': False, 'random_state': 123, 'verbose': 0, 'warm_start': False}\n",
      "\n",
      "====================================================================================================\n",
      "ROC-AUC метрика лучшей модели на основе случайного леса: 0.834\n",
      "====================================================================================================\n"
     ]
    }
   ],
   "source": [
    "# обучение модели на основе случайного леса с использованием взвешивания классов\n",
    "random_forest_model(features_train, target_train, estimators_range=(27, 32), cw='balanced', show_best_params=True)"
   ]
  },
  {
   "cell_type": "markdown",
   "id": "92005ad8",
   "metadata": {},
   "source": [
    "* Взвешивание классов для случайного леса повысило значение *F1-меры*, которая увеличилась с `0.585` до значения `0.606`. *ROC-AUC* метрика при этом снизилась со значения `0.837` до `0.834`.\n",
    "* Полученное значение *F1-меры* для модели случайного леса со взвешиванием классов удовлетворяет условию задания."
   ]
  },
  {
   "cell_type": "markdown",
   "id": "5f255b8b",
   "metadata": {},
   "source": [
    "#### Взвешивание классов для модели логистической регрессии"
   ]
  },
  {
   "cell_type": "code",
   "execution_count": 56,
   "id": "9ae4a139",
   "metadata": {},
   "outputs": [
    {
     "name": "stdout",
     "output_type": "stream",
     "text": [
      "====================================================================================================\n",
      "Лучший результат для логистической регрессии по F1-мере: 0.509\n",
      "====================================================================================================\n",
      "\n",
      "Лучший результат получен на модели с параметрами: \n",
      "{'C': 0.001, 'class_weight': 'balanced', 'dual': False, 'fit_intercept': True, 'intercept_scaling': 1, 'l1_ratio': None, 'max_iter': 100, 'multi_class': 'auto', 'n_jobs': -1, 'penalty': 'l2', 'random_state': 123, 'solver': 'lbfgs', 'tol': 0.0001, 'verbose': 0, 'warm_start': False}\n",
      "\n",
      "====================================================================================================\n",
      "ROC-AUC  метрика лучшей модели на основе логистической регрессии: 0.761\n",
      "====================================================================================================\n"
     ]
    }
   ],
   "source": [
    "# обучение модели модели логистической регрессии с подстройкой гиперпараметров\n",
    "best_reg_model = None\n",
    "best_reg_by_f1 = best_reg_by_auc = 0\n",
    "\n",
    "cs = [0.001, 0.1, 1]\n",
    "\n",
    "for с in cs:\n",
    "        reg_model = LogisticRegression(C=с, class_weight='balanced', n_jobs=-1, random_state=rnd)\n",
    "        reg_model.fit(features_train, target_train)\n",
    "        \n",
    "        # прeдсказанные значения целевой переменной и метрики качества модели\n",
    "        predictions = reg_model.predict(features_valid)\n",
    "        result_f1 = f1_score(target_valid, predictions)\n",
    "        \n",
    "        # определение лучшей модели по f1 метрике\n",
    "        if result_f1 > best_reg_by_f1:\n",
    "            best_reg_model_f1 = reg_model\n",
    "            best_reg_by_f1 = result_f1\n",
    "            \n",
    "\n",
    "print('=' * 100)\n",
    "print(f'Лучший результат для логистической регрессии по F1-мере: {round(best_reg_by_f1, 3)}')\n",
    "print('=' * 100)\n",
    "\n",
    "print(f'\\nЛучший результат получен на модели с параметрами: \\n{best_reg_model_f1.get_params()}\\n')\n",
    "    \n",
    "# вычисление ROC-AUC метрики для лучшей модели\n",
    "predictions = best_reg_model_f1.predict(features_valid)\n",
    "probabilities_valid = best_reg_model_f1.predict_proba(features_valid)\n",
    "roc_auc = roc_auc_score(target_valid, probabilities_valid[:, 1])\n",
    "\n",
    "print('=' * 100)\n",
    "print(f'ROC-AUC  метрика лучшей модели на основе логистической регрессии: {round(roc_auc, 3)}')\n",
    "print('=' * 100)"
   ]
  },
  {
   "cell_type": "markdown",
   "id": "24cc2b73",
   "metadata": {},
   "source": [
    "* Взвешивание классов для логистической регрессии повысило значение *F1-меры*, которая увеличилась с `0.281` до значения `0.509`. *ROC-AUC* метрика при не изменилась и осталась равной `0.761`.\n",
    "* Несмотря на то, что взвешивание классов для логистической регрессии обеспечило наибольшее относительно других моделей повышение *F1-меры*, полученное значение всё еще является самым низким по сравнению с моделями на основе дерева решений и случайного леса. По этой причине работать дальше над улучшением модели на основе логистической регрессии представляется нецелесообразным."
   ]
  },
  {
   "cell_type": "markdown",
   "id": "18135c73",
   "metadata": {},
   "source": [
    "### Увеличение выборки"
   ]
  },
  {
   "cell_type": "markdown",
   "id": "8d2a5bcb",
   "metadata": {},
   "source": [
    "Для уменьшения влияния дибаланса классов применим метод **upsampling** при котором искуственно увеличим долю объектов более редкого класса. Создадим вспомогательную функцию *upsample()* для решения этой задачи."
   ]
  },
  {
   "cell_type": "code",
   "execution_count": 57,
   "id": "4669d293",
   "metadata": {},
   "outputs": [],
   "source": [
    "# вспомогательная функция для увеличения количества объектов редкого класса в выборке\n",
    "def upsample(features, target, repeat):\n",
    "    \"\"\"\n",
    "    input: features (pandas.DataFrame)            - обучающий набор признаков;\n",
    "           target (pandas.Series)                 - целевой признак;\n",
    "           repeat (digit)                         - множитель - число во сколько раз необходимо увеличить редкий класс.\n",
    "    output: features_upsampled (pandas.DataFrame) - изменённый обучающий набор признаков;\n",
    "            target_upsampled (pandas.Series)      - изменённый целевой признак.\n",
    "    description: Функция разделяет обучающую выборку на отрицательные и положительные классы, копирует заданное значеним\n",
    "                 repeat количество раз объекты редкого класса, создаёт из полученных данных новую выборку и перемешивает\n",
    "                 её.\n",
    "    \"\"\"\n",
    "    features_zeros = features[target == 0]\n",
    "    features_ones = features[target == 1]\n",
    "    target_zeros = target[target == 0]\n",
    "    target_ones = target[target == 1]\n",
    "\n",
    "    features_upsampled = pd.concat([features_zeros] + [features_ones] * repeat)\n",
    "    target_upsampled = pd.concat([target_zeros] + [target_ones] * repeat)\n",
    "    \n",
    "    features_upsampled, target_upsampled = shuffle(\n",
    "        features_upsampled, target_upsampled, random_state=rnd)\n",
    "    \n",
    "    return features_upsampled, target_upsampled"
   ]
  },
  {
   "cell_type": "markdown",
   "id": "99cceb32",
   "metadata": {},
   "source": [
    "Воспользуемся созданной функцией и увеличим долю объектов редкого класса в обучающей выборке."
   ]
  },
  {
   "cell_type": "code",
   "execution_count": 58,
   "id": "caee53b4",
   "metadata": {},
   "outputs": [],
   "source": [
    "# создание обучающей выборки со сбалансировнными методом upsampling классами\n",
    "features_upsampled, target_upsampled = upsample(features_train, target_train, 4)"
   ]
  },
  {
   "cell_type": "markdown",
   "id": "e1767552",
   "metadata": {},
   "source": [
    "С помощью созданной ранее функции *classes_balance()* проверим соотношение классов в данных после применения техники *upsampling*."
   ]
  },
  {
   "cell_type": "code",
   "execution_count": 59,
   "id": "db6d640b",
   "metadata": {},
   "outputs": [
    {
     "data": {
      "text/html": [
       "<div>\n",
       "<style scoped>\n",
       "    .dataframe tbody tr th:only-of-type {\n",
       "        vertical-align: middle;\n",
       "    }\n",
       "\n",
       "    .dataframe tbody tr th {\n",
       "        vertical-align: top;\n",
       "    }\n",
       "\n",
       "    .dataframe thead th {\n",
       "        text-align: right;\n",
       "    }\n",
       "</style>\n",
       "<table border=\"1\" class=\"dataframe\">\n",
       "  <thead>\n",
       "    <tr style=\"text-align: right;\">\n",
       "      <th></th>\n",
       "      <th>class_counts</th>\n",
       "      <th>rate</th>\n",
       "    </tr>\n",
       "  </thead>\n",
       "  <tbody>\n",
       "    <tr>\n",
       "      <th>train_sample</th>\n",
       "      <td>4797 : 4812</td>\n",
       "      <td>1.0 : 1</td>\n",
       "    </tr>\n",
       "    <tr>\n",
       "      <th>valid_sample</th>\n",
       "      <td>1580 : 420</td>\n",
       "      <td>3.76 : 1</td>\n",
       "    </tr>\n",
       "    <tr>\n",
       "      <th>test_sample</th>\n",
       "      <td>1586 : 414</td>\n",
       "      <td>3.83 : 1</td>\n",
       "    </tr>\n",
       "  </tbody>\n",
       "</table>\n",
       "</div>"
      ],
      "text/plain": [
       "             class_counts      rate\n",
       "train_sample  4797 : 4812   1.0 : 1\n",
       "valid_sample   1580 : 420  3.76 : 1\n",
       "test_sample    1586 : 414  3.83 : 1"
      ]
     },
     "metadata": {},
     "output_type": "display_data"
    }
   ],
   "source": [
    "# отображение баланса классов в целевом признаке после применения техники upsampling\n",
    "classes_balance(target_train=target_upsampled)"
   ]
  },
  {
   "cell_type": "markdown",
   "id": "f7d382a6",
   "metadata": {},
   "source": [
    "#### Увеличение выборки для модели решающего дерева"
   ]
  },
  {
   "cell_type": "markdown",
   "id": "2d6b7d1b",
   "metadata": {},
   "source": [
    "Проверим влияние увеличения выборки на метрики качества модели на основе решающего дерева."
   ]
  },
  {
   "cell_type": "code",
   "execution_count": 60,
   "id": "4959237b",
   "metadata": {},
   "outputs": [
    {
     "name": "stdout",
     "output_type": "stream",
     "text": [
      "====================================================================================================\n",
      "Лучший результат для решающего дерева по F1-мере: 0.546\n",
      "====================================================================================================\n",
      "\n",
      "Лучший результат получен на модели с параметрами: \n",
      "{'ccp_alpha': 0.0, 'class_weight': None, 'criterion': 'gini', 'max_depth': 8, 'max_features': None, 'max_leaf_nodes': None, 'min_impurity_decrease': 0.0, 'min_samples_leaf': 1, 'min_samples_split': 2, 'min_weight_fraction_leaf': 0.0, 'random_state': 123, 'splitter': 'best'}\n",
      "\n",
      "====================================================================================================\n",
      "ROC-AUC метрика лучшей модели на основе дерева решений: 0.796\n",
      "====================================================================================================\n"
     ]
    }
   ],
   "source": [
    "# обучение модели на основе решающего дерева с использованием увеличения выборки\n",
    "decision_tree_model(features_upsampled, target_upsampled, show_best_params=True)"
   ]
  },
  {
   "cell_type": "markdown",
   "id": "3548e10c",
   "metadata": {},
   "source": [
    "* По сравнению с аналогичными результатами, полученными для модели на основе дерева решений, обученного на несбалансированных данных, увеличение выборки привело к снижению значения *F1-меры* с `0.564` до `0.546`. *ROC-AUC* метрика при этом снизилась со значения `0.817` до `0.796`."
   ]
  },
  {
   "cell_type": "markdown",
   "id": "b017f4f7",
   "metadata": {},
   "source": [
    "#### Увеличение выборки для модели случайного леса"
   ]
  },
  {
   "cell_type": "markdown",
   "id": "5f13f081",
   "metadata": {},
   "source": [
    "Проверим влияние увеличения выборки на метрики качества модели на основе случайного леса."
   ]
  },
  {
   "cell_type": "code",
   "execution_count": 61,
   "id": "eb43d303",
   "metadata": {},
   "outputs": [
    {
     "name": "stdout",
     "output_type": "stream",
     "text": [
      "====================================================================================================\n",
      "Лучший результат для случайного леса по F1-мере: 0.602\n",
      "====================================================================================================\n",
      "\n",
      "Лучший результат получен на модели с параметрами: \n",
      "{'bootstrap': True, 'ccp_alpha': 0.0, 'class_weight': None, 'criterion': 'gini', 'max_depth': 14, 'max_features': 'sqrt', 'max_leaf_nodes': None, 'max_samples': None, 'min_impurity_decrease': 0.0, 'min_samples_leaf': 4, 'min_samples_split': 2, 'min_weight_fraction_leaf': 0.0, 'n_estimators': 26, 'n_jobs': -1, 'oob_score': False, 'random_state': 123, 'verbose': 0, 'warm_start': False}\n",
      "\n",
      "====================================================================================================\n",
      "ROC-AUC метрика лучшей модели на основе случайного леса: 0.833\n",
      "====================================================================================================\n"
     ]
    }
   ],
   "source": [
    "# обучение модели на основе случайного леса с использованием взвешивания классов\n",
    "random_forest_model(features_upsampled, target_upsampled, estimators_range=(26, 32), samples_leaf_range=(4, 7),\n",
    "                    show_best_params=True)"
   ]
  },
  {
   "cell_type": "markdown",
   "id": "31accb4c",
   "metadata": {},
   "source": [
    "* Увеличение выборки для случайного леса повысило значение *F1-меры*, которая увеличилась с `0.585` до значения `0.602` по сравнению с аналогичной моделью, обученной на несбалансированных данных. *ROC-AUC* метрика при этом снизилась со значения `0.837` до `0.833`.\n",
    "* С увеличением выборки для модели случайного леса по сравнению с моделью случайного леса со взвешиванием весов произошло снижение значения *F1-меры* с `0.606` до `0.602`."
   ]
  },
  {
   "cell_type": "markdown",
   "id": "5ccaa2c4",
   "metadata": {},
   "source": [
    "### Уменьшение выборки"
   ]
  },
  {
   "cell_type": "markdown",
   "id": "9a1c56f2",
   "metadata": {},
   "source": [
    "Противоположным увеличению выборки явлется подход уменьшения влияния дибаланса классов техникой **downsampling** при котором происходит снижение доли объектов более часто встречающегося класса. Для применения этой техники к исследуемым данным создадим вспомогательную функцию *downsampling()*."
   ]
  },
  {
   "cell_type": "code",
   "execution_count": 62,
   "id": "93670d62",
   "metadata": {},
   "outputs": [],
   "source": [
    "# вспомогательная функция для уменьшения количества объектов более частого встречающегося класса в выборке\n",
    "def downsample(features, target, fraction):\n",
    "    \"\"\"\n",
    "    input: features (pandas.DataFrame)            - обучающий набор признаков;\n",
    "           target (pandas.Series)                 - целевой признак;\n",
    "           fraction (digit)                       - доля, которую необходимо оставить от объектов более часто\n",
    "                                                    представленного в выборке класса.\n",
    "    output: features_upsampled (pandas.DataFrame) - изменённый обучающий набор признаков;\n",
    "            target_upsampled (pandas.Series)      - изменённый целевой признак.\n",
    "    description: Функция разделяет обучающую выборку на отрицательные и положительные классы, случайным образом \n",
    "                 отбрасывает часть объектов из более более часто представленного в выборке класса пока количествво \n",
    "                 объектов данного класса не станет соотвествовать заданному аргументом fraction значению, создаёт \n",
    "                 из полученных данных новую выборку и перемешивает её.\n",
    "    \"\"\"\n",
    "    features_zeros = features[target == 0]\n",
    "    features_ones = features[target == 1]\n",
    "    target_zeros = target[target == 0]\n",
    "    target_ones = target[target == 1]\n",
    "\n",
    "    features_downsampled = pd.concat(\n",
    "        [features_zeros.sample(frac=fraction, random_state=rnd)] + [features_ones])\n",
    "    target_downsampled = pd.concat(\n",
    "        [target_zeros.sample(frac=fraction, random_state=rnd)] + [target_ones])\n",
    "    \n",
    "    features_downsampled, target_downsampled = shuffle(\n",
    "        features_downsampled, target_downsampled, random_state=rnd)\n",
    "    \n",
    "    return features_downsampled, target_downsampled"
   ]
  },
  {
   "cell_type": "markdown",
   "id": "e9d1a553",
   "metadata": {},
   "source": [
    "Воспользуемся созданной функцией и уменьшим долю объектов более частого встречающегося класса в обучающей выборке, чтобы соотношение классов было равным."
   ]
  },
  {
   "cell_type": "code",
   "execution_count": 63,
   "id": "181f8541",
   "metadata": {},
   "outputs": [],
   "source": [
    "features_downsampled, target_downsampled = downsample(features_train, target_train, 0.25)"
   ]
  },
  {
   "cell_type": "markdown",
   "id": "7c37dd47",
   "metadata": {},
   "source": [
    "С помощью созданной ранее функции *classes_balance()* проверим соотношение классов в данных после применения техники *downsampling*."
   ]
  },
  {
   "cell_type": "code",
   "execution_count": 64,
   "id": "899fe3d1",
   "metadata": {},
   "outputs": [
    {
     "data": {
      "text/html": [
       "<div>\n",
       "<style scoped>\n",
       "    .dataframe tbody tr th:only-of-type {\n",
       "        vertical-align: middle;\n",
       "    }\n",
       "\n",
       "    .dataframe tbody tr th {\n",
       "        vertical-align: top;\n",
       "    }\n",
       "\n",
       "    .dataframe thead th {\n",
       "        text-align: right;\n",
       "    }\n",
       "</style>\n",
       "<table border=\"1\" class=\"dataframe\">\n",
       "  <thead>\n",
       "    <tr style=\"text-align: right;\">\n",
       "      <th></th>\n",
       "      <th>class_counts</th>\n",
       "      <th>rate</th>\n",
       "    </tr>\n",
       "  </thead>\n",
       "  <tbody>\n",
       "    <tr>\n",
       "      <th>train_sample</th>\n",
       "      <td>1199 : 1203</td>\n",
       "      <td>1.0 : 1</td>\n",
       "    </tr>\n",
       "    <tr>\n",
       "      <th>valid_sample</th>\n",
       "      <td>1580 : 420</td>\n",
       "      <td>3.76 : 1</td>\n",
       "    </tr>\n",
       "    <tr>\n",
       "      <th>test_sample</th>\n",
       "      <td>1586 : 414</td>\n",
       "      <td>3.83 : 1</td>\n",
       "    </tr>\n",
       "  </tbody>\n",
       "</table>\n",
       "</div>"
      ],
      "text/plain": [
       "             class_counts      rate\n",
       "train_sample  1199 : 1203   1.0 : 1\n",
       "valid_sample   1580 : 420  3.76 : 1\n",
       "test_sample    1586 : 414  3.83 : 1"
      ]
     },
     "metadata": {},
     "output_type": "display_data"
    }
   ],
   "source": [
    "# отображение баланса классов в целевом признаке после применения техники downsampling\n",
    "classes_balance(target_train=target_downsampled)"
   ]
  },
  {
   "cell_type": "markdown",
   "id": "060b53f9",
   "metadata": {},
   "source": [
    "#### Уменьшение выборки для модели решающего дерева"
   ]
  },
  {
   "cell_type": "markdown",
   "id": "5492e952",
   "metadata": {},
   "source": [
    "Проверим влияние уменьшения выборки на метрики качества модели на основе решающего дерева."
   ]
  },
  {
   "cell_type": "code",
   "execution_count": 65,
   "id": "1cbe4484",
   "metadata": {},
   "outputs": [
    {
     "name": "stdout",
     "output_type": "stream",
     "text": [
      "====================================================================================================\n",
      "Лучший результат для решающего дерева по F1-мере: 0.55\n",
      "====================================================================================================\n",
      "\n",
      "Лучший результат получен на модели с параметрами: \n",
      "{'ccp_alpha': 0.0, 'class_weight': None, 'criterion': 'gini', 'max_depth': 5, 'max_features': None, 'max_leaf_nodes': None, 'min_impurity_decrease': 0.0, 'min_samples_leaf': 1, 'min_samples_split': 2, 'min_weight_fraction_leaf': 0.0, 'random_state': 123, 'splitter': 'best'}\n",
      "\n",
      "====================================================================================================\n",
      "ROC-AUC метрика лучшей модели на основе дерева решений: 0.812\n",
      "====================================================================================================\n"
     ]
    }
   ],
   "source": [
    "# обучение модели на основе решающего дерева с использованием уменьшения выборки\n",
    "decision_tree_model(features_downsampled, target_downsampled, show_best_params=True)"
   ]
  },
  {
   "cell_type": "markdown",
   "id": "5d40bb75",
   "metadata": {},
   "source": [
    "* По сравнению с аналогичными результатами, полученными для модели на основе дерева решений, обученного на несбалансированных данных, уменьшение выборки привело к снижению *F1-меры*, которая для лучшей модели уменьшилась с `0.564` до `0.55`.\n",
    "* *ROC-AUC* метрика при этом, достигнув значения `0.812` также снизилась со значения, равного `0.837`, полученного на несбалансированных данных."
   ]
  },
  {
   "cell_type": "markdown",
   "id": "110213e7",
   "metadata": {},
   "source": [
    "#### Уменьшение выборки для модели случайного леса"
   ]
  },
  {
   "cell_type": "markdown",
   "id": "a9ad5041",
   "metadata": {},
   "source": [
    "Проверим влияние уменьшения выборки на метрики качества модели на основе случайного леса."
   ]
  },
  {
   "cell_type": "code",
   "execution_count": 66,
   "id": "720d6cb4",
   "metadata": {},
   "outputs": [
    {
     "name": "stdout",
     "output_type": "stream",
     "text": [
      "====================================================================================================\n",
      "Лучший результат для случайного леса по F1-мере: 0.585\n",
      "====================================================================================================\n",
      "\n",
      "Лучший результат получен на модели с параметрами: \n",
      "{'bootstrap': True, 'ccp_alpha': 0.0, 'class_weight': None, 'criterion': 'gini', 'max_depth': 15, 'max_features': 'sqrt', 'max_leaf_nodes': None, 'max_samples': None, 'min_impurity_decrease': 0.0, 'min_samples_leaf': 4, 'min_samples_split': 2, 'min_weight_fraction_leaf': 0.0, 'n_estimators': 22, 'n_jobs': -1, 'oob_score': False, 'random_state': 123, 'verbose': 0, 'warm_start': False}\n",
      "\n",
      "====================================================================================================\n",
      "ROC-AUC метрика лучшей модели на основе случайного леса: 0.835\n",
      "====================================================================================================\n"
     ]
    }
   ],
   "source": [
    "# обучение модели на основе случайного леса с использованием взвешивания классов\n",
    "random_forest_model(features_downsampled, target_downsampled, estimators_range=(22, 28), show_best_params=True)"
   ]
  },
  {
   "cell_type": "markdown",
   "id": "98dcade1",
   "metadata": {},
   "source": [
    "* Уменьшение выборки для случайного леса повысило значение *F1-меры*, которая увеличилась с `0.564` до значения `0.585` по сравнению с аналогичной моделью, обученной на несбалансированных данных. При этом по сравнению с техникой обработки несбалансированных данных, заключающейся в увеличении выборки, *F1-мера* снизилась с `0.602` до `0.585`.\n",
    "* Из предыдущего пункта можно сделать вывод, что в процессе уменьшения выборки было удалено слишком много данных, валидационная выборка превзошла по своим размерам больше обучающую, что негативно сказалось на показателях качества модели, обученной на выборке пониженной размерности.\n",
    "* *ROC-AUC* метрика при этом повысилась со значения `0.833` до `0.835`."
   ]
  },
  {
   "cell_type": "markdown",
   "id": "98ae2695",
   "metadata": {},
   "source": [
    "### Выводы по работе с дисбалансом классов"
   ]
  },
  {
   "cell_type": "markdown",
   "id": "cf993ddf",
   "metadata": {},
   "source": [
    "* На моделях решающего дерева и случайного леса проверены результаты использования методов борьбы с дисбалансом классов таких как: взвешивание классов, увеличение (*upsampling*) и уменьшение (*downsampling*) выборки.\n",
    "* Использование взвешивания классов для случайного леса позволило достичь значения *F1-меры* на валидационной выборке, равного `0.606`, что удовлетворяет условию задания (`>0.59`). Для решающего дерева использование взвешивания классов на значение *F1-меры* повлияло в худщую сторону в результате чего данная метрика снизилась с `0.564` до `0.545`.\n",
    "* Применение метода увеличения выборки (*upsampling*) для борьбы с дисбалансом классов обеспечило достижение значения *F1-меры*, равного `0.602`. При этом также *ROC-AUC* метрика снизилась со значения `0.817` до `0.796`. Для модели на основе решающего дерева использование данного метода привело к снижению значения *F1-меры* с `0.564` до `0.546`. *ROC-AUC* метрика при этом снизилась со значения `0.837` до `0.833`.\n",
    "* Применение метода уменьшения выборки (*downsampling*) для дерева решений привело к увеличению *F1-меры* с `0.546` до `0.55` и повышению *ROC-AUC* с `0.796` до `0.812` по сравнению с аналогичной моделью, обученной на *upsampling* выборке. Использование этого же метода для борьбы с дисбалансом классов для модели на основе случайного леса также привело к снижению *F1-меры* с `0.602` до `0.585` и повышению *ROC-AUC* с `0.833` до `0.835` по сравнению с аналогичной моделью, обученной на *upsampling* выборке.\n",
    "* Уменьшение выборки, как следует из предыдущего пункта, снижает качество по *F1-мере*, так как она лишается значительной части обучающих данных, но при этом также незначительно возраставет *ROC-AUC* метрика, так как выборка становится меньше и вероятность ошибки модели снижается."
   ]
  },
  {
   "cell_type": "markdown",
   "id": "871e6a53",
   "metadata": {},
   "source": [
    "## Финальное тестирование"
   ]
  },
  {
   "cell_type": "markdown",
   "id": "8624d66a",
   "metadata": {},
   "source": [
    "Финальное тестирование проведём на 20% выборке из исходных данных, которая была выделена для тестирования в п.3.1. Для тестирования возьмём модель решающего дерева с уменьшением выборки (*downsampling*) с определёнными в п.4.3.1 гиперпараметрами и модель на основе случайного леса с увеличеним выборки (*upsampling*) с определёнными в п.4.2.2 гиперпараметрами."
   ]
  },
  {
   "cell_type": "markdown",
   "id": "56502432",
   "metadata": {},
   "source": [
    "### Финальное тестирование модели на основе решающего дерева"
   ]
  },
  {
   "cell_type": "markdown",
   "id": "d9baa65c",
   "metadata": {},
   "source": [
    "Обучим решающее дерево с гиперпараметрами, на которых ранее было достигнуто максимальное значение *F1-меры*:\n",
    "* `criterion='gini'`;\n",
    "* `max_depth=5`;\n",
    "* `min_samples_split=2`;\n",
    "* `min_samples_leaf=1`.\n",
    "\n",
    "После обучения сделаем прогноз на тестовой выборке и определим для обученной модели выбранные метрики качества *F1-меру* и *ROC-AUC*."
   ]
  },
  {
   "cell_type": "code",
   "execution_count": 67,
   "id": "6a161b05",
   "metadata": {},
   "outputs": [
    {
     "name": "stdout",
     "output_type": "stream",
     "text": [
      "Значения метрик на финальном тестировании решающего дерева:\n",
      " • F1 = 0.583 \n",
      " • ROC-AUC = 0.812\n"
     ]
    }
   ],
   "source": [
    "# обучение модели на основе дерева решений с заданными гиперпараметрами\n",
    "model_dt_final = DecisionTreeClassifier(\n",
    "    criterion='gini',\n",
    "    max_depth=5,\n",
    "    min_samples_split=2,\n",
    "    min_samples_leaf=1,\n",
    "    random_state=rnd\n",
    ")\n",
    "\n",
    "model_dt_final.fit(features_downsampled, target_downsampled)\n",
    "\n",
    "# прогноз на тестовой выборке\n",
    "predictions = model_dt_final.predict(features_test)\n",
    "\n",
    "# определение метрик качества - F1-меры и ROC-AUC\n",
    "f1 = round(f1_score(target_test, predictions), 3)\n",
    "probabilities_valid = model_dt_final.predict_proba(features_valid)\n",
    "roc_auc = round(roc_auc_score(target_valid, probabilities_valid[:, 1]), 3)\n",
    "\n",
    "print('Значения метрик на финальном тестировании решающего дерева:')\n",
    "print(f' • F1 = {f1} \\n • ROC-AUC = {roc_auc}')"
   ]
  },
  {
   "cell_type": "markdown",
   "id": "4997c13d",
   "metadata": {},
   "source": [
    "* На финальном тестировании модели на основе дерева решений значение *F1-меры* повысилось с `0.55` до `0.583` по сравнению с этой же метрикой на валидационной выборке.\n",
    "* *ROC-AUC* метрика при этом не изменилась и осталась равной `0.812`."
   ]
  },
  {
   "cell_type": "markdown",
   "id": "4b0e39b2",
   "metadata": {},
   "source": [
    "### Финальное тестирование модели на основе случайного леса"
   ]
  },
  {
   "cell_type": "markdown",
   "id": "fe472bd1",
   "metadata": {},
   "source": [
    "Обучим случайный лес с гиперпараметрами, на которых ранее было достигнуто максимальное значение *F1-меры*:\n",
    "* `n_estimators=28`;\n",
    "* `criterion='entropy'`;\n",
    "* `max_depth=14`;\n",
    "* `min_samples_split=2`;\n",
    "* `min_samples_leaf=5`.\n",
    "\n",
    "После обучения сделаем прогноз на тестовой выборке и определим для обученной модели выбранные метрики качества *F1-меру* и *ROC-AUC*."
   ]
  },
  {
   "cell_type": "code",
   "execution_count": 68,
   "id": "1c3734d3",
   "metadata": {},
   "outputs": [
    {
     "name": "stdout",
     "output_type": "stream",
     "text": [
      "Значения метрик на финальном тестировании случайного леса:\n",
      " • F1 = 0.631 \n",
      " • ROC-AUC = 0.839\n"
     ]
    }
   ],
   "source": [
    "# обучение модели на основе случайного леса с заданными гиперпараметрами\n",
    "model_rf_final = RandomForestClassifier(\n",
    "    n_estimators=28,\n",
    "    criterion='entropy',\n",
    "    max_depth=14,\n",
    "    min_samples_split=2,\n",
    "    min_samples_leaf=5,\n",
    "    random_state=rnd\n",
    ")\n",
    "\n",
    "model_rf_final.fit(features_upsampled, target_upsampled)\n",
    "\n",
    "# прогноз на тестовой выборке\n",
    "predictions = model_rf_final.predict(features_test)\n",
    "\n",
    "# определение метрик качества - F1-меры и ROC-AUC\n",
    "f1 = round(f1_score(target_test, predictions), 3)\n",
    "probabilities_valid = model_rf_final.predict_proba(features_valid)\n",
    "roc_auc = round(roc_auc_score(target_valid, probabilities_valid[:, 1]), 3)\n",
    "\n",
    "print('Значения метрик на финальном тестировании случайного леса:')\n",
    "print(f' • F1 = {f1} \\n • ROC-AUC = {roc_auc}')"
   ]
  },
  {
   "cell_type": "markdown",
   "id": "759d53fa",
   "metadata": {},
   "source": [
    "Лучшей моделью с `F1-мерой`, равной `0.631`, стала модель случайного леса, обученная на данных дисбаланс в которых был устранён с помощью метода повышения выборки (*upsampling*). Построим для этой модели график *ROC-AUC*."
   ]
  },
  {
   "cell_type": "code",
   "execution_count": 69,
   "id": "e4b817f6",
   "metadata": {},
   "outputs": [
    {
     "name": "stderr",
     "output_type": "stream",
     "text": [
      "C:\\Users\\Oleg\\AppData\\Local\\Temp\\ipykernel_20748\\2666769636.py:11: UserWarning: color is redundantly defined by the 'color' keyword argument and the fmt string \"k--\" (-> color='k'). The keyword argument will take precedence.\n",
      "  plt.plot([0, 1], [0, 1], 'k--', color='r')\n"
     ]
    },
    {
     "data": {
      "image/png": "[encoded data removed]",
      "text/plain": [
       "<Figure size 720x432 with 1 Axes>"
      ]
     },
     "metadata": {},
     "output_type": "display_data"
    }
   ],
   "source": [
    "# определение вероятности принадлежности классам 0 и 1\n",
    "ypred_prob = model_rf_final.predict_proba(features_test)\n",
    "\n",
    "# данные для построения ROC-AUC кривой\n",
    "fpr, tpr, thresholds = roc_curve(target_test, ypred_prob[:, 1])\n",
    "roc_auc = auc(fpr, tpr)\n",
    "\n",
    "# построение графика ROC-AUC\n",
    "plt.figure(figsize=(10, 6))\n",
    "plt.plot(fpr, tpr, label='ROC curve (area = %0.2f)' % (roc_auc), color='b')\n",
    "plt.plot([0, 1], [0, 1], 'k--', color='r')\n",
    "plt.xlim([0.0, 1])\n",
    "plt.ylim([0.0, 1.02])\n",
    "plt.xlabel('False Positive Rate', fontsize=14)\n",
    "plt.ylabel('True Positive Rate', fontsize=14)\n",
    "plt.title('Кривая ROC-AUC', fontsize=15)\n",
    "plt.legend(loc='lower right', fontsize=13)\n",
    "plt.show();"
   ]
  },
  {
   "cell_type": "markdown",
   "id": "19214652",
   "metadata": {},
   "source": [
    "* На финальном тестировании модели на основе случайного леса значение *F1-меры* повысилось с `0.602` до `0.631` по сравнению с этой же метрикой случайного леса на валидационной выборке.\n",
    "* *ROC-AUC* метрика при этом также возросла с `0.833` до `0.839`.\n",
    "* Построен график ROC-AUC кривой, который демонстрирует значимое отличие результатов работы модели от случайных величин."
   ]
  },
  {
   "cell_type": "markdown",
   "id": "391fb47c",
   "metadata": {},
   "source": [
    "### Выводы по финальному тестированию"
   ]
  },
  {
   "cell_type": "markdown",
   "id": "dbb5ae68",
   "metadata": {},
   "source": [
    "* Для финального тестирования отобраны две модели:\n",
    "    * решающего дерева с уменьшением выборки (*downsampling*) с определёнными в ранее гиперпараметрами;\n",
    "    * модель на основе случайного леса с увеличеним выборки (*upsampling*), гиперпараметры которой также были подобраны ранее.\n",
    "* Проведено финальное тестирование модели на основе дерева решений с определёнными на предыдущих этапах гиперпараметрами. Выполнен прогноз на тестовой выборке и определены меры качества *F1-мера* и *ROC-AUC*. Значение *F1-меры* повысилось с `0.55` до `0.583` по сравнению с этой же метрикой на валидационной выборке. *ROC-AUC* метрика не измениласт и осталась равной `0.812`.\n",
    "* Проведено финальное тестирование модели на основе случайного леса с определёнными на предыдущих этапах гиперпараметрами. Выполнен прогноз на тестовой выборке и определены меры качества *F1-мера* и *ROC-AUC*. Значение *F1-меры* повысилось с `0.602` до `0.631` по сравнению с этой же метрикой случайного леса на валидационной выборке. *ROC-AUC* метрика возросла с `0.833` до `0.839`.\n",
    "* Построен график ROC-AUC кривой, который демонстрирует значимое отличие результатов работы модели от случайных значений."
   ]
  },
  {
   "cell_type": "markdown",
   "id": "ebdc14c4",
   "metadata": {},
   "source": [
    "## Общие выводы"
   ]
  },
  {
   "cell_type": "markdown",
   "id": "63e9cbc4",
   "metadata": {},
   "source": [
    "1. Полученные в файлe `Churn.csv` исторические данные о поведении клиентов банка были успешно загружены и проанализированы. В полученных данных содержатся `10000` записей. Полных дубликатов не обнаружено. Присутствуют многочисленные нарушения стиля заголовков и пропущенные данные в столбце `Tenure` (сколько лет человек является клиентом банка) в количестве `9%`. Установлена необходимость исследования и предобработки данных.\n",
    "\n",
    "\n",
    "2. Выполнена предобработка данных :\n",
    "    * названия столбцов приведены к соотвествию змениному стилю;\n",
    "    * столбцы `RowNumber` (индекс строки в данных), `CustomerId` (уникальные идентификаторы клиентов) и `Surname` (фамилии клиентов) удалены из данных как не оказывающие влияния на целевой признак;\n",
    "    * категориальные признаки `geography` и `gender` преобразованы методом прямого кодирования (*One-Hot Encoding*);\n",
    "    * определено отношение `4:1` отрицательного класса `0` к положительному классу `1` в целевом признаке `exited`;\n",
    "    * попытка заполнения пропущенных значений `tenure` на основе прогнозов модели машинного обучения оказалась неудачной так как получены низкие значения точности - `0.123` для случайного леса и `0.112` для логистичской регрессии, что не сильно лучше случайного заполнения, средняя точность которого будет равна `0.091`;\n",
    "    * пропущенные значения в признаке `tenure` заполнены значениями `-1`.\n",
    "\n",
    "\n",
    "3. Проведено обучение моделей на несбалансированных данных:\n",
    "    * исходные данные разделены на обучающую, валидационную и тестовую выборки в соотношении 3:1:1;\n",
    "    * все количественные признаки в полученных выборках стандартизированы и приведены к единому масштабу данных;\n",
    "    * на несбалансированных данных были обучены модели на основе *решающего дерева*, *случайного леса* и *логистической регрессии*;\n",
    "    * максимального значения *F1-меры*, равного `0.585`, на валидационной выборке удалось достичь для модели на основе случайного леса, но оно оказалось недостаточным для выполнения условия задания;\n",
    "    * максимальное значение *ROC-AUC*, равное `0.837`, также было достигнуто для модели на основе случайного леса;\n",
    "    * лучший результат по *F1-мере* после подбора гиперпараметров для модели на основе логистической регрессии оказался почти в два раза более низкий по сравнению с результатами для моделей на основе решающего дерева и случайного леса.\n",
    "    \n",
    "\n",
    "4. Изучено влияние дисбаланса классов на метрики качества моделей:\n",
    "    * в качестве методов работы с дибалансом классов использованы взвешивание классов, увеличение (*upsampling*) и уменьшение (*downsampling*) выборки;\n",
    "    * для решающего дерева использование взвешивания классов на значение *F1-меры* повлияло в худщую сторону и данная метрика снизилась с `0.564` до `0.545`\n",
    "    * использование взвешивания классов для случайного леса позволило достичь значения *F1-меры* на валидационной выборке, равного `0.606`, что удовлетворяет условию задания (`>0.59`);\n",
    "    * взвешивание классов для логистической регрессии повысило значение *F1-меры*, которая увеличилась с `0.281` до значения `0.509`, что признано неудовлетворительным результатам и дальнейшие работы по улучшению логистической регрессии не проводились;\n",
    "    * максимального значения *F1-меры*, равного `0.606`, на валидационной выборке удалось достичь для модели на основе решающего дерева со взвешиванием классов;\n",
    "    * максимальное значение *ROC-AUC*, равное `0.837`, было получено для модели на основе случайного леса на несьалансированных данных;\n",
    "    * сводные параметры двух лучших моделей по *F1-мере* и *ROC-AUC*:\n",
    "        * **Случайный лес со *взвешиванием***:\n",
    "            * **F1 = 0.606**\n",
    "            * **ROC-AUC = 0.834**\n",
    "        * **Случайный лес на несбалансированных данных:\n",
    "            * **F1 = 0.585**\n",
    "            * **ROC-AUC = 0.837**\n",
    "\n",
    "\n",
    "5. Осуществлено финальное тестирование моделей:\n",
    "    * финальное тестирование проведено на тестовой выборке размером 20% от исходных данных, которых модели до этого еще не \"видели\";\n",
    "    * для тестирования отобраны две модели: решающего дерева с уменьшением выборки (*downsampling*) и модель на основе случайного леса с увеличеним выборки (*upsampling*), гиперпараметры которых были подобраны ранее;\n",
    "    * на финальном тестировании необходимое по условию задания значение *F1-меры* (`>0.59`) получено только для модели на основе случайного леса, при этом удалось повысить обе метрики качества (*F1* и *ROC-AUC*);\n",
    "    * значения метрик на финальном тестировании случайного леса:\n",
    "        * **Случайный лес с *upsampling*** на финальном тестировании:\n",
    "            * **F1 = 0.631**\n",
    "            * **ROC-AUC = 0.839**\n",
    "    * для протестированной модели случайного леса построен график ROC-AUC кривой, который демонстрирует значимое отличие результатов работы модели от случайных.\n",
    "    \n",
    "    \n",
    "6. Практически во всех случаях случайный лес по сравнению с решающим деревом и логистической регрессией демонстрирует более высокие метрики качества моделей и является более сильным методом классификации применительно к рассмотренной задаче."
   ]
  },
  {
   "cell_type": "code",
   "execution_count": null,
   "id": "0bd01b2a",
   "metadata": {},
   "outputs": [],
   "source": []
  }
 ],
 "metadata": {
  "ExecuteTimeLog": [
   {
    "duration": 660,
    "start_time": "2022-02-01T17:26:04.332Z"
   },
   {
    "duration": 58,
    "start_time": "2022-02-01T17:28:42.237Z"
   },
   {
    "duration": 60,
    "start_time": "2022-02-01T17:28:54.430Z"
   },
   {
    "duration": 10,
    "start_time": "2022-02-01T17:29:41.838Z"
   },
   {
    "duration": 1644,
    "start_time": "2022-04-13T20:57:04.416Z"
   },
   {
    "duration": 17,
    "start_time": "2022-04-13T20:57:06.062Z"
   },
   {
    "duration": 13,
    "start_time": "2022-04-13T20:57:06.081Z"
   },
   {
    "duration": 4,
    "start_time": "2022-04-13T20:57:06.096Z"
   },
   {
    "duration": 6,
    "start_time": "2022-04-13T20:57:06.102Z"
   },
   {
    "duration": 7,
    "start_time": "2022-04-13T20:57:06.109Z"
   },
   {
    "duration": 8,
    "start_time": "2022-04-13T20:57:06.118Z"
   },
   {
    "duration": 10,
    "start_time": "2022-04-13T20:57:06.128Z"
   },
   {
    "duration": 3,
    "start_time": "2022-04-13T20:57:06.140Z"
   },
   {
    "duration": 5,
    "start_time": "2022-04-13T20:57:06.146Z"
   },
   {
    "duration": 15,
    "start_time": "2022-04-13T20:57:06.153Z"
   },
   {
    "duration": 39,
    "start_time": "2022-04-13T20:57:06.170Z"
   },
   {
    "duration": 23,
    "start_time": "2022-04-13T20:57:06.210Z"
   },
   {
    "duration": 6,
    "start_time": "2022-04-13T20:57:06.234Z"
   },
   {
    "duration": 1547,
    "start_time": "2022-04-13T20:57:06.242Z"
   },
   {
    "duration": 19,
    "start_time": "2022-04-13T20:57:07.790Z"
   },
   {
    "duration": 5,
    "start_time": "2022-04-13T20:57:07.810Z"
   },
   {
    "duration": 59,
    "start_time": "2022-04-13T20:57:07.816Z"
   },
   {
    "duration": 4,
    "start_time": "2022-04-13T20:57:07.877Z"
   },
   {
    "duration": 30,
    "start_time": "2022-04-13T20:57:07.883Z"
   },
   {
    "duration": 15,
    "start_time": "2022-04-13T20:57:07.915Z"
   },
   {
    "duration": 5,
    "start_time": "2022-04-13T20:57:07.932Z"
   },
   {
    "duration": 5,
    "start_time": "2022-04-13T20:57:07.940Z"
   },
   {
    "duration": 772,
    "start_time": "2022-04-13T20:57:07.947Z"
   },
   {
    "duration": 13,
    "start_time": "2022-04-13T20:57:08.721Z"
   },
   {
    "duration": 4,
    "start_time": "2022-04-13T20:57:08.735Z"
   },
   {
    "duration": 7,
    "start_time": "2022-04-13T20:57:08.741Z"
   },
   {
    "duration": 131,
    "start_time": "2022-04-13T20:57:08.754Z"
   },
   {
    "duration": 6,
    "start_time": "2022-04-13T20:57:08.887Z"
   },
   {
    "duration": 6,
    "start_time": "2022-04-13T20:57:08.907Z"
   },
   {
    "duration": 4,
    "start_time": "2022-04-13T20:57:08.914Z"
   },
   {
    "duration": 8,
    "start_time": "2022-04-13T20:57:08.920Z"
   },
   {
    "duration": 22924,
    "start_time": "2022-04-13T20:57:08.930Z"
   },
   {
    "duration": 2357,
    "start_time": "2022-04-13T20:57:31.856Z"
   },
   {
    "duration": 97,
    "start_time": "2022-04-13T20:57:34.216Z"
   },
   {
    "duration": 19,
    "start_time": "2022-04-13T20:57:34.314Z"
   },
   {
    "duration": 11,
    "start_time": "2022-04-13T20:57:34.335Z"
   },
   {
    "duration": 5,
    "start_time": "2022-04-13T20:57:34.348Z"
   },
   {
    "duration": 9,
    "start_time": "2022-04-13T20:57:34.354Z"
   },
   {
    "duration": 3,
    "start_time": "2022-04-13T20:57:34.364Z"
   },
   {
    "duration": 40,
    "start_time": "2022-04-13T20:57:34.369Z"
   },
   {
    "duration": 11,
    "start_time": "2022-04-13T20:57:34.410Z"
   },
   {
    "duration": 10,
    "start_time": "2022-04-13T20:57:34.422Z"
   },
   {
    "duration": 17,
    "start_time": "2022-04-13T20:57:34.433Z"
   },
   {
    "duration": 9,
    "start_time": "2022-04-13T20:57:34.452Z"
   },
   {
    "duration": 1454,
    "start_time": "2022-04-13T20:57:34.463Z"
   },
   {
    "duration": 10,
    "start_time": "2022-04-13T20:57:35.919Z"
   },
   {
    "duration": 17086,
    "start_time": "2022-04-13T20:57:35.930Z"
   },
   {
    "duration": 6397,
    "start_time": "2022-04-13T20:57:53.017Z"
   },
   {
    "duration": 1772,
    "start_time": "2022-04-13T20:57:59.417Z"
   },
   {
    "duration": 19019,
    "start_time": "2022-04-13T20:58:01.191Z"
   },
   {
    "duration": 4,
    "start_time": "2022-04-13T20:58:20.212Z"
   },
   {
    "duration": 14,
    "start_time": "2022-04-13T20:58:20.218Z"
   },
   {
    "duration": 12,
    "start_time": "2022-04-13T20:58:20.233Z"
   },
   {
    "duration": 1916,
    "start_time": "2022-04-13T20:58:20.247Z"
   },
   {
    "duration": 24401,
    "start_time": "2022-04-13T20:58:22.165Z"
   },
   {
    "duration": 5,
    "start_time": "2022-04-13T20:58:46.567Z"
   },
   {
    "duration": 13,
    "start_time": "2022-04-13T20:58:46.574Z"
   },
   {
    "duration": 26,
    "start_time": "2022-04-13T20:58:46.588Z"
   },
   {
    "duration": 868,
    "start_time": "2022-04-13T20:58:46.616Z"
   },
   {
    "duration": 8948,
    "start_time": "2022-04-13T20:58:47.485Z"
   },
   {
    "duration": 6,
    "start_time": "2022-04-13T20:58:56.435Z"
   },
   {
    "duration": 11,
    "start_time": "2022-04-13T20:58:56.443Z"
   },
   {
    "duration": 10,
    "start_time": "2022-04-13T20:58:56.456Z"
   },
   {
    "duration": 40,
    "start_time": "2022-04-13T20:58:56.468Z"
   },
   {
    "duration": 35,
    "start_time": "2022-04-13T20:58:56.510Z"
   },
   {
    "duration": 307,
    "start_time": "2022-04-13T20:58:56.547Z"
   },
   {
    "duration": 1891,
    "start_time": "2022-04-14T19:41:37.431Z"
   },
   {
    "duration": 21,
    "start_time": "2022-04-14T19:41:39.325Z"
   },
   {
    "duration": 18,
    "start_time": "2022-04-14T19:41:39.351Z"
   },
   {
    "duration": 22,
    "start_time": "2022-04-14T19:41:39.371Z"
   },
   {
    "duration": 20,
    "start_time": "2022-04-14T19:41:39.396Z"
   },
   {
    "duration": 30,
    "start_time": "2022-04-14T19:41:39.418Z"
   },
   {
    "duration": 37,
    "start_time": "2022-04-14T19:41:39.449Z"
   },
   {
    "duration": 17,
    "start_time": "2022-04-14T19:41:39.488Z"
   },
   {
    "duration": 6,
    "start_time": "2022-04-14T19:41:39.508Z"
   },
   {
    "duration": 20,
    "start_time": "2022-04-14T19:41:39.516Z"
   },
   {
    "duration": 55,
    "start_time": "2022-04-14T19:41:39.538Z"
   },
   {
    "duration": 23,
    "start_time": "2022-04-14T19:41:39.594Z"
   },
   {
    "duration": 27,
    "start_time": "2022-04-14T19:41:39.619Z"
   },
   {
    "duration": 22,
    "start_time": "2022-04-14T19:41:39.647Z"
   },
   {
    "duration": 1523,
    "start_time": "2022-04-14T19:41:39.671Z"
   },
   {
    "duration": 6,
    "start_time": "2022-04-14T19:41:41.196Z"
   },
   {
    "duration": 24,
    "start_time": "2022-04-14T19:41:41.204Z"
   },
   {
    "duration": 72,
    "start_time": "2022-04-14T19:41:41.230Z"
   },
   {
    "duration": 4,
    "start_time": "2022-04-14T19:41:41.304Z"
   },
   {
    "duration": 27,
    "start_time": "2022-04-14T19:41:41.309Z"
   },
   {
    "duration": 47,
    "start_time": "2022-04-14T19:41:41.338Z"
   },
   {
    "duration": 16,
    "start_time": "2022-04-14T19:41:41.386Z"
   },
   {
    "duration": 44,
    "start_time": "2022-04-14T19:41:41.404Z"
   },
   {
    "duration": 704,
    "start_time": "2022-04-14T19:41:41.450Z"
   },
   {
    "duration": 12,
    "start_time": "2022-04-14T19:41:42.156Z"
   },
   {
    "duration": 30,
    "start_time": "2022-04-14T19:41:42.170Z"
   },
   {
    "duration": 9,
    "start_time": "2022-04-14T19:41:42.205Z"
   },
   {
    "duration": 131,
    "start_time": "2022-04-14T19:41:42.216Z"
   },
   {
    "duration": 8,
    "start_time": "2022-04-14T19:41:42.350Z"
   },
   {
    "duration": 21,
    "start_time": "2022-04-14T19:41:42.360Z"
   },
   {
    "duration": 8,
    "start_time": "2022-04-14T19:41:42.383Z"
   },
   {
    "duration": 9,
    "start_time": "2022-04-14T19:41:42.392Z"
   },
   {
    "duration": 21944,
    "start_time": "2022-04-14T19:41:42.403Z"
   },
   {
    "duration": 3324,
    "start_time": "2022-04-14T19:42:04.349Z"
   },
   {
    "duration": 91,
    "start_time": "2022-04-14T19:42:07.674Z"
   },
   {
    "duration": 16,
    "start_time": "2022-04-14T19:42:07.772Z"
   },
   {
    "duration": 18,
    "start_time": "2022-04-14T19:42:07.855Z"
   },
   {
    "duration": 5,
    "start_time": "2022-04-14T19:42:07.878Z"
   },
   {
    "duration": 11,
    "start_time": "2022-04-14T19:42:07.884Z"
   },
   {
    "duration": 4,
    "start_time": "2022-04-14T19:42:07.896Z"
   },
   {
    "duration": 8,
    "start_time": "2022-04-14T19:42:07.901Z"
   },
   {
    "duration": 7,
    "start_time": "2022-04-14T19:42:07.911Z"
   },
   {
    "duration": 5,
    "start_time": "2022-04-14T19:42:07.920Z"
   },
   {
    "duration": 15,
    "start_time": "2022-04-14T19:42:07.957Z"
   },
   {
    "duration": 10,
    "start_time": "2022-04-14T19:42:07.973Z"
   },
   {
    "duration": 1419,
    "start_time": "2022-04-14T19:42:07.985Z"
   },
   {
    "duration": 9,
    "start_time": "2022-04-14T19:42:09.406Z"
   },
   {
    "duration": 17196,
    "start_time": "2022-04-14T19:42:09.416Z"
   },
   {
    "duration": 7862,
    "start_time": "2022-04-14T19:42:26.614Z"
   },
   {
    "duration": 1674,
    "start_time": "2022-04-14T19:42:34.478Z"
   },
   {
    "duration": 19974,
    "start_time": "2022-04-14T19:42:36.153Z"
   },
   {
    "duration": 4,
    "start_time": "2022-04-14T19:42:56.128Z"
   },
   {
    "duration": 26,
    "start_time": "2022-04-14T19:42:56.134Z"
   },
   {
    "duration": 15,
    "start_time": "2022-04-14T19:42:56.166Z"
   },
   {
    "duration": 1845,
    "start_time": "2022-04-14T19:42:56.182Z"
   },
   {
    "duration": 25493,
    "start_time": "2022-04-14T19:42:58.029Z"
   },
   {
    "duration": 7,
    "start_time": "2022-04-14T19:43:23.524Z"
   },
   {
    "duration": 16,
    "start_time": "2022-04-14T19:43:23.532Z"
   },
   {
    "duration": 26,
    "start_time": "2022-04-14T19:43:23.549Z"
   },
   {
    "duration": 831,
    "start_time": "2022-04-14T19:43:23.577Z"
   },
   {
    "duration": 11069,
    "start_time": "2022-04-14T19:43:24.409Z"
   },
   {
    "duration": 7,
    "start_time": "2022-04-14T19:43:35.480Z"
   },
   {
    "duration": 16,
    "start_time": "2022-04-14T19:43:35.489Z"
   },
   {
    "duration": 13,
    "start_time": "2022-04-14T19:43:35.507Z"
   },
   {
    "duration": 39,
    "start_time": "2022-04-14T19:43:35.522Z"
   },
   {
    "duration": 34,
    "start_time": "2022-04-14T19:43:35.563Z"
   },
   {
    "duration": 316,
    "start_time": "2022-04-14T19:43:35.598Z"
   },
   {
    "duration": 16,
    "start_time": "2022-04-14T19:45:02.412Z"
   },
   {
    "duration": 3102,
    "start_time": "2022-04-15T17:30:33.109Z"
   },
   {
    "duration": 16,
    "start_time": "2022-04-15T17:30:36.213Z"
   },
   {
    "duration": 16,
    "start_time": "2022-04-15T17:30:36.230Z"
   },
   {
    "duration": 4,
    "start_time": "2022-04-15T17:30:36.248Z"
   },
   {
    "duration": 6,
    "start_time": "2022-04-15T17:30:36.253Z"
   },
   {
    "duration": 7,
    "start_time": "2022-04-15T17:30:36.261Z"
   },
   {
    "duration": 41,
    "start_time": "2022-04-15T17:30:36.270Z"
   },
   {
    "duration": 10,
    "start_time": "2022-04-15T17:30:36.312Z"
   },
   {
    "duration": 4,
    "start_time": "2022-04-15T17:30:36.323Z"
   },
   {
    "duration": 8,
    "start_time": "2022-04-15T17:30:36.329Z"
   },
   {
    "duration": 17,
    "start_time": "2022-04-15T17:30:36.338Z"
   },
   {
    "duration": 2,
    "start_time": "2022-04-15T17:30:36.357Z"
   },
   {
    "duration": 53,
    "start_time": "2022-04-15T17:30:36.360Z"
   },
   {
    "duration": 5,
    "start_time": "2022-04-15T17:30:36.415Z"
   },
   {
    "duration": 1267,
    "start_time": "2022-04-15T17:30:36.422Z"
   },
   {
    "duration": 11,
    "start_time": "2022-04-15T17:30:37.690Z"
   },
   {
    "duration": 5,
    "start_time": "2022-04-15T17:30:37.702Z"
   },
   {
    "duration": 49,
    "start_time": "2022-04-15T17:30:37.709Z"
   },
   {
    "duration": 3,
    "start_time": "2022-04-15T17:30:37.760Z"
   },
   {
    "duration": 38,
    "start_time": "2022-04-15T17:30:37.765Z"
   },
   {
    "duration": 3,
    "start_time": "2022-04-15T17:30:37.805Z"
   },
   {
    "duration": 6,
    "start_time": "2022-04-15T17:30:37.809Z"
   },
   {
    "duration": 6,
    "start_time": "2022-04-15T17:30:37.816Z"
   },
   {
    "duration": 614,
    "start_time": "2022-04-15T17:30:37.823Z"
   },
   {
    "duration": 10,
    "start_time": "2022-04-15T17:30:38.438Z"
   },
   {
    "duration": 5,
    "start_time": "2022-04-15T17:30:38.449Z"
   },
   {
    "duration": 7,
    "start_time": "2022-04-15T17:30:38.455Z"
   },
   {
    "duration": 101,
    "start_time": "2022-04-15T17:30:38.466Z"
   },
   {
    "duration": 4,
    "start_time": "2022-04-15T17:30:38.569Z"
   },
   {
    "duration": 7,
    "start_time": "2022-04-15T17:30:38.574Z"
   },
   {
    "duration": 4,
    "start_time": "2022-04-15T17:30:38.583Z"
   },
   {
    "duration": 4,
    "start_time": "2022-04-15T17:30:38.600Z"
   },
   {
    "duration": 20,
    "start_time": "2022-04-15T17:30:38.606Z"
   },
   {
    "duration": 19949,
    "start_time": "2022-04-15T17:30:38.627Z"
   },
   {
    "duration": 81815,
    "start_time": "2022-04-15T17:30:58.577Z"
   },
   {
    "duration": 239710,
    "start_time": "2022-04-15T17:32:20.400Z"
   },
   {
    "duration": 5,
    "start_time": "2022-04-15T17:36:20.204Z"
   },
   {
    "duration": 104,
    "start_time": "2022-04-15T17:36:20.211Z"
   },
   {
    "duration": 13,
    "start_time": "2022-04-15T17:36:20.317Z"
   },
   {
    "duration": 11,
    "start_time": "2022-04-15T17:36:20.332Z"
   },
   {
    "duration": 14,
    "start_time": "2022-04-15T17:36:20.344Z"
   },
   {
    "duration": 3,
    "start_time": "2022-04-15T17:36:20.360Z"
   },
   {
    "duration": 5,
    "start_time": "2022-04-15T17:36:20.365Z"
   },
   {
    "duration": 7,
    "start_time": "2022-04-15T17:36:20.371Z"
   },
   {
    "duration": 24,
    "start_time": "2022-04-15T17:36:20.400Z"
   },
   {
    "duration": 15,
    "start_time": "2022-04-15T17:36:20.425Z"
   },
   {
    "duration": 6,
    "start_time": "2022-04-15T17:36:20.441Z"
   },
   {
    "duration": 16,
    "start_time": "2022-04-15T17:36:20.448Z"
   },
   {
    "duration": 7,
    "start_time": "2022-04-15T17:36:20.465Z"
   },
   {
    "duration": 1167,
    "start_time": "2022-04-15T17:36:20.500Z"
   },
   {
    "duration": 8,
    "start_time": "2022-04-15T17:36:21.668Z"
   },
   {
    "duration": 18282,
    "start_time": "2022-04-15T17:36:21.677Z"
   },
   {
    "duration": 32847,
    "start_time": "2022-04-15T17:36:39.960Z"
   },
   {
    "duration": 1516,
    "start_time": "2022-04-15T17:37:12.809Z"
   },
   {
    "duration": 19645,
    "start_time": "2022-04-15T17:37:14.327Z"
   },
   {
    "duration": 32135,
    "start_time": "2022-04-15T17:37:33.973Z"
   },
   {
    "duration": 92,
    "start_time": "2022-04-15T17:38:06.110Z"
   },
   {
    "duration": 110,
    "start_time": "2022-04-15T17:38:06.205Z"
   },
   {
    "duration": 12,
    "start_time": "2022-04-15T17:38:06.316Z"
   },
   {
    "duration": 1535,
    "start_time": "2022-04-15T17:38:06.329Z"
   },
   {
    "duration": 25335,
    "start_time": "2022-04-15T17:38:07.866Z"
   },
   {
    "duration": 5,
    "start_time": "2022-04-15T17:38:33.203Z"
   },
   {
    "duration": 14,
    "start_time": "2022-04-15T17:38:33.209Z"
   },
   {
    "duration": 13,
    "start_time": "2022-04-15T17:38:33.225Z"
   },
   {
    "duration": 669,
    "start_time": "2022-04-15T17:38:33.239Z"
   },
   {
    "duration": 8652,
    "start_time": "2022-04-15T17:38:33.909Z"
   },
   {
    "duration": 2,
    "start_time": "2022-04-15T17:38:42.563Z"
   },
   {
    "duration": 5,
    "start_time": "2022-04-15T17:38:42.567Z"
   },
   {
    "duration": 7,
    "start_time": "2022-04-15T17:38:42.573Z"
   },
   {
    "duration": 22,
    "start_time": "2022-04-15T17:38:42.581Z"
   },
   {
    "duration": 18,
    "start_time": "2022-04-15T17:38:42.604Z"
   },
   {
    "duration": 271,
    "start_time": "2022-04-15T17:38:42.623Z"
   },
   {
    "duration": 166,
    "start_time": "2022-04-15T17:38:42.900Z"
   },
   {
    "duration": 1527,
    "start_time": "2022-04-15T17:39:24.430Z"
   },
   {
    "duration": 15,
    "start_time": "2022-04-15T17:39:25.959Z"
   },
   {
    "duration": 12,
    "start_time": "2022-04-15T17:39:25.975Z"
   },
   {
    "duration": 4,
    "start_time": "2022-04-15T17:39:25.988Z"
   },
   {
    "duration": 4,
    "start_time": "2022-04-15T17:39:25.994Z"
   },
   {
    "duration": 9,
    "start_time": "2022-04-15T17:39:26.000Z"
   },
   {
    "duration": 12,
    "start_time": "2022-04-15T17:39:26.011Z"
   },
   {
    "duration": 10,
    "start_time": "2022-04-15T17:39:26.024Z"
   },
   {
    "duration": 3,
    "start_time": "2022-04-15T17:39:26.035Z"
   },
   {
    "duration": 5,
    "start_time": "2022-04-15T17:39:26.041Z"
   },
   {
    "duration": 14,
    "start_time": "2022-04-15T17:39:26.048Z"
   },
   {
    "duration": 4,
    "start_time": "2022-04-15T17:39:26.063Z"
   },
   {
    "duration": 46,
    "start_time": "2022-04-15T17:39:26.068Z"
   },
   {
    "duration": 8,
    "start_time": "2022-04-15T17:39:26.115Z"
   },
   {
    "duration": 1292,
    "start_time": "2022-04-15T17:39:26.124Z"
   },
   {
    "duration": 8,
    "start_time": "2022-04-15T17:39:27.418Z"
   },
   {
    "duration": 35,
    "start_time": "2022-04-15T17:39:27.428Z"
   },
   {
    "duration": 50,
    "start_time": "2022-04-15T17:39:27.465Z"
   },
   {
    "duration": 4,
    "start_time": "2022-04-15T17:39:27.517Z"
   },
   {
    "duration": 12,
    "start_time": "2022-04-15T17:39:27.523Z"
   },
   {
    "duration": 3,
    "start_time": "2022-04-15T17:39:27.536Z"
   },
   {
    "duration": 6,
    "start_time": "2022-04-15T17:39:27.540Z"
   },
   {
    "duration": 10,
    "start_time": "2022-04-15T17:39:27.547Z"
   },
   {
    "duration": 699,
    "start_time": "2022-04-15T17:39:27.558Z"
   },
   {
    "duration": 11,
    "start_time": "2022-04-15T17:39:28.259Z"
   },
   {
    "duration": 3,
    "start_time": "2022-04-15T17:39:28.272Z"
   },
   {
    "duration": 26,
    "start_time": "2022-04-15T17:39:28.277Z"
   },
   {
    "duration": 106,
    "start_time": "2022-04-15T17:39:28.309Z"
   },
   {
    "duration": 6,
    "start_time": "2022-04-15T17:39:28.417Z"
   },
   {
    "duration": 5,
    "start_time": "2022-04-15T17:39:28.424Z"
   },
   {
    "duration": 3,
    "start_time": "2022-04-15T17:39:28.431Z"
   },
   {
    "duration": 7,
    "start_time": "2022-04-15T17:39:28.436Z"
   },
   {
    "duration": 22,
    "start_time": "2022-04-15T17:39:28.445Z"
   },
   {
    "duration": 20074,
    "start_time": "2022-04-15T17:39:28.469Z"
   },
   {
    "duration": 83162,
    "start_time": "2022-04-15T17:39:48.545Z"
   },
   {
    "duration": 22302,
    "start_time": "2022-04-15T17:41:11.708Z"
   },
   {
    "duration": 5,
    "start_time": "2022-04-15T17:41:34.100Z"
   },
   {
    "duration": 14,
    "start_time": "2022-04-15T17:41:34.107Z"
   },
   {
    "duration": 11,
    "start_time": "2022-04-15T17:41:34.123Z"
   },
   {
    "duration": 64,
    "start_time": "2022-04-15T17:41:34.136Z"
   },
   {
    "duration": 7,
    "start_time": "2022-04-15T17:41:34.202Z"
   },
   {
    "duration": 4,
    "start_time": "2022-04-15T17:41:34.210Z"
   },
   {
    "duration": 5,
    "start_time": "2022-04-15T17:41:34.216Z"
   },
   {
    "duration": 6,
    "start_time": "2022-04-15T17:41:34.222Z"
   },
   {
    "duration": 22,
    "start_time": "2022-04-15T17:41:34.230Z"
   },
   {
    "duration": 13,
    "start_time": "2022-04-15T17:41:34.254Z"
   },
   {
    "duration": 6,
    "start_time": "2022-04-15T17:41:34.300Z"
   },
   {
    "duration": 16,
    "start_time": "2022-04-15T17:41:34.308Z"
   },
   {
    "duration": 6,
    "start_time": "2022-04-15T17:41:34.325Z"
   },
   {
    "duration": 1174,
    "start_time": "2022-04-15T17:41:34.333Z"
   },
   {
    "duration": 9,
    "start_time": "2022-04-15T17:41:35.509Z"
   },
   {
    "duration": 17903,
    "start_time": "2022-04-15T17:41:35.519Z"
   },
   {
    "duration": 30584,
    "start_time": "2022-04-15T17:41:53.424Z"
   },
   {
    "duration": 1395,
    "start_time": "2022-04-15T17:42:24.010Z"
   },
   {
    "duration": 18973,
    "start_time": "2022-04-15T17:42:25.406Z"
   },
   {
    "duration": 25120,
    "start_time": "2022-04-15T17:42:44.381Z"
   },
   {
    "duration": 6,
    "start_time": "2022-04-15T17:43:09.503Z"
   },
   {
    "duration": 12,
    "start_time": "2022-04-15T17:43:09.601Z"
   },
   {
    "duration": 12,
    "start_time": "2022-04-15T17:43:09.614Z"
   },
   {
    "duration": 1513,
    "start_time": "2022-04-15T17:43:09.627Z"
   },
   {
    "duration": 26788,
    "start_time": "2022-04-15T17:43:11.141Z"
   },
   {
    "duration": 5,
    "start_time": "2022-04-15T17:43:37.931Z"
   },
   {
    "duration": 14,
    "start_time": "2022-04-15T17:43:37.938Z"
   },
   {
    "duration": 13,
    "start_time": "2022-04-15T17:43:37.954Z"
   },
   {
    "duration": 685,
    "start_time": "2022-04-15T17:43:37.969Z"
   },
   {
    "duration": 8461,
    "start_time": "2022-04-15T17:43:38.655Z"
   },
   {
    "duration": 3,
    "start_time": "2022-04-15T17:43:47.118Z"
   },
   {
    "duration": 7,
    "start_time": "2022-04-15T17:43:47.122Z"
   },
   {
    "duration": 5,
    "start_time": "2022-04-15T17:43:47.130Z"
   },
   {
    "duration": 5,
    "start_time": "2022-04-15T17:43:47.136Z"
   },
   {
    "duration": 21,
    "start_time": "2022-04-15T17:43:47.142Z"
   },
   {
    "duration": 278,
    "start_time": "2022-04-15T17:43:47.164Z"
   },
   {
    "duration": 164,
    "start_time": "2022-04-15T17:43:47.444Z"
   },
   {
    "duration": 2882,
    "start_time": "2022-04-15T17:45:36.341Z"
   },
   {
    "duration": 22,
    "start_time": "2022-04-15T17:45:39.226Z"
   },
   {
    "duration": 16,
    "start_time": "2022-04-15T17:45:39.249Z"
   },
   {
    "duration": 4,
    "start_time": "2022-04-15T17:45:39.267Z"
   },
   {
    "duration": 28,
    "start_time": "2022-04-15T17:45:39.273Z"
   },
   {
    "duration": 10,
    "start_time": "2022-04-15T17:45:39.303Z"
   },
   {
    "duration": 10,
    "start_time": "2022-04-15T17:45:39.315Z"
   },
   {
    "duration": 11,
    "start_time": "2022-04-15T17:45:39.326Z"
   },
   {
    "duration": 4,
    "start_time": "2022-04-15T17:45:39.338Z"
   },
   {
    "duration": 7,
    "start_time": "2022-04-15T17:45:39.344Z"
   },
   {
    "duration": 49,
    "start_time": "2022-04-15T17:45:39.352Z"
   },
   {
    "duration": 3,
    "start_time": "2022-04-15T17:45:39.402Z"
   },
   {
    "duration": 20,
    "start_time": "2022-04-15T17:45:39.407Z"
   },
   {
    "duration": 5,
    "start_time": "2022-04-15T17:45:39.429Z"
   },
   {
    "duration": 1340,
    "start_time": "2022-04-15T17:45:39.435Z"
   },
   {
    "duration": 7,
    "start_time": "2022-04-15T17:45:40.776Z"
   },
   {
    "duration": 32,
    "start_time": "2022-04-15T17:45:40.784Z"
   },
   {
    "duration": 69,
    "start_time": "2022-04-15T17:45:40.817Z"
   },
   {
    "duration": 4,
    "start_time": "2022-04-15T17:45:40.888Z"
   },
   {
    "duration": 12,
    "start_time": "2022-04-15T17:45:40.894Z"
   },
   {
    "duration": 2,
    "start_time": "2022-04-15T17:45:40.907Z"
   },
   {
    "duration": 6,
    "start_time": "2022-04-15T17:45:40.911Z"
   },
   {
    "duration": 6,
    "start_time": "2022-04-15T17:45:40.919Z"
   },
   {
    "duration": 634,
    "start_time": "2022-04-15T17:45:40.926Z"
   },
   {
    "duration": 9,
    "start_time": "2022-04-15T17:45:41.562Z"
   },
   {
    "duration": 7,
    "start_time": "2022-04-15T17:45:41.572Z"
   },
   {
    "duration": 21,
    "start_time": "2022-04-15T17:45:41.580Z"
   },
   {
    "duration": 78,
    "start_time": "2022-04-15T17:45:41.604Z"
   },
   {
    "duration": 4,
    "start_time": "2022-04-15T17:45:41.700Z"
   },
   {
    "duration": 5,
    "start_time": "2022-04-15T17:45:41.706Z"
   },
   {
    "duration": 4,
    "start_time": "2022-04-15T17:45:41.712Z"
   },
   {
    "duration": 6,
    "start_time": "2022-04-15T17:45:41.718Z"
   },
   {
    "duration": 18,
    "start_time": "2022-04-15T17:45:41.726Z"
   },
   {
    "duration": 19656,
    "start_time": "2022-04-15T17:45:41.745Z"
   },
   {
    "duration": 82757,
    "start_time": "2022-04-15T17:46:01.403Z"
   },
   {
    "duration": 13341,
    "start_time": "2022-04-15T17:47:24.162Z"
   },
   {
    "duration": 95,
    "start_time": "2022-04-15T17:47:37.506Z"
   },
   {
    "duration": 12,
    "start_time": "2022-04-15T17:47:37.603Z"
   },
   {
    "duration": 10,
    "start_time": "2022-04-15T17:47:37.617Z"
   },
   {
    "duration": 3,
    "start_time": "2022-04-15T17:47:37.629Z"
   },
   {
    "duration": 7,
    "start_time": "2022-04-15T17:47:37.634Z"
   },
   {
    "duration": 4,
    "start_time": "2022-04-15T17:47:37.642Z"
   },
   {
    "duration": 5,
    "start_time": "2022-04-15T17:47:37.647Z"
   },
   {
    "duration": 47,
    "start_time": "2022-04-15T17:47:37.654Z"
   },
   {
    "duration": 24,
    "start_time": "2022-04-15T17:47:37.702Z"
   },
   {
    "duration": 14,
    "start_time": "2022-04-15T17:47:37.727Z"
   },
   {
    "duration": 5,
    "start_time": "2022-04-15T17:47:37.742Z"
   },
   {
    "duration": 15,
    "start_time": "2022-04-15T17:47:37.749Z"
   },
   {
    "duration": 6,
    "start_time": "2022-04-15T17:47:37.766Z"
   },
   {
    "duration": 1162,
    "start_time": "2022-04-15T17:47:37.774Z"
   },
   {
    "duration": 9,
    "start_time": "2022-04-15T17:47:38.937Z"
   },
   {
    "duration": 18484,
    "start_time": "2022-04-15T17:47:38.947Z"
   },
   {
    "duration": 34073,
    "start_time": "2022-04-15T17:47:57.432Z"
   },
   {
    "duration": 1456,
    "start_time": "2022-04-15T17:48:31.507Z"
   },
   {
    "duration": 19423,
    "start_time": "2022-04-15T17:48:32.964Z"
   },
   {
    "duration": 1713,
    "start_time": "2022-04-15T17:48:52.388Z"
   },
   {
    "duration": 98,
    "start_time": "2022-04-15T17:48:54.103Z"
   },
   {
    "duration": 11,
    "start_time": "2022-04-15T17:48:54.202Z"
   },
   {
    "duration": 12,
    "start_time": "2022-04-15T17:48:54.214Z"
   },
   {
    "duration": 1498,
    "start_time": "2022-04-15T17:48:54.227Z"
   },
   {
    "duration": 26445,
    "start_time": "2022-04-15T17:48:55.727Z"
   },
   {
    "duration": 4,
    "start_time": "2022-04-15T17:49:22.174Z"
   },
   {
    "duration": 20,
    "start_time": "2022-04-15T17:49:22.180Z"
   },
   {
    "duration": 12,
    "start_time": "2022-04-15T17:49:22.201Z"
   },
   {
    "duration": 668,
    "start_time": "2022-04-15T17:49:22.214Z"
   },
   {
    "duration": 8621,
    "start_time": "2022-04-15T17:49:22.884Z"
   },
   {
    "duration": 2,
    "start_time": "2022-04-15T17:49:31.507Z"
   },
   {
    "duration": 8,
    "start_time": "2022-04-15T17:49:31.511Z"
   },
   {
    "duration": 5,
    "start_time": "2022-04-15T17:49:31.521Z"
   },
   {
    "duration": 10,
    "start_time": "2022-04-15T17:49:31.527Z"
   },
   {
    "duration": 22,
    "start_time": "2022-04-15T17:49:31.538Z"
   },
   {
    "duration": 271,
    "start_time": "2022-04-15T17:49:31.562Z"
   },
   {
    "duration": 174,
    "start_time": "2022-04-15T17:49:31.835Z"
   },
   {
    "duration": 1507,
    "start_time": "2022-04-15T17:50:49.045Z"
   },
   {
    "duration": 15,
    "start_time": "2022-04-15T17:50:50.554Z"
   },
   {
    "duration": 13,
    "start_time": "2022-04-15T17:50:50.571Z"
   },
   {
    "duration": 4,
    "start_time": "2022-04-15T17:50:50.585Z"
   },
   {
    "duration": 11,
    "start_time": "2022-04-15T17:50:50.590Z"
   },
   {
    "duration": 7,
    "start_time": "2022-04-15T17:50:50.602Z"
   },
   {
    "duration": 9,
    "start_time": "2022-04-15T17:50:50.611Z"
   },
   {
    "duration": 10,
    "start_time": "2022-04-15T17:50:50.621Z"
   },
   {
    "duration": 3,
    "start_time": "2022-04-15T17:50:50.632Z"
   },
   {
    "duration": 9,
    "start_time": "2022-04-15T17:50:50.637Z"
   },
   {
    "duration": 14,
    "start_time": "2022-04-15T17:50:50.648Z"
   },
   {
    "duration": 38,
    "start_time": "2022-04-15T17:50:50.663Z"
   },
   {
    "duration": 21,
    "start_time": "2022-04-15T17:50:50.702Z"
   },
   {
    "duration": 5,
    "start_time": "2022-04-15T17:50:50.725Z"
   },
   {
    "duration": 1321,
    "start_time": "2022-04-15T17:50:50.732Z"
   },
   {
    "duration": 6,
    "start_time": "2022-04-15T17:50:52.054Z"
   },
   {
    "duration": 29,
    "start_time": "2022-04-15T17:50:52.061Z"
   },
   {
    "duration": 50,
    "start_time": "2022-04-15T17:50:52.091Z"
   },
   {
    "duration": 4,
    "start_time": "2022-04-15T17:50:52.143Z"
   },
   {
    "duration": 9,
    "start_time": "2022-04-15T17:50:52.149Z"
   },
   {
    "duration": 2,
    "start_time": "2022-04-15T17:50:52.160Z"
   },
   {
    "duration": 5,
    "start_time": "2022-04-15T17:50:52.164Z"
   },
   {
    "duration": 29,
    "start_time": "2022-04-15T17:50:52.171Z"
   },
   {
    "duration": 636,
    "start_time": "2022-04-15T17:50:52.202Z"
   },
   {
    "duration": 11,
    "start_time": "2022-04-15T17:50:52.840Z"
   },
   {
    "duration": 3,
    "start_time": "2022-04-15T17:50:52.852Z"
   },
   {
    "duration": 8,
    "start_time": "2022-04-15T17:50:52.857Z"
   },
   {
    "duration": 115,
    "start_time": "2022-04-15T17:50:52.869Z"
   },
   {
    "duration": 4,
    "start_time": "2022-04-15T17:50:52.986Z"
   },
   {
    "duration": 11,
    "start_time": "2022-04-15T17:50:52.992Z"
   },
   {
    "duration": 7,
    "start_time": "2022-04-15T17:50:53.005Z"
   },
   {
    "duration": 7,
    "start_time": "2022-04-15T17:50:53.014Z"
   },
   {
    "duration": 34,
    "start_time": "2022-04-15T17:50:53.022Z"
   },
   {
    "duration": 19799,
    "start_time": "2022-04-15T17:50:53.058Z"
   },
   {
    "duration": 83901,
    "start_time": "2022-04-15T17:51:12.859Z"
   },
   {
    "duration": 6140,
    "start_time": "2022-04-15T17:52:36.762Z"
   },
   {
    "duration": 5,
    "start_time": "2022-04-15T17:52:42.905Z"
   },
   {
    "duration": 21,
    "start_time": "2022-04-15T17:52:43.001Z"
   },
   {
    "duration": 15,
    "start_time": "2022-04-15T17:52:43.023Z"
   },
   {
    "duration": 4,
    "start_time": "2022-04-15T17:52:43.040Z"
   },
   {
    "duration": 11,
    "start_time": "2022-04-15T17:52:43.046Z"
   },
   {
    "duration": 5,
    "start_time": "2022-04-15T17:52:43.059Z"
   },
   {
    "duration": 35,
    "start_time": "2022-04-15T17:52:43.066Z"
   },
   {
    "duration": 9,
    "start_time": "2022-04-15T17:52:43.104Z"
   },
   {
    "duration": 42,
    "start_time": "2022-04-15T17:52:43.114Z"
   },
   {
    "duration": 20,
    "start_time": "2022-04-15T17:52:43.158Z"
   },
   {
    "duration": 24,
    "start_time": "2022-04-15T17:52:43.179Z"
   },
   {
    "duration": 22,
    "start_time": "2022-04-15T17:52:43.205Z"
   },
   {
    "duration": 6,
    "start_time": "2022-04-15T17:52:43.229Z"
   },
   {
    "duration": 1266,
    "start_time": "2022-04-15T17:52:43.237Z"
   },
   {
    "duration": 8,
    "start_time": "2022-04-15T17:52:44.505Z"
   },
   {
    "duration": 18439,
    "start_time": "2022-04-15T17:52:44.514Z"
   },
   {
    "duration": 33158,
    "start_time": "2022-04-15T17:53:02.955Z"
   },
   {
    "duration": 1320,
    "start_time": "2022-04-15T17:53:36.205Z"
   },
   {
    "duration": 19401,
    "start_time": "2022-04-15T17:53:37.526Z"
   },
   {
    "duration": 872,
    "start_time": "2022-04-15T17:53:56.929Z"
   },
   {
    "duration": 6,
    "start_time": "2022-04-15T17:53:57.803Z"
   },
   {
    "duration": 11,
    "start_time": "2022-04-15T17:53:57.901Z"
   },
   {
    "duration": 13,
    "start_time": "2022-04-15T17:53:57.913Z"
   },
   {
    "duration": 1526,
    "start_time": "2022-04-15T17:53:57.927Z"
   },
   {
    "duration": 25875,
    "start_time": "2022-04-15T17:53:59.455Z"
   },
   {
    "duration": 5,
    "start_time": "2022-04-15T17:54:25.333Z"
   },
   {
    "duration": 13,
    "start_time": "2022-04-15T17:54:25.339Z"
   },
   {
    "duration": 13,
    "start_time": "2022-04-15T17:54:25.353Z"
   },
   {
    "duration": 677,
    "start_time": "2022-04-15T17:54:25.367Z"
   },
   {
    "duration": 8948,
    "start_time": "2022-04-15T17:54:26.045Z"
   },
   {
    "duration": 3,
    "start_time": "2022-04-15T17:54:34.994Z"
   },
   {
    "duration": 15,
    "start_time": "2022-04-15T17:54:35.000Z"
   },
   {
    "duration": 8,
    "start_time": "2022-04-15T17:54:35.016Z"
   },
   {
    "duration": 8,
    "start_time": "2022-04-15T17:54:35.025Z"
   },
   {
    "duration": 18,
    "start_time": "2022-04-15T17:54:35.034Z"
   },
   {
    "duration": 381,
    "start_time": "2022-04-15T17:54:35.054Z"
   },
   {
    "duration": 167,
    "start_time": "2022-04-15T17:54:35.436Z"
   },
   {
    "duration": 1634,
    "start_time": "2022-04-15T17:56:53.085Z"
   },
   {
    "duration": 15,
    "start_time": "2022-04-15T17:56:54.721Z"
   },
   {
    "duration": 13,
    "start_time": "2022-04-15T17:56:54.737Z"
   },
   {
    "duration": 4,
    "start_time": "2022-04-15T17:56:54.752Z"
   },
   {
    "duration": 9,
    "start_time": "2022-04-15T17:56:54.758Z"
   },
   {
    "duration": 10,
    "start_time": "2022-04-15T17:56:54.768Z"
   },
   {
    "duration": 23,
    "start_time": "2022-04-15T17:56:54.780Z"
   },
   {
    "duration": 10,
    "start_time": "2022-04-15T17:56:54.804Z"
   },
   {
    "duration": 5,
    "start_time": "2022-04-15T17:56:54.815Z"
   },
   {
    "duration": 6,
    "start_time": "2022-04-15T17:56:54.823Z"
   },
   {
    "duration": 15,
    "start_time": "2022-04-15T17:56:54.831Z"
   },
   {
    "duration": 2,
    "start_time": "2022-04-15T17:56:54.848Z"
   },
   {
    "duration": 59,
    "start_time": "2022-04-15T17:56:54.851Z"
   },
   {
    "duration": 6,
    "start_time": "2022-04-15T17:56:54.911Z"
   },
   {
    "duration": 1305,
    "start_time": "2022-04-15T17:56:54.918Z"
   },
   {
    "duration": 6,
    "start_time": "2022-04-15T17:56:56.224Z"
   },
   {
    "duration": 22,
    "start_time": "2022-04-15T17:56:56.231Z"
   },
   {
    "duration": 56,
    "start_time": "2022-04-15T17:56:56.254Z"
   },
   {
    "duration": 3,
    "start_time": "2022-04-15T17:56:56.312Z"
   },
   {
    "duration": 9,
    "start_time": "2022-04-15T17:56:56.317Z"
   },
   {
    "duration": 2,
    "start_time": "2022-04-15T17:56:56.328Z"
   },
   {
    "duration": 5,
    "start_time": "2022-04-15T17:56:56.331Z"
   },
   {
    "duration": 7,
    "start_time": "2022-04-15T17:56:56.337Z"
   },
   {
    "duration": 680,
    "start_time": "2022-04-15T17:56:56.345Z"
   },
   {
    "duration": 9,
    "start_time": "2022-04-15T17:56:57.026Z"
   },
   {
    "duration": 8,
    "start_time": "2022-04-15T17:56:57.036Z"
   },
   {
    "duration": 14,
    "start_time": "2022-04-15T17:56:57.045Z"
   },
   {
    "duration": 95,
    "start_time": "2022-04-15T17:56:57.063Z"
   },
   {
    "duration": 5,
    "start_time": "2022-04-15T17:56:57.159Z"
   },
   {
    "duration": 7,
    "start_time": "2022-04-15T17:56:57.165Z"
   },
   {
    "duration": 5,
    "start_time": "2022-04-15T17:56:57.173Z"
   },
   {
    "duration": 21,
    "start_time": "2022-04-15T17:56:57.179Z"
   },
   {
    "duration": 21,
    "start_time": "2022-04-15T17:56:57.201Z"
   },
   {
    "duration": 19563,
    "start_time": "2022-04-15T17:56:57.223Z"
   },
   {
    "duration": 83477,
    "start_time": "2022-04-15T17:57:16.787Z"
   },
   {
    "duration": 6034,
    "start_time": "2022-04-15T17:58:40.266Z"
   },
   {
    "duration": 5,
    "start_time": "2022-04-15T17:58:46.303Z"
   },
   {
    "duration": 94,
    "start_time": "2022-04-15T17:58:46.311Z"
   },
   {
    "duration": 11,
    "start_time": "2022-04-15T17:58:46.407Z"
   },
   {
    "duration": 4,
    "start_time": "2022-04-15T17:58:46.420Z"
   },
   {
    "duration": 9,
    "start_time": "2022-04-15T17:58:46.426Z"
   },
   {
    "duration": 7,
    "start_time": "2022-04-15T17:58:46.437Z"
   },
   {
    "duration": 6,
    "start_time": "2022-04-15T17:58:46.446Z"
   },
   {
    "duration": 5,
    "start_time": "2022-04-15T17:58:46.501Z"
   },
   {
    "duration": 27,
    "start_time": "2022-04-15T17:58:46.507Z"
   },
   {
    "duration": 16,
    "start_time": "2022-04-15T17:58:46.536Z"
   },
   {
    "duration": 7,
    "start_time": "2022-04-15T17:58:46.554Z"
   },
   {
    "duration": 14,
    "start_time": "2022-04-15T17:58:46.600Z"
   },
   {
    "duration": 9,
    "start_time": "2022-04-15T17:58:46.616Z"
   },
   {
    "duration": 1210,
    "start_time": "2022-04-15T17:58:46.627Z"
   },
   {
    "duration": 9,
    "start_time": "2022-04-15T17:58:47.839Z"
   },
   {
    "duration": 19583,
    "start_time": "2022-04-15T17:58:47.850Z"
   },
   {
    "duration": 33571,
    "start_time": "2022-04-15T17:59:07.434Z"
   },
   {
    "duration": 1383,
    "start_time": "2022-04-15T17:59:41.007Z"
   },
   {
    "duration": 19489,
    "start_time": "2022-04-15T17:59:42.392Z"
   },
   {
    "duration": 818,
    "start_time": "2022-04-15T18:00:01.883Z"
   },
   {
    "duration": 98,
    "start_time": "2022-04-15T18:00:02.703Z"
   },
   {
    "duration": 43,
    "start_time": "2022-04-15T18:00:02.802Z"
   },
   {
    "duration": 19,
    "start_time": "2022-04-15T18:00:02.847Z"
   },
   {
    "duration": 1739,
    "start_time": "2022-04-15T18:00:02.868Z"
   },
   {
    "duration": 25841,
    "start_time": "2022-04-15T18:00:04.608Z"
   },
   {
    "duration": 5,
    "start_time": "2022-04-15T18:00:30.450Z"
   },
   {
    "duration": 19,
    "start_time": "2022-04-15T18:00:30.456Z"
   },
   {
    "duration": 11,
    "start_time": "2022-04-15T18:00:30.477Z"
   },
   {
    "duration": 783,
    "start_time": "2022-04-15T18:00:30.501Z"
   },
   {
    "duration": 8766,
    "start_time": "2022-04-15T18:00:31.285Z"
   },
   {
    "duration": 2,
    "start_time": "2022-04-15T18:00:40.053Z"
   },
   {
    "duration": 8,
    "start_time": "2022-04-15T18:00:40.057Z"
   },
   {
    "duration": 8,
    "start_time": "2022-04-15T18:00:40.067Z"
   },
   {
    "duration": 4,
    "start_time": "2022-04-15T18:00:40.076Z"
   },
   {
    "duration": 32,
    "start_time": "2022-04-15T18:00:40.081Z"
   },
   {
    "duration": 372,
    "start_time": "2022-04-15T18:00:40.114Z"
   },
   {
    "duration": 170,
    "start_time": "2022-04-15T18:00:40.488Z"
   },
   {
    "duration": 1595,
    "start_time": "2022-04-15T21:26:02.572Z"
   },
   {
    "duration": 14,
    "start_time": "2022-04-15T21:26:04.169Z"
   },
   {
    "duration": 31,
    "start_time": "2022-04-15T21:26:04.185Z"
   },
   {
    "duration": 25,
    "start_time": "2022-04-15T21:26:04.218Z"
   },
   {
    "duration": 44,
    "start_time": "2022-04-15T21:26:04.244Z"
   },
   {
    "duration": 25,
    "start_time": "2022-04-15T21:26:04.290Z"
   },
   {
    "duration": 39,
    "start_time": "2022-04-15T21:26:04.317Z"
   },
   {
    "duration": 21,
    "start_time": "2022-04-15T21:26:04.358Z"
   },
   {
    "duration": 38,
    "start_time": "2022-04-15T21:26:04.381Z"
   },
   {
    "duration": 23,
    "start_time": "2022-04-15T21:26:04.422Z"
   },
   {
    "duration": 55,
    "start_time": "2022-04-15T21:26:04.447Z"
   },
   {
    "duration": 27,
    "start_time": "2022-04-15T21:26:04.503Z"
   },
   {
    "duration": 35,
    "start_time": "2022-04-15T21:26:04.532Z"
   },
   {
    "duration": 18,
    "start_time": "2022-04-15T21:26:04.569Z"
   },
   {
    "duration": 1302,
    "start_time": "2022-04-15T21:26:04.589Z"
   },
   {
    "duration": 7,
    "start_time": "2022-04-15T21:26:05.892Z"
   },
   {
    "duration": 24,
    "start_time": "2022-04-15T21:26:05.900Z"
   },
   {
    "duration": 72,
    "start_time": "2022-04-15T21:26:05.926Z"
   },
   {
    "duration": 4,
    "start_time": "2022-04-15T21:26:06.000Z"
   },
   {
    "duration": 43,
    "start_time": "2022-04-15T21:26:06.006Z"
   },
   {
    "duration": 37,
    "start_time": "2022-04-15T21:26:06.051Z"
   },
   {
    "duration": 38,
    "start_time": "2022-04-15T21:26:06.089Z"
   },
   {
    "duration": 50,
    "start_time": "2022-04-15T21:26:06.129Z"
   },
   {
    "duration": 629,
    "start_time": "2022-04-15T21:26:06.181Z"
   },
   {
    "duration": 13,
    "start_time": "2022-04-15T21:26:06.812Z"
   },
   {
    "duration": 3,
    "start_time": "2022-04-15T21:26:06.826Z"
   },
   {
    "duration": 7,
    "start_time": "2022-04-15T21:26:06.830Z"
   },
   {
    "duration": 88,
    "start_time": "2022-04-15T21:26:06.841Z"
   },
   {
    "duration": 4,
    "start_time": "2022-04-15T21:26:06.931Z"
   },
   {
    "duration": 10,
    "start_time": "2022-04-15T21:26:06.936Z"
   },
   {
    "duration": 16,
    "start_time": "2022-04-15T21:26:06.948Z"
   },
   {
    "duration": 14,
    "start_time": "2022-04-15T21:26:06.965Z"
   },
   {
    "duration": 24,
    "start_time": "2022-04-15T21:26:06.981Z"
   },
   {
    "duration": 18778,
    "start_time": "2022-04-15T21:26:07.006Z"
   },
   {
    "duration": 81897,
    "start_time": "2022-04-15T21:26:25.786Z"
   },
   {
    "duration": 4946,
    "start_time": "2022-04-15T21:27:47.684Z"
   },
   {
    "duration": 93,
    "start_time": "2022-04-15T21:27:52.631Z"
   },
   {
    "duration": 99,
    "start_time": "2022-04-15T21:27:52.726Z"
   },
   {
    "duration": 11,
    "start_time": "2022-04-15T21:27:52.828Z"
   },
   {
    "duration": 3,
    "start_time": "2022-04-15T21:27:52.840Z"
   },
   {
    "duration": 8,
    "start_time": "2022-04-15T21:27:52.845Z"
   },
   {
    "duration": 3,
    "start_time": "2022-04-15T21:27:52.854Z"
   },
   {
    "duration": 4,
    "start_time": "2022-04-15T21:27:52.858Z"
   },
   {
    "duration": 5,
    "start_time": "2022-04-15T21:27:52.864Z"
   },
   {
    "duration": 21,
    "start_time": "2022-04-15T21:27:52.870Z"
   },
   {
    "duration": 14,
    "start_time": "2022-04-15T21:27:52.923Z"
   },
   {
    "duration": 6,
    "start_time": "2022-04-15T21:27:52.938Z"
   },
   {
    "duration": 14,
    "start_time": "2022-04-15T21:27:52.945Z"
   },
   {
    "duration": 7,
    "start_time": "2022-04-15T21:27:52.960Z"
   },
   {
    "duration": 1115,
    "start_time": "2022-04-15T21:27:52.969Z"
   },
   {
    "duration": 8,
    "start_time": "2022-04-15T21:27:54.086Z"
   },
   {
    "duration": 17282,
    "start_time": "2022-04-15T21:27:54.096Z"
   },
   {
    "duration": 26150,
    "start_time": "2022-04-15T21:28:11.379Z"
   },
   {
    "duration": 1321,
    "start_time": "2022-04-15T21:28:37.533Z"
   },
   {
    "duration": 18869,
    "start_time": "2022-04-15T21:28:38.855Z"
   },
   {
    "duration": 606,
    "start_time": "2022-04-15T21:28:57.726Z"
   },
   {
    "duration": 5,
    "start_time": "2022-04-15T21:28:58.427Z"
   },
   {
    "duration": 15,
    "start_time": "2022-04-15T21:28:58.523Z"
   },
   {
    "duration": 10,
    "start_time": "2022-04-15T21:28:58.540Z"
   },
   {
    "duration": 1415,
    "start_time": "2022-04-15T21:28:58.552Z"
   },
   {
    "duration": 24092,
    "start_time": "2022-04-15T21:28:59.968Z"
   },
   {
    "duration": 4,
    "start_time": "2022-04-15T21:29:24.062Z"
   },
   {
    "duration": 11,
    "start_time": "2022-04-15T21:29:24.067Z"
   },
   {
    "duration": 11,
    "start_time": "2022-04-15T21:29:24.080Z"
   },
   {
    "duration": 636,
    "start_time": "2022-04-15T21:29:24.093Z"
   },
   {
    "duration": 8207,
    "start_time": "2022-04-15T21:29:24.730Z"
   },
   {
    "duration": 3,
    "start_time": "2022-04-15T21:29:32.939Z"
   },
   {
    "duration": 6,
    "start_time": "2022-04-15T21:29:32.944Z"
   },
   {
    "duration": 5,
    "start_time": "2022-04-15T21:29:32.952Z"
   },
   {
    "duration": 4,
    "start_time": "2022-04-15T21:29:32.959Z"
   },
   {
    "duration": 16,
    "start_time": "2022-04-15T21:29:32.964Z"
   },
   {
    "duration": 259,
    "start_time": "2022-04-15T21:29:32.981Z"
   },
   {
    "duration": 164,
    "start_time": "2022-04-15T21:29:33.242Z"
   },
   {
    "duration": 1795,
    "start_time": "2022-04-16T07:51:30.479Z"
   },
   {
    "duration": 17,
    "start_time": "2022-04-16T07:51:32.277Z"
   },
   {
    "duration": 12,
    "start_time": "2022-04-16T07:51:32.296Z"
   },
   {
    "duration": 4,
    "start_time": "2022-04-16T07:51:32.310Z"
   },
   {
    "duration": 6,
    "start_time": "2022-04-16T07:51:32.316Z"
   },
   {
    "duration": 9,
    "start_time": "2022-04-16T07:51:32.323Z"
   },
   {
    "duration": 11,
    "start_time": "2022-04-16T07:51:32.334Z"
   },
   {
    "duration": 10,
    "start_time": "2022-04-16T07:51:32.346Z"
   },
   {
    "duration": 4,
    "start_time": "2022-04-16T07:51:32.357Z"
   },
   {
    "duration": 8,
    "start_time": "2022-04-16T07:51:32.363Z"
   },
   {
    "duration": 11,
    "start_time": "2022-04-16T07:51:32.401Z"
   },
   {
    "duration": 5,
    "start_time": "2022-04-16T07:51:32.414Z"
   },
   {
    "duration": 20,
    "start_time": "2022-04-16T07:51:32.421Z"
   },
   {
    "duration": 5,
    "start_time": "2022-04-16T07:51:32.443Z"
   },
   {
    "duration": 1352,
    "start_time": "2022-04-16T07:51:32.450Z"
   },
   {
    "duration": 5,
    "start_time": "2022-04-16T07:51:33.804Z"
   },
   {
    "duration": 6,
    "start_time": "2022-04-16T07:51:33.810Z"
   },
   {
    "duration": 52,
    "start_time": "2022-04-16T07:51:33.818Z"
   },
   {
    "duration": 4,
    "start_time": "2022-04-16T07:51:33.871Z"
   },
   {
    "duration": 29,
    "start_time": "2022-04-16T07:51:33.876Z"
   },
   {
    "duration": 2,
    "start_time": "2022-04-16T07:51:33.906Z"
   },
   {
    "duration": 8,
    "start_time": "2022-04-16T07:51:33.910Z"
   },
   {
    "duration": 6,
    "start_time": "2022-04-16T07:51:33.919Z"
   },
   {
    "duration": 647,
    "start_time": "2022-04-16T07:51:33.927Z"
   },
   {
    "duration": 9,
    "start_time": "2022-04-16T07:51:34.576Z"
   },
   {
    "duration": 13,
    "start_time": "2022-04-16T07:51:34.587Z"
   },
   {
    "duration": 10,
    "start_time": "2022-04-16T07:51:34.601Z"
   },
   {
    "duration": 92,
    "start_time": "2022-04-16T07:51:34.615Z"
   },
   {
    "duration": 4,
    "start_time": "2022-04-16T07:51:34.709Z"
   },
   {
    "duration": 15,
    "start_time": "2022-04-16T07:51:34.714Z"
   },
   {
    "duration": 13,
    "start_time": "2022-04-16T07:51:34.731Z"
   },
   {
    "duration": 7,
    "start_time": "2022-04-16T07:51:34.746Z"
   },
   {
    "duration": 21,
    "start_time": "2022-04-16T07:51:34.754Z"
   },
   {
    "duration": 20246,
    "start_time": "2022-04-16T07:51:34.777Z"
   },
   {
    "duration": 84531,
    "start_time": "2022-04-16T07:51:55.025Z"
   },
   {
    "duration": 6543,
    "start_time": "2022-04-16T07:53:19.558Z"
   },
   {
    "duration": 5,
    "start_time": "2022-04-16T07:53:26.103Z"
   },
   {
    "duration": 103,
    "start_time": "2022-04-16T07:53:26.110Z"
   },
   {
    "duration": 12,
    "start_time": "2022-04-16T07:53:26.214Z"
   },
   {
    "duration": 4,
    "start_time": "2022-04-16T07:53:26.228Z"
   },
   {
    "duration": 9,
    "start_time": "2022-04-16T07:53:26.233Z"
   },
   {
    "duration": 4,
    "start_time": "2022-04-16T07:53:26.244Z"
   },
   {
    "duration": 5,
    "start_time": "2022-04-16T07:53:26.249Z"
   },
   {
    "duration": 5,
    "start_time": "2022-04-16T07:53:26.256Z"
   },
   {
    "duration": 52,
    "start_time": "2022-04-16T07:53:26.262Z"
   },
   {
    "duration": 16,
    "start_time": "2022-04-16T07:53:26.316Z"
   },
   {
    "duration": 6,
    "start_time": "2022-04-16T07:53:26.334Z"
   },
   {
    "duration": 15,
    "start_time": "2022-04-16T07:53:26.341Z"
   },
   {
    "duration": 7,
    "start_time": "2022-04-16T07:53:26.358Z"
   },
   {
    "duration": 1304,
    "start_time": "2022-04-16T07:53:26.367Z"
   },
   {
    "duration": 8,
    "start_time": "2022-04-16T07:53:27.673Z"
   },
   {
    "duration": 18460,
    "start_time": "2022-04-16T07:53:27.684Z"
   },
   {
    "duration": 20568,
    "start_time": "2022-04-16T07:53:46.146Z"
   },
   {
    "duration": 1364,
    "start_time": "2022-04-16T07:54:06.802Z"
   },
   {
    "duration": 19802,
    "start_time": "2022-04-16T07:54:08.167Z"
   },
   {
    "duration": 832,
    "start_time": "2022-04-16T07:54:27.970Z"
   },
   {
    "duration": 96,
    "start_time": "2022-04-16T07:54:28.805Z"
   },
   {
    "duration": 15,
    "start_time": "2022-04-16T07:54:28.902Z"
   },
   {
    "duration": 12,
    "start_time": "2022-04-16T07:54:28.918Z"
   },
   {
    "duration": 1504,
    "start_time": "2022-04-16T07:54:28.932Z"
   },
   {
    "duration": 26308,
    "start_time": "2022-04-16T07:54:30.438Z"
   },
   {
    "duration": 4,
    "start_time": "2022-04-16T07:54:56.748Z"
   },
   {
    "duration": 12,
    "start_time": "2022-04-16T07:54:56.754Z"
   },
   {
    "duration": 12,
    "start_time": "2022-04-16T07:54:56.767Z"
   },
   {
    "duration": 689,
    "start_time": "2022-04-16T07:54:56.780Z"
   },
   {
    "duration": 8833,
    "start_time": "2022-04-16T07:54:57.471Z"
   },
   {
    "duration": 3,
    "start_time": "2022-04-16T07:55:06.305Z"
   },
   {
    "duration": 6,
    "start_time": "2022-04-16T07:55:06.309Z"
   },
   {
    "duration": 8,
    "start_time": "2022-04-16T07:55:06.316Z"
   },
   {
    "duration": 7,
    "start_time": "2022-04-16T07:55:06.325Z"
   },
   {
    "duration": 19,
    "start_time": "2022-04-16T07:55:06.333Z"
   },
   {
    "duration": 286,
    "start_time": "2022-04-16T07:55:06.353Z"
   },
   {
    "duration": 166,
    "start_time": "2022-04-16T07:55:06.640Z"
   },
   {
    "duration": 1845,
    "start_time": "2022-04-16T19:36:11.026Z"
   },
   {
    "duration": 16,
    "start_time": "2022-04-16T19:36:12.873Z"
   },
   {
    "duration": 14,
    "start_time": "2022-04-16T19:36:12.890Z"
   },
   {
    "duration": 4,
    "start_time": "2022-04-16T19:36:12.906Z"
   },
   {
    "duration": 6,
    "start_time": "2022-04-16T19:36:12.912Z"
   },
   {
    "duration": 9,
    "start_time": "2022-04-16T19:36:12.919Z"
   },
   {
    "duration": 12,
    "start_time": "2022-04-16T19:36:12.955Z"
   },
   {
    "duration": 10,
    "start_time": "2022-04-16T19:36:12.969Z"
   },
   {
    "duration": 4,
    "start_time": "2022-04-16T19:36:12.980Z"
   },
   {
    "duration": 7,
    "start_time": "2022-04-16T19:36:12.986Z"
   },
   {
    "duration": 29,
    "start_time": "2022-04-16T19:36:12.994Z"
   },
   {
    "duration": 2,
    "start_time": "2022-04-16T19:36:13.025Z"
   },
   {
    "duration": 36,
    "start_time": "2022-04-16T19:36:13.029Z"
   },
   {
    "duration": 5,
    "start_time": "2022-04-16T19:36:13.067Z"
   },
   {
    "duration": 1369,
    "start_time": "2022-04-16T19:36:13.074Z"
   },
   {
    "duration": 12,
    "start_time": "2022-04-16T19:36:14.445Z"
   },
   {
    "duration": 5,
    "start_time": "2022-04-16T19:36:14.459Z"
   },
   {
    "duration": 52,
    "start_time": "2022-04-16T19:36:14.465Z"
   },
   {
    "duration": 4,
    "start_time": "2022-04-16T19:36:14.519Z"
   },
   {
    "duration": 31,
    "start_time": "2022-04-16T19:36:14.524Z"
   },
   {
    "duration": 2,
    "start_time": "2022-04-16T19:36:14.557Z"
   },
   {
    "duration": 7,
    "start_time": "2022-04-16T19:36:14.560Z"
   },
   {
    "duration": 11,
    "start_time": "2022-04-16T19:36:14.569Z"
   },
   {
    "duration": 666,
    "start_time": "2022-04-16T19:36:14.582Z"
   },
   {
    "duration": 12,
    "start_time": "2022-04-16T19:36:15.250Z"
   },
   {
    "duration": 5,
    "start_time": "2022-04-16T19:36:15.264Z"
   },
   {
    "duration": 10,
    "start_time": "2022-04-16T19:36:15.270Z"
   },
   {
    "duration": 111,
    "start_time": "2022-04-16T19:36:15.284Z"
   },
   {
    "duration": 7,
    "start_time": "2022-04-16T19:36:15.397Z"
   },
   {
    "duration": 12,
    "start_time": "2022-04-16T19:36:15.406Z"
   },
   {
    "duration": 6,
    "start_time": "2022-04-16T19:36:15.420Z"
   },
   {
    "duration": 7,
    "start_time": "2022-04-16T19:36:15.428Z"
   },
   {
    "duration": 37,
    "start_time": "2022-04-16T19:36:15.437Z"
   },
   {
    "duration": 21615,
    "start_time": "2022-04-16T19:36:15.476Z"
   },
   {
    "duration": 105401,
    "start_time": "2022-04-16T19:36:37.092Z"
   },
   {
    "duration": 4272,
    "start_time": "2022-04-16T19:38:22.495Z"
   },
   {
    "duration": 5,
    "start_time": "2022-04-16T19:38:26.854Z"
   },
   {
    "duration": 105,
    "start_time": "2022-04-16T19:38:26.862Z"
   },
   {
    "duration": 16,
    "start_time": "2022-04-16T19:38:26.969Z"
   },
   {
    "duration": 4,
    "start_time": "2022-04-16T19:38:26.987Z"
   },
   {
    "duration": 22,
    "start_time": "2022-04-16T19:38:26.993Z"
   },
   {
    "duration": 5,
    "start_time": "2022-04-16T19:38:27.017Z"
   },
   {
    "duration": 9,
    "start_time": "2022-04-16T19:38:27.024Z"
   },
   {
    "duration": 22,
    "start_time": "2022-04-16T19:38:27.034Z"
   },
   {
    "duration": 38,
    "start_time": "2022-04-16T19:38:27.058Z"
   },
   {
    "duration": 26,
    "start_time": "2022-04-16T19:38:27.098Z"
   },
   {
    "duration": 7,
    "start_time": "2022-04-16T19:38:27.126Z"
   },
   {
    "duration": 14,
    "start_time": "2022-04-16T19:38:27.155Z"
   },
   {
    "duration": 8,
    "start_time": "2022-04-16T19:38:27.171Z"
   },
   {
    "duration": 1252,
    "start_time": "2022-04-16T19:38:27.181Z"
   },
   {
    "duration": 19,
    "start_time": "2022-04-16T19:38:28.436Z"
   },
   {
    "duration": 21435,
    "start_time": "2022-04-16T19:38:28.457Z"
   },
   {
    "duration": 29864,
    "start_time": "2022-04-16T19:38:49.893Z"
   },
   {
    "duration": 2026,
    "start_time": "2022-04-16T19:39:19.760Z"
   },
   {
    "duration": 21157,
    "start_time": "2022-04-16T19:39:21.788Z"
   },
   {
    "duration": 614,
    "start_time": "2022-04-16T19:39:42.946Z"
   },
   {
    "duration": 92,
    "start_time": "2022-04-16T19:39:43.563Z"
   },
   {
    "duration": 11,
    "start_time": "2022-04-16T19:39:43.657Z"
   },
   {
    "duration": 96,
    "start_time": "2022-04-16T19:39:43.670Z"
   },
   {
    "duration": 1609,
    "start_time": "2022-04-16T19:39:43.768Z"
   },
   {
    "duration": 29552,
    "start_time": "2022-04-16T19:39:45.380Z"
   },
   {
    "duration": 7,
    "start_time": "2022-04-16T19:40:14.935Z"
   },
   {
    "duration": 14,
    "start_time": "2022-04-16T19:40:14.955Z"
   },
   {
    "duration": 19,
    "start_time": "2022-04-16T19:40:14.971Z"
   },
   {
    "duration": 743,
    "start_time": "2022-04-16T19:40:14.992Z"
   },
   {
    "duration": 10040,
    "start_time": "2022-04-16T19:40:15.736Z"
   },
   {
    "duration": 3,
    "start_time": "2022-04-16T19:40:25.777Z"
   },
   {
    "duration": 9,
    "start_time": "2022-04-16T19:40:25.782Z"
   },
   {
    "duration": 12,
    "start_time": "2022-04-16T19:40:25.793Z"
   },
   {
    "duration": 4,
    "start_time": "2022-04-16T19:40:25.807Z"
   },
   {
    "duration": 23,
    "start_time": "2022-04-16T19:40:25.812Z"
   },
   {
    "duration": 306,
    "start_time": "2022-04-16T19:40:25.837Z"
   },
   {
    "duration": 185,
    "start_time": "2022-04-16T19:40:26.145Z"
   }
  ],
  "kernelspec": {
   "display_name": "Python 3 (ipykernel)",
   "language": "python",
   "name": "python3"
  },
  "language_info": {
   "codemirror_mode": {
    "name": "ipython",
    "version": 3
   },
   "file_extension": ".py",
   "mimetype": "text/x-python",
   "name": "python",
   "nbconvert_exporter": "python",
   "pygments_lexer": "ipython3",
   "version": "3.8.13"
  },
  "toc": {
   "base_numbering": 1,
   "nav_menu": {},
   "number_sections": true,
   "sideBar": true,
   "skip_h1_title": true,
   "title_cell": "Table of Contents",
   "title_sidebar": "Contents",
   "toc_cell": false,
   "toc_position": {
    "height": "calc(100% - 180px)",
    "left": "10px",
    "top": "150px",
    "width": "337.391px"
   },
   "toc_section_display": true,
   "toc_window_display": true
  }
 },
 "nbformat": 4,
 "nbformat_minor": 5
}
