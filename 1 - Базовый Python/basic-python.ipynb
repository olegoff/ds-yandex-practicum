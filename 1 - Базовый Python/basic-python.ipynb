{
 "cells": [
  {
   "cell_type": "markdown",
   "metadata": {
    "id": "E0vqbgi9ay0H"
   },
   "source": [
    "# Яндекс.Музыка"
   ]
  },
  {
   "cell_type": "markdown",
   "metadata": {
    "id": "VUC88oWjTJw2"
   },
   "source": [
    "Сравнение поведения пользователей двух столиц на основе данных Яндекс.Музыки.\n",
    "\n",
    "**Цель исследования** — проверьте три гипотезы:\n",
    "1. Активность пользователей зависит от дня недели. Причём в Москве и Петербурге это проявляется по-разному.\n",
    "2. В понедельник утром в Москве преобладают одни жанры, а в Петербурге — другие. Так же и вечером пятницы преобладают разные жанры — в зависимости от города. \n",
    "3. Москва и Петербург предпочитают разные жанры музыки. В Москве чаще слушают поп-музыку, в Петербурге — русский рэп.\n",
    "\n",
    "**Ход исследования**\n",
    "\n",
    "Данные о поведении пользователей находятся в файле `yandex_music_project.csv`. О качестве данных ничего не известно. Поэтому перед проверкой гипотез понадобится обзор данных. \n",
    "\n",
    "Необходимо проверить данные на ошибки и оценить их влияние на исследование. На этапе предобработки исправим самые критичные ошибки данных.\n",
    " \n",
    "Таким образом, исследование пройдёт в три этапа:\n",
    " 1. Обзор данных.\n",
    " 2. Предобработка данных.\n",
    " 3. Проверка гипотез.\n",
    "\n"
   ]
  },
  {
   "cell_type": "markdown",
   "metadata": {
    "id": "Ml1hmfXC_Zcs"
   },
   "source": [
    "## Обзор данных"
   ]
  },
  {
   "cell_type": "markdown",
   "metadata": {
    "id": "57eAOGIz_Zcs"
   },
   "source": [
    "Импортируйте библиотеку `pandas` — основной инструмент аналитика. "
   ]
  },
  {
   "cell_type": "code",
   "execution_count": 1,
   "metadata": {},
   "outputs": [],
   "source": [
    "from warnings import simplefilter\n",
    "simplefilter(action='ignore', category=UserWarning)"
   ]
  },
  {
   "cell_type": "code",
   "execution_count": 2,
   "metadata": {
    "id": "AXN7PHPN_Zcs"
   },
   "outputs": [],
   "source": [
    "# импорт библиотеки pandas\n",
    "import pandas as pd"
   ]
  },
  {
   "cell_type": "markdown",
   "metadata": {
    "id": "SG23P8tt_Zcs"
   },
   "source": [
    "Прочитаем файл `yandex_music_project.csv` из папки `/datasets` и сохраним его в переменной `df`:"
   ]
  },
  {
   "cell_type": "code",
   "execution_count": 3,
   "metadata": {
    "id": "fFVu7vqh_Zct"
   },
   "outputs": [],
   "source": [
    "# чтение файла на два случая (из директории Яндекса и локально), сохранение данных в df \n",
    "df = pd.read_csv('/datasets/yandex_music_project.csv')"
   ]
  },
  {
   "cell_type": "markdown",
   "metadata": {
    "id": "rDoOMd3uTqnZ"
   },
   "source": [
    "Выведем на экран первые десять строк таблицы:"
   ]
  },
  {
   "cell_type": "code",
   "execution_count": 4,
   "metadata": {
    "id": "oWTVX3gW_Zct"
   },
   "outputs": [
    {
     "data": {
      "text/html": [
       "<div>\n",
       "<style scoped>\n",
       "    .dataframe tbody tr th:only-of-type {\n",
       "        vertical-align: middle;\n",
       "    }\n",
       "\n",
       "    .dataframe tbody tr th {\n",
       "        vertical-align: top;\n",
       "    }\n",
       "\n",
       "    .dataframe thead th {\n",
       "        text-align: right;\n",
       "    }\n",
       "</style>\n",
       "<table border=\"1\" class=\"dataframe\">\n",
       "  <thead>\n",
       "    <tr style=\"text-align: right;\">\n",
       "      <th></th>\n",
       "      <th>userID</th>\n",
       "      <th>Track</th>\n",
       "      <th>artist</th>\n",
       "      <th>genre</th>\n",
       "      <th>City</th>\n",
       "      <th>time</th>\n",
       "      <th>Day</th>\n",
       "    </tr>\n",
       "  </thead>\n",
       "  <tbody>\n",
       "    <tr>\n",
       "      <th>0</th>\n",
       "      <td>FFB692EC</td>\n",
       "      <td>Kamigata To Boots</td>\n",
       "      <td>The Mass Missile</td>\n",
       "      <td>rock</td>\n",
       "      <td>Saint-Petersburg</td>\n",
       "      <td>20:28:33</td>\n",
       "      <td>Wednesday</td>\n",
       "    </tr>\n",
       "    <tr>\n",
       "      <th>1</th>\n",
       "      <td>55204538</td>\n",
       "      <td>Delayed Because of Accident</td>\n",
       "      <td>Andreas Rönnberg</td>\n",
       "      <td>rock</td>\n",
       "      <td>Moscow</td>\n",
       "      <td>14:07:09</td>\n",
       "      <td>Friday</td>\n",
       "    </tr>\n",
       "    <tr>\n",
       "      <th>2</th>\n",
       "      <td>20EC38</td>\n",
       "      <td>Funiculì funiculà</td>\n",
       "      <td>Mario Lanza</td>\n",
       "      <td>pop</td>\n",
       "      <td>Saint-Petersburg</td>\n",
       "      <td>20:58:07</td>\n",
       "      <td>Wednesday</td>\n",
       "    </tr>\n",
       "    <tr>\n",
       "      <th>3</th>\n",
       "      <td>A3DD03C9</td>\n",
       "      <td>Dragons in the Sunset</td>\n",
       "      <td>Fire + Ice</td>\n",
       "      <td>folk</td>\n",
       "      <td>Saint-Petersburg</td>\n",
       "      <td>08:37:09</td>\n",
       "      <td>Monday</td>\n",
       "    </tr>\n",
       "    <tr>\n",
       "      <th>4</th>\n",
       "      <td>E2DC1FAE</td>\n",
       "      <td>Soul People</td>\n",
       "      <td>Space Echo</td>\n",
       "      <td>dance</td>\n",
       "      <td>Moscow</td>\n",
       "      <td>08:34:34</td>\n",
       "      <td>Monday</td>\n",
       "    </tr>\n",
       "    <tr>\n",
       "      <th>5</th>\n",
       "      <td>842029A1</td>\n",
       "      <td>Преданная</td>\n",
       "      <td>IMPERVTOR</td>\n",
       "      <td>rusrap</td>\n",
       "      <td>Saint-Petersburg</td>\n",
       "      <td>13:09:41</td>\n",
       "      <td>Friday</td>\n",
       "    </tr>\n",
       "    <tr>\n",
       "      <th>6</th>\n",
       "      <td>4CB90AA5</td>\n",
       "      <td>True</td>\n",
       "      <td>Roman Messer</td>\n",
       "      <td>dance</td>\n",
       "      <td>Moscow</td>\n",
       "      <td>13:00:07</td>\n",
       "      <td>Wednesday</td>\n",
       "    </tr>\n",
       "    <tr>\n",
       "      <th>7</th>\n",
       "      <td>F03E1C1F</td>\n",
       "      <td>Feeling This Way</td>\n",
       "      <td>Polina Griffith</td>\n",
       "      <td>dance</td>\n",
       "      <td>Moscow</td>\n",
       "      <td>20:47:49</td>\n",
       "      <td>Wednesday</td>\n",
       "    </tr>\n",
       "    <tr>\n",
       "      <th>8</th>\n",
       "      <td>8FA1D3BE</td>\n",
       "      <td>И вновь продолжается бой</td>\n",
       "      <td>NaN</td>\n",
       "      <td>ruspop</td>\n",
       "      <td>Moscow</td>\n",
       "      <td>09:17:40</td>\n",
       "      <td>Friday</td>\n",
       "    </tr>\n",
       "    <tr>\n",
       "      <th>9</th>\n",
       "      <td>E772D5C0</td>\n",
       "      <td>Pessimist</td>\n",
       "      <td>NaN</td>\n",
       "      <td>dance</td>\n",
       "      <td>Saint-Petersburg</td>\n",
       "      <td>21:20:49</td>\n",
       "      <td>Wednesday</td>\n",
       "    </tr>\n",
       "  </tbody>\n",
       "</table>\n",
       "</div>"
      ],
      "text/plain": [
       "     userID                        Track            artist   genre  \\\n",
       "0  FFB692EC            Kamigata To Boots  The Mass Missile    rock   \n",
       "1  55204538  Delayed Because of Accident  Andreas Rönnberg    rock   \n",
       "2    20EC38            Funiculì funiculà       Mario Lanza     pop   \n",
       "3  A3DD03C9        Dragons in the Sunset        Fire + Ice    folk   \n",
       "4  E2DC1FAE                  Soul People        Space Echo   dance   \n",
       "5  842029A1                    Преданная         IMPERVTOR  rusrap   \n",
       "6  4CB90AA5                         True      Roman Messer   dance   \n",
       "7  F03E1C1F             Feeling This Way   Polina Griffith   dance   \n",
       "8  8FA1D3BE     И вновь продолжается бой               NaN  ruspop   \n",
       "9  E772D5C0                    Pessimist               NaN   dance   \n",
       "\n",
       "             City        time        Day  \n",
       "0  Saint-Petersburg  20:28:33  Wednesday  \n",
       "1            Moscow  14:07:09     Friday  \n",
       "2  Saint-Petersburg  20:58:07  Wednesday  \n",
       "3  Saint-Petersburg  08:37:09     Monday  \n",
       "4            Moscow  08:34:34     Monday  \n",
       "5  Saint-Petersburg  13:09:41     Friday  \n",
       "6            Moscow  13:00:07  Wednesday  \n",
       "7            Moscow  20:47:49  Wednesday  \n",
       "8            Moscow  09:17:40     Friday  \n",
       "9  Saint-Petersburg  21:20:49  Wednesday  "
      ]
     },
     "execution_count": 4,
     "metadata": {},
     "output_type": "execute_result"
    }
   ],
   "source": [
    "# получение первых 10 строк таблицы df\n",
    "df.head(10)"
   ]
  },
  {
   "cell_type": "markdown",
   "metadata": {
    "id": "EO73Kwic_Zct"
   },
   "source": [
    "Получим общую информацию о таблице:"
   ]
  },
  {
   "cell_type": "code",
   "execution_count": 5,
   "metadata": {
    "id": "DSf2kIb-_Zct"
   },
   "outputs": [
    {
     "name": "stdout",
     "output_type": "stream",
     "text": [
      "<class 'pandas.core.frame.DataFrame'>\n",
      "RangeIndex: 65079 entries, 0 to 65078\n",
      "Data columns (total 7 columns):\n",
      " #   Column    Non-Null Count  Dtype \n",
      "---  ------    --------------  ----- \n",
      " 0     userID  65079 non-null  object\n",
      " 1   Track     63848 non-null  object\n",
      " 2   artist    57876 non-null  object\n",
      " 3   genre     63881 non-null  object\n",
      " 4     City    65079 non-null  object\n",
      " 5   time      65079 non-null  object\n",
      " 6   Day       65079 non-null  object\n",
      "dtypes: object(7)\n",
      "memory usage: 3.5+ MB\n"
     ]
    }
   ],
   "source": [
    "# получение общей информации о данных в таблице df\n",
    "df.info()"
   ]
  },
  {
   "cell_type": "markdown",
   "metadata": {
    "id": "TaQ2Iwbr_Zct"
   },
   "source": [
    "Итак, в таблице семь столбцов. Тип данных во всех столбцах — `object`.\n",
    "\n",
    "Согласно документации к данным:\n",
    "* `userID` — идентификатор пользователя;\n",
    "* `Track` — название трека;  \n",
    "* `artist` — имя исполнителя;\n",
    "* `genre` — название жанра;\n",
    "* `City` — город пользователя;\n",
    "* `time` — время начала прослушивания;\n",
    "* `Day` — день недели.\n",
    "\n",
    "В названиях колонок видны три нарушения стиля:\n",
    "1. Строчные буквы сочетаются с прописными.\n",
    "2. Встречаются пробелы.\n",
    "3. Слитное написание составных имен.\n",
    "\n",
    "\n",
    "\n",
    "Количество значений в столбцах различается. Значит, в данных есть пропущенные значения.\n"
   ]
  },
  {
   "cell_type": "markdown",
   "metadata": {
    "id": "MCB6-dXG_Zct"
   },
   "source": [
    "**Выводы**\n",
    "\n",
    "В каждой строке таблицы — данные о прослушанном треке. Часть колонок описывает саму композицию: название, исполнителя и жанр. Остальные данные рассказывают о пользователе: из какого он города, когда он слушал музыку. \n",
    "\n",
    "Предварительно можно утверждать, что, данных достаточно для проверки гипотез. Но встречаются пропуски в данных, а в названиях колонок — расхождения с хорошим стилем.\n",
    "\n",
    "Чтобы двигаться дальше, нужно устранить проблемы в данных."
   ]
  },
  {
   "cell_type": "markdown",
   "metadata": {
    "id": "SjYF6Ub9_Zct"
   },
   "source": [
    "## Предобработка данных\n",
    "Исправим стиль в заголовках столбцов, исключим пропуски. Затем проверим данные на дубликаты."
   ]
  },
  {
   "cell_type": "markdown",
   "metadata": {
    "id": "dIaKXr29_Zct"
   },
   "source": [
    "### Стиль заголовков\n",
    "Выведем на экран названия столбцов:"
   ]
  },
  {
   "cell_type": "code",
   "execution_count": 6,
   "metadata": {
    "id": "oKOTdF_Q_Zct"
   },
   "outputs": [
    {
     "data": {
      "text/plain": [
       "Index(['  userID', 'Track', 'artist', 'genre', '  City  ', 'time', 'Day'], dtype='object')"
      ]
     },
     "execution_count": 6,
     "metadata": {},
     "output_type": "execute_result"
    }
   ],
   "source": [
    "# перечень названий столбцов таблицы df\n",
    "df.columns"
   ]
  },
  {
   "cell_type": "markdown",
   "metadata": {
    "id": "zj5534cv_Zct"
   },
   "source": [
    "Приведём названия в соответствие с хорошим стилем:\n",
    "* несколько слов в названии запишите в «змеином_регистре»,\n",
    "* все символы сделайте строчными,\n",
    "* устраните пробелы.\n",
    "\n",
    "Для этого переименуем колонки так:\n",
    "* `'  userID'` → `'user_id'`;\n",
    "* `'Track'` → `'track'`;\n",
    "* `'  City  '` → `'city'`;\n",
    "* `'Day'` → `'day'`."
   ]
  },
  {
   "cell_type": "code",
   "execution_count": 7,
   "metadata": {
    "id": "ISlFqs5y_Zct"
   },
   "outputs": [],
   "source": [
    "# переименование столбцов\n",
    "df = df.rename(columns={\n",
    "    '  userID': 'user_id',\n",
    "    'Track': 'track',\n",
    "    '  City  ': 'city',\n",
    "    'Day': 'day'\n",
    "})"
   ]
  },
  {
   "cell_type": "markdown",
   "metadata": {
    "id": "1dqbh00J_Zct"
   },
   "source": [
    "Проверим результат. Для этого ещё раз выведем на экран названия столбцов:"
   ]
  },
  {
   "cell_type": "code",
   "execution_count": 8,
   "metadata": {
    "id": "d4NOAmTW_Zct"
   },
   "outputs": [
    {
     "data": {
      "text/plain": [
       "Index(['user_id', 'track', 'artist', 'genre', 'city', 'time', 'day'], dtype='object')"
      ]
     },
     "execution_count": 8,
     "metadata": {},
     "output_type": "execute_result"
    }
   ],
   "source": [
    "# проверка результатов - перечень названий столбцов\n",
    "df.columns"
   ]
  },
  {
   "cell_type": "markdown",
   "metadata": {
    "id": "5ISfbcfY_Zct"
   },
   "source": [
    "### Пропуски значений\n",
    "Сначала посчитаем, сколько в таблице пропущенных значений. Для этого достаточно двух методов `pandas`:"
   ]
  },
  {
   "cell_type": "code",
   "execution_count": 9,
   "metadata": {
    "id": "RskX29qr_Zct"
   },
   "outputs": [
    {
     "data": {
      "text/plain": [
       "user_id       0\n",
       "track      1231\n",
       "artist     7203\n",
       "genre      1198\n",
       "city          0\n",
       "time          0\n",
       "day           0\n",
       "dtype: int64"
      ]
     },
     "execution_count": 9,
     "metadata": {},
     "output_type": "execute_result"
    }
   ],
   "source": [
    "# подсчёт пропусков\n",
    "df.isna().sum()"
   ]
  },
  {
   "cell_type": "markdown",
   "metadata": {
    "id": "qubhgnlO_Zct"
   },
   "source": [
    "Не все пропущенные значения влияют на исследование. Так в `track` и `artist` пропуски не важны для вашей работы. Достаточно заменить их явными обозначениями.\n",
    "\n",
    "Но пропуски в `genre` могут помешать сравнению музыкальных вкусов в Москве и Санкт-Петербурге. На практике было бы правильно установить причину пропусков и восстановить данные. Такой возможности нет в учебном проекте. Придётся:\n",
    "* заполнить и эти пропуски явными обозначениями,\n",
    "* оценить, насколько они повредят расчётам. "
   ]
  },
  {
   "cell_type": "markdown",
   "metadata": {
    "id": "fSv2laPA_Zct"
   },
   "source": [
    "Заменим пропущенные значения в столбцах `track`, `artist` и `genre` на строку `'unknown'`. Для этого создадим список `columns_to_replace`, переберём его элементы циклом `for` и для каждого столбца выполним замену пропущенных значений:"
   ]
  },
  {
   "cell_type": "code",
   "execution_count": 10,
   "metadata": {
    "id": "KplB5qWs_Zct"
   },
   "outputs": [],
   "source": [
    "# перебор названий столбцов в цикле и замена пропущенных значений на 'unknown'\n",
    "columns_to_replace = ['track', 'artist', 'genre']\n",
    "\n",
    "for column in columns_to_replace:\n",
    "    df[column] = df[column].fillna('unknown')"
   ]
  },
  {
   "cell_type": "markdown",
   "metadata": {
    "id": "Ilsm-MZo_Zct"
   },
   "source": [
    "Убедимся, что в таблице не осталось пропусков. Для этого ещё раз посчитаем пропущенные значения."
   ]
  },
  {
   "cell_type": "code",
   "execution_count": 11,
   "metadata": {
    "id": "Tq4nYRX4_Zct"
   },
   "outputs": [
    {
     "data": {
      "text/plain": [
       "user_id    0\n",
       "track      0\n",
       "artist     0\n",
       "genre      0\n",
       "city       0\n",
       "time       0\n",
       "day        0\n",
       "dtype: int64"
      ]
     },
     "execution_count": 11,
     "metadata": {},
     "output_type": "execute_result"
    }
   ],
   "source": [
    "# подсчёт пропусков\n",
    "df.isna().sum()"
   ]
  },
  {
   "cell_type": "markdown",
   "metadata": {
    "id": "BWKRtBJ3_Zct"
   },
   "source": [
    "### Дубликаты\n",
    "Посчитаем явные дубликаты в таблице одной командой:"
   ]
  },
  {
   "cell_type": "code",
   "execution_count": 12,
   "metadata": {
    "id": "36eES_S0_Zct"
   },
   "outputs": [
    {
     "data": {
      "text/plain": [
       "3826"
      ]
     },
     "execution_count": 12,
     "metadata": {},
     "output_type": "execute_result"
    }
   ],
   "source": [
    "# подсчёт явных дубликатов\n",
    "df.duplicated().sum()"
   ]
  },
  {
   "cell_type": "markdown",
   "metadata": {
    "id": "Ot25h6XR_Zct"
   },
   "source": [
    "Вызовем специальный метод `pandas`, чтобы удалить явные дубликаты:"
   ]
  },
  {
   "cell_type": "code",
   "execution_count": 13,
   "metadata": {
    "id": "exFHq6tt_Zct"
   },
   "outputs": [],
   "source": [
    "# удаление явных дубликатов (с удалением старых индексов и формированием новых)\n",
    "df = df.drop_duplicates().reset_index(drop=True)"
   ]
  },
  {
   "cell_type": "markdown",
   "metadata": {
    "id": "Im2YwBEG_Zct"
   },
   "source": [
    "Ещё раз посчитаем явные дубликаты в таблице и убедимся, что полностью от них избавились:"
   ]
  },
  {
   "cell_type": "code",
   "execution_count": 14,
   "metadata": {
    "id": "-8PuNWQ0_Zct"
   },
   "outputs": [
    {
     "data": {
      "text/plain": [
       "0"
      ]
     },
     "execution_count": 14,
     "metadata": {},
     "output_type": "execute_result"
    }
   ],
   "source": [
    "# проверка на отсутствие дубликатов\n",
    "df.duplicated().sum()"
   ]
  },
  {
   "cell_type": "markdown",
   "metadata": {
    "id": "QlFBsxAr_Zct"
   },
   "source": [
    "Теперь избавимся от неявных дубликатов в колонке `genre`. Например, название одного и того же жанра может быть записано немного по-разному. Такие ошибки тоже повлияют на результат исследования."
   ]
  },
  {
   "cell_type": "markdown",
   "metadata": {
    "id": "eSjWwsOh_Zct"
   },
   "source": [
    "Выведем на экран список уникальных названий жанров, отсортированный в алфавитном порядке. Для этого:\n",
    "* извлечём нужный столбец датафрейма, \n",
    "* применим к нему метод сортировки,\n",
    "* для отсортированного столбца вызовем метод, который вернёт уникальные значения из столбца."
   ]
  },
  {
   "cell_type": "code",
   "execution_count": 15,
   "metadata": {
    "id": "JIUcqzZN_Zct"
   },
   "outputs": [
    {
     "data": {
      "text/plain": [
       "array(['acid', 'acoustic', 'action', 'adult', 'africa', 'afrikaans',\n",
       "       'alternative', 'alternativepunk', 'ambient', 'americana',\n",
       "       'animated', 'anime', 'arabesk', 'arabic', 'arena',\n",
       "       'argentinetango', 'art', 'audiobook', 'author', 'avantgarde',\n",
       "       'axé', 'baile', 'balkan', 'beats', 'bigroom', 'black', 'bluegrass',\n",
       "       'blues', 'bollywood', 'bossa', 'brazilian', 'breakbeat', 'breaks',\n",
       "       'broadway', 'cantautori', 'cantopop', 'canzone', 'caribbean',\n",
       "       'caucasian', 'celtic', 'chamber', 'chanson', 'children', 'chill',\n",
       "       'chinese', 'choral', 'christian', 'christmas', 'classical',\n",
       "       'classicmetal', 'club', 'colombian', 'comedy', 'conjazz',\n",
       "       'contemporary', 'country', 'cuban', 'dance', 'dancehall',\n",
       "       'dancepop', 'dark', 'death', 'deep', 'deutschrock', 'deutschspr',\n",
       "       'dirty', 'disco', 'dnb', 'documentary', 'downbeat', 'downtempo',\n",
       "       'drum', 'dub', 'dubstep', 'eastern', 'easy', 'electronic',\n",
       "       'electropop', 'emo', 'entehno', 'epicmetal', 'estrada', 'ethnic',\n",
       "       'eurofolk', 'european', 'experimental', 'extrememetal', 'fado',\n",
       "       'fairytail', 'film', 'fitness', 'flamenco', 'folk', 'folklore',\n",
       "       'folkmetal', 'folkrock', 'folktronica', 'forró', 'frankreich',\n",
       "       'französisch', 'french', 'funk', 'future', 'gangsta', 'garage',\n",
       "       'german', 'ghazal', 'gitarre', 'glitch', 'gospel', 'gothic',\n",
       "       'grime', 'grunge', 'gypsy', 'handsup', \"hard'n'heavy\", 'hardcore',\n",
       "       'hardstyle', 'hardtechno', 'hip', 'hip-hop', 'hiphop',\n",
       "       'historisch', 'holiday', 'hop', 'horror', 'house', 'hymn', 'idm',\n",
       "       'independent', 'indian', 'indie', 'indipop', 'industrial',\n",
       "       'inspirational', 'instrumental', 'international', 'irish', 'jam',\n",
       "       'japanese', 'jazz', 'jewish', 'jpop', 'jungle', 'k-pop',\n",
       "       'karadeniz', 'karaoke', 'kayokyoku', 'korean', 'laiko', 'latin',\n",
       "       'latino', 'leftfield', 'local', 'lounge', 'loungeelectronic',\n",
       "       'lovers', 'malaysian', 'mandopop', 'marschmusik', 'meditative',\n",
       "       'mediterranean', 'melodic', 'metal', 'metalcore', 'mexican',\n",
       "       'middle', 'minimal', 'miscellaneous', 'modern', 'mood', 'mpb',\n",
       "       'muslim', 'native', 'neoklassik', 'neue', 'new', 'newage',\n",
       "       'newwave', 'nu', 'nujazz', 'numetal', 'oceania', 'old', 'opera',\n",
       "       'orchestral', 'other', 'piano', 'podcasts', 'pop', 'popdance',\n",
       "       'popelectronic', 'popeurodance', 'poprussian', 'post',\n",
       "       'posthardcore', 'postrock', 'power', 'progmetal', 'progressive',\n",
       "       'psychedelic', 'punjabi', 'punk', 'quebecois', 'ragga', 'ram',\n",
       "       'rancheras', 'rap', 'rave', 'reggae', 'reggaeton', 'regional',\n",
       "       'relax', 'religious', 'retro', 'rhythm', 'rnb', 'rnr', 'rock',\n",
       "       'rockabilly', 'rockalternative', 'rockindie', 'rockother',\n",
       "       'romance', 'roots', 'ruspop', 'rusrap', 'rusrock', 'russian',\n",
       "       'salsa', 'samba', 'scenic', 'schlager', 'self', 'sertanejo',\n",
       "       'shanson', 'shoegazing', 'showtunes', 'singer', 'ska', 'skarock',\n",
       "       'slow', 'smooth', 'soft', 'soul', 'soulful', 'sound', 'soundtrack',\n",
       "       'southern', 'specialty', 'speech', 'spiritual', 'sport',\n",
       "       'stonerrock', 'surf', 'swing', 'synthpop', 'synthrock',\n",
       "       'sängerportrait', 'tango', 'tanzorchester', 'taraftar', 'tatar',\n",
       "       'tech', 'techno', 'teen', 'thrash', 'top', 'traditional',\n",
       "       'tradjazz', 'trance', 'tribal', 'trip', 'triphop', 'tropical',\n",
       "       'türk', 'türkçe', 'ukrrock', 'unknown', 'urban', 'uzbek',\n",
       "       'variété', 'vi', 'videogame', 'vocal', 'western', 'world',\n",
       "       'worldbeat', 'ïîï', 'электроника'], dtype=object)"
      ]
     },
     "execution_count": 15,
     "metadata": {},
     "output_type": "execute_result"
    }
   ],
   "source": [
    "# Просмотр уникальных названий жанров\n",
    "df['genre'].sort_values().unique()"
   ]
  },
  {
   "cell_type": "markdown",
   "metadata": {
    "id": "qej-Qmuo_Zct"
   },
   "source": [
    "Просмотрим список и найдём неявные дубликаты названия `hiphop`. Это могут быть названия с ошибками или альтернативные названия того же жанра.\n",
    "\n",
    "Видим следующие неявные дубликаты:\n",
    "* *hip*,\n",
    "* *hop*,\n",
    "* *hip-hop*.\n",
    "\n",
    "Чтобы очистить от них таблицу, напишем функцию `replace_wrong_genres()` с двумя параметрами: \n",
    "* `wrong_genres` — список дубликатов,\n",
    "* `correct_genre` — строка с правильным значением.\n",
    "\n",
    "Функция должна исправить колонку `genre` в таблице `df`: заменить каждое значение из списка `wrong_genres` на значение из `correct_genre`."
   ]
  },
  {
   "cell_type": "code",
   "execution_count": 16,
   "metadata": {
    "id": "ErNDkmns_Zct"
   },
   "outputs": [],
   "source": [
    "# Функция для замены неявных дубликатов\n",
    "def replace_wrong_genres(wrong_genres, correct_genre):\n",
    "    for wrong_genre in wrong_genres:\n",
    "        df['genre'] = df['genre'].replace(wrong_genre, correct_genre)"
   ]
  },
  {
   "cell_type": "markdown",
   "metadata": {
    "id": "aDoBJxbA_Zct"
   },
   "source": [
    "Вызовем `replace_wrong_genres()` и передадим ей такие аргументы, чтобы она устранила неявные дубликаты: вместо `hip`, `hop` и `hip-hop` в таблице должно быть значение `hiphop`:"
   ]
  },
  {
   "cell_type": "code",
   "execution_count": 17,
   "metadata": {
    "id": "YN5i2hpmSo09"
   },
   "outputs": [],
   "source": [
    "# Устранение неявных дубликатов\n",
    "replace_wrong_genres(['hip', 'hop', 'hip-hop'], 'hiphop')"
   ]
  },
  {
   "cell_type": "markdown",
   "metadata": {
    "id": "zQKF16_RG15m"
   },
   "source": [
    "Проверим, что заменили неправильные названия:\n",
    "\n",
    "*   hip\n",
    "*   hop\n",
    "*   hip-hop\n",
    "\n",
    "Выведем отсортированный список уникальных значений столбца `genre`:"
   ]
  },
  {
   "cell_type": "code",
   "execution_count": 18,
   "metadata": {
    "id": "wvixALnFG15m"
   },
   "outputs": [
    {
     "data": {
      "text/plain": [
       "array(['acid', 'acoustic', 'action', 'adult', 'africa', 'afrikaans',\n",
       "       'alternative', 'alternativepunk', 'ambient', 'americana',\n",
       "       'animated', 'anime', 'arabesk', 'arabic', 'arena',\n",
       "       'argentinetango', 'art', 'audiobook', 'author', 'avantgarde',\n",
       "       'axé', 'baile', 'balkan', 'beats', 'bigroom', 'black', 'bluegrass',\n",
       "       'blues', 'bollywood', 'bossa', 'brazilian', 'breakbeat', 'breaks',\n",
       "       'broadway', 'cantautori', 'cantopop', 'canzone', 'caribbean',\n",
       "       'caucasian', 'celtic', 'chamber', 'chanson', 'children', 'chill',\n",
       "       'chinese', 'choral', 'christian', 'christmas', 'classical',\n",
       "       'classicmetal', 'club', 'colombian', 'comedy', 'conjazz',\n",
       "       'contemporary', 'country', 'cuban', 'dance', 'dancehall',\n",
       "       'dancepop', 'dark', 'death', 'deep', 'deutschrock', 'deutschspr',\n",
       "       'dirty', 'disco', 'dnb', 'documentary', 'downbeat', 'downtempo',\n",
       "       'drum', 'dub', 'dubstep', 'eastern', 'easy', 'electronic',\n",
       "       'electropop', 'emo', 'entehno', 'epicmetal', 'estrada', 'ethnic',\n",
       "       'eurofolk', 'european', 'experimental', 'extrememetal', 'fado',\n",
       "       'fairytail', 'film', 'fitness', 'flamenco', 'folk', 'folklore',\n",
       "       'folkmetal', 'folkrock', 'folktronica', 'forró', 'frankreich',\n",
       "       'französisch', 'french', 'funk', 'future', 'gangsta', 'garage',\n",
       "       'german', 'ghazal', 'gitarre', 'glitch', 'gospel', 'gothic',\n",
       "       'grime', 'grunge', 'gypsy', 'handsup', \"hard'n'heavy\", 'hardcore',\n",
       "       'hardstyle', 'hardtechno', 'hiphop', 'historisch', 'holiday',\n",
       "       'horror', 'house', 'hymn', 'idm', 'independent', 'indian', 'indie',\n",
       "       'indipop', 'industrial', 'inspirational', 'instrumental',\n",
       "       'international', 'irish', 'jam', 'japanese', 'jazz', 'jewish',\n",
       "       'jpop', 'jungle', 'k-pop', 'karadeniz', 'karaoke', 'kayokyoku',\n",
       "       'korean', 'laiko', 'latin', 'latino', 'leftfield', 'local',\n",
       "       'lounge', 'loungeelectronic', 'lovers', 'malaysian', 'mandopop',\n",
       "       'marschmusik', 'meditative', 'mediterranean', 'melodic', 'metal',\n",
       "       'metalcore', 'mexican', 'middle', 'minimal', 'miscellaneous',\n",
       "       'modern', 'mood', 'mpb', 'muslim', 'native', 'neoklassik', 'neue',\n",
       "       'new', 'newage', 'newwave', 'nu', 'nujazz', 'numetal', 'oceania',\n",
       "       'old', 'opera', 'orchestral', 'other', 'piano', 'podcasts', 'pop',\n",
       "       'popdance', 'popelectronic', 'popeurodance', 'poprussian', 'post',\n",
       "       'posthardcore', 'postrock', 'power', 'progmetal', 'progressive',\n",
       "       'psychedelic', 'punjabi', 'punk', 'quebecois', 'ragga', 'ram',\n",
       "       'rancheras', 'rap', 'rave', 'reggae', 'reggaeton', 'regional',\n",
       "       'relax', 'religious', 'retro', 'rhythm', 'rnb', 'rnr', 'rock',\n",
       "       'rockabilly', 'rockalternative', 'rockindie', 'rockother',\n",
       "       'romance', 'roots', 'ruspop', 'rusrap', 'rusrock', 'russian',\n",
       "       'salsa', 'samba', 'scenic', 'schlager', 'self', 'sertanejo',\n",
       "       'shanson', 'shoegazing', 'showtunes', 'singer', 'ska', 'skarock',\n",
       "       'slow', 'smooth', 'soft', 'soul', 'soulful', 'sound', 'soundtrack',\n",
       "       'southern', 'specialty', 'speech', 'spiritual', 'sport',\n",
       "       'stonerrock', 'surf', 'swing', 'synthpop', 'synthrock',\n",
       "       'sängerportrait', 'tango', 'tanzorchester', 'taraftar', 'tatar',\n",
       "       'tech', 'techno', 'teen', 'thrash', 'top', 'traditional',\n",
       "       'tradjazz', 'trance', 'tribal', 'trip', 'triphop', 'tropical',\n",
       "       'türk', 'türkçe', 'ukrrock', 'unknown', 'urban', 'uzbek',\n",
       "       'variété', 'vi', 'videogame', 'vocal', 'western', 'world',\n",
       "       'worldbeat', 'ïîï', 'электроника'], dtype=object)"
      ]
     },
     "execution_count": 18,
     "metadata": {},
     "output_type": "execute_result"
    }
   ],
   "source": [
    "# Проверка на неявные дубликаты\n",
    "df['genre'].sort_values().unique()"
   ]
  },
  {
   "cell_type": "markdown",
   "metadata": {
    "id": "jz6a9-7HQUDd"
   },
   "source": [
    "**Выводы**\n",
    "\n",
    "Предобработка обнаружила три проблемы в данных:\n",
    "\n",
    "- нарушения в стиле заголовков,\n",
    "- пропущенные значения,\n",
    "- дубликаты — явные и неявные.\n",
    "\n",
    "Были исправлены заголовки, чтобы упростить работу с таблицей. Без дубликатов исследование станет более точным.\n",
    "\n",
    "Пропущенные значения были заменены на `'unknown'`. Ещё предстоит увидеть, не повредят ли исследованию пропуски в колонке `genre`.\n",
    "\n",
    "Теперь можно перейти к проверке гипотез."
   ]
  },
  {
   "cell_type": "markdown",
   "metadata": {
    "id": "WttZHXH0SqKk"
   },
   "source": [
    "## Проверка гипотез"
   ]
  },
  {
   "cell_type": "markdown",
   "metadata": {
    "id": "Im936VVi_Zcu"
   },
   "source": [
    "### Сравнение поведения пользователей двух столиц"
   ]
  },
  {
   "cell_type": "markdown",
   "metadata": {
    "id": "nwt_MuaL_Zcu"
   },
   "source": [
    "Первая гипотеза утверждает, что пользователи по-разному слушают музыку в Москве и Санкт-Петербурге. Проверим это предположение по данным о трёх днях недели — понедельнике, среде и пятнице. Для этого:\n",
    "\n",
    "* Разделим пользователей Москвы и Санкт-Петербурга\n",
    "* Сравним, сколько треков послушала каждая группа пользователей в понедельник, среду и пятницу.\n"
   ]
  },
  {
   "cell_type": "markdown",
   "metadata": {
    "id": "8Dw_YMmT_Zcu"
   },
   "source": [
    "Для тренировки сначала выполним каждый из расчётов по отдельности. \n",
    "\n",
    "Оценим активность пользователей в каждом городе. Сгруппируем данные по городу и посчитаем прослушивания в каждой группе.\n",
    "\n"
   ]
  },
  {
   "cell_type": "code",
   "execution_count": 19,
   "metadata": {
    "id": "0_Qs96oh_Zcu"
   },
   "outputs": [
    {
     "data": {
      "text/plain": [
       "city\n",
       "Moscow              42741\n",
       "Saint-Petersburg    18512\n",
       "Name: track, dtype: int64"
      ]
     },
     "execution_count": 19,
     "metadata": {},
     "output_type": "execute_result"
    }
   ],
   "source": [
    "# Подсчёт прослушиваний в каждом городе\n",
    "df.groupby('city')['track'].count()"
   ]
  },
  {
   "cell_type": "markdown",
   "metadata": {
    "id": "dzli3w8o_Zcu"
   },
   "source": [
    "В Москве прослушиваний больше, чем в Петербурге. Из этого не следует, что московские пользователи чаще слушают музыку. Просто самих пользователей в Москве больше.\n",
    "\n",
    "Теперь сгруппируем данные по дню недели и подсчитаем прослушивания в понедельник, среду и пятницу. Учтём, что в данных есть информация только о прослушиваниях только за эти дни.\n"
   ]
  },
  {
   "cell_type": "code",
   "execution_count": 20,
   "metadata": {
    "id": "uZMKjiJz_Zcu"
   },
   "outputs": [
    {
     "data": {
      "text/plain": [
       "day\n",
       "Friday       21840\n",
       "Monday       21354\n",
       "Wednesday    18059\n",
       "Name: track, dtype: int64"
      ]
     },
     "execution_count": 20,
     "metadata": {},
     "output_type": "execute_result"
    }
   ],
   "source": [
    "# Подсчёт прослушиваний в каждый из трёх дней\n",
    "df.groupby('day')['track'].count()"
   ]
  },
  {
   "cell_type": "markdown",
   "metadata": {
    "id": "cC2tNrlL_Zcu"
   },
   "source": [
    "В среднем пользователи из двух городов менее активны по средам. Но картина может измениться, если рассмотреть каждый город в отдельности."
   ]
  },
  {
   "cell_type": "markdown",
   "metadata": {
    "id": "POzs8bGa_Zcu"
   },
   "source": [
    "Таким образом работает группировка по городу и по дням недели. Теперь напишем функцию, которая объединит два эти расчёта.\n",
    "\n",
    "Создадим функцию `number_tracks()`, которая посчитает прослушивания для заданного дня и города. Ей понадобятся два параметра:\n",
    "* день недели,\n",
    "* название города.\n",
    "\n",
    "В функции сохраним в переменную строки исходной таблицы, у которых значение:\n",
    "  * в колонке `day` равно параметру `day`,\n",
    "  * в колонке `city` равно параметру `city`.\n",
    "\n",
    "Для этого применим последовательную фильтрацию с логической индексацией.\n",
    "\n",
    "Затем посчитаем значения в столбце `user_id` получившейся таблицы. Результат сохраним в новую переменную. Вернём эту переменную из функции."
   ]
  },
  {
   "cell_type": "code",
   "execution_count": 21,
   "metadata": {
    "id": "Nz3GdQB1_Zcu"
   },
   "outputs": [],
   "source": [
    "# создание функции number_tracks()\n",
    "\n",
    "def number_tracks(day, city):\n",
    "    track_list = df.loc[df.loc[:,'day'] == day][df.loc[:,'city'] == city]\n",
    "    track_list_count = track_list['user_id'].count()\n",
    "    return track_list_count"
   ]
  },
  {
   "cell_type": "markdown",
   "metadata": {
    "id": "ytf7xFrFJQ2r"
   },
   "source": [
    "Вызовите `number_tracks()` шесть раз, меняя значение параметров — так, чтобы получить данные для каждого города в каждый из трёх дней."
   ]
  },
  {
   "cell_type": "code",
   "execution_count": 22,
   "metadata": {
    "id": "rJcRATNQ_Zcu"
   },
   "outputs": [
    {
     "data": {
      "text/plain": [
       "15740"
      ]
     },
     "execution_count": 22,
     "metadata": {},
     "output_type": "execute_result"
    }
   ],
   "source": [
    "# количество прослушиваний в Москве по понедельникам\n",
    "number_tracks('Monday', 'Moscow')"
   ]
  },
  {
   "cell_type": "code",
   "execution_count": 23,
   "metadata": {
    "id": "hq_ncZ5T_Zcu"
   },
   "outputs": [
    {
     "data": {
      "text/plain": [
       "5614"
      ]
     },
     "execution_count": 23,
     "metadata": {},
     "output_type": "execute_result"
    }
   ],
   "source": [
    "# количество прослушиваний в Санкт-Петербурге по понедельникам\n",
    "number_tracks('Monday', 'Saint-Petersburg')"
   ]
  },
  {
   "cell_type": "code",
   "execution_count": 24,
   "metadata": {
    "id": "_NTy2VPU_Zcu"
   },
   "outputs": [
    {
     "data": {
      "text/plain": [
       "11056"
      ]
     },
     "execution_count": 24,
     "metadata": {},
     "output_type": "execute_result"
    }
   ],
   "source": [
    "# количество прослушиваний в Москве по средам\n",
    "number_tracks('Wednesday', 'Moscow')"
   ]
  },
  {
   "cell_type": "code",
   "execution_count": 25,
   "metadata": {
    "id": "j2y3TAwo_Zcu"
   },
   "outputs": [
    {
     "data": {
      "text/plain": [
       "7003"
      ]
     },
     "execution_count": 25,
     "metadata": {},
     "output_type": "execute_result"
    }
   ],
   "source": [
    "# количество прослушиваний в Санкт-Петербурге по средам\n",
    "number_tracks('Wednesday', 'Saint-Petersburg')"
   ]
  },
  {
   "cell_type": "code",
   "execution_count": 26,
   "metadata": {
    "id": "vYDw5u_K_Zcu"
   },
   "outputs": [
    {
     "data": {
      "text/plain": [
       "15945"
      ]
     },
     "execution_count": 26,
     "metadata": {},
     "output_type": "execute_result"
    }
   ],
   "source": [
    "# количество прослушиваний в Москве по пятницам\n",
    "number_tracks('Friday', 'Moscow')"
   ]
  },
  {
   "cell_type": "code",
   "execution_count": 27,
   "metadata": {
    "id": "8_yzFtW3_Zcu"
   },
   "outputs": [
    {
     "data": {
      "text/plain": [
       "5895"
      ]
     },
     "execution_count": 27,
     "metadata": {},
     "output_type": "execute_result"
    }
   ],
   "source": [
    "# количество прослушиваний в Санкт-Петербурге по пятницам\n",
    "number_tracks('Friday', 'Saint-Petersburg')"
   ]
  },
  {
   "cell_type": "markdown",
   "metadata": {
    "id": "7QXffbO-_Zcu"
   },
   "source": [
    "Создадим c помощью конструктора `pd.DataFrame` таблицу, где\n",
    "* названия колонок — `['city', 'monday', 'wednesday', 'friday']`;\n",
    "* данные — результаты, которые вы получили с помощью `number_tracks`."
   ]
  },
  {
   "cell_type": "code",
   "execution_count": 28,
   "metadata": {
    "id": "APAcLpOr_Zcu"
   },
   "outputs": [
    {
     "data": {
      "text/html": [
       "<div>\n",
       "<style scoped>\n",
       "    .dataframe tbody tr th:only-of-type {\n",
       "        vertical-align: middle;\n",
       "    }\n",
       "\n",
       "    .dataframe tbody tr th {\n",
       "        vertical-align: top;\n",
       "    }\n",
       "\n",
       "    .dataframe thead th {\n",
       "        text-align: right;\n",
       "    }\n",
       "</style>\n",
       "<table border=\"1\" class=\"dataframe\">\n",
       "  <thead>\n",
       "    <tr style=\"text-align: right;\">\n",
       "      <th></th>\n",
       "      <th>city</th>\n",
       "      <th>monday</th>\n",
       "      <th>wednesday</th>\n",
       "      <th>friday</th>\n",
       "    </tr>\n",
       "  </thead>\n",
       "  <tbody>\n",
       "    <tr>\n",
       "      <th>0</th>\n",
       "      <td>Moscow</td>\n",
       "      <td>15740</td>\n",
       "      <td>11056</td>\n",
       "      <td>15945</td>\n",
       "    </tr>\n",
       "    <tr>\n",
       "      <th>1</th>\n",
       "      <td>Saint-Petersburg</td>\n",
       "      <td>5614</td>\n",
       "      <td>7003</td>\n",
       "      <td>5895</td>\n",
       "    </tr>\n",
       "  </tbody>\n",
       "</table>\n",
       "</div>"
      ],
      "text/plain": [
       "               city  monday  wednesday  friday\n",
       "0            Moscow   15740      11056   15945\n",
       "1  Saint-Petersburg    5614       7003    5895"
      ]
     },
     "metadata": {},
     "output_type": "display_data"
    }
   ],
   "source": [
    "# Таблица с результатами\n",
    "columns =['city', 'monday', 'wednesday', 'friday']\n",
    "data = [['Moscow', 15740, 11056, 15945],\n",
    "        ['Saint-Petersburg', 5614, 7003, 5895]]\n",
    "\n",
    "result_table = pd.DataFrame(data=data, columns=columns)\n",
    "display(result_table)"
   ]
  },
  {
   "cell_type": "markdown",
   "metadata": {
    "id": "-EgPIHYu_Zcu"
   },
   "source": [
    "**Выводы**\n",
    "\n",
    "Данные показывают разницу поведения пользователей:\n",
    "\n",
    "- В Москве пик прослушиваний приходится на понедельник и пятницу, а в среду заметен спад.\n",
    "- В Петербурге, наоборот, больше слушают музыку по средам. Активность в понедельник и пятницу здесь почти в равной мере уступает среде.\n",
    "\n",
    "Значит, данные говорят в пользу первой гипотезы."
   ]
  },
  {
   "cell_type": "markdown",
   "metadata": {
    "id": "atZAxtq4_Zcu"
   },
   "source": [
    "### Музыка в начале и в конце недели"
   ]
  },
  {
   "cell_type": "markdown",
   "metadata": {
    "id": "eXrQqXFH_Zcu"
   },
   "source": [
    "Согласно второй гипотезе, утром в понедельник в Москве преобладают одни жанры, а в Петербурге — другие. Так же и вечером пятницы преобладают разные жанры — в зависимости от города."
   ]
  },
  {
   "cell_type": "markdown",
   "metadata": {
    "id": "S8UcW6Hw_Zcu"
   },
   "source": [
    "Сохраним таблицы с данными в две переменные:\n",
    "* по Москве — в `moscow_general`;\n",
    "* по Санкт-Петербургу — в `spb_general`."
   ]
  },
  {
   "cell_type": "code",
   "execution_count": 29,
   "metadata": {
    "id": "qeaFfM_P_Zcu"
   },
   "outputs": [],
   "source": [
    "# получение таблицы moscow_general из тех строк таблицы df, \n",
    "# для которых значение в столбце 'city' равно 'Moscow'\n",
    "moscow_general = df.loc[df.loc[:,'city'] == 'Moscow']"
   ]
  },
  {
   "cell_type": "code",
   "execution_count": 30,
   "metadata": {
    "id": "ORaVRKto_Zcu"
   },
   "outputs": [],
   "source": [
    "# получение таблицы spb_general из тех строк таблицы df,\n",
    "# для которых значение в столбце 'city' равно 'Saint-Petersburg'\n",
    "spb_general = df.loc[df.loc[:,'city'] == 'Saint-Petersburg']"
   ]
  },
  {
   "cell_type": "markdown",
   "metadata": {
    "id": "MEJV-CX2_Zcu"
   },
   "source": [
    "Создадим функцию `genre_weekday()` с четырьмя параметрами:\n",
    "* таблица (датафрейм) с данными,\n",
    "* день недели,\n",
    "* начальная временная метка в формате 'hh:mm', \n",
    "* последняя временная метка в формате 'hh:mm'.\n",
    "\n",
    "Функция должна вернуть информацию о топ-10 жанров тех треков, которые прослушивали в указанный день, в промежутке между двумя отметками времени."
   ]
  },
  {
   "cell_type": "code",
   "execution_count": 31,
   "metadata": {
    "id": "laJT9BYl_Zcu"
   },
   "outputs": [],
   "source": [
    "# Объявление функции genre_weekday() с параметрами table, day, time1, time2\n",
    "\n",
    "def genre_weekday(table, day, time1, time2):\n",
    "    genre_df = table.loc[table.loc[:,'day'] == day][table.loc[:,'time'] > time1][table.loc[:,'time'] < time2]\n",
    "    genre_df_count = genre_df.groupby('genre')['track'].count()\n",
    "    genre_df_sorted = genre_df_count.sort_values(ascending = False)\n",
    "    return genre_df_sorted[:10]"
   ]
  },
  {
   "cell_type": "markdown",
   "metadata": {
    "id": "la2s2_PF_Zcu"
   },
   "source": [
    "Cравним результаты функции `genre_weekday()` для Москвы и Санкт-Петербурга в понедельник утром (с 7:00 до 11:00) и в пятницу вечером (с 17:00 до 23:00):"
   ]
  },
  {
   "cell_type": "code",
   "execution_count": 32,
   "metadata": {
    "id": "yz7itPUQ_Zcu"
   },
   "outputs": [
    {
     "data": {
      "text/plain": [
       "genre\n",
       "pop            781\n",
       "dance          549\n",
       "electronic     480\n",
       "rock           474\n",
       "hiphop         286\n",
       "ruspop         186\n",
       "world          181\n",
       "rusrap         175\n",
       "alternative    164\n",
       "unknown        161\n",
       "Name: track, dtype: int64"
      ]
     },
     "execution_count": 32,
     "metadata": {},
     "output_type": "execute_result"
    }
   ],
   "source": [
    "# вызов функции для утра понедельника в Москве (вместо df — таблица moscow_general)\n",
    "genre_weekday(moscow_general, 'Monday', '07:00', '11:00')"
   ]
  },
  {
   "cell_type": "code",
   "execution_count": 33,
   "metadata": {
    "id": "kwUcHPdy_Zcu"
   },
   "outputs": [
    {
     "data": {
      "text/plain": [
       "genre\n",
       "pop            218\n",
       "dance          182\n",
       "rock           162\n",
       "electronic     147\n",
       "hiphop          80\n",
       "ruspop          64\n",
       "alternative     58\n",
       "rusrap          55\n",
       "jazz            44\n",
       "classical       40\n",
       "Name: track, dtype: int64"
      ]
     },
     "execution_count": 33,
     "metadata": {},
     "output_type": "execute_result"
    }
   ],
   "source": [
    "# вызов функции для утра понедельника в Петербурге (вместо df — таблица spb_general)\n",
    "genre_weekday(spb_general, 'Monday', '07:00', '11:00')"
   ]
  },
  {
   "cell_type": "code",
   "execution_count": 34,
   "metadata": {
    "id": "EzXVRE1o_Zcu"
   },
   "outputs": [
    {
     "data": {
      "text/plain": [
       "genre\n",
       "pop            713\n",
       "rock           517\n",
       "dance          495\n",
       "electronic     482\n",
       "hiphop         273\n",
       "world          208\n",
       "ruspop         170\n",
       "alternative    163\n",
       "classical      163\n",
       "rusrap         142\n",
       "Name: track, dtype: int64"
      ]
     },
     "execution_count": 34,
     "metadata": {},
     "output_type": "execute_result"
    }
   ],
   "source": [
    "# вызов функции для вечера пятницы в Москве\n",
    "genre_weekday(moscow_general, 'Friday', '17:00', '23:00')"
   ]
  },
  {
   "cell_type": "code",
   "execution_count": 35,
   "metadata": {
    "id": "JZaEKu5v_Zcu"
   },
   "outputs": [
    {
     "data": {
      "text/plain": [
       "genre\n",
       "pop            256\n",
       "electronic     216\n",
       "rock           216\n",
       "dance          210\n",
       "hiphop          97\n",
       "alternative     63\n",
       "jazz            61\n",
       "classical       60\n",
       "rusrap          59\n",
       "world           54\n",
       "Name: track, dtype: int64"
      ]
     },
     "execution_count": 35,
     "metadata": {},
     "output_type": "execute_result"
    }
   ],
   "source": [
    "# вызов функции для вечера пятницы в Петербурге\n",
    "genre_weekday(spb_general, 'Friday', '17:00', '23:00')"
   ]
  },
  {
   "cell_type": "markdown",
   "metadata": {
    "id": "wrCe4MNX_Zcu"
   },
   "source": [
    "**Выводы**\n",
    "\n",
    "Если сравнить топ-10 жанров в понедельник утром, можно сделать такие выводы:\n",
    "\n",
    "1. В Москве и Петербурге слушают похожую музыку. Единственное отличие — в московский рейтинг вошёл жанр “world”, а в петербургский — джаз и классика.\n",
    "\n",
    "2. В Москве пропущенных значений оказалось так много, что значение `'unknown'` заняло десятое место среди самых популярных жанров. Значит, пропущенные значения занимают существенную долю в данных и угрожают достоверности исследования.\n",
    "\n",
    "Вечер пятницы не меняет эту картину. Некоторые жанры поднимаются немного выше, другие спускаются, но в целом топ-10 остаётся тем же самым.\n",
    "\n",
    "Таким образом, вторая гипотеза подтвердилась лишь частично:\n",
    "* Пользователи слушают похожую музыку в начале недели и в конце.\n",
    "* Разница между Москвой и Петербургом не слишком выражена. В Москве чаще слушают русскую популярную музыку, в Петербурге — джаз.\n",
    "\n",
    "Однако пропуски в данных ставят под сомнение этот результат. В Москве их так много, что рейтинг топ-10 мог бы выглядеть иначе, если бы не утерянные  данные о жанрах."
   ]
  },
  {
   "cell_type": "markdown",
   "metadata": {
    "id": "JolODAqr_Zcu"
   },
   "source": [
    "### Жанровые предпочтения в Москве и Петербурге\n",
    "\n",
    "Гипотеза: Петербург — столица рэпа, музыку этого жанра там слушают чаще, чем в Москве.  А Москва — город контрастов, в котором, тем не менее, преобладает поп-музыка."
   ]
  },
  {
   "cell_type": "markdown",
   "metadata": {
    "id": "DlegSvaT_Zcu"
   },
   "source": [
    "Сгруппируем таблицу `moscow_general` по жанру и посчитаем прослушивания треков каждого жанра методом `count()`. Затем отсортируем результат в порядке убывания и сохраним его в таблице `moscow_genres`."
   ]
  },
  {
   "cell_type": "code",
   "execution_count": 36,
   "metadata": {
    "id": "r19lIPke_Zcu"
   },
   "outputs": [],
   "source": [
    "# сортировка получившегося Series в порядке убывания и сохранение в moscow_genres\n",
    "moscow_genres = moscow_general.groupby('genre')['genre'].count().sort_values(ascending = False)"
   ]
  },
  {
   "cell_type": "markdown",
   "metadata": {
    "id": "6kMuomxTiIr8"
   },
   "source": [
    "Выведите на экран первые десять строк `moscow_genres`:"
   ]
  },
  {
   "cell_type": "code",
   "execution_count": 37,
   "metadata": {
    "id": "WhCSooF8_Zcv"
   },
   "outputs": [
    {
     "data": {
      "text/plain": [
       "genre\n",
       "pop            5892\n",
       "dance          4435\n",
       "rock           3965\n",
       "electronic     3786\n",
       "hiphop         2096\n",
       "classical      1616\n",
       "world          1432\n",
       "alternative    1379\n",
       "ruspop         1372\n",
       "rusrap         1161\n",
       "Name: genre, dtype: int64"
      ]
     },
     "execution_count": 37,
     "metadata": {},
     "output_type": "execute_result"
    }
   ],
   "source": [
    "# просмотр первых 10 строк moscow_genres\n",
    "moscow_genres.head(10)"
   ]
  },
  {
   "cell_type": "markdown",
   "metadata": {
    "id": "cnPG2vnN_Zcv"
   },
   "source": [
    "Теперь повторим то же и для Петербурга.\n",
    "\n",
    "Сгруппируем таблицу `spb_general` по жанру. Посчитаем прослушивания треков каждого жанра. Результат отсортируем в порядке убывания и сохраним в таблице `spb_genres`:\n"
   ]
  },
  {
   "cell_type": "code",
   "execution_count": 38,
   "metadata": {
    "id": "gluLIpE7_Zcv"
   },
   "outputs": [],
   "source": [
    "# одной строкой: группировка таблицы spb_general по столбцу 'genre', \n",
    "# подсчёт числа значений 'genre' в этой группировке методом count(), \n",
    "# сортировка получившегося Series в порядке убывания и сохранение в spb_genres\n",
    "spb_genres = spb_general.groupby('genre')['genre'].count().sort_values(ascending = False)"
   ]
  },
  {
   "cell_type": "markdown",
   "metadata": {
    "id": "5Doha_ODgyQ8"
   },
   "source": [
    "Выведем на экран первые десять строк `spb_genres`:"
   ]
  },
  {
   "cell_type": "code",
   "execution_count": 39,
   "metadata": {
    "id": "uaGJHjVU_Zcv"
   },
   "outputs": [
    {
     "data": {
      "text/plain": [
       "genre\n",
       "pop            2431\n",
       "dance          1932\n",
       "rock           1879\n",
       "electronic     1736\n",
       "hiphop          960\n",
       "alternative     649\n",
       "classical       646\n",
       "rusrap          564\n",
       "ruspop          538\n",
       "world           515\n",
       "Name: genre, dtype: int64"
      ]
     },
     "execution_count": 39,
     "metadata": {},
     "output_type": "execute_result"
    }
   ],
   "source": [
    "# просмотр первых 10 строк spb_genres\n",
    "spb_genres.head(10)"
   ]
  },
  {
   "cell_type": "markdown",
   "metadata": {
    "id": "RY51YJYu_Zcv"
   },
   "source": [
    "**Выводы**"
   ]
  },
  {
   "cell_type": "markdown",
   "metadata": {
    "id": "nVhnJEm__Zcv"
   },
   "source": [
    "Гипотеза частично подтвердилась:\n",
    "* Поп-музыка — самый популярный жанр в Москве, как и предполагала гипотеза. Более того, в топ-10 жанров встречается близкий жанр — русская популярная музыка.\n",
    "* Вопреки ожиданиям, рэп одинаково популярен в Москве и Петербурге. \n"
   ]
  },
  {
   "cell_type": "markdown",
   "metadata": {
    "id": "ykKQ0N65_Zcv"
   },
   "source": [
    "## Итоги исследования"
   ]
  },
  {
   "cell_type": "markdown",
   "metadata": {
    "id": "tjUwbHb3_Zcv"
   },
   "source": [
    "Были проверены три гипотезы и установлено:\n",
    "\n",
    "1. День недели по-разному влияет на активность пользователей в Москве и Петербурге. \n",
    "\n",
    "Первая гипотеза полностью подтвердилась.\n",
    "\n",
    "2. Музыкальные предпочтения не сильно меняются в течение недели — будь то Москва или Петербург. Небольшие различия заметны в начале недели, по понедельникам:\n",
    "* в Москве слушают музыку жанра “world”,\n",
    "* в Петербурге — джаз и классику.\n",
    "\n",
    "Таким образом, вторая гипотеза подтвердилась лишь отчасти. Этот результат мог оказаться иным, если бы не пропуски в данных.\n",
    "\n",
    "3. Во вкусах пользователей Москвы и Петербурга больше общего чем различий. Вопреки ожиданиям, предпочтения жанров в Петербурге напоминают московские.\n",
    "\n",
    "Третья гипотеза не подтвердилась. Если различия в предпочтениях и существуют, на основной массе пользователей они незаметны."
   ]
  },
  {
   "cell_type": "code",
   "execution_count": null,
   "metadata": {},
   "outputs": [],
   "source": []
  }
 ],
 "metadata": {
  "ExecuteTimeLog": [
   {
    "duration": 587,
    "start_time": "2022-01-20T08:02:52.742Z"
   },
   {
    "duration": 137,
    "start_time": "2022-01-20T08:03:37.378Z"
   },
   {
    "duration": 18,
    "start_time": "2022-01-20T08:03:48.753Z"
   },
   {
    "duration": 26,
    "start_time": "2022-01-20T08:04:05.895Z"
   },
   {
    "duration": 4,
    "start_time": "2022-01-20T08:11:39.096Z"
   },
   {
    "duration": 21,
    "start_time": "2022-01-20T08:14:17.972Z"
   },
   {
    "duration": 4,
    "start_time": "2022-01-20T08:14:30.410Z"
   },
   {
    "duration": 23,
    "start_time": "2022-01-20T08:15:50.162Z"
   },
   {
    "duration": 3235,
    "start_time": "2022-01-20T08:21:37.210Z"
   },
   {
    "duration": 2924,
    "start_time": "2022-01-20T08:22:00.988Z"
   },
   {
    "duration": 150,
    "start_time": "2022-01-20T08:22:32.360Z"
   },
   {
    "duration": 4,
    "start_time": "2022-01-20T08:22:43.416Z"
   },
   {
    "duration": 22,
    "start_time": "2022-01-20T08:22:46.023Z"
   },
   {
    "duration": 4,
    "start_time": "2022-01-20T08:22:48.929Z"
   },
   {
    "duration": 23,
    "start_time": "2022-01-20T08:22:52.130Z"
   },
   {
    "duration": 17,
    "start_time": "2022-01-20T08:22:54.449Z"
   },
   {
    "duration": 11,
    "start_time": "2022-01-20T08:23:07.509Z"
   },
   {
    "duration": 27,
    "start_time": "2022-01-20T08:23:20.581Z"
   },
   {
    "duration": 60,
    "start_time": "2022-01-20T08:24:26.390Z"
   },
   {
    "duration": 57,
    "start_time": "2022-01-20T08:25:32.730Z"
   },
   {
    "duration": 55,
    "start_time": "2022-01-20T08:25:43.683Z"
   },
   {
    "duration": 7,
    "start_time": "2022-01-20T08:27:01.218Z"
   },
   {
    "duration": 42,
    "start_time": "2022-01-20T08:30:44.250Z"
   },
   {
    "duration": 1030,
    "start_time": "2022-01-20T08:36:23.892Z"
   },
   {
    "duration": 3,
    "start_time": "2022-01-20T08:36:31.261Z"
   },
   {
    "duration": 11,
    "start_time": "2022-01-20T08:36:34.276Z"
   },
   {
    "duration": 40,
    "start_time": "2022-01-20T08:36:55.941Z"
   },
   {
    "duration": 12,
    "start_time": "2022-01-20T08:40:41.461Z"
   },
   {
    "duration": 13,
    "start_time": "2022-01-20T08:42:18.412Z"
   },
   {
    "duration": 4,
    "start_time": "2022-01-20T08:50:45.310Z"
   },
   {
    "duration": 5680,
    "start_time": "2022-01-20T08:52:39.742Z"
   },
   {
    "duration": 4,
    "start_time": "2022-01-20T08:53:12.943Z"
   },
   {
    "duration": 1706,
    "start_time": "2022-01-20T08:53:14.257Z"
   },
   {
    "duration": 4,
    "start_time": "2022-01-20T08:53:45.368Z"
   },
   {
    "duration": 5622,
    "start_time": "2022-01-20T08:53:47.192Z"
   },
   {
    "duration": 4,
    "start_time": "2022-01-20T08:55:01.875Z"
   },
   {
    "duration": 5840,
    "start_time": "2022-01-20T08:55:03.033Z"
   },
   {
    "duration": 5772,
    "start_time": "2022-01-20T08:55:10.145Z"
   },
   {
    "duration": 3,
    "start_time": "2022-01-20T08:58:46.197Z"
   },
   {
    "duration": 546,
    "start_time": "2022-01-20T08:58:47.875Z"
   },
   {
    "duration": 4,
    "start_time": "2022-01-20T09:05:02.801Z"
   },
   {
    "duration": 6235,
    "start_time": "2022-01-20T09:05:04.105Z"
   },
   {
    "duration": 4,
    "start_time": "2022-01-20T09:06:49.272Z"
   },
   {
    "duration": 5997,
    "start_time": "2022-01-20T09:06:50.563Z"
   },
   {
    "duration": 4,
    "start_time": "2022-01-20T09:07:29.961Z"
   },
   {
    "duration": 31,
    "start_time": "2022-01-20T09:07:31.077Z"
   },
   {
    "duration": 25,
    "start_time": "2022-01-20T09:07:53.398Z"
   },
   {
    "duration": 3,
    "start_time": "2022-01-20T09:09:33.033Z"
   },
   {
    "duration": 1790,
    "start_time": "2022-01-20T09:09:34.371Z"
   },
   {
    "duration": 3,
    "start_time": "2022-01-20T09:09:46.589Z"
   },
   {
    "duration": 1800,
    "start_time": "2022-01-20T09:09:47.563Z"
   },
   {
    "duration": 4,
    "start_time": "2022-01-20T09:10:03.921Z"
   },
   {
    "duration": 23,
    "start_time": "2022-01-20T09:10:04.827Z"
   },
   {
    "duration": 4,
    "start_time": "2022-01-20T09:10:19.210Z"
   },
   {
    "duration": 29,
    "start_time": "2022-01-20T09:10:20.780Z"
   },
   {
    "duration": 19,
    "start_time": "2022-01-20T09:10:21.556Z"
   },
   {
    "duration": 3,
    "start_time": "2022-01-20T09:15:05.589Z"
   },
   {
    "duration": 448,
    "start_time": "2022-01-20T09:15:07.014Z"
   },
   {
    "duration": 3,
    "start_time": "2022-01-20T09:15:20.894Z"
   },
   {
    "duration": 21,
    "start_time": "2022-01-20T09:15:21.910Z"
   },
   {
    "duration": 17,
    "start_time": "2022-01-20T09:16:43.617Z"
   },
   {
    "duration": 21,
    "start_time": "2022-01-20T09:16:44.688Z"
   },
   {
    "duration": 29,
    "start_time": "2022-01-20T09:16:45.289Z"
   },
   {
    "duration": 18,
    "start_time": "2022-01-20T09:16:45.840Z"
   },
   {
    "duration": 10,
    "start_time": "2022-01-20T09:21:33.210Z"
   },
   {
    "duration": 4,
    "start_time": "2022-01-20T13:42:27.949Z"
   },
   {
    "duration": 21,
    "start_time": "2022-01-20T13:42:29.225Z"
   },
   {
    "duration": 23,
    "start_time": "2022-01-20T13:42:30.083Z"
   },
   {
    "duration": 20,
    "start_time": "2022-01-20T13:42:30.817Z"
   },
   {
    "duration": 23,
    "start_time": "2022-01-20T13:42:31.388Z"
   },
   {
    "duration": 23,
    "start_time": "2022-01-20T13:42:32.319Z"
   },
   {
    "duration": 20,
    "start_time": "2022-01-20T13:42:35.960Z"
   },
   {
    "duration": 13,
    "start_time": "2022-01-20T13:42:37.498Z"
   },
   {
    "duration": 11,
    "start_time": "2022-01-20T13:44:05.457Z"
   },
   {
    "duration": 9,
    "start_time": "2022-01-20T13:44:06.360Z"
   },
   {
    "duration": 5,
    "start_time": "2022-01-20T13:51:53.993Z"
   },
   {
    "duration": 17,
    "start_time": "2022-01-20T13:53:15.958Z"
   },
   {
    "duration": 4,
    "start_time": "2022-01-20T13:53:54.686Z"
   },
   {
    "duration": 17,
    "start_time": "2022-01-20T13:53:55.719Z"
   },
   {
    "duration": 10,
    "start_time": "2022-01-20T13:54:41.002Z"
   },
   {
    "duration": 4,
    "start_time": "2022-01-20T13:55:32.890Z"
   },
   {
    "duration": 26,
    "start_time": "2022-01-20T13:55:34.289Z"
   },
   {
    "duration": 4,
    "start_time": "2022-01-20T13:55:45.249Z"
   },
   {
    "duration": 24,
    "start_time": "2022-01-20T13:55:46.185Z"
   },
   {
    "duration": 5,
    "start_time": "2022-01-20T13:56:05.317Z"
   },
   {
    "duration": 24,
    "start_time": "2022-01-20T13:56:06.279Z"
   },
   {
    "duration": 16,
    "start_time": "2022-01-20T13:58:45.126Z"
   },
   {
    "duration": 22,
    "start_time": "2022-01-20T13:59:32.569Z"
   },
   {
    "duration": 16,
    "start_time": "2022-01-20T13:59:50.591Z"
   },
   {
    "duration": 9,
    "start_time": "2022-01-20T14:09:04.749Z"
   },
   {
    "duration": 5,
    "start_time": "2022-01-20T14:09:40.499Z"
   },
   {
    "duration": 6,
    "start_time": "2022-01-20T14:09:54.563Z"
   },
   {
    "duration": 5,
    "start_time": "2022-01-20T14:10:20.700Z"
   },
   {
    "duration": 6,
    "start_time": "2022-01-20T14:10:57.129Z"
   },
   {
    "duration": 5,
    "start_time": "2022-01-20T14:11:13.246Z"
   },
   {
    "duration": 945,
    "start_time": "2022-01-24T18:14:58.605Z"
   },
   {
    "duration": 191,
    "start_time": "2022-01-24T18:14:59.552Z"
   },
   {
    "duration": 27,
    "start_time": "2022-01-24T18:14:59.747Z"
   },
   {
    "duration": 64,
    "start_time": "2022-01-24T18:14:59.777Z"
   },
   {
    "duration": 6,
    "start_time": "2022-01-24T18:14:59.844Z"
   },
   {
    "duration": 24,
    "start_time": "2022-01-24T18:14:59.852Z"
   },
   {
    "duration": 9,
    "start_time": "2022-01-24T18:14:59.879Z"
   },
   {
    "duration": 59,
    "start_time": "2022-01-24T18:14:59.891Z"
   },
   {
    "duration": 28,
    "start_time": "2022-01-24T18:14:59.955Z"
   },
   {
    "duration": 60,
    "start_time": "2022-01-24T18:14:59.987Z"
   },
   {
    "duration": 97,
    "start_time": "2022-01-24T18:15:00.049Z"
   },
   {
    "duration": 115,
    "start_time": "2022-01-24T18:15:00.149Z"
   },
   {
    "duration": 86,
    "start_time": "2022-01-24T18:15:00.266Z"
   },
   {
    "duration": 71,
    "start_time": "2022-01-24T18:15:00.355Z"
   },
   {
    "duration": 5,
    "start_time": "2022-01-24T18:15:00.431Z"
   },
   {
    "duration": 35,
    "start_time": "2022-01-24T18:15:00.439Z"
   },
   {
    "duration": 87,
    "start_time": "2022-01-24T18:15:00.477Z"
   },
   {
    "duration": 26,
    "start_time": "2022-01-24T18:15:00.567Z"
   },
   {
    "duration": 29,
    "start_time": "2022-01-24T18:15:00.596Z"
   },
   {
    "duration": 22,
    "start_time": "2022-01-24T18:15:00.629Z"
   },
   {
    "duration": 75,
    "start_time": "2022-01-24T18:15:00.653Z"
   },
   {
    "duration": 31,
    "start_time": "2022-01-24T18:15:00.732Z"
   },
   {
    "duration": 38,
    "start_time": "2022-01-24T18:15:00.766Z"
   },
   {
    "duration": 41,
    "start_time": "2022-01-24T18:15:00.807Z"
   },
   {
    "duration": 53,
    "start_time": "2022-01-24T18:15:00.851Z"
   },
   {
    "duration": 40,
    "start_time": "2022-01-24T18:15:00.907Z"
   },
   {
    "duration": 12,
    "start_time": "2022-01-24T18:15:00.955Z"
   },
   {
    "duration": 22,
    "start_time": "2022-01-24T18:15:00.970Z"
   },
   {
    "duration": 40,
    "start_time": "2022-01-24T18:15:00.995Z"
   },
   {
    "duration": 8,
    "start_time": "2022-01-24T18:15:01.038Z"
   },
   {
    "duration": 40,
    "start_time": "2022-01-24T18:15:01.049Z"
   },
   {
    "duration": 52,
    "start_time": "2022-01-24T18:15:01.092Z"
   },
   {
    "duration": 29,
    "start_time": "2022-01-24T18:15:01.147Z"
   },
   {
    "duration": 55,
    "start_time": "2022-01-24T18:15:01.180Z"
   },
   {
    "duration": 11,
    "start_time": "2022-01-24T18:15:01.238Z"
   },
   {
    "duration": 6,
    "start_time": "2022-01-24T18:15:01.251Z"
   },
   {
    "duration": 10,
    "start_time": "2022-01-24T18:15:01.260Z"
   },
   {
    "duration": 10,
    "start_time": "2022-01-24T18:15:01.272Z"
   },
   {
    "duration": 583,
    "start_time": "2022-01-24T18:39:52.703Z"
   },
   {
    "duration": 543,
    "start_time": "2022-01-24T18:39:53.288Z"
   },
   {
    "duration": 14,
    "start_time": "2022-01-24T18:39:53.833Z"
   },
   {
    "duration": 21,
    "start_time": "2022-01-24T18:39:53.849Z"
   },
   {
    "duration": 3,
    "start_time": "2022-01-24T18:39:53.872Z"
   },
   {
    "duration": 17,
    "start_time": "2022-01-24T18:39:53.877Z"
   },
   {
    "duration": 3,
    "start_time": "2022-01-24T18:39:53.896Z"
   },
   {
    "duration": 44,
    "start_time": "2022-01-24T18:39:53.902Z"
   },
   {
    "duration": 16,
    "start_time": "2022-01-24T18:39:53.948Z"
   },
   {
    "duration": 20,
    "start_time": "2022-01-24T18:39:53.966Z"
   },
   {
    "duration": 75,
    "start_time": "2022-01-24T18:39:53.987Z"
   },
   {
    "duration": 67,
    "start_time": "2022-01-24T18:39:54.063Z"
   },
   {
    "duration": 49,
    "start_time": "2022-01-24T18:39:54.132Z"
   },
   {
    "duration": 50,
    "start_time": "2022-01-24T18:39:54.182Z"
   },
   {
    "duration": 2,
    "start_time": "2022-01-24T18:39:54.234Z"
   },
   {
    "duration": 12,
    "start_time": "2022-01-24T18:39:54.238Z"
   },
   {
    "duration": 38,
    "start_time": "2022-01-24T18:39:54.251Z"
   },
   {
    "duration": 37,
    "start_time": "2022-01-24T18:39:54.291Z"
   },
   {
    "duration": 11,
    "start_time": "2022-01-24T18:39:54.329Z"
   },
   {
    "duration": 4,
    "start_time": "2022-01-24T18:39:54.342Z"
   },
   {
    "duration": 23,
    "start_time": "2022-01-24T18:39:54.347Z"
   },
   {
    "duration": 16,
    "start_time": "2022-01-24T18:39:54.372Z"
   },
   {
    "duration": 45,
    "start_time": "2022-01-24T18:39:54.391Z"
   },
   {
    "duration": 15,
    "start_time": "2022-01-24T18:39:54.438Z"
   },
   {
    "duration": 17,
    "start_time": "2022-01-24T18:39:54.455Z"
   },
   {
    "duration": 15,
    "start_time": "2022-01-24T18:39:54.473Z"
   },
   {
    "duration": 7,
    "start_time": "2022-01-24T18:39:54.490Z"
   },
   {
    "duration": 12,
    "start_time": "2022-01-24T18:39:54.527Z"
   },
   {
    "duration": 9,
    "start_time": "2022-01-24T18:39:54.540Z"
   },
   {
    "duration": 3,
    "start_time": "2022-01-24T18:39:54.550Z"
   },
   {
    "duration": 26,
    "start_time": "2022-01-24T18:39:54.555Z"
   },
   {
    "duration": 13,
    "start_time": "2022-01-24T18:39:54.582Z"
   },
   {
    "duration": 49,
    "start_time": "2022-01-24T18:39:54.596Z"
   },
   {
    "duration": 13,
    "start_time": "2022-01-24T18:39:54.647Z"
   },
   {
    "duration": 7,
    "start_time": "2022-01-24T18:39:54.661Z"
   },
   {
    "duration": 4,
    "start_time": "2022-01-24T18:39:54.670Z"
   },
   {
    "duration": 9,
    "start_time": "2022-01-24T18:39:54.675Z"
   },
   {
    "duration": 4,
    "start_time": "2022-01-24T18:39:54.686Z"
   },
   {
    "duration": 3,
    "start_time": "2022-01-24T18:42:22.042Z"
   },
   {
    "duration": 552,
    "start_time": "2022-01-24T18:42:22.047Z"
   },
   {
    "duration": 527,
    "start_time": "2022-01-24T18:42:22.601Z"
   },
   {
    "duration": 15,
    "start_time": "2022-01-24T18:42:23.129Z"
   },
   {
    "duration": 22,
    "start_time": "2022-01-24T18:42:23.145Z"
   },
   {
    "duration": 3,
    "start_time": "2022-01-24T18:42:23.169Z"
   },
   {
    "duration": 18,
    "start_time": "2022-01-24T18:42:23.174Z"
   },
   {
    "duration": 7,
    "start_time": "2022-01-24T18:42:23.194Z"
   },
   {
    "duration": 41,
    "start_time": "2022-01-24T18:42:23.203Z"
   },
   {
    "duration": 17,
    "start_time": "2022-01-24T18:42:23.245Z"
   },
   {
    "duration": 22,
    "start_time": "2022-01-24T18:42:23.264Z"
   },
   {
    "duration": 60,
    "start_time": "2022-01-24T18:42:23.287Z"
   },
   {
    "duration": 58,
    "start_time": "2022-01-24T18:42:23.348Z"
   },
   {
    "duration": 55,
    "start_time": "2022-01-24T18:42:23.407Z"
   },
   {
    "duration": 37,
    "start_time": "2022-01-24T18:42:23.464Z"
   },
   {
    "duration": 2,
    "start_time": "2022-01-24T18:42:23.502Z"
   },
   {
    "duration": 22,
    "start_time": "2022-01-24T18:42:23.506Z"
   },
   {
    "duration": 36,
    "start_time": "2022-01-24T18:42:23.530Z"
   },
   {
    "duration": 10,
    "start_time": "2022-01-24T18:42:23.567Z"
   },
   {
    "duration": 9,
    "start_time": "2022-01-24T18:42:23.578Z"
   },
   {
    "duration": 3,
    "start_time": "2022-01-24T18:42:23.588Z"
   },
   {
    "duration": 41,
    "start_time": "2022-01-24T18:42:23.592Z"
   },
   {
    "duration": 15,
    "start_time": "2022-01-24T18:42:23.635Z"
   },
   {
    "duration": 17,
    "start_time": "2022-01-24T18:42:23.651Z"
   },
   {
    "duration": 14,
    "start_time": "2022-01-24T18:42:23.669Z"
   },
   {
    "duration": 16,
    "start_time": "2022-01-24T18:42:23.684Z"
   },
   {
    "duration": 14,
    "start_time": "2022-01-24T18:42:23.727Z"
   },
   {
    "duration": 7,
    "start_time": "2022-01-24T18:42:23.743Z"
   },
   {
    "duration": 11,
    "start_time": "2022-01-24T18:42:23.751Z"
   },
   {
    "duration": 8,
    "start_time": "2022-01-24T18:42:23.763Z"
   },
   {
    "duration": 4,
    "start_time": "2022-01-24T18:42:23.772Z"
   },
   {
    "duration": 26,
    "start_time": "2022-01-24T18:42:23.777Z"
   },
   {
    "duration": 33,
    "start_time": "2022-01-24T18:42:23.805Z"
   },
   {
    "duration": 19,
    "start_time": "2022-01-24T18:42:23.839Z"
   },
   {
    "duration": 13,
    "start_time": "2022-01-24T18:42:23.860Z"
   },
   {
    "duration": 8,
    "start_time": "2022-01-24T18:42:23.875Z"
   },
   {
    "duration": 5,
    "start_time": "2022-01-24T18:42:23.885Z"
   },
   {
    "duration": 36,
    "start_time": "2022-01-24T18:42:23.891Z"
   },
   {
    "duration": 4,
    "start_time": "2022-01-24T18:42:23.929Z"
   },
   {
    "duration": 4,
    "start_time": "2022-01-25T17:05:00.400Z"
   },
   {
    "duration": 703,
    "start_time": "2022-01-25T17:05:00.405Z"
   },
   {
    "duration": 146,
    "start_time": "2022-01-25T17:05:01.110Z"
   },
   {
    "duration": 19,
    "start_time": "2022-01-25T17:05:01.261Z"
   },
   {
    "duration": 50,
    "start_time": "2022-01-25T17:05:01.282Z"
   },
   {
    "duration": 8,
    "start_time": "2022-01-25T17:05:01.334Z"
   },
   {
    "duration": 47,
    "start_time": "2022-01-25T17:05:01.344Z"
   },
   {
    "duration": 19,
    "start_time": "2022-01-25T17:05:01.393Z"
   },
   {
    "duration": 48,
    "start_time": "2022-01-25T17:05:01.414Z"
   },
   {
    "duration": 45,
    "start_time": "2022-01-25T17:05:01.464Z"
   },
   {
    "duration": 39,
    "start_time": "2022-01-25T17:05:01.511Z"
   },
   {
    "duration": 89,
    "start_time": "2022-01-25T17:05:01.552Z"
   },
   {
    "duration": 125,
    "start_time": "2022-01-25T17:05:01.644Z"
   },
   {
    "duration": 96,
    "start_time": "2022-01-25T17:05:01.771Z"
   },
   {
    "duration": 56,
    "start_time": "2022-01-25T17:05:01.870Z"
   },
   {
    "duration": 18,
    "start_time": "2022-01-25T17:05:01.928Z"
   },
   {
    "duration": 40,
    "start_time": "2022-01-25T17:05:01.948Z"
   },
   {
    "duration": 65,
    "start_time": "2022-01-25T17:05:01.990Z"
   },
   {
    "duration": 38,
    "start_time": "2022-01-25T17:05:02.058Z"
   },
   {
    "duration": 47,
    "start_time": "2022-01-25T17:05:02.099Z"
   },
   {
    "duration": 33,
    "start_time": "2022-01-25T17:05:02.148Z"
   },
   {
    "duration": 86,
    "start_time": "2022-01-25T17:05:02.183Z"
   },
   {
    "duration": 211,
    "start_time": "2022-01-25T17:05:02.271Z"
   },
   {
    "duration": 118,
    "start_time": "2022-01-25T17:05:02.484Z"
   },
   {
    "duration": 87,
    "start_time": "2022-01-25T17:05:02.608Z"
   },
   {
    "duration": 99,
    "start_time": "2022-01-25T17:05:02.698Z"
   },
   {
    "duration": 33,
    "start_time": "2022-01-25T17:05:02.799Z"
   },
   {
    "duration": 29,
    "start_time": "2022-01-25T17:05:02.834Z"
   },
   {
    "duration": 42,
    "start_time": "2022-01-25T17:05:02.865Z"
   },
   {
    "duration": 26,
    "start_time": "2022-01-25T17:05:02.910Z"
   },
   {
    "duration": 20,
    "start_time": "2022-01-25T17:05:02.938Z"
   },
   {
    "duration": 85,
    "start_time": "2022-01-25T17:05:02.959Z"
   },
   {
    "duration": 38,
    "start_time": "2022-01-25T17:05:03.046Z"
   },
   {
    "duration": 49,
    "start_time": "2022-01-25T17:05:03.086Z"
   },
   {
    "duration": 54,
    "start_time": "2022-01-25T17:05:03.136Z"
   },
   {
    "duration": 22,
    "start_time": "2022-01-25T17:05:03.192Z"
   },
   {
    "duration": 26,
    "start_time": "2022-01-25T17:05:03.216Z"
   },
   {
    "duration": 34,
    "start_time": "2022-01-25T17:05:03.244Z"
   },
   {
    "duration": 30,
    "start_time": "2022-01-25T17:05:03.280Z"
   },
   {
    "duration": 372,
    "start_time": "2022-02-07T06:24:20.486Z"
   },
   {
    "duration": 4,
    "start_time": "2022-02-07T06:24:24.006Z"
   },
   {
    "duration": 721,
    "start_time": "2022-02-07T06:24:24.373Z"
   },
   {
    "duration": 174,
    "start_time": "2022-02-07T06:24:25.822Z"
   },
   {
    "duration": 194,
    "start_time": "2022-02-07T06:24:27.014Z"
   },
   {
    "duration": 6,
    "start_time": "2022-02-07T06:25:03.409Z"
   },
   {
    "duration": 839,
    "start_time": "2022-02-07T06:25:03.418Z"
   },
   {
    "duration": 199,
    "start_time": "2022-02-07T06:25:04.260Z"
   },
   {
    "duration": 26,
    "start_time": "2022-02-07T06:25:04.462Z"
   },
   {
    "duration": 33,
    "start_time": "2022-02-07T06:25:04.490Z"
   },
   {
    "duration": 32,
    "start_time": "2022-02-07T06:25:04.526Z"
   },
   {
    "duration": 26,
    "start_time": "2022-02-07T06:25:04.561Z"
   },
   {
    "duration": 6,
    "start_time": "2022-02-07T06:25:04.590Z"
   },
   {
    "duration": 59,
    "start_time": "2022-02-07T06:25:04.602Z"
   },
   {
    "duration": 24,
    "start_time": "2022-02-07T06:25:04.665Z"
   },
   {
    "duration": 31,
    "start_time": "2022-02-07T06:25:04.692Z"
   },
   {
    "duration": 112,
    "start_time": "2022-02-07T06:25:04.726Z"
   },
   {
    "duration": 122,
    "start_time": "2022-02-07T06:25:04.841Z"
   },
   {
    "duration": 74,
    "start_time": "2022-02-07T06:25:04.965Z"
   },
   {
    "duration": 70,
    "start_time": "2022-02-07T06:25:05.042Z"
   },
   {
    "duration": 4,
    "start_time": "2022-02-07T06:25:05.115Z"
   },
   {
    "duration": 40,
    "start_time": "2022-02-07T06:25:05.121Z"
   },
   {
    "duration": 60,
    "start_time": "2022-02-07T06:25:05.164Z"
   },
   {
    "duration": 35,
    "start_time": "2022-02-07T06:25:05.226Z"
   },
   {
    "duration": 16,
    "start_time": "2022-02-07T06:25:05.263Z"
   },
   {
    "duration": 5,
    "start_time": "2022-02-07T06:25:05.282Z"
   },
   {
    "duration": 33,
    "start_time": "2022-02-07T06:25:05.289Z"
   },
   {
    "duration": 52,
    "start_time": "2022-02-07T06:25:05.324Z"
   },
   {
    "duration": 25,
    "start_time": "2022-02-07T06:25:05.378Z"
   },
   {
    "duration": 25,
    "start_time": "2022-02-07T06:25:05.405Z"
   },
   {
    "duration": 50,
    "start_time": "2022-02-07T06:25:05.432Z"
   },
   {
    "duration": 23,
    "start_time": "2022-02-07T06:25:05.487Z"
   },
   {
    "duration": 12,
    "start_time": "2022-02-07T06:25:05.513Z"
   },
   {
    "duration": 16,
    "start_time": "2022-02-07T06:25:05.559Z"
   },
   {
    "duration": 11,
    "start_time": "2022-02-07T06:25:05.578Z"
   },
   {
    "duration": 12,
    "start_time": "2022-02-07T06:25:05.592Z"
   },
   {
    "duration": 57,
    "start_time": "2022-02-07T06:25:05.607Z"
   },
   {
    "duration": 22,
    "start_time": "2022-02-07T06:25:05.666Z"
   },
   {
    "duration": 27,
    "start_time": "2022-02-07T06:25:05.690Z"
   },
   {
    "duration": 48,
    "start_time": "2022-02-07T06:25:05.720Z"
   },
   {
    "duration": 11,
    "start_time": "2022-02-07T06:25:05.771Z"
   },
   {
    "duration": 7,
    "start_time": "2022-02-07T06:25:05.784Z"
   },
   {
    "duration": 8,
    "start_time": "2022-02-07T06:25:05.793Z"
   },
   {
    "duration": 7,
    "start_time": "2022-02-07T06:25:05.803Z"
   },
   {
    "duration": 108,
    "start_time": "2022-02-07T20:52:53.498Z"
   },
   {
    "duration": 108,
    "start_time": "2022-02-07T20:53:25.476Z"
   }
  ],
  "colab": {
   "collapsed_sections": [
    "E0vqbgi9ay0H",
    "VUC88oWjTJw2"
   ],
   "name": "yandex_music_project_2021.2.ipynb",
   "provenance": []
  },
  "kernelspec": {
   "display_name": "Python 3 (ipykernel)",
   "language": "python",
   "name": "python3"
  },
  "language_info": {
   "codemirror_mode": {
    "name": "ipython",
    "version": 3
   },
   "file_extension": ".py",
   "mimetype": "text/x-python",
   "name": "python",
   "nbconvert_exporter": "python",
   "pygments_lexer": "ipython3",
   "version": "3.8.13"
  },
  "toc": {
   "base_numbering": 1,
   "nav_menu": {},
   "number_sections": true,
   "sideBar": true,
   "skip_h1_title": true,
   "title_cell": "Table of Contents",
   "title_sidebar": "Contents",
   "toc_cell": false,
   "toc_position": {},
   "toc_section_display": true,
   "toc_window_display": true
  }
 },
 "nbformat": 4,
 "nbformat_minor": 1
}
