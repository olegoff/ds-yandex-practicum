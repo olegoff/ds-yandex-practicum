{
 "cells": [
  {
   "cell_type": "markdown",
   "id": "760a8ba4",
   "metadata": {},
   "source": [
    "# Исследование надежности заемщиков"
   ]
  },
  {
   "cell_type": "markdown",
   "id": "29355116",
   "metadata": {},
   "source": [
    "Заказ на исследование поступил от кредитного отдела банка. Результаты исследования будут учтены при построении модели *кредитного скоринга* - системы, оценивающей способность потенциального заемщика вернуть кредит банку.\n",
    "\n",
    "**Цель исследования** - проверить влияет ли семейное положение, количество детей, уровень дохода у клиента и цель получения кредита на наличие задолженностей по возврату кредитов. В ходе исследования проверим несколько гипотез:\n",
    "1. Существует зависимость между количеством детей и возвратом кредита в срок.\n",
    "2. Существует зависимость между семейным положением и возвратом кредита в срок.\n",
    "3. Существует зависимость между уровнем дохода и возвратом кредита в срок.\n",
    "4. Различные цели кредита также влияют на его возврат в срок.\n",
    "\n",
    "Данные о клиентах банка выгружены в файл `data.csv`. О данных ничего не известно, поэтому перед проверкой гипотез понадобится обзор данных и при необходимости их предобработка.\n",
    "\n",
    "Исследование будет проведено в три этапа:\n",
    "1. Обзор данных.\n",
    "2. Предобработка данных.\n",
    "3. Проверка гипотез и формулирование выводов."
   ]
  },
  {
   "cell_type": "markdown",
   "id": "4470d538",
   "metadata": {},
   "source": [
    "---"
   ]
  },
  {
   "cell_type": "markdown",
   "id": "57b572e9",
   "metadata": {},
   "source": [
    "## Обзор данных"
   ]
  },
  {
   "cell_type": "code",
   "execution_count": 1,
   "id": "fd8e9f9b",
   "metadata": {},
   "outputs": [
    {
     "data": {
      "text/html": [
       "<div>\n",
       "<style scoped>\n",
       "    .dataframe tbody tr th:only-of-type {\n",
       "        vertical-align: middle;\n",
       "    }\n",
       "\n",
       "    .dataframe tbody tr th {\n",
       "        vertical-align: top;\n",
       "    }\n",
       "\n",
       "    .dataframe thead th {\n",
       "        text-align: right;\n",
       "    }\n",
       "</style>\n",
       "<table border=\"1\" class=\"dataframe\">\n",
       "  <thead>\n",
       "    <tr style=\"text-align: right;\">\n",
       "      <th></th>\n",
       "      <th>children</th>\n",
       "      <th>days_employed</th>\n",
       "      <th>dob_years</th>\n",
       "      <th>education</th>\n",
       "      <th>education_id</th>\n",
       "      <th>family_status</th>\n",
       "      <th>family_status_id</th>\n",
       "      <th>gender</th>\n",
       "      <th>income_type</th>\n",
       "      <th>debt</th>\n",
       "      <th>total_income</th>\n",
       "      <th>purpose</th>\n",
       "    </tr>\n",
       "  </thead>\n",
       "  <tbody>\n",
       "    <tr>\n",
       "      <th>0</th>\n",
       "      <td>1</td>\n",
       "      <td>-8437.673028</td>\n",
       "      <td>42</td>\n",
       "      <td>высшее</td>\n",
       "      <td>0</td>\n",
       "      <td>женат / замужем</td>\n",
       "      <td>0</td>\n",
       "      <td>F</td>\n",
       "      <td>сотрудник</td>\n",
       "      <td>0</td>\n",
       "      <td>253875.639453</td>\n",
       "      <td>покупка жилья</td>\n",
       "    </tr>\n",
       "    <tr>\n",
       "      <th>1</th>\n",
       "      <td>1</td>\n",
       "      <td>-4024.803754</td>\n",
       "      <td>36</td>\n",
       "      <td>среднее</td>\n",
       "      <td>1</td>\n",
       "      <td>женат / замужем</td>\n",
       "      <td>0</td>\n",
       "      <td>F</td>\n",
       "      <td>сотрудник</td>\n",
       "      <td>0</td>\n",
       "      <td>112080.014102</td>\n",
       "      <td>приобретение автомобиля</td>\n",
       "    </tr>\n",
       "    <tr>\n",
       "      <th>2</th>\n",
       "      <td>0</td>\n",
       "      <td>-5623.422610</td>\n",
       "      <td>33</td>\n",
       "      <td>Среднее</td>\n",
       "      <td>1</td>\n",
       "      <td>женат / замужем</td>\n",
       "      <td>0</td>\n",
       "      <td>M</td>\n",
       "      <td>сотрудник</td>\n",
       "      <td>0</td>\n",
       "      <td>145885.952297</td>\n",
       "      <td>покупка жилья</td>\n",
       "    </tr>\n",
       "    <tr>\n",
       "      <th>3</th>\n",
       "      <td>3</td>\n",
       "      <td>-4124.747207</td>\n",
       "      <td>32</td>\n",
       "      <td>среднее</td>\n",
       "      <td>1</td>\n",
       "      <td>женат / замужем</td>\n",
       "      <td>0</td>\n",
       "      <td>M</td>\n",
       "      <td>сотрудник</td>\n",
       "      <td>0</td>\n",
       "      <td>267628.550329</td>\n",
       "      <td>дополнительное образование</td>\n",
       "    </tr>\n",
       "    <tr>\n",
       "      <th>4</th>\n",
       "      <td>0</td>\n",
       "      <td>340266.072047</td>\n",
       "      <td>53</td>\n",
       "      <td>среднее</td>\n",
       "      <td>1</td>\n",
       "      <td>гражданский брак</td>\n",
       "      <td>1</td>\n",
       "      <td>F</td>\n",
       "      <td>пенсионер</td>\n",
       "      <td>0</td>\n",
       "      <td>158616.077870</td>\n",
       "      <td>сыграть свадьбу</td>\n",
       "    </tr>\n",
       "  </tbody>\n",
       "</table>\n",
       "</div>"
      ],
      "text/plain": [
       "   children  days_employed  dob_years education  education_id  \\\n",
       "0         1   -8437.673028         42    высшее             0   \n",
       "1         1   -4024.803754         36   среднее             1   \n",
       "2         0   -5623.422610         33   Среднее             1   \n",
       "3         3   -4124.747207         32   среднее             1   \n",
       "4         0  340266.072047         53   среднее             1   \n",
       "\n",
       "      family_status  family_status_id gender income_type  debt   total_income  \\\n",
       "0   женат / замужем                 0      F   сотрудник     0  253875.639453   \n",
       "1   женат / замужем                 0      F   сотрудник     0  112080.014102   \n",
       "2   женат / замужем                 0      M   сотрудник     0  145885.952297   \n",
       "3   женат / замужем                 0      M   сотрудник     0  267628.550329   \n",
       "4  гражданский брак                 1      F   пенсионер     0  158616.077870   \n",
       "\n",
       "                      purpose  \n",
       "0               покупка жилья  \n",
       "1     приобретение автомобиля  \n",
       "2               покупка жилья  \n",
       "3  дополнительное образование  \n",
       "4             сыграть свадьбу  "
      ]
     },
     "metadata": {},
     "output_type": "display_data"
    }
   ],
   "source": [
    "# импорт библиотеки pandas\n",
    "import pandas as pd\n",
    "\n",
    "# чтение файла с данными и сохранение в df\n",
    "df = pd.read_csv('/datasets/data.csv')\n",
    "\n",
    "# получение первых 5 строк таблицы df\n",
    "display(df.head(5))"
   ]
  },
  {
   "cell_type": "code",
   "execution_count": 2,
   "id": "9b666d9c",
   "metadata": {},
   "outputs": [
    {
     "name": "stdout",
     "output_type": "stream",
     "text": [
      "<class 'pandas.core.frame.DataFrame'>\n",
      "RangeIndex: 21525 entries, 0 to 21524\n",
      "Data columns (total 12 columns):\n",
      " #   Column            Non-Null Count  Dtype  \n",
      "---  ------            --------------  -----  \n",
      " 0   children          21525 non-null  int64  \n",
      " 1   days_employed     19351 non-null  float64\n",
      " 2   dob_years         21525 non-null  int64  \n",
      " 3   education         21525 non-null  object \n",
      " 4   education_id      21525 non-null  int64  \n",
      " 5   family_status     21525 non-null  object \n",
      " 6   family_status_id  21525 non-null  int64  \n",
      " 7   gender            21525 non-null  object \n",
      " 8   income_type       21525 non-null  object \n",
      " 9   debt              21525 non-null  int64  \n",
      " 10  total_income      19351 non-null  float64\n",
      " 11  purpose           21525 non-null  object \n",
      "dtypes: float64(2), int64(5), object(5)\n",
      "memory usage: 2.0+ MB\n"
     ]
    }
   ],
   "source": [
    "# просмотр общей информации о данных в таблице df\n",
    "df.info()"
   ]
  },
  {
   "cell_type": "markdown",
   "id": "fa19601c",
   "metadata": {},
   "source": [
    "В таблице двенадцать столбцов с различными типами данных: *int64*, *float64* и *object*. Согласно документации к данным:\n",
    "* `children` — количество детей в семье;\n",
    "* `days_employed` —  общий трудовой стаж в днях;  \n",
    "* `dob_years` — возраст клиента в годах;\n",
    "* `education` — уровень образования клиента;\n",
    "* `family_status` — семейное положение;\n",
    "* `family_status_id` — идентификатор семейного положения;\n",
    "* `gender` — пол клиента;\n",
    "* `income_type` — тип занятости;\n",
    "* `debt` — имел ли задолженность по возврату кредитов;\n",
    "* `total_income` — ежемесячный доход;\n",
    "* `purpose` — цель получения кредита.\n",
    "\n",
    "Нарушений стиля в названиях колонок не обнаружено. Но, количество значений в столбцах `days_employed` и `total_income` отличается от общего, что говорит о пропущенных значениях. Поэтому, прежде чем приступать к проверке гипотез, необходимо устранить проблемы в данных."
   ]
  },
  {
   "cell_type": "markdown",
   "id": "e9d8d8a7",
   "metadata": {},
   "source": [
    "---"
   ]
  },
  {
   "cell_type": "markdown",
   "id": "621c66dc",
   "metadata": {},
   "source": [
    "## Предобработка данных"
   ]
  },
  {
   "cell_type": "markdown",
   "id": "1dab1ef6",
   "metadata": {},
   "source": [
    "### Проверка пропусков"
   ]
  },
  {
   "cell_type": "markdown",
   "id": "3534f338",
   "metadata": {},
   "source": [
    "Посчитаем количество пропущенных значений в данных методами библиотеки `pandas`."
   ]
  },
  {
   "cell_type": "code",
   "execution_count": 3,
   "id": "8c6fc5bf",
   "metadata": {},
   "outputs": [
    {
     "data": {
      "text/plain": [
       "children               0\n",
       "days_employed       2174\n",
       "dob_years              0\n",
       "education              0\n",
       "education_id           0\n",
       "family_status          0\n",
       "family_status_id       0\n",
       "gender                 0\n",
       "income_type            0\n",
       "debt                   0\n",
       "total_income        2174\n",
       "purpose                0\n",
       "dtype: int64"
      ]
     },
     "execution_count": 3,
     "metadata": {},
     "output_type": "execute_result"
    }
   ],
   "source": [
    "# подсчет пропусков\n",
    "df.isna().sum()"
   ]
  },
  {
   "cell_type": "markdown",
   "id": "679f2faa",
   "metadata": {},
   "source": [
    "В обоих столбцах пропущено одинаковое количество значений - 2174. Оценим какую долю от общего количества данных составляют пропущенные значения."
   ]
  },
  {
   "cell_type": "code",
   "execution_count": 4,
   "id": "a31484f5",
   "metadata": {},
   "outputs": [
    {
     "data": {
      "text/plain": [
       "0.10099883855981417"
      ]
     },
     "execution_count": 4,
     "metadata": {},
     "output_type": "execute_result"
    }
   ],
   "source": [
    "# подсчет доли пропусков по отношению ко всем данным\n",
    "df['days_employed'].isna().sum() / df.shape[0]"
   ]
  },
  {
   "cell_type": "markdown",
   "id": "f5ca9073",
   "metadata": {},
   "source": [
    "Пропущенные значения составляют около 10% от общего количества данных. Так как методы формирования данных в этой таблице не известны, можно предположить различные причины появления данных пропусков:\n",
    "* клиенты могли не предоставить эти данные в процессе анкетирования и/или подачи заявления на кредит;\n",
    "* данные могли быть пропущены при занесении в базу данных с нецифровых носителей информации;\n",
    "* данные могли быть частично утрачены в процессе некорректной выгрузки.\n",
    "\n",
    "Чтобы не удалять подобный существенный объем данных и использовать их в процессе проверки гипотез, заполним пропущенные данные медианными значениями. Это лучшее решение для количественных переменных по сравнению со средними значениями, так как оно менее чувствительно к наличию выбросов (экстремальных значений в данных).\n",
    "\n",
    "Произведем проверку данных на наличие аномальных значений."
   ]
  },
  {
   "cell_type": "markdown",
   "id": "31437fb9",
   "metadata": {},
   "source": [
    "---"
   ]
  },
  {
   "cell_type": "markdown",
   "id": "cd43fcc7",
   "metadata": {},
   "source": [
    "### Проверка данных на аномалии и их исправление"
   ]
  },
  {
   "cell_type": "markdown",
   "id": "1b88cefd",
   "metadata": {},
   "source": [
    "Посмотрим на основные описательные статистики данных. Прежде чем заполнять пропущенные значения необходимо проанализировать существующие данные на какие-либо аномальные значения."
   ]
  },
  {
   "cell_type": "code",
   "execution_count": 5,
   "id": "063a6251",
   "metadata": {},
   "outputs": [
    {
     "data": {
      "text/html": [
       "<div>\n",
       "<style scoped>\n",
       "    .dataframe tbody tr th:only-of-type {\n",
       "        vertical-align: middle;\n",
       "    }\n",
       "\n",
       "    .dataframe tbody tr th {\n",
       "        vertical-align: top;\n",
       "    }\n",
       "\n",
       "    .dataframe thead th {\n",
       "        text-align: right;\n",
       "    }\n",
       "</style>\n",
       "<table border=\"1\" class=\"dataframe\">\n",
       "  <thead>\n",
       "    <tr style=\"text-align: right;\">\n",
       "      <th></th>\n",
       "      <th>children</th>\n",
       "      <th>days_employed</th>\n",
       "      <th>dob_years</th>\n",
       "      <th>education_id</th>\n",
       "      <th>family_status_id</th>\n",
       "      <th>debt</th>\n",
       "      <th>total_income</th>\n",
       "    </tr>\n",
       "  </thead>\n",
       "  <tbody>\n",
       "    <tr>\n",
       "      <th>count</th>\n",
       "      <td>21525.000000</td>\n",
       "      <td>19351.000000</td>\n",
       "      <td>21525.000000</td>\n",
       "      <td>21525.000000</td>\n",
       "      <td>21525.000000</td>\n",
       "      <td>21525.000000</td>\n",
       "      <td>1.935100e+04</td>\n",
       "    </tr>\n",
       "    <tr>\n",
       "      <th>mean</th>\n",
       "      <td>0.538908</td>\n",
       "      <td>63046.497661</td>\n",
       "      <td>43.293380</td>\n",
       "      <td>0.817236</td>\n",
       "      <td>0.972544</td>\n",
       "      <td>0.080883</td>\n",
       "      <td>1.674223e+05</td>\n",
       "    </tr>\n",
       "    <tr>\n",
       "      <th>std</th>\n",
       "      <td>1.381587</td>\n",
       "      <td>140827.311974</td>\n",
       "      <td>12.574584</td>\n",
       "      <td>0.548138</td>\n",
       "      <td>1.420324</td>\n",
       "      <td>0.272661</td>\n",
       "      <td>1.029716e+05</td>\n",
       "    </tr>\n",
       "    <tr>\n",
       "      <th>min</th>\n",
       "      <td>-1.000000</td>\n",
       "      <td>-18388.949901</td>\n",
       "      <td>0.000000</td>\n",
       "      <td>0.000000</td>\n",
       "      <td>0.000000</td>\n",
       "      <td>0.000000</td>\n",
       "      <td>2.066726e+04</td>\n",
       "    </tr>\n",
       "    <tr>\n",
       "      <th>25%</th>\n",
       "      <td>0.000000</td>\n",
       "      <td>-2747.423625</td>\n",
       "      <td>33.000000</td>\n",
       "      <td>1.000000</td>\n",
       "      <td>0.000000</td>\n",
       "      <td>0.000000</td>\n",
       "      <td>1.030532e+05</td>\n",
       "    </tr>\n",
       "    <tr>\n",
       "      <th>50%</th>\n",
       "      <td>0.000000</td>\n",
       "      <td>-1203.369529</td>\n",
       "      <td>42.000000</td>\n",
       "      <td>1.000000</td>\n",
       "      <td>0.000000</td>\n",
       "      <td>0.000000</td>\n",
       "      <td>1.450179e+05</td>\n",
       "    </tr>\n",
       "    <tr>\n",
       "      <th>75%</th>\n",
       "      <td>1.000000</td>\n",
       "      <td>-291.095954</td>\n",
       "      <td>53.000000</td>\n",
       "      <td>1.000000</td>\n",
       "      <td>1.000000</td>\n",
       "      <td>0.000000</td>\n",
       "      <td>2.034351e+05</td>\n",
       "    </tr>\n",
       "    <tr>\n",
       "      <th>max</th>\n",
       "      <td>20.000000</td>\n",
       "      <td>401755.400475</td>\n",
       "      <td>75.000000</td>\n",
       "      <td>4.000000</td>\n",
       "      <td>4.000000</td>\n",
       "      <td>1.000000</td>\n",
       "      <td>2.265604e+06</td>\n",
       "    </tr>\n",
       "  </tbody>\n",
       "</table>\n",
       "</div>"
      ],
      "text/plain": [
       "           children  days_employed     dob_years  education_id  \\\n",
       "count  21525.000000   19351.000000  21525.000000  21525.000000   \n",
       "mean       0.538908   63046.497661     43.293380      0.817236   \n",
       "std        1.381587  140827.311974     12.574584      0.548138   \n",
       "min       -1.000000  -18388.949901      0.000000      0.000000   \n",
       "25%        0.000000   -2747.423625     33.000000      1.000000   \n",
       "50%        0.000000   -1203.369529     42.000000      1.000000   \n",
       "75%        1.000000    -291.095954     53.000000      1.000000   \n",
       "max       20.000000  401755.400475     75.000000      4.000000   \n",
       "\n",
       "       family_status_id          debt  total_income  \n",
       "count      21525.000000  21525.000000  1.935100e+04  \n",
       "mean           0.972544      0.080883  1.674223e+05  \n",
       "std            1.420324      0.272661  1.029716e+05  \n",
       "min            0.000000      0.000000  2.066726e+04  \n",
       "25%            0.000000      0.000000  1.030532e+05  \n",
       "50%            0.000000      0.000000  1.450179e+05  \n",
       "75%            1.000000      0.000000  2.034351e+05  \n",
       "max            4.000000      1.000000  2.265604e+06  "
      ]
     },
     "execution_count": 5,
     "metadata": {},
     "output_type": "execute_result"
    }
   ],
   "source": [
    "# отображение основных описательных статистик данных\n",
    "df.describe()"
   ]
  },
  {
   "cell_type": "markdown",
   "id": "98824688",
   "metadata": {},
   "source": [
    "Анализ полученных статистических метрик позволяет сделать выводы о следующих проблемах с данными, с которыми предстоит поработать:\n",
    "* отрицательное значение в колонке `children`;\n",
    "* отрицательные значения в колонке о трудовым стаже `days_employed`;\n",
    "* аномально большие значения в колонке с трудовым стажем `days_employed`.\n",
    "\n",
    "Подобные ошибки в данных могут быть связаны с человеческим фактором и ошибками в процессе занесения соотвествующих показателей в базы."
   ]
  },
  {
   "cell_type": "markdown",
   "id": "be6fe71e",
   "metadata": {},
   "source": [
    "Исправим данные с отрицательным количеством детей, заменив некорректные данные на медианные значения. Для этого оценим количество значений с некорректными данными."
   ]
  },
  {
   "cell_type": "code",
   "execution_count": 6,
   "id": "17c58f66",
   "metadata": {},
   "outputs": [
    {
     "data": {
      "text/plain": [
       "47"
      ]
     },
     "execution_count": 6,
     "metadata": {},
     "output_type": "execute_result"
    }
   ],
   "source": [
    "# количество клиентов с \"отрицательным\" количеством детей\n",
    "df.loc[df['children'] < 0]['children'].count()"
   ]
  },
  {
   "cell_type": "markdown",
   "id": "74aa29e8",
   "metadata": {},
   "source": [
    "Общее количество некорректных данных о детях незначительно и может быть заполненно медианным значением, полученным по оставшимся корректным данным."
   ]
  },
  {
   "cell_type": "code",
   "execution_count": 7,
   "id": "c97c386e",
   "metadata": {},
   "outputs": [
    {
     "data": {
      "text/plain": [
       "0"
      ]
     },
     "execution_count": 7,
     "metadata": {},
     "output_type": "execute_result"
    }
   ],
   "source": [
    "# определение медианного значения по количеству детей для всех данных за исключением тех, что имеют отрицательные значения\n",
    "median_children = int(df.loc[df['children'] >= 0]['children'].median())\n",
    "median_children"
   ]
  },
  {
   "cell_type": "code",
   "execution_count": 8,
   "id": "48494551",
   "metadata": {},
   "outputs": [],
   "source": [
    "# замена отрицательных значений в количестве детей на медианное\n",
    "df.loc[df.loc[df['children'] < 0].index, 'children'] = median_children"
   ]
  },
  {
   "cell_type": "code",
   "execution_count": 9,
   "id": "353d924b",
   "metadata": {},
   "outputs": [
    {
     "data": {
      "text/plain": [
       "0"
      ]
     },
     "execution_count": 9,
     "metadata": {},
     "output_type": "execute_result"
    }
   ],
   "source": [
    "# проверка количества клиентов с \"отрицательным\" количеством детей после исправления\n",
    "df.loc[df['children'] < 0]['children'].count()"
   ]
  },
  {
   "cell_type": "markdown",
   "id": "889d8ae8",
   "metadata": {},
   "source": [
    "Также посмотрим на респределение клиентов с более чем 5 детьми. Тут также могут находиться аномальные данные."
   ]
  },
  {
   "cell_type": "code",
   "execution_count": 10,
   "id": "d720a585",
   "metadata": {},
   "outputs": [
    {
     "data": {
      "text/plain": [
       "20    76\n",
       "Name: children, dtype: int64"
      ]
     },
     "execution_count": 10,
     "metadata": {},
     "output_type": "execute_result"
    }
   ],
   "source": [
    "df.loc[df['children'] > 5]['children'].value_counts()"
   ]
  },
  {
   "cell_type": "markdown",
   "id": "c4eda215",
   "metadata": {},
   "source": [
    "76 клиентов с 20 детьми. Это явная ошибка в данных. Также заменим их на медианное значение."
   ]
  },
  {
   "cell_type": "code",
   "execution_count": 11,
   "id": "7eb9ae22",
   "metadata": {},
   "outputs": [],
   "source": [
    "# замена значений у клиентов с 20 детьми в данных на медианное значение\n",
    "df.loc[df.loc[df['children'] == 20].index, 'children'] = median_children"
   ]
  },
  {
   "cell_type": "markdown",
   "id": "2a7a46aa",
   "metadata": {},
   "source": [
    "---"
   ]
  },
  {
   "cell_type": "markdown",
   "id": "10bcf780",
   "metadata": {},
   "source": [
    "Далее исправим аномалии в данные о днях трудового стажа. Для начала также определим общее количество проблемных данных."
   ]
  },
  {
   "cell_type": "code",
   "execution_count": 12,
   "id": "941564c6",
   "metadata": {},
   "outputs": [
    {
     "data": {
      "text/plain": [
       "15906"
      ]
     },
     "execution_count": 12,
     "metadata": {},
     "output_type": "execute_result"
    }
   ],
   "source": [
    "# количество клиентов с \"отрицательным\" количеством дней трудового стажа\n",
    "df.loc[df['days_employed'] < 0]['days_employed'].count()"
   ]
  },
  {
   "cell_type": "markdown",
   "id": "e2eebc22",
   "metadata": {},
   "source": [
    "Большая часть данных по трудовому стажу имеет отрицательные значения. Поэтому, подход, использованный выше для количества детей здесь неприменим. Можно отметить систематическое появления знака `-` в данных о трудовом стаже и предположить, что он был получен из знака дефиса при занесении данных в базу. Следовательно, можно попробовать данные о трудовом стаже взять по модулю данного числа."
   ]
  },
  {
   "cell_type": "code",
   "execution_count": 13,
   "id": "ce7ee912",
   "metadata": {},
   "outputs": [],
   "source": [
    "# перезапись значения трудового стажа в отрицательных днях аналогичным по модулю значением\n",
    "df.loc[df.loc[df['days_employed'] < 0].index, 'days_employed'] = \\\n",
    "abs(df.loc[df.loc[df['days_employed'] < 0].index, 'days_employed'])"
   ]
  },
  {
   "cell_type": "markdown",
   "id": "82c83f14",
   "metadata": {},
   "source": [
    "Для проверки корректности подобного подхода предлагается провести следующую проверку. Взять все имеющиеся данные по трудовому стажу, измеряемому в днях, за исключением аномально больших, которые могут быть определены следующим пороговым значением:\n",
    "\n",
    "`60 * 250 = 15000`, то есть 60 лет трудового стажа на 250 рабочих дней в году.\n",
    "\n",
    "Разделить их на продолжительность трудового стажа, измеренного в годах, величину которого можно определить как текущий возраст клиента из столбца `dob_years` минус возраст 20 лет как усредненный показатель, с которого может начинаться отсчет трудового стажа.\n",
    "\n",
    "После этого разделить данные трудового стажа в днях на данные по трудовому стажу в годах и посмотреть какая доля значений превышает условно максимальное количество трудовых дней в году, составляющее примерно 250 дней."
   ]
  },
  {
   "cell_type": "code",
   "execution_count": 14,
   "id": "1385311b",
   "metadata": {},
   "outputs": [
    {
     "data": {
      "text/plain": [
       "15893"
      ]
     },
     "execution_count": 14,
     "metadata": {},
     "output_type": "execute_result"
    }
   ],
   "source": [
    "# количество данных по количеству дней трудового стажа за исключением аномально больших\n",
    "df.loc[df['days_employed'] <= 15000]['days_employed'].count()"
   ]
  },
  {
   "cell_type": "code",
   "execution_count": 15,
   "id": "6d74a34b",
   "metadata": {},
   "outputs": [
    {
     "data": {
      "text/plain": [
       "3458"
      ]
     },
     "execution_count": 15,
     "metadata": {},
     "output_type": "execute_result"
    }
   ],
   "source": [
    "# количество аномально больших данных по количеству дней трудового стажа\n",
    "df.loc[df['days_employed'] > 15000]['days_employed'].count()"
   ]
  },
  {
   "cell_type": "code",
   "execution_count": 16,
   "id": "25c69dac",
   "metadata": {},
   "outputs": [
    {
     "data": {
      "text/plain": [
       "0.2175800666960297"
      ]
     },
     "execution_count": 16,
     "metadata": {},
     "output_type": "execute_result"
    }
   ],
   "source": [
    "# доля аномально больших данных\n",
    "df.loc[df['days_employed'] > 15000]['days_employed'].count() / df.loc[df['days_employed'] <= 15000]['days_employed'].count()"
   ]
  },
  {
   "cell_type": "markdown",
   "id": "d631d41b",
   "metadata": {},
   "source": [
    "Аномально больших данных почти 22%. Достаточно много. Но, далее, если остальные данные будут похожи на корректные, аномальные данные можно будет попробовать скорректировать."
   ]
  },
  {
   "cell_type": "markdown",
   "id": "20bc05e4",
   "metadata": {},
   "source": [
    "Для удобства проверки создадим новую таблицу, к которую занесем только корректные по столбцу `days_employed` данные."
   ]
  },
  {
   "cell_type": "code",
   "execution_count": 17,
   "id": "8a27c070",
   "metadata": {},
   "outputs": [],
   "source": [
    "# создание новой таблицы по двум условиям: трудовой стаж менее или равен 15000 дней и возраст более 21 года, чтобы\n",
    "# избежать отрицательных значений\n",
    "correct_data = df.loc[(df['days_employed'] <= 15000) & (df['dob_years'] > 20)].reset_index(drop=True)"
   ]
  },
  {
   "cell_type": "code",
   "execution_count": 18,
   "id": "c03710eb",
   "metadata": {},
   "outputs": [],
   "source": [
    "# добавление нового столбца с данными по стажу в годах как разница между возрастом и 20 годами\n",
    "correct_data['years_employed'] = correct_data['dob_years'] - 20"
   ]
  },
  {
   "cell_type": "code",
   "execution_count": 19,
   "id": "f7c815c8",
   "metadata": {},
   "outputs": [],
   "source": [
    "# добавление нового столбца с расчетом среднего количества рабочих дней за трудовой стаж\n",
    "correct_data['employed_days_in_year'] = correct_data['days_employed'] / correct_data['years_employed']\n",
    "correct_data['employed_days_in_year'] = correct_data['employed_days_in_year'].astype('int')"
   ]
  },
  {
   "cell_type": "code",
   "execution_count": 20,
   "id": "d06e44eb",
   "metadata": {},
   "outputs": [
    {
     "data": {
      "text/html": [
       "<div>\n",
       "<style scoped>\n",
       "    .dataframe tbody tr th:only-of-type {\n",
       "        vertical-align: middle;\n",
       "    }\n",
       "\n",
       "    .dataframe tbody tr th {\n",
       "        vertical-align: top;\n",
       "    }\n",
       "\n",
       "    .dataframe thead th {\n",
       "        text-align: right;\n",
       "    }\n",
       "</style>\n",
       "<table border=\"1\" class=\"dataframe\">\n",
       "  <thead>\n",
       "    <tr style=\"text-align: right;\">\n",
       "      <th></th>\n",
       "      <th>children</th>\n",
       "      <th>days_employed</th>\n",
       "      <th>dob_years</th>\n",
       "      <th>education</th>\n",
       "      <th>education_id</th>\n",
       "      <th>family_status</th>\n",
       "      <th>family_status_id</th>\n",
       "      <th>gender</th>\n",
       "      <th>income_type</th>\n",
       "      <th>debt</th>\n",
       "      <th>total_income</th>\n",
       "      <th>purpose</th>\n",
       "      <th>years_employed</th>\n",
       "      <th>employed_days_in_year</th>\n",
       "    </tr>\n",
       "  </thead>\n",
       "  <tbody>\n",
       "    <tr>\n",
       "      <th>15755</th>\n",
       "      <td>1</td>\n",
       "      <td>2351.431934</td>\n",
       "      <td>37</td>\n",
       "      <td>ученая степень</td>\n",
       "      <td>4</td>\n",
       "      <td>в разводе</td>\n",
       "      <td>3</td>\n",
       "      <td>M</td>\n",
       "      <td>сотрудник</td>\n",
       "      <td>0</td>\n",
       "      <td>115949.039788</td>\n",
       "      <td>покупка коммерческой недвижимости</td>\n",
       "      <td>17</td>\n",
       "      <td>138</td>\n",
       "    </tr>\n",
       "    <tr>\n",
       "      <th>15756</th>\n",
       "      <td>1</td>\n",
       "      <td>4529.316663</td>\n",
       "      <td>43</td>\n",
       "      <td>среднее</td>\n",
       "      <td>1</td>\n",
       "      <td>гражданский брак</td>\n",
       "      <td>1</td>\n",
       "      <td>F</td>\n",
       "      <td>компаньон</td>\n",
       "      <td>0</td>\n",
       "      <td>224791.862382</td>\n",
       "      <td>операции с жильем</td>\n",
       "      <td>23</td>\n",
       "      <td>196</td>\n",
       "    </tr>\n",
       "    <tr>\n",
       "      <th>15757</th>\n",
       "      <td>1</td>\n",
       "      <td>2113.346888</td>\n",
       "      <td>38</td>\n",
       "      <td>среднее</td>\n",
       "      <td>1</td>\n",
       "      <td>гражданский брак</td>\n",
       "      <td>1</td>\n",
       "      <td>M</td>\n",
       "      <td>сотрудник</td>\n",
       "      <td>1</td>\n",
       "      <td>89672.561153</td>\n",
       "      <td>недвижимость</td>\n",
       "      <td>18</td>\n",
       "      <td>117</td>\n",
       "    </tr>\n",
       "    <tr>\n",
       "      <th>15758</th>\n",
       "      <td>3</td>\n",
       "      <td>3112.481705</td>\n",
       "      <td>38</td>\n",
       "      <td>среднее</td>\n",
       "      <td>1</td>\n",
       "      <td>женат / замужем</td>\n",
       "      <td>0</td>\n",
       "      <td>M</td>\n",
       "      <td>сотрудник</td>\n",
       "      <td>1</td>\n",
       "      <td>244093.050500</td>\n",
       "      <td>на покупку своего автомобиля</td>\n",
       "      <td>18</td>\n",
       "      <td>172</td>\n",
       "    </tr>\n",
       "    <tr>\n",
       "      <th>15759</th>\n",
       "      <td>2</td>\n",
       "      <td>1984.507589</td>\n",
       "      <td>40</td>\n",
       "      <td>среднее</td>\n",
       "      <td>1</td>\n",
       "      <td>женат / замужем</td>\n",
       "      <td>0</td>\n",
       "      <td>F</td>\n",
       "      <td>сотрудник</td>\n",
       "      <td>0</td>\n",
       "      <td>82047.418899</td>\n",
       "      <td>на покупку автомобиля</td>\n",
       "      <td>20</td>\n",
       "      <td>99</td>\n",
       "    </tr>\n",
       "  </tbody>\n",
       "</table>\n",
       "</div>"
      ],
      "text/plain": [
       "       children  days_employed  dob_years       education  education_id  \\\n",
       "15755         1    2351.431934         37  ученая степень             4   \n",
       "15756         1    4529.316663         43         среднее             1   \n",
       "15757         1    2113.346888         38         среднее             1   \n",
       "15758         3    3112.481705         38         среднее             1   \n",
       "15759         2    1984.507589         40         среднее             1   \n",
       "\n",
       "          family_status  family_status_id gender income_type  debt  \\\n",
       "15755         в разводе                 3      M   сотрудник     0   \n",
       "15756  гражданский брак                 1      F   компаньон     0   \n",
       "15757  гражданский брак                 1      M   сотрудник     1   \n",
       "15758   женат / замужем                 0      M   сотрудник     1   \n",
       "15759   женат / замужем                 0      F   сотрудник     0   \n",
       "\n",
       "        total_income                            purpose  years_employed  \\\n",
       "15755  115949.039788  покупка коммерческой недвижимости              17   \n",
       "15756  224791.862382                  операции с жильем              23   \n",
       "15757   89672.561153                       недвижимость              18   \n",
       "15758  244093.050500       на покупку своего автомобиля              18   \n",
       "15759   82047.418899              на покупку автомобиля              20   \n",
       "\n",
       "       employed_days_in_year  \n",
       "15755                    138  \n",
       "15756                    196  \n",
       "15757                    117  \n",
       "15758                    172  \n",
       "15759                     99  "
      ]
     },
     "metadata": {},
     "output_type": "display_data"
    }
   ],
   "source": [
    "# просмотр полученной таблицы\n",
    "display(correct_data.tail())"
   ]
  },
  {
   "cell_type": "code",
   "execution_count": 21,
   "id": "1b3fee34",
   "metadata": {},
   "outputs": [
    {
     "data": {
      "text/plain": [
       "2639"
      ]
     },
     "execution_count": 21,
     "metadata": {},
     "output_type": "execute_result"
    }
   ],
   "source": [
    "# подсчет количества аномально больших значений в таблице по количеству рабочих дней в году за трудовой стаж\n",
    "correct_data.loc[correct_data['employed_days_in_year'] > 250]['employed_days_in_year'].count()"
   ]
  },
  {
   "cell_type": "code",
   "execution_count": 22,
   "id": "b346cd8e",
   "metadata": {},
   "outputs": [
    {
     "data": {
      "text/plain": [
       "0.16744923857868022"
      ]
     },
     "execution_count": 22,
     "metadata": {},
     "output_type": "execute_result"
    }
   ],
   "source": [
    "# подсчет доли аномальных дней по отношению к общему количеству данных\n",
    "correct_data.loc[correct_data['employed_days_in_year'] > 250]['employed_days_in_year'].count() / correct_data.shape[0]"
   ]
  },
  {
   "cell_type": "markdown",
   "id": "af32b5e1",
   "metadata": {},
   "source": [
    "Таким образом, аномально превышает среднее количество в 250 рабочих дней в году приблизительно 17% данных, что можно считать удовлетворительным для подтверждения правильности выбранного решения о взятии модуля для значений количества рабочих дней в году.\n",
    "\n",
    "Теперь можно для полученной таблицы с относительно корректными данными найти медианное значение количества рабочих дней в году и уже на его основании пересчитать для аномальных значений трудового стажа в основных данных количество рабочих дней в общем трудовом стаже по формуле:\n",
    "\n",
    "`СТАЖ [дней] = (ВОЗРАСТ [лет] - 20) * РАБОЧИХ ДНЕЙ В ГОДУ [среднее количество дней]`\n",
    "\n",
    "Здесь лучше отработает среднее значение, так как от аномальных значений мы избавились при создании таблицы корректных данных (`correct_data`)."
   ]
  },
  {
   "cell_type": "code",
   "execution_count": 23,
   "id": "2826012c",
   "metadata": {},
   "outputs": [
    {
     "data": {
      "text/plain": [
       "139"
      ]
     },
     "execution_count": 23,
     "metadata": {},
     "output_type": "execute_result"
    }
   ],
   "source": [
    "# среднее значение рабочих дней в году из таблицы корректных данных\n",
    "mean_days_in_year = int(correct_data['employed_days_in_year'].mean())\n",
    "mean_days_in_year"
   ]
  },
  {
   "cell_type": "markdown",
   "id": "72f12066",
   "metadata": {},
   "source": [
    "Среднее количество рабочих дней, рассчитанное по таблицы корректных данных, получили равным 139. Теперь, используем найденное значение, чтобы скорректировать по приведенной выше формуле аномальные значения количества рабочих дней в году в основной таблице."
   ]
  },
  {
   "cell_type": "code",
   "execution_count": 24,
   "id": "59f827ac",
   "metadata": {},
   "outputs": [],
   "source": [
    "# перезапись аномальных значений трудового стажа расчетные значения по среднему количеству рабочих дней в году\n",
    "df.loc[df.loc[(df['days_employed'] > 15000) & (df['dob_years'] > 20)].index, 'days_employed'] = \\\n",
    "(df.loc[df.loc[(df['days_employed'] > 15000) & (df['dob_years'] > 20)].index, 'dob_years'] - 20) * mean_days_in_year"
   ]
  },
  {
   "cell_type": "markdown",
   "id": "b848101a",
   "metadata": {},
   "source": [
    "Проверка данных после произведенных корректировок."
   ]
  },
  {
   "cell_type": "code",
   "execution_count": 25,
   "id": "e5ce83f1",
   "metadata": {},
   "outputs": [
    {
     "data": {
      "text/html": [
       "<div>\n",
       "<style scoped>\n",
       "    .dataframe tbody tr th:only-of-type {\n",
       "        vertical-align: middle;\n",
       "    }\n",
       "\n",
       "    .dataframe tbody tr th {\n",
       "        vertical-align: top;\n",
       "    }\n",
       "\n",
       "    .dataframe thead th {\n",
       "        text-align: right;\n",
       "    }\n",
       "</style>\n",
       "<table border=\"1\" class=\"dataframe\">\n",
       "  <thead>\n",
       "    <tr style=\"text-align: right;\">\n",
       "      <th></th>\n",
       "      <th>children</th>\n",
       "      <th>days_employed</th>\n",
       "      <th>dob_years</th>\n",
       "      <th>education_id</th>\n",
       "      <th>family_status_id</th>\n",
       "      <th>debt</th>\n",
       "      <th>total_income</th>\n",
       "    </tr>\n",
       "  </thead>\n",
       "  <tbody>\n",
       "    <tr>\n",
       "      <th>count</th>\n",
       "      <td>21525.000000</td>\n",
       "      <td>19351.000000</td>\n",
       "      <td>21525.000000</td>\n",
       "      <td>21525.000000</td>\n",
       "      <td>21525.000000</td>\n",
       "      <td>21525.000000</td>\n",
       "      <td>1.935100e+04</td>\n",
       "    </tr>\n",
       "    <tr>\n",
       "      <th>mean</th>\n",
       "      <td>0.470476</td>\n",
       "      <td>3216.203475</td>\n",
       "      <td>43.293380</td>\n",
       "      <td>0.817236</td>\n",
       "      <td>0.972544</td>\n",
       "      <td>0.080883</td>\n",
       "      <td>1.674223e+05</td>\n",
       "    </tr>\n",
       "    <tr>\n",
       "      <th>std</th>\n",
       "      <td>0.750534</td>\n",
       "      <td>10947.133301</td>\n",
       "      <td>12.574584</td>\n",
       "      <td>0.548138</td>\n",
       "      <td>1.420324</td>\n",
       "      <td>0.272661</td>\n",
       "      <td>1.029716e+05</td>\n",
       "    </tr>\n",
       "    <tr>\n",
       "      <th>min</th>\n",
       "      <td>0.000000</td>\n",
       "      <td>24.141633</td>\n",
       "      <td>0.000000</td>\n",
       "      <td>0.000000</td>\n",
       "      <td>0.000000</td>\n",
       "      <td>0.000000</td>\n",
       "      <td>2.066726e+04</td>\n",
       "    </tr>\n",
       "    <tr>\n",
       "      <th>25%</th>\n",
       "      <td>0.000000</td>\n",
       "      <td>926.624121</td>\n",
       "      <td>33.000000</td>\n",
       "      <td>1.000000</td>\n",
       "      <td>0.000000</td>\n",
       "      <td>0.000000</td>\n",
       "      <td>1.030532e+05</td>\n",
       "    </tr>\n",
       "    <tr>\n",
       "      <th>50%</th>\n",
       "      <td>0.000000</td>\n",
       "      <td>2188.846985</td>\n",
       "      <td>42.000000</td>\n",
       "      <td>1.000000</td>\n",
       "      <td>0.000000</td>\n",
       "      <td>0.000000</td>\n",
       "      <td>1.450179e+05</td>\n",
       "    </tr>\n",
       "    <tr>\n",
       "      <th>75%</th>\n",
       "      <td>1.000000</td>\n",
       "      <td>4726.000000</td>\n",
       "      <td>53.000000</td>\n",
       "      <td>1.000000</td>\n",
       "      <td>1.000000</td>\n",
       "      <td>0.000000</td>\n",
       "      <td>2.034351e+05</td>\n",
       "    </tr>\n",
       "    <tr>\n",
       "      <th>max</th>\n",
       "      <td>5.000000</td>\n",
       "      <td>400992.375704</td>\n",
       "      <td>75.000000</td>\n",
       "      <td>4.000000</td>\n",
       "      <td>4.000000</td>\n",
       "      <td>1.000000</td>\n",
       "      <td>2.265604e+06</td>\n",
       "    </tr>\n",
       "  </tbody>\n",
       "</table>\n",
       "</div>"
      ],
      "text/plain": [
       "           children  days_employed     dob_years  education_id  \\\n",
       "count  21525.000000   19351.000000  21525.000000  21525.000000   \n",
       "mean       0.470476    3216.203475     43.293380      0.817236   \n",
       "std        0.750534   10947.133301     12.574584      0.548138   \n",
       "min        0.000000      24.141633      0.000000      0.000000   \n",
       "25%        0.000000     926.624121     33.000000      1.000000   \n",
       "50%        0.000000    2188.846985     42.000000      1.000000   \n",
       "75%        1.000000    4726.000000     53.000000      1.000000   \n",
       "max        5.000000  400992.375704     75.000000      4.000000   \n",
       "\n",
       "       family_status_id          debt  total_income  \n",
       "count      21525.000000  21525.000000  1.935100e+04  \n",
       "mean           0.972544      0.080883  1.674223e+05  \n",
       "std            1.420324      0.272661  1.029716e+05  \n",
       "min            0.000000      0.000000  2.066726e+04  \n",
       "25%            0.000000      0.000000  1.030532e+05  \n",
       "50%            0.000000      0.000000  1.450179e+05  \n",
       "75%            1.000000      0.000000  2.034351e+05  \n",
       "max            4.000000      1.000000  2.265604e+06  "
      ]
     },
     "execution_count": 25,
     "metadata": {},
     "output_type": "execute_result"
    }
   ],
   "source": [
    "# отображение основных описательных статистик данных\n",
    "df.describe()"
   ]
  },
  {
   "cell_type": "markdown",
   "id": "c74b1cc0",
   "metadata": {},
   "source": [
    "Из описательных статистик видно, что данные по количеству детей теперь корректны, а с показателями стажа все еще есть проблемы. Проверим количество аномальных значений."
   ]
  },
  {
   "cell_type": "code",
   "execution_count": 26,
   "id": "c2b02046",
   "metadata": {},
   "outputs": [
    {
     "data": {
      "text/plain": [
       "17"
      ]
     },
     "execution_count": 26,
     "metadata": {},
     "output_type": "execute_result"
    }
   ],
   "source": [
    "# количество аномально больших данных по количеству дней трудового стажа\n",
    "df.loc[df['days_employed'] > 15000]['days_employed'].count()"
   ]
  },
  {
   "cell_type": "markdown",
   "id": "70b23383",
   "metadata": {},
   "source": [
    "Количество аномальных значений сократилось с 3458 до 17. Посмотрим на эти данные, чтобы принять решение по их дальшейшей обработке."
   ]
  },
  {
   "cell_type": "code",
   "execution_count": 27,
   "id": "06148a07",
   "metadata": {},
   "outputs": [
    {
     "data": {
      "text/html": [
       "<div>\n",
       "<style scoped>\n",
       "    .dataframe tbody tr th:only-of-type {\n",
       "        vertical-align: middle;\n",
       "    }\n",
       "\n",
       "    .dataframe tbody tr th {\n",
       "        vertical-align: top;\n",
       "    }\n",
       "\n",
       "    .dataframe thead th {\n",
       "        text-align: right;\n",
       "    }\n",
       "</style>\n",
       "<table border=\"1\" class=\"dataframe\">\n",
       "  <thead>\n",
       "    <tr style=\"text-align: right;\">\n",
       "      <th></th>\n",
       "      <th>children</th>\n",
       "      <th>days_employed</th>\n",
       "      <th>dob_years</th>\n",
       "      <th>education</th>\n",
       "      <th>education_id</th>\n",
       "      <th>family_status</th>\n",
       "      <th>family_status_id</th>\n",
       "      <th>gender</th>\n",
       "      <th>income_type</th>\n",
       "      <th>debt</th>\n",
       "      <th>total_income</th>\n",
       "      <th>purpose</th>\n",
       "    </tr>\n",
       "  </thead>\n",
       "  <tbody>\n",
       "    <tr>\n",
       "      <th>99</th>\n",
       "      <td>0</td>\n",
       "      <td>346541.618895</td>\n",
       "      <td>0</td>\n",
       "      <td>Среднее</td>\n",
       "      <td>1</td>\n",
       "      <td>женат / замужем</td>\n",
       "      <td>0</td>\n",
       "      <td>F</td>\n",
       "      <td>пенсионер</td>\n",
       "      <td>0</td>\n",
       "      <td>71291.522491</td>\n",
       "      <td>автомобиль</td>\n",
       "    </tr>\n",
       "    <tr>\n",
       "      <th>578</th>\n",
       "      <td>0</td>\n",
       "      <td>397856.565013</td>\n",
       "      <td>0</td>\n",
       "      <td>среднее</td>\n",
       "      <td>1</td>\n",
       "      <td>женат / замужем</td>\n",
       "      <td>0</td>\n",
       "      <td>F</td>\n",
       "      <td>пенсионер</td>\n",
       "      <td>0</td>\n",
       "      <td>97620.687042</td>\n",
       "      <td>строительство собственной недвижимости</td>\n",
       "    </tr>\n",
       "    <tr>\n",
       "      <th>1175</th>\n",
       "      <td>0</td>\n",
       "      <td>370879.508002</td>\n",
       "      <td>0</td>\n",
       "      <td>среднее</td>\n",
       "      <td>1</td>\n",
       "      <td>женат / замужем</td>\n",
       "      <td>0</td>\n",
       "      <td>F</td>\n",
       "      <td>пенсионер</td>\n",
       "      <td>0</td>\n",
       "      <td>313949.845188</td>\n",
       "      <td>получение дополнительного образования</td>\n",
       "    </tr>\n",
       "    <tr>\n",
       "      <th>1898</th>\n",
       "      <td>0</td>\n",
       "      <td>370144.537021</td>\n",
       "      <td>0</td>\n",
       "      <td>среднее</td>\n",
       "      <td>1</td>\n",
       "      <td>вдовец / вдова</td>\n",
       "      <td>2</td>\n",
       "      <td>F</td>\n",
       "      <td>пенсионер</td>\n",
       "      <td>0</td>\n",
       "      <td>127400.268338</td>\n",
       "      <td>на покупку автомобиля</td>\n",
       "    </tr>\n",
       "    <tr>\n",
       "      <th>4922</th>\n",
       "      <td>0</td>\n",
       "      <td>336516.005867</td>\n",
       "      <td>0</td>\n",
       "      <td>высшее</td>\n",
       "      <td>0</td>\n",
       "      <td>вдовец / вдова</td>\n",
       "      <td>2</td>\n",
       "      <td>F</td>\n",
       "      <td>пенсионер</td>\n",
       "      <td>1</td>\n",
       "      <td>183556.355624</td>\n",
       "      <td>свой автомобиль</td>\n",
       "    </tr>\n",
       "    <tr>\n",
       "      <th>7034</th>\n",
       "      <td>0</td>\n",
       "      <td>366067.781030</td>\n",
       "      <td>0</td>\n",
       "      <td>высшее</td>\n",
       "      <td>0</td>\n",
       "      <td>Не женат / не замужем</td>\n",
       "      <td>4</td>\n",
       "      <td>F</td>\n",
       "      <td>пенсионер</td>\n",
       "      <td>0</td>\n",
       "      <td>263121.074528</td>\n",
       "      <td>образование</td>\n",
       "    </tr>\n",
       "    <tr>\n",
       "      <th>8061</th>\n",
       "      <td>0</td>\n",
       "      <td>366457.872613</td>\n",
       "      <td>0</td>\n",
       "      <td>высшее</td>\n",
       "      <td>0</td>\n",
       "      <td>Не женат / не замужем</td>\n",
       "      <td>4</td>\n",
       "      <td>F</td>\n",
       "      <td>пенсионер</td>\n",
       "      <td>0</td>\n",
       "      <td>61804.271999</td>\n",
       "      <td>высшее образование</td>\n",
       "    </tr>\n",
       "    <tr>\n",
       "      <th>10188</th>\n",
       "      <td>0</td>\n",
       "      <td>371665.278622</td>\n",
       "      <td>0</td>\n",
       "      <td>среднее</td>\n",
       "      <td>1</td>\n",
       "      <td>женат / замужем</td>\n",
       "      <td>0</td>\n",
       "      <td>M</td>\n",
       "      <td>пенсионер</td>\n",
       "      <td>0</td>\n",
       "      <td>102621.701671</td>\n",
       "      <td>операции с недвижимостью</td>\n",
       "    </tr>\n",
       "    <tr>\n",
       "      <th>12062</th>\n",
       "      <td>0</td>\n",
       "      <td>332185.354511</td>\n",
       "      <td>0</td>\n",
       "      <td>среднее</td>\n",
       "      <td>1</td>\n",
       "      <td>женат / замужем</td>\n",
       "      <td>0</td>\n",
       "      <td>F</td>\n",
       "      <td>пенсионер</td>\n",
       "      <td>0</td>\n",
       "      <td>206718.981389</td>\n",
       "      <td>покупка жилья</td>\n",
       "    </tr>\n",
       "    <tr>\n",
       "      <th>12729</th>\n",
       "      <td>0</td>\n",
       "      <td>355109.725856</td>\n",
       "      <td>0</td>\n",
       "      <td>среднее</td>\n",
       "      <td>1</td>\n",
       "      <td>вдовец / вдова</td>\n",
       "      <td>2</td>\n",
       "      <td>F</td>\n",
       "      <td>пенсионер</td>\n",
       "      <td>0</td>\n",
       "      <td>54815.744162</td>\n",
       "      <td>образование</td>\n",
       "    </tr>\n",
       "    <tr>\n",
       "      <th>14514</th>\n",
       "      <td>0</td>\n",
       "      <td>400992.375704</td>\n",
       "      <td>0</td>\n",
       "      <td>среднее</td>\n",
       "      <td>1</td>\n",
       "      <td>вдовец / вдова</td>\n",
       "      <td>2</td>\n",
       "      <td>F</td>\n",
       "      <td>пенсионер</td>\n",
       "      <td>0</td>\n",
       "      <td>87215.410371</td>\n",
       "      <td>заняться высшим образованием</td>\n",
       "    </tr>\n",
       "    <tr>\n",
       "      <th>14659</th>\n",
       "      <td>0</td>\n",
       "      <td>394949.344851</td>\n",
       "      <td>0</td>\n",
       "      <td>среднее</td>\n",
       "      <td>1</td>\n",
       "      <td>Не женат / не замужем</td>\n",
       "      <td>4</td>\n",
       "      <td>F</td>\n",
       "      <td>пенсионер</td>\n",
       "      <td>0</td>\n",
       "      <td>34974.450366</td>\n",
       "      <td>жилье</td>\n",
       "    </tr>\n",
       "    <tr>\n",
       "      <th>15886</th>\n",
       "      <td>0</td>\n",
       "      <td>355843.284621</td>\n",
       "      <td>0</td>\n",
       "      <td>среднее</td>\n",
       "      <td>1</td>\n",
       "      <td>женат / замужем</td>\n",
       "      <td>0</td>\n",
       "      <td>F</td>\n",
       "      <td>пенсионер</td>\n",
       "      <td>0</td>\n",
       "      <td>50230.794174</td>\n",
       "      <td>высшее образование</td>\n",
       "    </tr>\n",
       "    <tr>\n",
       "      <th>16861</th>\n",
       "      <td>0</td>\n",
       "      <td>395893.813367</td>\n",
       "      <td>0</td>\n",
       "      <td>среднее</td>\n",
       "      <td>1</td>\n",
       "      <td>в разводе</td>\n",
       "      <td>3</td>\n",
       "      <td>F</td>\n",
       "      <td>пенсионер</td>\n",
       "      <td>0</td>\n",
       "      <td>218284.757642</td>\n",
       "      <td>покупка жилья</td>\n",
       "    </tr>\n",
       "    <tr>\n",
       "      <th>19116</th>\n",
       "      <td>0</td>\n",
       "      <td>331558.550969</td>\n",
       "      <td>0</td>\n",
       "      <td>высшее</td>\n",
       "      <td>0</td>\n",
       "      <td>женат / замужем</td>\n",
       "      <td>0</td>\n",
       "      <td>F</td>\n",
       "      <td>пенсионер</td>\n",
       "      <td>0</td>\n",
       "      <td>91791.878400</td>\n",
       "      <td>покупка коммерческой недвижимости</td>\n",
       "    </tr>\n",
       "    <tr>\n",
       "      <th>20462</th>\n",
       "      <td>0</td>\n",
       "      <td>338734.868540</td>\n",
       "      <td>0</td>\n",
       "      <td>среднее</td>\n",
       "      <td>1</td>\n",
       "      <td>женат / замужем</td>\n",
       "      <td>0</td>\n",
       "      <td>F</td>\n",
       "      <td>пенсионер</td>\n",
       "      <td>0</td>\n",
       "      <td>259193.920299</td>\n",
       "      <td>покупка своего жилья</td>\n",
       "    </tr>\n",
       "    <tr>\n",
       "      <th>20577</th>\n",
       "      <td>0</td>\n",
       "      <td>331741.271455</td>\n",
       "      <td>0</td>\n",
       "      <td>среднее</td>\n",
       "      <td>1</td>\n",
       "      <td>Не женат / не замужем</td>\n",
       "      <td>4</td>\n",
       "      <td>F</td>\n",
       "      <td>пенсионер</td>\n",
       "      <td>0</td>\n",
       "      <td>129788.762899</td>\n",
       "      <td>недвижимость</td>\n",
       "    </tr>\n",
       "  </tbody>\n",
       "</table>\n",
       "</div>"
      ],
      "text/plain": [
       "       children  days_employed  dob_years education  education_id  \\\n",
       "99            0  346541.618895          0   Среднее             1   \n",
       "578           0  397856.565013          0   среднее             1   \n",
       "1175          0  370879.508002          0   среднее             1   \n",
       "1898          0  370144.537021          0   среднее             1   \n",
       "4922          0  336516.005867          0    высшее             0   \n",
       "7034          0  366067.781030          0    высшее             0   \n",
       "8061          0  366457.872613          0    высшее             0   \n",
       "10188         0  371665.278622          0   среднее             1   \n",
       "12062         0  332185.354511          0   среднее             1   \n",
       "12729         0  355109.725856          0   среднее             1   \n",
       "14514         0  400992.375704          0   среднее             1   \n",
       "14659         0  394949.344851          0   среднее             1   \n",
       "15886         0  355843.284621          0   среднее             1   \n",
       "16861         0  395893.813367          0   среднее             1   \n",
       "19116         0  331558.550969          0    высшее             0   \n",
       "20462         0  338734.868540          0   среднее             1   \n",
       "20577         0  331741.271455          0   среднее             1   \n",
       "\n",
       "               family_status  family_status_id gender income_type  debt  \\\n",
       "99           женат / замужем                 0      F   пенсионер     0   \n",
       "578          женат / замужем                 0      F   пенсионер     0   \n",
       "1175         женат / замужем                 0      F   пенсионер     0   \n",
       "1898          вдовец / вдова                 2      F   пенсионер     0   \n",
       "4922          вдовец / вдова                 2      F   пенсионер     1   \n",
       "7034   Не женат / не замужем                 4      F   пенсионер     0   \n",
       "8061   Не женат / не замужем                 4      F   пенсионер     0   \n",
       "10188        женат / замужем                 0      M   пенсионер     0   \n",
       "12062        женат / замужем                 0      F   пенсионер     0   \n",
       "12729         вдовец / вдова                 2      F   пенсионер     0   \n",
       "14514         вдовец / вдова                 2      F   пенсионер     0   \n",
       "14659  Не женат / не замужем                 4      F   пенсионер     0   \n",
       "15886        женат / замужем                 0      F   пенсионер     0   \n",
       "16861              в разводе                 3      F   пенсионер     0   \n",
       "19116        женат / замужем                 0      F   пенсионер     0   \n",
       "20462        женат / замужем                 0      F   пенсионер     0   \n",
       "20577  Не женат / не замужем                 4      F   пенсионер     0   \n",
       "\n",
       "        total_income                                 purpose  \n",
       "99      71291.522491                              автомобиль  \n",
       "578     97620.687042  строительство собственной недвижимости  \n",
       "1175   313949.845188   получение дополнительного образования  \n",
       "1898   127400.268338                   на покупку автомобиля  \n",
       "4922   183556.355624                         свой автомобиль  \n",
       "7034   263121.074528                             образование  \n",
       "8061    61804.271999                      высшее образование  \n",
       "10188  102621.701671                операции с недвижимостью  \n",
       "12062  206718.981389                           покупка жилья  \n",
       "12729   54815.744162                             образование  \n",
       "14514   87215.410371            заняться высшим образованием  \n",
       "14659   34974.450366                                   жилье  \n",
       "15886   50230.794174                      высшее образование  \n",
       "16861  218284.757642                           покупка жилья  \n",
       "19116   91791.878400       покупка коммерческой недвижимости  \n",
       "20462  259193.920299                    покупка своего жилья  \n",
       "20577  129788.762899                            недвижимость  "
      ]
     },
     "metadata": {},
     "output_type": "display_data"
    }
   ],
   "source": [
    "# визуальная оценка аномальных значений\n",
    "display(df.loc[df['days_employed'] > 15000])"
   ]
  },
  {
   "cell_type": "markdown",
   "id": "56b8465b",
   "metadata": {},
   "source": [
    "Данных немного и они очень плохого качества. Все клиенты пенсионеры нулевого возраста и с нулевым количеством детей. Так как провести какие-либо уточнения по этим данным нет возможности, то единственным решением остается их удаление."
   ]
  },
  {
   "cell_type": "code",
   "execution_count": 28,
   "id": "91cadb8e",
   "metadata": {},
   "outputs": [],
   "source": [
    "# удаление строк с оставшимися аномально большими данными по количеству дней трудового стажа и обновление индексов\n",
    "df = df.drop(df.index[(list(df.loc[df['days_employed'] > 15000].index))]).reset_index(drop=True)"
   ]
  },
  {
   "cell_type": "markdown",
   "id": "1ddbce21",
   "metadata": {},
   "source": [
    "Повторная проверка описательных статистик после удаления аномальных данных."
   ]
  },
  {
   "cell_type": "code",
   "execution_count": 29,
   "id": "995f57fe",
   "metadata": {},
   "outputs": [
    {
     "data": {
      "text/html": [
       "<div>\n",
       "<style scoped>\n",
       "    .dataframe tbody tr th:only-of-type {\n",
       "        vertical-align: middle;\n",
       "    }\n",
       "\n",
       "    .dataframe tbody tr th {\n",
       "        vertical-align: top;\n",
       "    }\n",
       "\n",
       "    .dataframe thead th {\n",
       "        text-align: right;\n",
       "    }\n",
       "</style>\n",
       "<table border=\"1\" class=\"dataframe\">\n",
       "  <thead>\n",
       "    <tr style=\"text-align: right;\">\n",
       "      <th></th>\n",
       "      <th>children</th>\n",
       "      <th>days_employed</th>\n",
       "      <th>dob_years</th>\n",
       "      <th>education_id</th>\n",
       "      <th>family_status_id</th>\n",
       "      <th>debt</th>\n",
       "      <th>total_income</th>\n",
       "    </tr>\n",
       "  </thead>\n",
       "  <tbody>\n",
       "    <tr>\n",
       "      <th>count</th>\n",
       "      <td>21508.000000</td>\n",
       "      <td>19334.000000</td>\n",
       "      <td>21508.000000</td>\n",
       "      <td>21508.000000</td>\n",
       "      <td>21508.000000</td>\n",
       "      <td>21508.000000</td>\n",
       "      <td>1.933400e+04</td>\n",
       "    </tr>\n",
       "    <tr>\n",
       "      <th>mean</th>\n",
       "      <td>0.470848</td>\n",
       "      <td>2900.259423</td>\n",
       "      <td>43.327599</td>\n",
       "      <td>0.817277</td>\n",
       "      <td>0.972057</td>\n",
       "      <td>0.080900</td>\n",
       "      <td>1.674477e+05</td>\n",
       "    </tr>\n",
       "    <tr>\n",
       "      <th>std</th>\n",
       "      <td>0.750714</td>\n",
       "      <td>2412.394379</td>\n",
       "      <td>12.520481</td>\n",
       "      <td>0.548223</td>\n",
       "      <td>1.420024</td>\n",
       "      <td>0.272688</td>\n",
       "      <td>1.029837e+05</td>\n",
       "    </tr>\n",
       "    <tr>\n",
       "      <th>min</th>\n",
       "      <td>0.000000</td>\n",
       "      <td>24.141633</td>\n",
       "      <td>0.000000</td>\n",
       "      <td>0.000000</td>\n",
       "      <td>0.000000</td>\n",
       "      <td>0.000000</td>\n",
       "      <td>2.066726e+04</td>\n",
       "    </tr>\n",
       "    <tr>\n",
       "      <th>25%</th>\n",
       "      <td>0.000000</td>\n",
       "      <td>926.249613</td>\n",
       "      <td>33.000000</td>\n",
       "      <td>1.000000</td>\n",
       "      <td>0.000000</td>\n",
       "      <td>0.000000</td>\n",
       "      <td>1.030962e+05</td>\n",
       "    </tr>\n",
       "    <tr>\n",
       "      <th>50%</th>\n",
       "      <td>0.000000</td>\n",
       "      <td>2184.647508</td>\n",
       "      <td>42.500000</td>\n",
       "      <td>1.000000</td>\n",
       "      <td>0.000000</td>\n",
       "      <td>0.000000</td>\n",
       "      <td>1.450740e+05</td>\n",
       "    </tr>\n",
       "    <tr>\n",
       "      <th>75%</th>\n",
       "      <td>1.000000</td>\n",
       "      <td>4726.000000</td>\n",
       "      <td>53.000000</td>\n",
       "      <td>1.000000</td>\n",
       "      <td>1.000000</td>\n",
       "      <td>0.000000</td>\n",
       "      <td>2.034244e+05</td>\n",
       "    </tr>\n",
       "    <tr>\n",
       "      <th>max</th>\n",
       "      <td>5.000000</td>\n",
       "      <td>14920.049805</td>\n",
       "      <td>75.000000</td>\n",
       "      <td>4.000000</td>\n",
       "      <td>4.000000</td>\n",
       "      <td>1.000000</td>\n",
       "      <td>2.265604e+06</td>\n",
       "    </tr>\n",
       "  </tbody>\n",
       "</table>\n",
       "</div>"
      ],
      "text/plain": [
       "           children  days_employed     dob_years  education_id  \\\n",
       "count  21508.000000   19334.000000  21508.000000  21508.000000   \n",
       "mean       0.470848    2900.259423     43.327599      0.817277   \n",
       "std        0.750714    2412.394379     12.520481      0.548223   \n",
       "min        0.000000      24.141633      0.000000      0.000000   \n",
       "25%        0.000000     926.249613     33.000000      1.000000   \n",
       "50%        0.000000    2184.647508     42.500000      1.000000   \n",
       "75%        1.000000    4726.000000     53.000000      1.000000   \n",
       "max        5.000000   14920.049805     75.000000      4.000000   \n",
       "\n",
       "       family_status_id          debt  total_income  \n",
       "count      21508.000000  21508.000000  1.933400e+04  \n",
       "mean           0.972057      0.080900  1.674477e+05  \n",
       "std            1.420024      0.272688  1.029837e+05  \n",
       "min            0.000000      0.000000  2.066726e+04  \n",
       "25%            0.000000      0.000000  1.030962e+05  \n",
       "50%            0.000000      0.000000  1.450740e+05  \n",
       "75%            1.000000      0.000000  2.034244e+05  \n",
       "max            4.000000      1.000000  2.265604e+06  "
      ]
     },
     "execution_count": 29,
     "metadata": {},
     "output_type": "execute_result"
    }
   ],
   "source": [
    "# отображение основных описательных статистик данных\n",
    "df.describe()"
   ]
  },
  {
   "cell_type": "markdown",
   "id": "7684e7e7",
   "metadata": {},
   "source": [
    "Теперь также корректны и данные об общем трудовом стаже в днях и поэтому можно перейти к заполнению пропущенных в данных значений."
   ]
  },
  {
   "cell_type": "markdown",
   "id": "d5144d28",
   "metadata": {},
   "source": [
    "---"
   ]
  },
  {
   "cell_type": "markdown",
   "id": "37437703",
   "metadata": {},
   "source": [
    "### Заполнение пропусков"
   ]
  },
  {
   "cell_type": "code",
   "execution_count": 30,
   "id": "68455ab0",
   "metadata": {},
   "outputs": [
    {
     "data": {
      "text/plain": [
       "2184.6475075478165"
      ]
     },
     "execution_count": 30,
     "metadata": {},
     "output_type": "execute_result"
    }
   ],
   "source": [
    "# вычислим медианное значение стажа в количестве рабочих дней\n",
    "median_days_employed = df['days_employed'].median()\n",
    "median_days_employed"
   ]
  },
  {
   "cell_type": "code",
   "execution_count": 31,
   "id": "344c351b",
   "metadata": {},
   "outputs": [
    {
     "data": {
      "text/plain": [
       "145073.98616379802"
      ]
     },
     "execution_count": 31,
     "metadata": {},
     "output_type": "execute_result"
    }
   ],
   "source": [
    "# вычислим медианное значение заработка\n",
    "median_total_income = df['total_income'].median()\n",
    "median_total_income"
   ]
  },
  {
   "cell_type": "markdown",
   "id": "b8f2818b",
   "metadata": {},
   "source": [
    "Заполним полученными значениями соотвествующие пропущенные значения."
   ]
  },
  {
   "cell_type": "code",
   "execution_count": 32,
   "id": "328d8ae1",
   "metadata": {},
   "outputs": [],
   "source": [
    "# заполнение пропусков по трудовому стажу\n",
    "df['days_employed'] = df['days_employed'].fillna(median_days_employed)"
   ]
  },
  {
   "cell_type": "code",
   "execution_count": 33,
   "id": "59cdcd6c",
   "metadata": {},
   "outputs": [],
   "source": [
    "# заполнение пропусков по ежемесячному доходу\n",
    "df['total_income'] = df['total_income'].fillna(median_total_income)"
   ]
  },
  {
   "cell_type": "markdown",
   "id": "322afec4",
   "metadata": {},
   "source": [
    "Убедимся, что были обработаны все пропуски."
   ]
  },
  {
   "cell_type": "code",
   "execution_count": 34,
   "id": "e4c426e6",
   "metadata": {},
   "outputs": [
    {
     "data": {
      "text/plain": [
       "children            0\n",
       "days_employed       0\n",
       "dob_years           0\n",
       "education           0\n",
       "education_id        0\n",
       "family_status       0\n",
       "family_status_id    0\n",
       "gender              0\n",
       "income_type         0\n",
       "debt                0\n",
       "total_income        0\n",
       "purpose             0\n",
       "dtype: int64"
      ]
     },
     "execution_count": 34,
     "metadata": {},
     "output_type": "execute_result"
    }
   ],
   "source": [
    "# подсчет пропусков\n",
    "df.isna().sum()"
   ]
  },
  {
   "cell_type": "markdown",
   "id": "2dad5ad3",
   "metadata": {},
   "source": [
    "Пропусков в данных больше нет. Переходим к следующих этапам предобработки данных."
   ]
  },
  {
   "cell_type": "markdown",
   "id": "a1433ad3",
   "metadata": {},
   "source": [
    "---"
   ]
  },
  {
   "cell_type": "markdown",
   "id": "e8e91dad",
   "metadata": {},
   "source": [
    "### Изменение типов данных"
   ]
  },
  {
   "cell_type": "markdown",
   "id": "b3f36e5f",
   "metadata": {},
   "source": [
    "В столбцах с данными по общему трудовому стажу `days_employed` данные представлены в виде вещественных чисел с большим количеством знаком после запятой, что может затруднить последующий анализ. Приведем эти данные к целочисленному типу."
   ]
  },
  {
   "cell_type": "code",
   "execution_count": 35,
   "id": "27f002d3",
   "metadata": {},
   "outputs": [],
   "source": [
    "# перевод значений столбца total_income из вещественного типа в целочисленный\n",
    "df['total_income'] = df['total_income'].astype('int')"
   ]
  },
  {
   "cell_type": "markdown",
   "id": "b35bd875",
   "metadata": {},
   "source": [
    "Проверим полученный результат."
   ]
  },
  {
   "cell_type": "code",
   "execution_count": 36,
   "id": "c7bc7e22",
   "metadata": {},
   "outputs": [
    {
     "data": {
      "text/html": [
       "<div>\n",
       "<style scoped>\n",
       "    .dataframe tbody tr th:only-of-type {\n",
       "        vertical-align: middle;\n",
       "    }\n",
       "\n",
       "    .dataframe tbody tr th {\n",
       "        vertical-align: top;\n",
       "    }\n",
       "\n",
       "    .dataframe thead th {\n",
       "        text-align: right;\n",
       "    }\n",
       "</style>\n",
       "<table border=\"1\" class=\"dataframe\">\n",
       "  <thead>\n",
       "    <tr style=\"text-align: right;\">\n",
       "      <th></th>\n",
       "      <th>children</th>\n",
       "      <th>days_employed</th>\n",
       "      <th>dob_years</th>\n",
       "      <th>education</th>\n",
       "      <th>education_id</th>\n",
       "      <th>family_status</th>\n",
       "      <th>family_status_id</th>\n",
       "      <th>gender</th>\n",
       "      <th>income_type</th>\n",
       "      <th>debt</th>\n",
       "      <th>total_income</th>\n",
       "      <th>purpose</th>\n",
       "    </tr>\n",
       "  </thead>\n",
       "  <tbody>\n",
       "    <tr>\n",
       "      <th>0</th>\n",
       "      <td>1</td>\n",
       "      <td>8437.673028</td>\n",
       "      <td>42</td>\n",
       "      <td>высшее</td>\n",
       "      <td>0</td>\n",
       "      <td>женат / замужем</td>\n",
       "      <td>0</td>\n",
       "      <td>F</td>\n",
       "      <td>сотрудник</td>\n",
       "      <td>0</td>\n",
       "      <td>253875</td>\n",
       "      <td>покупка жилья</td>\n",
       "    </tr>\n",
       "    <tr>\n",
       "      <th>1</th>\n",
       "      <td>1</td>\n",
       "      <td>4024.803754</td>\n",
       "      <td>36</td>\n",
       "      <td>среднее</td>\n",
       "      <td>1</td>\n",
       "      <td>женат / замужем</td>\n",
       "      <td>0</td>\n",
       "      <td>F</td>\n",
       "      <td>сотрудник</td>\n",
       "      <td>0</td>\n",
       "      <td>112080</td>\n",
       "      <td>приобретение автомобиля</td>\n",
       "    </tr>\n",
       "    <tr>\n",
       "      <th>2</th>\n",
       "      <td>0</td>\n",
       "      <td>5623.422610</td>\n",
       "      <td>33</td>\n",
       "      <td>Среднее</td>\n",
       "      <td>1</td>\n",
       "      <td>женат / замужем</td>\n",
       "      <td>0</td>\n",
       "      <td>M</td>\n",
       "      <td>сотрудник</td>\n",
       "      <td>0</td>\n",
       "      <td>145885</td>\n",
       "      <td>покупка жилья</td>\n",
       "    </tr>\n",
       "    <tr>\n",
       "      <th>3</th>\n",
       "      <td>3</td>\n",
       "      <td>4124.747207</td>\n",
       "      <td>32</td>\n",
       "      <td>среднее</td>\n",
       "      <td>1</td>\n",
       "      <td>женат / замужем</td>\n",
       "      <td>0</td>\n",
       "      <td>M</td>\n",
       "      <td>сотрудник</td>\n",
       "      <td>0</td>\n",
       "      <td>267628</td>\n",
       "      <td>дополнительное образование</td>\n",
       "    </tr>\n",
       "    <tr>\n",
       "      <th>4</th>\n",
       "      <td>0</td>\n",
       "      <td>4587.000000</td>\n",
       "      <td>53</td>\n",
       "      <td>среднее</td>\n",
       "      <td>1</td>\n",
       "      <td>гражданский брак</td>\n",
       "      <td>1</td>\n",
       "      <td>F</td>\n",
       "      <td>пенсионер</td>\n",
       "      <td>0</td>\n",
       "      <td>158616</td>\n",
       "      <td>сыграть свадьбу</td>\n",
       "    </tr>\n",
       "  </tbody>\n",
       "</table>\n",
       "</div>"
      ],
      "text/plain": [
       "   children  days_employed  dob_years education  education_id  \\\n",
       "0         1    8437.673028         42    высшее             0   \n",
       "1         1    4024.803754         36   среднее             1   \n",
       "2         0    5623.422610         33   Среднее             1   \n",
       "3         3    4124.747207         32   среднее             1   \n",
       "4         0    4587.000000         53   среднее             1   \n",
       "\n",
       "      family_status  family_status_id gender income_type  debt  total_income  \\\n",
       "0   женат / замужем                 0      F   сотрудник     0        253875   \n",
       "1   женат / замужем                 0      F   сотрудник     0        112080   \n",
       "2   женат / замужем                 0      M   сотрудник     0        145885   \n",
       "3   женат / замужем                 0      M   сотрудник     0        267628   \n",
       "4  гражданский брак                 1      F   пенсионер     0        158616   \n",
       "\n",
       "                      purpose  \n",
       "0               покупка жилья  \n",
       "1     приобретение автомобиля  \n",
       "2               покупка жилья  \n",
       "3  дополнительное образование  \n",
       "4             сыграть свадьбу  "
      ]
     },
     "metadata": {},
     "output_type": "display_data"
    }
   ],
   "source": [
    "# вывод первых строк таблицы\n",
    "display(df.head())"
   ]
  },
  {
   "cell_type": "markdown",
   "id": "496bdc68",
   "metadata": {},
   "source": [
    "Тип данных успешно изменен. Следующий этап предобрботки - проверка данных на наличие дубликатов."
   ]
  },
  {
   "cell_type": "markdown",
   "id": "5a6b93ec",
   "metadata": {},
   "source": [
    "---"
   ]
  },
  {
   "cell_type": "markdown",
   "id": "d844dc7b",
   "metadata": {},
   "source": [
    "### Удаление дубликатов"
   ]
  },
  {
   "cell_type": "markdown",
   "id": "ec8ca549",
   "metadata": {},
   "source": [
    "Проверим наличие дубликатов в данных с помощью последовательного применения методов *duplicated()* и *sum()*."
   ]
  },
  {
   "cell_type": "code",
   "execution_count": 37,
   "id": "231d8942",
   "metadata": {},
   "outputs": [
    {
     "data": {
      "text/plain": [
       "54"
      ]
     },
     "execution_count": 37,
     "metadata": {},
     "output_type": "execute_result"
    }
   ],
   "source": [
    "# проверка данных на наличие дубликатов\n",
    "df.duplicated().sum()"
   ]
  },
  {
   "cell_type": "markdown",
   "id": "dab74f02",
   "metadata": {},
   "source": [
    "Видно, что дубликаты присутствуют, но пока непонятно что они из себя представляют. Отобразим таблицу с дубликатами для анализа."
   ]
  },
  {
   "cell_type": "code",
   "execution_count": 38,
   "id": "60ea1e62",
   "metadata": {},
   "outputs": [
    {
     "data": {
      "text/html": [
       "<div>\n",
       "<style scoped>\n",
       "    .dataframe tbody tr th:only-of-type {\n",
       "        vertical-align: middle;\n",
       "    }\n",
       "\n",
       "    .dataframe tbody tr th {\n",
       "        vertical-align: top;\n",
       "    }\n",
       "\n",
       "    .dataframe thead th {\n",
       "        text-align: right;\n",
       "    }\n",
       "</style>\n",
       "<table border=\"1\" class=\"dataframe\">\n",
       "  <thead>\n",
       "    <tr style=\"text-align: right;\">\n",
       "      <th></th>\n",
       "      <th>children</th>\n",
       "      <th>days_employed</th>\n",
       "      <th>dob_years</th>\n",
       "      <th>education</th>\n",
       "      <th>education_id</th>\n",
       "      <th>family_status</th>\n",
       "      <th>family_status_id</th>\n",
       "      <th>gender</th>\n",
       "      <th>income_type</th>\n",
       "      <th>debt</th>\n",
       "      <th>total_income</th>\n",
       "      <th>purpose</th>\n",
       "    </tr>\n",
       "  </thead>\n",
       "  <tbody>\n",
       "    <tr>\n",
       "      <th>2845</th>\n",
       "      <td>0</td>\n",
       "      <td>2184.647508</td>\n",
       "      <td>41</td>\n",
       "      <td>среднее</td>\n",
       "      <td>1</td>\n",
       "      <td>женат / замужем</td>\n",
       "      <td>0</td>\n",
       "      <td>F</td>\n",
       "      <td>сотрудник</td>\n",
       "      <td>0</td>\n",
       "      <td>145073</td>\n",
       "      <td>покупка жилья для семьи</td>\n",
       "    </tr>\n",
       "    <tr>\n",
       "      <th>4178</th>\n",
       "      <td>1</td>\n",
       "      <td>2184.647508</td>\n",
       "      <td>34</td>\n",
       "      <td>ВЫСШЕЕ</td>\n",
       "      <td>0</td>\n",
       "      <td>гражданский брак</td>\n",
       "      <td>1</td>\n",
       "      <td>F</td>\n",
       "      <td>сотрудник</td>\n",
       "      <td>0</td>\n",
       "      <td>145073</td>\n",
       "      <td>свадьба</td>\n",
       "    </tr>\n",
       "    <tr>\n",
       "      <th>4847</th>\n",
       "      <td>0</td>\n",
       "      <td>2184.647508</td>\n",
       "      <td>60</td>\n",
       "      <td>среднее</td>\n",
       "      <td>1</td>\n",
       "      <td>гражданский брак</td>\n",
       "      <td>1</td>\n",
       "      <td>F</td>\n",
       "      <td>пенсионер</td>\n",
       "      <td>0</td>\n",
       "      <td>145073</td>\n",
       "      <td>свадьба</td>\n",
       "    </tr>\n",
       "    <tr>\n",
       "      <th>5552</th>\n",
       "      <td>0</td>\n",
       "      <td>2184.647508</td>\n",
       "      <td>58</td>\n",
       "      <td>среднее</td>\n",
       "      <td>1</td>\n",
       "      <td>гражданский брак</td>\n",
       "      <td>1</td>\n",
       "      <td>F</td>\n",
       "      <td>пенсионер</td>\n",
       "      <td>0</td>\n",
       "      <td>145073</td>\n",
       "      <td>сыграть свадьбу</td>\n",
       "    </tr>\n",
       "    <tr>\n",
       "      <th>7802</th>\n",
       "      <td>0</td>\n",
       "      <td>2184.647508</td>\n",
       "      <td>57</td>\n",
       "      <td>среднее</td>\n",
       "      <td>1</td>\n",
       "      <td>гражданский брак</td>\n",
       "      <td>1</td>\n",
       "      <td>F</td>\n",
       "      <td>пенсионер</td>\n",
       "      <td>0</td>\n",
       "      <td>145073</td>\n",
       "      <td>на проведение свадьбы</td>\n",
       "    </tr>\n",
       "    <tr>\n",
       "      <th>8576</th>\n",
       "      <td>0</td>\n",
       "      <td>2184.647508</td>\n",
       "      <td>58</td>\n",
       "      <td>высшее</td>\n",
       "      <td>0</td>\n",
       "      <td>Не женат / не замужем</td>\n",
       "      <td>4</td>\n",
       "      <td>F</td>\n",
       "      <td>пенсионер</td>\n",
       "      <td>0</td>\n",
       "      <td>145073</td>\n",
       "      <td>дополнительное образование</td>\n",
       "    </tr>\n",
       "    <tr>\n",
       "      <th>9231</th>\n",
       "      <td>2</td>\n",
       "      <td>2184.647508</td>\n",
       "      <td>34</td>\n",
       "      <td>среднее</td>\n",
       "      <td>1</td>\n",
       "      <td>женат / замужем</td>\n",
       "      <td>0</td>\n",
       "      <td>F</td>\n",
       "      <td>сотрудник</td>\n",
       "      <td>0</td>\n",
       "      <td>145073</td>\n",
       "      <td>покупка жилья для сдачи</td>\n",
       "    </tr>\n",
       "    <tr>\n",
       "      <th>9521</th>\n",
       "      <td>0</td>\n",
       "      <td>2184.647508</td>\n",
       "      <td>66</td>\n",
       "      <td>среднее</td>\n",
       "      <td>1</td>\n",
       "      <td>вдовец / вдова</td>\n",
       "      <td>2</td>\n",
       "      <td>F</td>\n",
       "      <td>пенсионер</td>\n",
       "      <td>0</td>\n",
       "      <td>145073</td>\n",
       "      <td>операции со своей недвижимостью</td>\n",
       "    </tr>\n",
       "    <tr>\n",
       "      <th>9620</th>\n",
       "      <td>0</td>\n",
       "      <td>2184.647508</td>\n",
       "      <td>56</td>\n",
       "      <td>среднее</td>\n",
       "      <td>1</td>\n",
       "      <td>женат / замужем</td>\n",
       "      <td>0</td>\n",
       "      <td>F</td>\n",
       "      <td>пенсионер</td>\n",
       "      <td>0</td>\n",
       "      <td>145073</td>\n",
       "      <td>операции со своей недвижимостью</td>\n",
       "    </tr>\n",
       "    <tr>\n",
       "      <th>10454</th>\n",
       "      <td>0</td>\n",
       "      <td>2184.647508</td>\n",
       "      <td>62</td>\n",
       "      <td>среднее</td>\n",
       "      <td>1</td>\n",
       "      <td>женат / замужем</td>\n",
       "      <td>0</td>\n",
       "      <td>F</td>\n",
       "      <td>пенсионер</td>\n",
       "      <td>0</td>\n",
       "      <td>145073</td>\n",
       "      <td>покупка коммерческой недвижимости</td>\n",
       "    </tr>\n",
       "    <tr>\n",
       "      <th>10689</th>\n",
       "      <td>0</td>\n",
       "      <td>2184.647508</td>\n",
       "      <td>40</td>\n",
       "      <td>среднее</td>\n",
       "      <td>1</td>\n",
       "      <td>гражданский брак</td>\n",
       "      <td>1</td>\n",
       "      <td>F</td>\n",
       "      <td>компаньон</td>\n",
       "      <td>0</td>\n",
       "      <td>145073</td>\n",
       "      <td>сыграть свадьбу</td>\n",
       "    </tr>\n",
       "    <tr>\n",
       "      <th>10856</th>\n",
       "      <td>0</td>\n",
       "      <td>2184.647508</td>\n",
       "      <td>62</td>\n",
       "      <td>среднее</td>\n",
       "      <td>1</td>\n",
       "      <td>женат / замужем</td>\n",
       "      <td>0</td>\n",
       "      <td>F</td>\n",
       "      <td>пенсионер</td>\n",
       "      <td>0</td>\n",
       "      <td>145073</td>\n",
       "      <td>ремонт жилью</td>\n",
       "    </tr>\n",
       "    <tr>\n",
       "      <th>10986</th>\n",
       "      <td>0</td>\n",
       "      <td>2184.647508</td>\n",
       "      <td>62</td>\n",
       "      <td>среднее</td>\n",
       "      <td>1</td>\n",
       "      <td>женат / замужем</td>\n",
       "      <td>0</td>\n",
       "      <td>F</td>\n",
       "      <td>пенсионер</td>\n",
       "      <td>0</td>\n",
       "      <td>145073</td>\n",
       "      <td>ремонт жилью</td>\n",
       "    </tr>\n",
       "    <tr>\n",
       "      <th>11783</th>\n",
       "      <td>0</td>\n",
       "      <td>2184.647508</td>\n",
       "      <td>47</td>\n",
       "      <td>среднее</td>\n",
       "      <td>1</td>\n",
       "      <td>женат / замужем</td>\n",
       "      <td>0</td>\n",
       "      <td>F</td>\n",
       "      <td>сотрудник</td>\n",
       "      <td>0</td>\n",
       "      <td>145073</td>\n",
       "      <td>строительство недвижимости</td>\n",
       "    </tr>\n",
       "    <tr>\n",
       "      <th>12364</th>\n",
       "      <td>0</td>\n",
       "      <td>2184.647508</td>\n",
       "      <td>58</td>\n",
       "      <td>среднее</td>\n",
       "      <td>1</td>\n",
       "      <td>женат / замужем</td>\n",
       "      <td>0</td>\n",
       "      <td>M</td>\n",
       "      <td>сотрудник</td>\n",
       "      <td>0</td>\n",
       "      <td>145073</td>\n",
       "      <td>покупка недвижимости</td>\n",
       "    </tr>\n",
       "    <tr>\n",
       "      <th>12366</th>\n",
       "      <td>1</td>\n",
       "      <td>2184.647508</td>\n",
       "      <td>37</td>\n",
       "      <td>среднее</td>\n",
       "      <td>1</td>\n",
       "      <td>женат / замужем</td>\n",
       "      <td>0</td>\n",
       "      <td>F</td>\n",
       "      <td>сотрудник</td>\n",
       "      <td>0</td>\n",
       "      <td>145073</td>\n",
       "      <td>покупка недвижимости</td>\n",
       "    </tr>\n",
       "    <tr>\n",
       "      <th>12726</th>\n",
       "      <td>0</td>\n",
       "      <td>2184.647508</td>\n",
       "      <td>59</td>\n",
       "      <td>среднее</td>\n",
       "      <td>1</td>\n",
       "      <td>женат / замужем</td>\n",
       "      <td>0</td>\n",
       "      <td>F</td>\n",
       "      <td>пенсионер</td>\n",
       "      <td>0</td>\n",
       "      <td>145073</td>\n",
       "      <td>заняться образованием</td>\n",
       "    </tr>\n",
       "    <tr>\n",
       "      <th>13015</th>\n",
       "      <td>1</td>\n",
       "      <td>2184.647508</td>\n",
       "      <td>44</td>\n",
       "      <td>среднее</td>\n",
       "      <td>1</td>\n",
       "      <td>женат / замужем</td>\n",
       "      <td>0</td>\n",
       "      <td>F</td>\n",
       "      <td>сотрудник</td>\n",
       "      <td>0</td>\n",
       "      <td>145073</td>\n",
       "      <td>сделка с подержанным автомобилем</td>\n",
       "    </tr>\n",
       "    <tr>\n",
       "      <th>13629</th>\n",
       "      <td>0</td>\n",
       "      <td>2184.647508</td>\n",
       "      <td>64</td>\n",
       "      <td>среднее</td>\n",
       "      <td>1</td>\n",
       "      <td>женат / замужем</td>\n",
       "      <td>0</td>\n",
       "      <td>F</td>\n",
       "      <td>пенсионер</td>\n",
       "      <td>0</td>\n",
       "      <td>145073</td>\n",
       "      <td>автомобиль</td>\n",
       "    </tr>\n",
       "    <tr>\n",
       "      <th>13763</th>\n",
       "      <td>0</td>\n",
       "      <td>2184.647508</td>\n",
       "      <td>35</td>\n",
       "      <td>среднее</td>\n",
       "      <td>1</td>\n",
       "      <td>гражданский брак</td>\n",
       "      <td>1</td>\n",
       "      <td>F</td>\n",
       "      <td>сотрудник</td>\n",
       "      <td>0</td>\n",
       "      <td>145073</td>\n",
       "      <td>сыграть свадьбу</td>\n",
       "    </tr>\n",
       "    <tr>\n",
       "      <th>13868</th>\n",
       "      <td>1</td>\n",
       "      <td>2184.647508</td>\n",
       "      <td>31</td>\n",
       "      <td>среднее</td>\n",
       "      <td>1</td>\n",
       "      <td>женат / замужем</td>\n",
       "      <td>0</td>\n",
       "      <td>F</td>\n",
       "      <td>компаньон</td>\n",
       "      <td>0</td>\n",
       "      <td>145073</td>\n",
       "      <td>покупка жилья</td>\n",
       "    </tr>\n",
       "    <tr>\n",
       "      <th>13932</th>\n",
       "      <td>0</td>\n",
       "      <td>2184.647508</td>\n",
       "      <td>44</td>\n",
       "      <td>среднее</td>\n",
       "      <td>1</td>\n",
       "      <td>женат / замужем</td>\n",
       "      <td>0</td>\n",
       "      <td>F</td>\n",
       "      <td>сотрудник</td>\n",
       "      <td>0</td>\n",
       "      <td>145073</td>\n",
       "      <td>приобретение автомобиля</td>\n",
       "    </tr>\n",
       "    <tr>\n",
       "      <th>14422</th>\n",
       "      <td>2</td>\n",
       "      <td>2184.647508</td>\n",
       "      <td>36</td>\n",
       "      <td>высшее</td>\n",
       "      <td>0</td>\n",
       "      <td>женат / замужем</td>\n",
       "      <td>0</td>\n",
       "      <td>F</td>\n",
       "      <td>госслужащий</td>\n",
       "      <td>0</td>\n",
       "      <td>145073</td>\n",
       "      <td>получение образования</td>\n",
       "    </tr>\n",
       "    <tr>\n",
       "      <th>14820</th>\n",
       "      <td>0</td>\n",
       "      <td>2184.647508</td>\n",
       "      <td>50</td>\n",
       "      <td>среднее</td>\n",
       "      <td>1</td>\n",
       "      <td>Не женат / не замужем</td>\n",
       "      <td>4</td>\n",
       "      <td>F</td>\n",
       "      <td>сотрудник</td>\n",
       "      <td>0</td>\n",
       "      <td>145073</td>\n",
       "      <td>недвижимость</td>\n",
       "    </tr>\n",
       "    <tr>\n",
       "      <th>15079</th>\n",
       "      <td>0</td>\n",
       "      <td>2184.647508</td>\n",
       "      <td>58</td>\n",
       "      <td>среднее</td>\n",
       "      <td>1</td>\n",
       "      <td>гражданский брак</td>\n",
       "      <td>1</td>\n",
       "      <td>M</td>\n",
       "      <td>сотрудник</td>\n",
       "      <td>0</td>\n",
       "      <td>145073</td>\n",
       "      <td>на проведение свадьбы</td>\n",
       "    </tr>\n",
       "    <tr>\n",
       "      <th>15176</th>\n",
       "      <td>0</td>\n",
       "      <td>2184.647508</td>\n",
       "      <td>60</td>\n",
       "      <td>среднее</td>\n",
       "      <td>1</td>\n",
       "      <td>женат / замужем</td>\n",
       "      <td>0</td>\n",
       "      <td>M</td>\n",
       "      <td>сотрудник</td>\n",
       "      <td>0</td>\n",
       "      <td>145073</td>\n",
       "      <td>покупка недвижимости</td>\n",
       "    </tr>\n",
       "    <tr>\n",
       "      <th>15261</th>\n",
       "      <td>0</td>\n",
       "      <td>2184.647508</td>\n",
       "      <td>57</td>\n",
       "      <td>среднее</td>\n",
       "      <td>1</td>\n",
       "      <td>гражданский брак</td>\n",
       "      <td>1</td>\n",
       "      <td>F</td>\n",
       "      <td>пенсионер</td>\n",
       "      <td>0</td>\n",
       "      <td>145073</td>\n",
       "      <td>свадьба</td>\n",
       "    </tr>\n",
       "    <tr>\n",
       "      <th>16163</th>\n",
       "      <td>0</td>\n",
       "      <td>2184.647508</td>\n",
       "      <td>47</td>\n",
       "      <td>среднее</td>\n",
       "      <td>1</td>\n",
       "      <td>женат / замужем</td>\n",
       "      <td>0</td>\n",
       "      <td>F</td>\n",
       "      <td>сотрудник</td>\n",
       "      <td>0</td>\n",
       "      <td>145073</td>\n",
       "      <td>ремонт жилью</td>\n",
       "    </tr>\n",
       "    <tr>\n",
       "      <th>16365</th>\n",
       "      <td>0</td>\n",
       "      <td>2184.647508</td>\n",
       "      <td>46</td>\n",
       "      <td>среднее</td>\n",
       "      <td>1</td>\n",
       "      <td>женат / замужем</td>\n",
       "      <td>0</td>\n",
       "      <td>F</td>\n",
       "      <td>сотрудник</td>\n",
       "      <td>0</td>\n",
       "      <td>145073</td>\n",
       "      <td>высшее образование</td>\n",
       "    </tr>\n",
       "    <tr>\n",
       "      <th>16888</th>\n",
       "      <td>2</td>\n",
       "      <td>2184.647508</td>\n",
       "      <td>39</td>\n",
       "      <td>среднее</td>\n",
       "      <td>1</td>\n",
       "      <td>гражданский брак</td>\n",
       "      <td>1</td>\n",
       "      <td>F</td>\n",
       "      <td>сотрудник</td>\n",
       "      <td>0</td>\n",
       "      <td>145073</td>\n",
       "      <td>сыграть свадьбу</td>\n",
       "    </tr>\n",
       "    <tr>\n",
       "      <th>16890</th>\n",
       "      <td>1</td>\n",
       "      <td>2184.647508</td>\n",
       "      <td>32</td>\n",
       "      <td>высшее</td>\n",
       "      <td>0</td>\n",
       "      <td>женат / замужем</td>\n",
       "      <td>0</td>\n",
       "      <td>F</td>\n",
       "      <td>сотрудник</td>\n",
       "      <td>0</td>\n",
       "      <td>145073</td>\n",
       "      <td>на покупку подержанного автомобиля</td>\n",
       "    </tr>\n",
       "    <tr>\n",
       "      <th>17365</th>\n",
       "      <td>0</td>\n",
       "      <td>2184.647508</td>\n",
       "      <td>54</td>\n",
       "      <td>высшее</td>\n",
       "      <td>0</td>\n",
       "      <td>женат / замужем</td>\n",
       "      <td>0</td>\n",
       "      <td>M</td>\n",
       "      <td>компаньон</td>\n",
       "      <td>0</td>\n",
       "      <td>145073</td>\n",
       "      <td>операции с коммерческой недвижимостью</td>\n",
       "    </tr>\n",
       "    <tr>\n",
       "      <th>17741</th>\n",
       "      <td>1</td>\n",
       "      <td>2184.647508</td>\n",
       "      <td>43</td>\n",
       "      <td>среднее</td>\n",
       "      <td>1</td>\n",
       "      <td>женат / замужем</td>\n",
       "      <td>0</td>\n",
       "      <td>M</td>\n",
       "      <td>сотрудник</td>\n",
       "      <td>0</td>\n",
       "      <td>145073</td>\n",
       "      <td>заняться образованием</td>\n",
       "    </tr>\n",
       "    <tr>\n",
       "      <th>17760</th>\n",
       "      <td>1</td>\n",
       "      <td>2184.647508</td>\n",
       "      <td>40</td>\n",
       "      <td>среднее</td>\n",
       "      <td>1</td>\n",
       "      <td>гражданский брак</td>\n",
       "      <td>1</td>\n",
       "      <td>F</td>\n",
       "      <td>компаньон</td>\n",
       "      <td>0</td>\n",
       "      <td>145073</td>\n",
       "      <td>строительство жилой недвижимости</td>\n",
       "    </tr>\n",
       "    <tr>\n",
       "      <th>18314</th>\n",
       "      <td>0</td>\n",
       "      <td>2184.647508</td>\n",
       "      <td>29</td>\n",
       "      <td>высшее</td>\n",
       "      <td>0</td>\n",
       "      <td>женат / замужем</td>\n",
       "      <td>0</td>\n",
       "      <td>M</td>\n",
       "      <td>сотрудник</td>\n",
       "      <td>0</td>\n",
       "      <td>145073</td>\n",
       "      <td>покупка жилой недвижимости</td>\n",
       "    </tr>\n",
       "    <tr>\n",
       "      <th>18335</th>\n",
       "      <td>1</td>\n",
       "      <td>2184.647508</td>\n",
       "      <td>30</td>\n",
       "      <td>высшее</td>\n",
       "      <td>0</td>\n",
       "      <td>женат / замужем</td>\n",
       "      <td>0</td>\n",
       "      <td>F</td>\n",
       "      <td>госслужащий</td>\n",
       "      <td>0</td>\n",
       "      <td>145073</td>\n",
       "      <td>покупка жилья для семьи</td>\n",
       "    </tr>\n",
       "    <tr>\n",
       "      <th>18414</th>\n",
       "      <td>0</td>\n",
       "      <td>2184.647508</td>\n",
       "      <td>64</td>\n",
       "      <td>среднее</td>\n",
       "      <td>1</td>\n",
       "      <td>женат / замужем</td>\n",
       "      <td>0</td>\n",
       "      <td>F</td>\n",
       "      <td>пенсионер</td>\n",
       "      <td>0</td>\n",
       "      <td>145073</td>\n",
       "      <td>жилье</td>\n",
       "    </tr>\n",
       "    <tr>\n",
       "      <th>18507</th>\n",
       "      <td>0</td>\n",
       "      <td>2184.647508</td>\n",
       "      <td>56</td>\n",
       "      <td>среднее</td>\n",
       "      <td>1</td>\n",
       "      <td>гражданский брак</td>\n",
       "      <td>1</td>\n",
       "      <td>F</td>\n",
       "      <td>сотрудник</td>\n",
       "      <td>0</td>\n",
       "      <td>145073</td>\n",
       "      <td>сыграть свадьбу</td>\n",
       "    </tr>\n",
       "    <tr>\n",
       "      <th>18549</th>\n",
       "      <td>0</td>\n",
       "      <td>2184.647508</td>\n",
       "      <td>54</td>\n",
       "      <td>среднее</td>\n",
       "      <td>1</td>\n",
       "      <td>женат / замужем</td>\n",
       "      <td>0</td>\n",
       "      <td>F</td>\n",
       "      <td>сотрудник</td>\n",
       "      <td>0</td>\n",
       "      <td>145073</td>\n",
       "      <td>операции со своей недвижимостью</td>\n",
       "    </tr>\n",
       "    <tr>\n",
       "      <th>18741</th>\n",
       "      <td>0</td>\n",
       "      <td>2184.647508</td>\n",
       "      <td>58</td>\n",
       "      <td>среднее</td>\n",
       "      <td>1</td>\n",
       "      <td>женат / замужем</td>\n",
       "      <td>0</td>\n",
       "      <td>F</td>\n",
       "      <td>пенсионер</td>\n",
       "      <td>0</td>\n",
       "      <td>145073</td>\n",
       "      <td>заняться образованием</td>\n",
       "    </tr>\n",
       "    <tr>\n",
       "      <th>19027</th>\n",
       "      <td>0</td>\n",
       "      <td>2184.647508</td>\n",
       "      <td>56</td>\n",
       "      <td>среднее</td>\n",
       "      <td>1</td>\n",
       "      <td>гражданский брак</td>\n",
       "      <td>1</td>\n",
       "      <td>F</td>\n",
       "      <td>сотрудник</td>\n",
       "      <td>0</td>\n",
       "      <td>145073</td>\n",
       "      <td>на проведение свадьбы</td>\n",
       "    </tr>\n",
       "    <tr>\n",
       "      <th>19169</th>\n",
       "      <td>0</td>\n",
       "      <td>2184.647508</td>\n",
       "      <td>46</td>\n",
       "      <td>среднее</td>\n",
       "      <td>1</td>\n",
       "      <td>женат / замужем</td>\n",
       "      <td>0</td>\n",
       "      <td>F</td>\n",
       "      <td>сотрудник</td>\n",
       "      <td>0</td>\n",
       "      <td>145073</td>\n",
       "      <td>свой автомобиль</td>\n",
       "    </tr>\n",
       "    <tr>\n",
       "      <th>19306</th>\n",
       "      <td>0</td>\n",
       "      <td>2184.647508</td>\n",
       "      <td>23</td>\n",
       "      <td>среднее</td>\n",
       "      <td>1</td>\n",
       "      <td>Не женат / не замужем</td>\n",
       "      <td>4</td>\n",
       "      <td>F</td>\n",
       "      <td>сотрудник</td>\n",
       "      <td>0</td>\n",
       "      <td>145073</td>\n",
       "      <td>сделка с подержанным автомобилем</td>\n",
       "    </tr>\n",
       "    <tr>\n",
       "      <th>19372</th>\n",
       "      <td>0</td>\n",
       "      <td>2184.647508</td>\n",
       "      <td>38</td>\n",
       "      <td>высшее</td>\n",
       "      <td>0</td>\n",
       "      <td>гражданский брак</td>\n",
       "      <td>1</td>\n",
       "      <td>F</td>\n",
       "      <td>компаньон</td>\n",
       "      <td>0</td>\n",
       "      <td>145073</td>\n",
       "      <td>на проведение свадьбы</td>\n",
       "    </tr>\n",
       "    <tr>\n",
       "      <th>19673</th>\n",
       "      <td>0</td>\n",
       "      <td>2184.647508</td>\n",
       "      <td>61</td>\n",
       "      <td>среднее</td>\n",
       "      <td>1</td>\n",
       "      <td>женат / замужем</td>\n",
       "      <td>0</td>\n",
       "      <td>F</td>\n",
       "      <td>пенсионер</td>\n",
       "      <td>0</td>\n",
       "      <td>145073</td>\n",
       "      <td>операции с недвижимостью</td>\n",
       "    </tr>\n",
       "    <tr>\n",
       "      <th>19817</th>\n",
       "      <td>0</td>\n",
       "      <td>2184.647508</td>\n",
       "      <td>48</td>\n",
       "      <td>среднее</td>\n",
       "      <td>1</td>\n",
       "      <td>женат / замужем</td>\n",
       "      <td>0</td>\n",
       "      <td>F</td>\n",
       "      <td>сотрудник</td>\n",
       "      <td>0</td>\n",
       "      <td>145073</td>\n",
       "      <td>ремонт жилью</td>\n",
       "    </tr>\n",
       "    <tr>\n",
       "      <th>19931</th>\n",
       "      <td>0</td>\n",
       "      <td>2184.647508</td>\n",
       "      <td>57</td>\n",
       "      <td>среднее</td>\n",
       "      <td>1</td>\n",
       "      <td>женат / замужем</td>\n",
       "      <td>0</td>\n",
       "      <td>F</td>\n",
       "      <td>сотрудник</td>\n",
       "      <td>0</td>\n",
       "      <td>145073</td>\n",
       "      <td>сделка с подержанным автомобилем</td>\n",
       "    </tr>\n",
       "    <tr>\n",
       "      <th>20101</th>\n",
       "      <td>0</td>\n",
       "      <td>2184.647508</td>\n",
       "      <td>57</td>\n",
       "      <td>среднее</td>\n",
       "      <td>1</td>\n",
       "      <td>гражданский брак</td>\n",
       "      <td>1</td>\n",
       "      <td>M</td>\n",
       "      <td>пенсионер</td>\n",
       "      <td>0</td>\n",
       "      <td>145073</td>\n",
       "      <td>свадьба</td>\n",
       "    </tr>\n",
       "    <tr>\n",
       "      <th>20150</th>\n",
       "      <td>0</td>\n",
       "      <td>2184.647508</td>\n",
       "      <td>42</td>\n",
       "      <td>среднее</td>\n",
       "      <td>1</td>\n",
       "      <td>женат / замужем</td>\n",
       "      <td>0</td>\n",
       "      <td>F</td>\n",
       "      <td>сотрудник</td>\n",
       "      <td>0</td>\n",
       "      <td>145073</td>\n",
       "      <td>покупка жилья для семьи</td>\n",
       "    </tr>\n",
       "    <tr>\n",
       "      <th>20685</th>\n",
       "      <td>0</td>\n",
       "      <td>2184.647508</td>\n",
       "      <td>64</td>\n",
       "      <td>среднее</td>\n",
       "      <td>1</td>\n",
       "      <td>женат / замужем</td>\n",
       "      <td>0</td>\n",
       "      <td>F</td>\n",
       "      <td>пенсионер</td>\n",
       "      <td>0</td>\n",
       "      <td>145073</td>\n",
       "      <td>дополнительное образование</td>\n",
       "    </tr>\n",
       "    <tr>\n",
       "      <th>21015</th>\n",
       "      <td>0</td>\n",
       "      <td>2184.647508</td>\n",
       "      <td>60</td>\n",
       "      <td>среднее</td>\n",
       "      <td>1</td>\n",
       "      <td>женат / замужем</td>\n",
       "      <td>0</td>\n",
       "      <td>F</td>\n",
       "      <td>пенсионер</td>\n",
       "      <td>0</td>\n",
       "      <td>145073</td>\n",
       "      <td>заняться образованием</td>\n",
       "    </tr>\n",
       "    <tr>\n",
       "      <th>21115</th>\n",
       "      <td>0</td>\n",
       "      <td>2184.647508</td>\n",
       "      <td>47</td>\n",
       "      <td>среднее</td>\n",
       "      <td>1</td>\n",
       "      <td>женат / замужем</td>\n",
       "      <td>0</td>\n",
       "      <td>F</td>\n",
       "      <td>сотрудник</td>\n",
       "      <td>0</td>\n",
       "      <td>145073</td>\n",
       "      <td>ремонт жилью</td>\n",
       "    </tr>\n",
       "    <tr>\n",
       "      <th>21264</th>\n",
       "      <td>1</td>\n",
       "      <td>2184.647508</td>\n",
       "      <td>30</td>\n",
       "      <td>высшее</td>\n",
       "      <td>0</td>\n",
       "      <td>женат / замужем</td>\n",
       "      <td>0</td>\n",
       "      <td>F</td>\n",
       "      <td>сотрудник</td>\n",
       "      <td>0</td>\n",
       "      <td>145073</td>\n",
       "      <td>покупка коммерческой недвижимости</td>\n",
       "    </tr>\n",
       "    <tr>\n",
       "      <th>21398</th>\n",
       "      <td>0</td>\n",
       "      <td>2184.647508</td>\n",
       "      <td>54</td>\n",
       "      <td>среднее</td>\n",
       "      <td>1</td>\n",
       "      <td>женат / замужем</td>\n",
       "      <td>0</td>\n",
       "      <td>F</td>\n",
       "      <td>пенсионер</td>\n",
       "      <td>0</td>\n",
       "      <td>145073</td>\n",
       "      <td>операции с жильем</td>\n",
       "    </tr>\n",
       "  </tbody>\n",
       "</table>\n",
       "</div>"
      ],
      "text/plain": [
       "       children  days_employed  dob_years education  education_id  \\\n",
       "2845          0    2184.647508         41   среднее             1   \n",
       "4178          1    2184.647508         34    ВЫСШЕЕ             0   \n",
       "4847          0    2184.647508         60   среднее             1   \n",
       "5552          0    2184.647508         58   среднее             1   \n",
       "7802          0    2184.647508         57   среднее             1   \n",
       "8576          0    2184.647508         58    высшее             0   \n",
       "9231          2    2184.647508         34   среднее             1   \n",
       "9521          0    2184.647508         66   среднее             1   \n",
       "9620          0    2184.647508         56   среднее             1   \n",
       "10454         0    2184.647508         62   среднее             1   \n",
       "10689         0    2184.647508         40   среднее             1   \n",
       "10856         0    2184.647508         62   среднее             1   \n",
       "10986         0    2184.647508         62   среднее             1   \n",
       "11783         0    2184.647508         47   среднее             1   \n",
       "12364         0    2184.647508         58   среднее             1   \n",
       "12366         1    2184.647508         37   среднее             1   \n",
       "12726         0    2184.647508         59   среднее             1   \n",
       "13015         1    2184.647508         44   среднее             1   \n",
       "13629         0    2184.647508         64   среднее             1   \n",
       "13763         0    2184.647508         35   среднее             1   \n",
       "13868         1    2184.647508         31   среднее             1   \n",
       "13932         0    2184.647508         44   среднее             1   \n",
       "14422         2    2184.647508         36    высшее             0   \n",
       "14820         0    2184.647508         50   среднее             1   \n",
       "15079         0    2184.647508         58   среднее             1   \n",
       "15176         0    2184.647508         60   среднее             1   \n",
       "15261         0    2184.647508         57   среднее             1   \n",
       "16163         0    2184.647508         47   среднее             1   \n",
       "16365         0    2184.647508         46   среднее             1   \n",
       "16888         2    2184.647508         39   среднее             1   \n",
       "16890         1    2184.647508         32    высшее             0   \n",
       "17365         0    2184.647508         54    высшее             0   \n",
       "17741         1    2184.647508         43   среднее             1   \n",
       "17760         1    2184.647508         40   среднее             1   \n",
       "18314         0    2184.647508         29    высшее             0   \n",
       "18335         1    2184.647508         30    высшее             0   \n",
       "18414         0    2184.647508         64   среднее             1   \n",
       "18507         0    2184.647508         56   среднее             1   \n",
       "18549         0    2184.647508         54   среднее             1   \n",
       "18741         0    2184.647508         58   среднее             1   \n",
       "19027         0    2184.647508         56   среднее             1   \n",
       "19169         0    2184.647508         46   среднее             1   \n",
       "19306         0    2184.647508         23   среднее             1   \n",
       "19372         0    2184.647508         38    высшее             0   \n",
       "19673         0    2184.647508         61   среднее             1   \n",
       "19817         0    2184.647508         48   среднее             1   \n",
       "19931         0    2184.647508         57   среднее             1   \n",
       "20101         0    2184.647508         57   среднее             1   \n",
       "20150         0    2184.647508         42   среднее             1   \n",
       "20685         0    2184.647508         64   среднее             1   \n",
       "21015         0    2184.647508         60   среднее             1   \n",
       "21115         0    2184.647508         47   среднее             1   \n",
       "21264         1    2184.647508         30    высшее             0   \n",
       "21398         0    2184.647508         54   среднее             1   \n",
       "\n",
       "               family_status  family_status_id gender  income_type  debt  \\\n",
       "2845         женат / замужем                 0      F    сотрудник     0   \n",
       "4178        гражданский брак                 1      F    сотрудник     0   \n",
       "4847        гражданский брак                 1      F    пенсионер     0   \n",
       "5552        гражданский брак                 1      F    пенсионер     0   \n",
       "7802        гражданский брак                 1      F    пенсионер     0   \n",
       "8576   Не женат / не замужем                 4      F    пенсионер     0   \n",
       "9231         женат / замужем                 0      F    сотрудник     0   \n",
       "9521          вдовец / вдова                 2      F    пенсионер     0   \n",
       "9620         женат / замужем                 0      F    пенсионер     0   \n",
       "10454        женат / замужем                 0      F    пенсионер     0   \n",
       "10689       гражданский брак                 1      F    компаньон     0   \n",
       "10856        женат / замужем                 0      F    пенсионер     0   \n",
       "10986        женат / замужем                 0      F    пенсионер     0   \n",
       "11783        женат / замужем                 0      F    сотрудник     0   \n",
       "12364        женат / замужем                 0      M    сотрудник     0   \n",
       "12366        женат / замужем                 0      F    сотрудник     0   \n",
       "12726        женат / замужем                 0      F    пенсионер     0   \n",
       "13015        женат / замужем                 0      F    сотрудник     0   \n",
       "13629        женат / замужем                 0      F    пенсионер     0   \n",
       "13763       гражданский брак                 1      F    сотрудник     0   \n",
       "13868        женат / замужем                 0      F    компаньон     0   \n",
       "13932        женат / замужем                 0      F    сотрудник     0   \n",
       "14422        женат / замужем                 0      F  госслужащий     0   \n",
       "14820  Не женат / не замужем                 4      F    сотрудник     0   \n",
       "15079       гражданский брак                 1      M    сотрудник     0   \n",
       "15176        женат / замужем                 0      M    сотрудник     0   \n",
       "15261       гражданский брак                 1      F    пенсионер     0   \n",
       "16163        женат / замужем                 0      F    сотрудник     0   \n",
       "16365        женат / замужем                 0      F    сотрудник     0   \n",
       "16888       гражданский брак                 1      F    сотрудник     0   \n",
       "16890        женат / замужем                 0      F    сотрудник     0   \n",
       "17365        женат / замужем                 0      M    компаньон     0   \n",
       "17741        женат / замужем                 0      M    сотрудник     0   \n",
       "17760       гражданский брак                 1      F    компаньон     0   \n",
       "18314        женат / замужем                 0      M    сотрудник     0   \n",
       "18335        женат / замужем                 0      F  госслужащий     0   \n",
       "18414        женат / замужем                 0      F    пенсионер     0   \n",
       "18507       гражданский брак                 1      F    сотрудник     0   \n",
       "18549        женат / замужем                 0      F    сотрудник     0   \n",
       "18741        женат / замужем                 0      F    пенсионер     0   \n",
       "19027       гражданский брак                 1      F    сотрудник     0   \n",
       "19169        женат / замужем                 0      F    сотрудник     0   \n",
       "19306  Не женат / не замужем                 4      F    сотрудник     0   \n",
       "19372       гражданский брак                 1      F    компаньон     0   \n",
       "19673        женат / замужем                 0      F    пенсионер     0   \n",
       "19817        женат / замужем                 0      F    сотрудник     0   \n",
       "19931        женат / замужем                 0      F    сотрудник     0   \n",
       "20101       гражданский брак                 1      M    пенсионер     0   \n",
       "20150        женат / замужем                 0      F    сотрудник     0   \n",
       "20685        женат / замужем                 0      F    пенсионер     0   \n",
       "21015        женат / замужем                 0      F    пенсионер     0   \n",
       "21115        женат / замужем                 0      F    сотрудник     0   \n",
       "21264        женат / замужем                 0      F    сотрудник     0   \n",
       "21398        женат / замужем                 0      F    пенсионер     0   \n",
       "\n",
       "       total_income                                purpose  \n",
       "2845         145073                покупка жилья для семьи  \n",
       "4178         145073                                свадьба  \n",
       "4847         145073                                свадьба  \n",
       "5552         145073                        сыграть свадьбу  \n",
       "7802         145073                  на проведение свадьбы  \n",
       "8576         145073             дополнительное образование  \n",
       "9231         145073                покупка жилья для сдачи  \n",
       "9521         145073        операции со своей недвижимостью  \n",
       "9620         145073        операции со своей недвижимостью  \n",
       "10454        145073      покупка коммерческой недвижимости  \n",
       "10689        145073                        сыграть свадьбу  \n",
       "10856        145073                           ремонт жилью  \n",
       "10986        145073                           ремонт жилью  \n",
       "11783        145073             строительство недвижимости  \n",
       "12364        145073                   покупка недвижимости  \n",
       "12366        145073                   покупка недвижимости  \n",
       "12726        145073                  заняться образованием  \n",
       "13015        145073       сделка с подержанным автомобилем  \n",
       "13629        145073                             автомобиль  \n",
       "13763        145073                        сыграть свадьбу  \n",
       "13868        145073                          покупка жилья  \n",
       "13932        145073                приобретение автомобиля  \n",
       "14422        145073                  получение образования  \n",
       "14820        145073                           недвижимость  \n",
       "15079        145073                  на проведение свадьбы  \n",
       "15176        145073                   покупка недвижимости  \n",
       "15261        145073                                свадьба  \n",
       "16163        145073                           ремонт жилью  \n",
       "16365        145073                     высшее образование  \n",
       "16888        145073                        сыграть свадьбу  \n",
       "16890        145073     на покупку подержанного автомобиля  \n",
       "17365        145073  операции с коммерческой недвижимостью  \n",
       "17741        145073                  заняться образованием  \n",
       "17760        145073       строительство жилой недвижимости  \n",
       "18314        145073             покупка жилой недвижимости  \n",
       "18335        145073                покупка жилья для семьи  \n",
       "18414        145073                                  жилье  \n",
       "18507        145073                        сыграть свадьбу  \n",
       "18549        145073        операции со своей недвижимостью  \n",
       "18741        145073                  заняться образованием  \n",
       "19027        145073                  на проведение свадьбы  \n",
       "19169        145073                        свой автомобиль  \n",
       "19306        145073       сделка с подержанным автомобилем  \n",
       "19372        145073                  на проведение свадьбы  \n",
       "19673        145073               операции с недвижимостью  \n",
       "19817        145073                           ремонт жилью  \n",
       "19931        145073       сделка с подержанным автомобилем  \n",
       "20101        145073                                свадьба  \n",
       "20150        145073                покупка жилья для семьи  \n",
       "20685        145073             дополнительное образование  \n",
       "21015        145073                  заняться образованием  \n",
       "21115        145073                           ремонт жилью  \n",
       "21264        145073      покупка коммерческой недвижимости  \n",
       "21398        145073                      операции с жильем  "
      ]
     },
     "metadata": {},
     "output_type": "display_data"
    }
   ],
   "source": [
    "# отображение таблицы с дубликатами\n",
    "display(df.loc[df.duplicated() != False])"
   ]
  },
  {
   "cell_type": "markdown",
   "id": "6d3118cb",
   "metadata": {},
   "source": [
    "Из таблицы видно, что дубликаты получены в результате одинакового значения данных по трудовому стажу `days_employed` и ежемесячному доходу `total_income`. При этом остальные данные различаются.\n",
    "\n",
    "Это явная ошибка, возникшая при занесении данных в базу. Так как возможности получить корректные данные нет, а общее число данных с дубликатами этого типа невелико относительно общего размера данных, то эти строки можно просто удалить, применив цепочку из двух методов."
   ]
  },
  {
   "cell_type": "code",
   "execution_count": 39,
   "id": "3ea46b80",
   "metadata": {},
   "outputs": [],
   "source": [
    "# удаление строк с дубликатами и обновление индексов таблицы\n",
    "df = df.drop_duplicates().reset_index(drop=True)"
   ]
  },
  {
   "cell_type": "markdown",
   "id": "bc3b4d80",
   "metadata": {},
   "source": [
    "Перепроверим наличие дубликатов после их удаления."
   ]
  },
  {
   "cell_type": "code",
   "execution_count": 40,
   "id": "4baff423",
   "metadata": {},
   "outputs": [
    {
     "data": {
      "text/plain": [
       "0"
      ]
     },
     "execution_count": 40,
     "metadata": {},
     "output_type": "execute_result"
    }
   ],
   "source": [
    "# повторная проверка данных на наличие дубликатов\n",
    "df.duplicated().sum()"
   ]
  },
  {
   "cell_type": "markdown",
   "id": "ba8567be",
   "metadata": {},
   "source": [
    "При визуальном просмотре результатов вывода таблицы в примерах выше видно, что присутствуют также неявные дубликаты, как минимум в столбце `education`. Посмотрим на список уникальных значений в данном столбце."
   ]
  },
  {
   "cell_type": "code",
   "execution_count": 41,
   "id": "007790be",
   "metadata": {},
   "outputs": [
    {
     "data": {
      "text/plain": [
       "среднее                13693\n",
       "высшее                  4706\n",
       "СРЕДНЕЕ                  772\n",
       "Среднее                  710\n",
       "неоконченное высшее      668\n",
       "ВЫСШЕЕ                   273\n",
       "Высшее                   268\n",
       "начальное                250\n",
       "Неоконченное высшее       47\n",
       "НЕОКОНЧЕННОЕ ВЫСШЕЕ       29\n",
       "НАЧАЛЬНОЕ                 17\n",
       "Начальное                 15\n",
       "ученая степень             4\n",
       "Ученая степень             1\n",
       "УЧЕНАЯ СТЕПЕНЬ             1\n",
       "Name: education, dtype: int64"
      ]
     },
     "execution_count": 41,
     "metadata": {},
     "output_type": "execute_result"
    }
   ],
   "source": [
    "# просмотр уникальных значений в столбце education\n",
    "df['education'].value_counts()"
   ]
  },
  {
   "cell_type": "markdown",
   "id": "40c52bad",
   "metadata": {},
   "source": [
    "Можно отметить наличие неявных дубликатов в данных по уровню образования клиента в виде записей признака в различном регистре. От дубликатов подобного рода можно избавиться приведением данного признака к единому регистру. В данном случае к нижнему."
   ]
  },
  {
   "cell_type": "code",
   "execution_count": 42,
   "id": "eb9761bd",
   "metadata": {},
   "outputs": [],
   "source": [
    "# перевод данных об образовании к нижнему регистру\n",
    "df['education'] = df['education'].str.lower()"
   ]
  },
  {
   "cell_type": "markdown",
   "id": "97da5835",
   "metadata": {},
   "source": [
    "Проверка полученного результата."
   ]
  },
  {
   "cell_type": "code",
   "execution_count": 43,
   "id": "8fd00ccb",
   "metadata": {},
   "outputs": [
    {
     "data": {
      "text/plain": [
       "среднее                15175\n",
       "высшее                  5247\n",
       "неоконченное высшее      744\n",
       "начальное                282\n",
       "ученая степень             6\n",
       "Name: education, dtype: int64"
      ]
     },
     "execution_count": 43,
     "metadata": {},
     "output_type": "execute_result"
    }
   ],
   "source": [
    "# повторный просмотр уникальных значений в столбце education\n",
    "df['education'].value_counts()"
   ]
  },
  {
   "cell_type": "markdown",
   "id": "a37adffe",
   "metadata": {},
   "source": [
    "Теперь в столбце `education` все данные в едином регистре и дубликатов нет. Проверим также другие категориальные данные, в которых могут присутствовать дубликаты подобного рода: `family_status`, `income_type`, `purpose`."
   ]
  },
  {
   "cell_type": "code",
   "execution_count": 44,
   "id": "de3d883a",
   "metadata": {},
   "outputs": [
    {
     "data": {
      "text/plain": [
       "женат / замужем          12336\n",
       "гражданский брак          4163\n",
       "Не женат / не замужем     2806\n",
       "в разводе                 1194\n",
       "вдовец / вдова             955\n",
       "Name: family_status, dtype: int64"
      ]
     },
     "execution_count": 44,
     "metadata": {},
     "output_type": "execute_result"
    }
   ],
   "source": [
    "# просмотр уникальных значений в столбце family_status\n",
    "df['family_status'].value_counts()"
   ]
  },
  {
   "cell_type": "code",
   "execution_count": 45,
   "id": "95162de0",
   "metadata": {},
   "outputs": [
    {
     "data": {
      "text/plain": [
       "сотрудник          11091\n",
       "компаньон           5080\n",
       "пенсионер           3820\n",
       "госслужащий         1457\n",
       "безработный            2\n",
       "предприниматель        2\n",
       "студент                1\n",
       "в декрете              1\n",
       "Name: income_type, dtype: int64"
      ]
     },
     "execution_count": 45,
     "metadata": {},
     "output_type": "execute_result"
    }
   ],
   "source": [
    "# просмотр уникальных значений в столбце income_type\n",
    "df['income_type'].value_counts()"
   ]
  },
  {
   "cell_type": "code",
   "execution_count": 46,
   "id": "0d9a84b7",
   "metadata": {},
   "outputs": [
    {
     "data": {
      "text/plain": [
       "свадьба                                   793\n",
       "на проведение свадьбы                     773\n",
       "сыграть свадьбу                           769\n",
       "операции с недвижимостью                  674\n",
       "покупка коммерческой недвижимости         661\n",
       "покупка жилья для сдачи                   652\n",
       "операции с жильем                         652\n",
       "операции с коммерческой недвижимостью     650\n",
       "жилье                                     645\n",
       "покупка жилья                             644\n",
       "покупка жилья для семьи                   638\n",
       "строительство собственной недвижимости    634\n",
       "недвижимость                              632\n",
       "операции со своей недвижимостью           627\n",
       "строительство жилой недвижимости          625\n",
       "покупка недвижимости                      621\n",
       "строительство недвижимости                619\n",
       "покупка своего жилья                      619\n",
       "ремонт жилью                              607\n",
       "покупка жилой недвижимости                606\n",
       "на покупку своего автомобиля              505\n",
       "заняться высшим образованием              495\n",
       "автомобиль                                493\n",
       "сделка с подержанным автомобилем          486\n",
       "свой автомобиль                           478\n",
       "на покупку подержанного автомобиля        478\n",
       "автомобили                                478\n",
       "на покупку автомобиля                     471\n",
       "приобретение автомобиля                   461\n",
       "дополнительное образование                460\n",
       "сделка с автомобилем                      455\n",
       "высшее образование                        450\n",
       "получение дополнительного образования     446\n",
       "образование                               445\n",
       "получение образования                     442\n",
       "профильное образование                    436\n",
       "получение высшего образования             426\n",
       "заняться образованием                     408\n",
       "Name: purpose, dtype: int64"
      ]
     },
     "execution_count": 46,
     "metadata": {},
     "output_type": "execute_result"
    }
   ],
   "source": [
    "# просмотр уникальных значений в столбце purpose\n",
    "df['purpose'].value_counts()"
   ]
  },
  {
   "cell_type": "markdown",
   "id": "2e6ca352",
   "metadata": {},
   "source": [
    "В этих столбцах проблем с дубликатами, связанных с записью данных строкового типа в различном регистре, не обнаружено. Только в стилистических целях приведем к нижнему регистру значения в столбце `family_status`."
   ]
  },
  {
   "cell_type": "code",
   "execution_count": 47,
   "id": "7f6a1e3e",
   "metadata": {},
   "outputs": [],
   "source": [
    "# перевод данных о семейном положении к нижнему регистру\n",
    "df['family_status'] = df['family_status'].str.lower()"
   ]
  },
  {
   "cell_type": "markdown",
   "id": "1fe6c82a",
   "metadata": {},
   "source": [
    "В данных по цели кредита `purpose` обнаружено большое количество нечетких дублей, которые могут затруднить последующую проверку гипотезы на основе данного признака. Попробуем избавиться от них далее объединив нечеткие дубли в группы по ключевым словам."
   ]
  },
  {
   "cell_type": "markdown",
   "id": "a10b56ac",
   "metadata": {},
   "source": [
    "В процессе предобработки данных были найдены дубликаты различного рода. С помощью метода *duplicated()* были найдены и методом *drop_duplicates()* удалены явные дубликаты в количественных признаках `days_employed` и `total_income`.\n",
    "\n",
    "Также были проанализированы категориальные признаки `education`, `family_status`, `income_type`, `purpose` на наличие дубликатов. С помощью метода *value_counts()* были отображены сводные таблицы с подсчетом всех уникальных значений в указанных столбцах. Были обнаружены дубликаты в данных по образованию `education`, которые заключались в записи отдинаковых признаков в различном регистре. От дублактов подобного рода данные были очищены приведением данных в столбце по образованию к единому нижнему регистру методом *str.lower()*.\n",
    "\n",
    "Отмечена дальнейшая необходимость обработки нечетких дублей в данных по целям кредитов `purpose`."
   ]
  },
  {
   "cell_type": "markdown",
   "id": "f0918e94",
   "metadata": {},
   "source": [
    "---"
   ]
  },
  {
   "cell_type": "markdown",
   "id": "52337425",
   "metadata": {},
   "source": [
    "### Формирование дополнительных датафреймов словарей, декомпозиция исходного датафрейма"
   ]
  },
  {
   "cell_type": "markdown",
   "id": "936fa2a6",
   "metadata": {},
   "source": [
    "Уровень образования клиента и семейное положение многократно повторяются в данных, а строки с ними занимают много места. Создадим словари для этих признаков и оптимизируем данные, удалив из основной таблицы многократно повторяющиеся значения."
   ]
  },
  {
   "cell_type": "code",
   "execution_count": 48,
   "id": "78c21097",
   "metadata": {},
   "outputs": [
    {
     "data": {
      "text/html": [
       "<div>\n",
       "<style scoped>\n",
       "    .dataframe tbody tr th:only-of-type {\n",
       "        vertical-align: middle;\n",
       "    }\n",
       "\n",
       "    .dataframe tbody tr th {\n",
       "        vertical-align: top;\n",
       "    }\n",
       "\n",
       "    .dataframe thead th {\n",
       "        text-align: right;\n",
       "    }\n",
       "</style>\n",
       "<table border=\"1\" class=\"dataframe\">\n",
       "  <thead>\n",
       "    <tr style=\"text-align: right;\">\n",
       "      <th></th>\n",
       "      <th>education</th>\n",
       "      <th>education_id</th>\n",
       "    </tr>\n",
       "  </thead>\n",
       "  <tbody>\n",
       "    <tr>\n",
       "      <th>0</th>\n",
       "      <td>высшее</td>\n",
       "      <td>0</td>\n",
       "    </tr>\n",
       "    <tr>\n",
       "      <th>1</th>\n",
       "      <td>среднее</td>\n",
       "      <td>1</td>\n",
       "    </tr>\n",
       "    <tr>\n",
       "      <th>2</th>\n",
       "      <td>неоконченное высшее</td>\n",
       "      <td>2</td>\n",
       "    </tr>\n",
       "    <tr>\n",
       "      <th>3</th>\n",
       "      <td>начальное</td>\n",
       "      <td>3</td>\n",
       "    </tr>\n",
       "    <tr>\n",
       "      <th>4</th>\n",
       "      <td>ученая степень</td>\n",
       "      <td>4</td>\n",
       "    </tr>\n",
       "  </tbody>\n",
       "</table>\n",
       "</div>"
      ],
      "text/plain": [
       "             education  education_id\n",
       "0               высшее             0\n",
       "1              среднее             1\n",
       "2  неоконченное высшее             2\n",
       "3            начальное             3\n",
       "4       ученая степень             4"
      ]
     },
     "metadata": {},
     "output_type": "display_data"
    }
   ],
   "source": [
    "# создание словаря для уровня образования\n",
    "\n",
    "education_dict = df[['education', 'education_id']].drop_duplicates().reset_index(drop=True)\n",
    "display(education_dict)"
   ]
  },
  {
   "cell_type": "code",
   "execution_count": 49,
   "id": "fe48ea82",
   "metadata": {},
   "outputs": [
    {
     "data": {
      "text/html": [
       "<div>\n",
       "<style scoped>\n",
       "    .dataframe tbody tr th:only-of-type {\n",
       "        vertical-align: middle;\n",
       "    }\n",
       "\n",
       "    .dataframe tbody tr th {\n",
       "        vertical-align: top;\n",
       "    }\n",
       "\n",
       "    .dataframe thead th {\n",
       "        text-align: right;\n",
       "    }\n",
       "</style>\n",
       "<table border=\"1\" class=\"dataframe\">\n",
       "  <thead>\n",
       "    <tr style=\"text-align: right;\">\n",
       "      <th></th>\n",
       "      <th>family_status</th>\n",
       "      <th>family_status_id</th>\n",
       "    </tr>\n",
       "  </thead>\n",
       "  <tbody>\n",
       "    <tr>\n",
       "      <th>0</th>\n",
       "      <td>женат / замужем</td>\n",
       "      <td>0</td>\n",
       "    </tr>\n",
       "    <tr>\n",
       "      <th>1</th>\n",
       "      <td>гражданский брак</td>\n",
       "      <td>1</td>\n",
       "    </tr>\n",
       "    <tr>\n",
       "      <th>2</th>\n",
       "      <td>вдовец / вдова</td>\n",
       "      <td>2</td>\n",
       "    </tr>\n",
       "    <tr>\n",
       "      <th>3</th>\n",
       "      <td>в разводе</td>\n",
       "      <td>3</td>\n",
       "    </tr>\n",
       "    <tr>\n",
       "      <th>4</th>\n",
       "      <td>не женат / не замужем</td>\n",
       "      <td>4</td>\n",
       "    </tr>\n",
       "  </tbody>\n",
       "</table>\n",
       "</div>"
      ],
      "text/plain": [
       "           family_status  family_status_id\n",
       "0        женат / замужем                 0\n",
       "1       гражданский брак                 1\n",
       "2         вдовец / вдова                 2\n",
       "3              в разводе                 3\n",
       "4  не женат / не замужем                 4"
      ]
     },
     "metadata": {},
     "output_type": "display_data"
    }
   ],
   "source": [
    "# создание словаря для семейного положения\n",
    "\n",
    "family_status_dict = df[['family_status', 'family_status_id']].drop_duplicates().reset_index(drop=True)\n",
    "display(family_status_dict)"
   ]
  },
  {
   "cell_type": "markdown",
   "id": "7d41ee45",
   "metadata": {},
   "source": [
    "После создания словарей соотвествия образования и семейного положения предопредленным в таблице категориям, столбцы `education` и `family_status` можно удалить из таблицы."
   ]
  },
  {
   "cell_type": "code",
   "execution_count": 50,
   "id": "c3d89827",
   "metadata": {},
   "outputs": [],
   "source": [
    "# удаление столбцов education и family_status из датафрейма\n",
    "df = df.drop(['education', 'family_status'], axis=1)"
   ]
  },
  {
   "cell_type": "code",
   "execution_count": 51,
   "id": "f4b9aa25",
   "metadata": {},
   "outputs": [
    {
     "data": {
      "text/html": [
       "<div>\n",
       "<style scoped>\n",
       "    .dataframe tbody tr th:only-of-type {\n",
       "        vertical-align: middle;\n",
       "    }\n",
       "\n",
       "    .dataframe tbody tr th {\n",
       "        vertical-align: top;\n",
       "    }\n",
       "\n",
       "    .dataframe thead th {\n",
       "        text-align: right;\n",
       "    }\n",
       "</style>\n",
       "<table border=\"1\" class=\"dataframe\">\n",
       "  <thead>\n",
       "    <tr style=\"text-align: right;\">\n",
       "      <th></th>\n",
       "      <th>children</th>\n",
       "      <th>days_employed</th>\n",
       "      <th>dob_years</th>\n",
       "      <th>education_id</th>\n",
       "      <th>family_status_id</th>\n",
       "      <th>gender</th>\n",
       "      <th>income_type</th>\n",
       "      <th>debt</th>\n",
       "      <th>total_income</th>\n",
       "      <th>purpose</th>\n",
       "    </tr>\n",
       "  </thead>\n",
       "  <tbody>\n",
       "    <tr>\n",
       "      <th>0</th>\n",
       "      <td>1</td>\n",
       "      <td>8437.673028</td>\n",
       "      <td>42</td>\n",
       "      <td>0</td>\n",
       "      <td>0</td>\n",
       "      <td>F</td>\n",
       "      <td>сотрудник</td>\n",
       "      <td>0</td>\n",
       "      <td>253875</td>\n",
       "      <td>покупка жилья</td>\n",
       "    </tr>\n",
       "    <tr>\n",
       "      <th>1</th>\n",
       "      <td>1</td>\n",
       "      <td>4024.803754</td>\n",
       "      <td>36</td>\n",
       "      <td>1</td>\n",
       "      <td>0</td>\n",
       "      <td>F</td>\n",
       "      <td>сотрудник</td>\n",
       "      <td>0</td>\n",
       "      <td>112080</td>\n",
       "      <td>приобретение автомобиля</td>\n",
       "    </tr>\n",
       "    <tr>\n",
       "      <th>2</th>\n",
       "      <td>0</td>\n",
       "      <td>5623.422610</td>\n",
       "      <td>33</td>\n",
       "      <td>1</td>\n",
       "      <td>0</td>\n",
       "      <td>M</td>\n",
       "      <td>сотрудник</td>\n",
       "      <td>0</td>\n",
       "      <td>145885</td>\n",
       "      <td>покупка жилья</td>\n",
       "    </tr>\n",
       "    <tr>\n",
       "      <th>3</th>\n",
       "      <td>3</td>\n",
       "      <td>4124.747207</td>\n",
       "      <td>32</td>\n",
       "      <td>1</td>\n",
       "      <td>0</td>\n",
       "      <td>M</td>\n",
       "      <td>сотрудник</td>\n",
       "      <td>0</td>\n",
       "      <td>267628</td>\n",
       "      <td>дополнительное образование</td>\n",
       "    </tr>\n",
       "    <tr>\n",
       "      <th>4</th>\n",
       "      <td>0</td>\n",
       "      <td>4587.000000</td>\n",
       "      <td>53</td>\n",
       "      <td>1</td>\n",
       "      <td>1</td>\n",
       "      <td>F</td>\n",
       "      <td>пенсионер</td>\n",
       "      <td>0</td>\n",
       "      <td>158616</td>\n",
       "      <td>сыграть свадьбу</td>\n",
       "    </tr>\n",
       "  </tbody>\n",
       "</table>\n",
       "</div>"
      ],
      "text/plain": [
       "   children  days_employed  dob_years  education_id  family_status_id gender  \\\n",
       "0         1    8437.673028         42             0                 0      F   \n",
       "1         1    4024.803754         36             1                 0      F   \n",
       "2         0    5623.422610         33             1                 0      M   \n",
       "3         3    4124.747207         32             1                 0      M   \n",
       "4         0    4587.000000         53             1                 1      F   \n",
       "\n",
       "  income_type  debt  total_income                     purpose  \n",
       "0   сотрудник     0        253875               покупка жилья  \n",
       "1   сотрудник     0        112080     приобретение автомобиля  \n",
       "2   сотрудник     0        145885               покупка жилья  \n",
       "3   сотрудник     0        267628  дополнительное образование  \n",
       "4   пенсионер     0        158616             сыграть свадьбу  "
      ]
     },
     "metadata": {},
     "output_type": "display_data"
    }
   ],
   "source": [
    "# проверка полученного результата\n",
    "display(df.head())"
   ]
  },
  {
   "cell_type": "markdown",
   "id": "5ae911e4",
   "metadata": {},
   "source": [
    "Общий вид таблицы портят данные об общем трудовом стаже `days_employed`, которые представлены в виде вещественных чисел с большим количеством знаком после запятой. Приведем эти данные к целочисленному типу."
   ]
  },
  {
   "cell_type": "code",
   "execution_count": 52,
   "id": "2d24cdb0",
   "metadata": {},
   "outputs": [],
   "source": [
    "# перевод значений столбца total_income из вещественного типа в целочисленный\n",
    "df['days_employed'] = df['days_employed'].astype('int')"
   ]
  },
  {
   "cell_type": "markdown",
   "id": "52da5cb8",
   "metadata": {},
   "source": [
    "Проверим полученный результат."
   ]
  },
  {
   "cell_type": "code",
   "execution_count": 53,
   "id": "9bcdc2d6",
   "metadata": {},
   "outputs": [
    {
     "data": {
      "text/html": [
       "<div>\n",
       "<style scoped>\n",
       "    .dataframe tbody tr th:only-of-type {\n",
       "        vertical-align: middle;\n",
       "    }\n",
       "\n",
       "    .dataframe tbody tr th {\n",
       "        vertical-align: top;\n",
       "    }\n",
       "\n",
       "    .dataframe thead th {\n",
       "        text-align: right;\n",
       "    }\n",
       "</style>\n",
       "<table border=\"1\" class=\"dataframe\">\n",
       "  <thead>\n",
       "    <tr style=\"text-align: right;\">\n",
       "      <th></th>\n",
       "      <th>children</th>\n",
       "      <th>days_employed</th>\n",
       "      <th>dob_years</th>\n",
       "      <th>education_id</th>\n",
       "      <th>family_status_id</th>\n",
       "      <th>gender</th>\n",
       "      <th>income_type</th>\n",
       "      <th>debt</th>\n",
       "      <th>total_income</th>\n",
       "      <th>purpose</th>\n",
       "    </tr>\n",
       "  </thead>\n",
       "  <tbody>\n",
       "    <tr>\n",
       "      <th>0</th>\n",
       "      <td>1</td>\n",
       "      <td>8437</td>\n",
       "      <td>42</td>\n",
       "      <td>0</td>\n",
       "      <td>0</td>\n",
       "      <td>F</td>\n",
       "      <td>сотрудник</td>\n",
       "      <td>0</td>\n",
       "      <td>253875</td>\n",
       "      <td>покупка жилья</td>\n",
       "    </tr>\n",
       "    <tr>\n",
       "      <th>1</th>\n",
       "      <td>1</td>\n",
       "      <td>4024</td>\n",
       "      <td>36</td>\n",
       "      <td>1</td>\n",
       "      <td>0</td>\n",
       "      <td>F</td>\n",
       "      <td>сотрудник</td>\n",
       "      <td>0</td>\n",
       "      <td>112080</td>\n",
       "      <td>приобретение автомобиля</td>\n",
       "    </tr>\n",
       "    <tr>\n",
       "      <th>2</th>\n",
       "      <td>0</td>\n",
       "      <td>5623</td>\n",
       "      <td>33</td>\n",
       "      <td>1</td>\n",
       "      <td>0</td>\n",
       "      <td>M</td>\n",
       "      <td>сотрудник</td>\n",
       "      <td>0</td>\n",
       "      <td>145885</td>\n",
       "      <td>покупка жилья</td>\n",
       "    </tr>\n",
       "    <tr>\n",
       "      <th>3</th>\n",
       "      <td>3</td>\n",
       "      <td>4124</td>\n",
       "      <td>32</td>\n",
       "      <td>1</td>\n",
       "      <td>0</td>\n",
       "      <td>M</td>\n",
       "      <td>сотрудник</td>\n",
       "      <td>0</td>\n",
       "      <td>267628</td>\n",
       "      <td>дополнительное образование</td>\n",
       "    </tr>\n",
       "    <tr>\n",
       "      <th>4</th>\n",
       "      <td>0</td>\n",
       "      <td>4587</td>\n",
       "      <td>53</td>\n",
       "      <td>1</td>\n",
       "      <td>1</td>\n",
       "      <td>F</td>\n",
       "      <td>пенсионер</td>\n",
       "      <td>0</td>\n",
       "      <td>158616</td>\n",
       "      <td>сыграть свадьбу</td>\n",
       "    </tr>\n",
       "  </tbody>\n",
       "</table>\n",
       "</div>"
      ],
      "text/plain": [
       "   children  days_employed  dob_years  education_id  family_status_id gender  \\\n",
       "0         1           8437         42             0                 0      F   \n",
       "1         1           4024         36             1                 0      F   \n",
       "2         0           5623         33             1                 0      M   \n",
       "3         3           4124         32             1                 0      M   \n",
       "4         0           4587         53             1                 1      F   \n",
       "\n",
       "  income_type  debt  total_income                     purpose  \n",
       "0   сотрудник     0        253875               покупка жилья  \n",
       "1   сотрудник     0        112080     приобретение автомобиля  \n",
       "2   сотрудник     0        145885               покупка жилья  \n",
       "3   сотрудник     0        267628  дополнительное образование  \n",
       "4   пенсионер     0        158616             сыграть свадьбу  "
      ]
     },
     "metadata": {},
     "output_type": "display_data"
    }
   ],
   "source": [
    "# вывод первых строк таблицы\n",
    "display(df.head())"
   ]
  },
  {
   "cell_type": "markdown",
   "id": "93953266",
   "metadata": {},
   "source": [
    "В таком виде данные выглядят уже пригодными для последующего анализа и проверки выдвинутых гипотез. Но, перед этим необходимо, как было намечено ранее, поработать с нечеткими дублями в данных по целям кредитов `purpose`, а также добавить в них категоризацию по уровню дохода из столбца `total_income`."
   ]
  },
  {
   "cell_type": "markdown",
   "id": "37736155",
   "metadata": {},
   "source": [
    "---"
   ]
  },
  {
   "cell_type": "markdown",
   "id": "5157dfc9",
   "metadata": {},
   "source": [
    "### Категоризация дохода"
   ]
  },
  {
   "cell_type": "markdown",
   "id": "18f758e9",
   "metadata": {},
   "source": [
    "Добавим категориальный признак `total_income_category` для уровня дохода, соотнеся количественные данные по доходу к категориальным меткам на основании следующие диапазонов:\n",
    "* `E` — для клиентов с ежемесячным доходом в диапазоне 0-30000;\n",
    "* `D` — для клиентов с ежемесячным доходом в диапазоне 30001-50000;\n",
    "* `C` — для клиентов с ежемесячным доходом в диапазоне 50001-200000;\n",
    "* `B` — для клиентов с ежемесячным доходом в диапазоне 200001-1000000;\n",
    "* `A` — для клиентов с ежемесячным доходом  свыше 1000001."
   ]
  },
  {
   "cell_type": "code",
   "execution_count": 54,
   "id": "edba8b6b",
   "metadata": {},
   "outputs": [],
   "source": [
    "# функция для категоризации ежемесячного дохода клиента\n",
    "\n",
    "def get_income_group(row):\n",
    "    \"\"\"\n",
    "    Возвращает метку для ежемесячного дохода клиентов банка, используя правила:\n",
    "    - метка 'E' для клиентов ежемесячным доходом в диапазоне 0-30000\n",
    "    - метка 'D' для клиентов ежемесячным доходом в диапазоне 30001-50000\n",
    "    - метка 'C' для клиентов ежемесячным доходом в диапазоне 50001-200000\n",
    "    - метка 'B' для клиентов ежемесячным доходом в диапазоне 200001-1000000\n",
    "    - метка 'A' для клиентов с ежемесячным доходом свыше 1000001\n",
    "    \"\"\"\n",
    "    \n",
    "    total_income = row['total_income']\n",
    "\n",
    "    if 0 <= total_income <= 30000:\n",
    "        return 'E'\n",
    "    elif 30001 <= total_income <= 50000:\n",
    "        return 'D'\n",
    "    elif 50001 <= total_income <= 200000:\n",
    "        return 'C'\n",
    "    elif 200001 <= total_income <= 1000000:\n",
    "        return 'B'\n",
    "    else:\n",
    "        return 'A'"
   ]
  },
  {
   "cell_type": "code",
   "execution_count": 55,
   "id": "16a0d566",
   "metadata": {},
   "outputs": [],
   "source": [
    "# добавление категориальных данных по ежемесячному доходу клиента\n",
    "df['total_income_category'] = df.apply(get_income_group, axis=1)"
   ]
  },
  {
   "cell_type": "markdown",
   "id": "3c21376e",
   "metadata": {},
   "source": [
    "Выполненная категоризация дохода по клиентам позволит в дальнейшем произвести проверку гипотезы о зависимости между уровнем дохода и возвратами кредитов в срок."
   ]
  },
  {
   "cell_type": "markdown",
   "id": "db2882cf",
   "metadata": {},
   "source": [
    "---"
   ]
  },
  {
   "cell_type": "markdown",
   "id": "7b416a4d",
   "metadata": {},
   "source": [
    "### Категоризация целей кредита"
   ]
  },
  {
   "cell_type": "markdown",
   "id": "09cccec8",
   "metadata": {},
   "source": [
    "Проанализируем список уникальных значений столбца `purpose`."
   ]
  },
  {
   "cell_type": "code",
   "execution_count": 56,
   "id": "755a840f",
   "metadata": {},
   "outputs": [
    {
     "data": {
      "text/plain": [
       "свадьба                                   793\n",
       "на проведение свадьбы                     773\n",
       "сыграть свадьбу                           769\n",
       "операции с недвижимостью                  674\n",
       "покупка коммерческой недвижимости         661\n",
       "покупка жилья для сдачи                   652\n",
       "операции с жильем                         652\n",
       "операции с коммерческой недвижимостью     650\n",
       "жилье                                     645\n",
       "покупка жилья                             644\n",
       "покупка жилья для семьи                   638\n",
       "строительство собственной недвижимости    634\n",
       "недвижимость                              632\n",
       "операции со своей недвижимостью           627\n",
       "строительство жилой недвижимости          625\n",
       "покупка недвижимости                      621\n",
       "строительство недвижимости                619\n",
       "покупка своего жилья                      619\n",
       "ремонт жилью                              607\n",
       "покупка жилой недвижимости                606\n",
       "на покупку своего автомобиля              505\n",
       "заняться высшим образованием              495\n",
       "автомобиль                                493\n",
       "сделка с подержанным автомобилем          486\n",
       "свой автомобиль                           478\n",
       "на покупку подержанного автомобиля        478\n",
       "автомобили                                478\n",
       "на покупку автомобиля                     471\n",
       "приобретение автомобиля                   461\n",
       "дополнительное образование                460\n",
       "сделка с автомобилем                      455\n",
       "высшее образование                        450\n",
       "получение дополнительного образования     446\n",
       "образование                               445\n",
       "получение образования                     442\n",
       "профильное образование                    436\n",
       "получение высшего образования             426\n",
       "заняться образованием                     408\n",
       "Name: purpose, dtype: int64"
      ]
     },
     "execution_count": 56,
     "metadata": {},
     "output_type": "execute_result"
    }
   ],
   "source": [
    "# просмотр уникальных значений в столбце по цели получения кредита purpose\n",
    "df['purpose'].value_counts()"
   ]
  },
  {
   "cell_type": "code",
   "execution_count": 57,
   "id": "23a8f74f",
   "metadata": {},
   "outputs": [
    {
     "data": {
      "text/plain": [
       "38"
      ]
     },
     "execution_count": 57,
     "metadata": {},
     "output_type": "execute_result"
    }
   ],
   "source": [
    "# оценка количества уникальных значений в столбце по цели получения кредита purpose\n",
    "len(df['purpose'].value_counts())"
   ]
  },
  {
   "cell_type": "markdown",
   "id": "59b26847",
   "metadata": {},
   "source": [
    "Всего в данных 38 уникальных групп, что затруднит их анализ и выявление закономерностей. При этом, данные содержат неявные дубликаты. Путем анализа данных можно выделить четыре основные категории, которые являются целью получения кредита в банке:\n",
    "* `операции с автомобилем`\n",
    "* `операции с недвижимостью`\n",
    "* `проведение свадьбы`\n",
    "* `получение образования`\n",
    "\n",
    "Будем использовать их в качестве меток категорий, которые добавим к существующей таблице в виде нового столбца `purpose_category`.\n",
    "\n",
    "Для этого создадим вспомогательную функцию."
   ]
  },
  {
   "cell_type": "code",
   "execution_count": 58,
   "id": "a364241b",
   "metadata": {},
   "outputs": [],
   "source": [
    "# функция для обобщения категоризации целей получения клиентами кредитов\n",
    "\n",
    "def get_purpose_group(row):\n",
    "    purpose = row['purpose']\n",
    "\n",
    "    if 'недвиж' in purpose or 'жиль' in purpose:\n",
    "        return 'операции с недвижимостью'\n",
    "    elif 'свадьб' in purpose:\n",
    "        return 'проведение свадьбы'\n",
    "    elif 'авто' in purpose:\n",
    "        return 'операции с автомобилем'\n",
    "    elif 'образован' in purpose:\n",
    "        return 'получение образования'"
   ]
  },
  {
   "cell_type": "code",
   "execution_count": 59,
   "id": "d231ba86",
   "metadata": {},
   "outputs": [],
   "source": [
    "# обобщение категориальных данных по целям получения клиентами кредитов\n",
    "df['purpose_category'] = df.apply(get_purpose_group, axis=1)"
   ]
  },
  {
   "cell_type": "markdown",
   "id": "72838222",
   "metadata": {},
   "source": [
    "Проверим насколько корректно отработала функция и не остались ли пропущенными какие-либо цели. Для этого просмотрим список уникальных значений по столбцу `purpose_category`. "
   ]
  },
  {
   "cell_type": "code",
   "execution_count": 60,
   "id": "d0675a58",
   "metadata": {},
   "outputs": [
    {
     "data": {
      "text/plain": [
       "операции с недвижимостью    10806\n",
       "операции с автомобилем       4305\n",
       "получение образования        4008\n",
       "проведение свадьбы           2335\n",
       "Name: purpose_category, dtype: int64"
      ]
     },
     "execution_count": 60,
     "metadata": {},
     "output_type": "execute_result"
    }
   ],
   "source": [
    "# просмотр уникальных значений в столбце по цели получения кредита purpose\n",
    "df['purpose_category'].value_counts()"
   ]
  },
  {
   "cell_type": "markdown",
   "id": "0d8e422f",
   "metadata": {},
   "source": [
    "Получены четыре уникальные категории, что соответствует количеству выявленных общих категорий. Значит, функция отработала корректно. Нечетко категоризированных целей получения кредитов в данных больше нет."
   ]
  },
  {
   "cell_type": "markdown",
   "id": "5cd51e0c",
   "metadata": {},
   "source": [
    "Посмотрим на первые значения итоговой таблицы."
   ]
  },
  {
   "cell_type": "code",
   "execution_count": 61,
   "id": "b1f9838b",
   "metadata": {},
   "outputs": [
    {
     "data": {
      "text/html": [
       "<div>\n",
       "<style scoped>\n",
       "    .dataframe tbody tr th:only-of-type {\n",
       "        vertical-align: middle;\n",
       "    }\n",
       "\n",
       "    .dataframe tbody tr th {\n",
       "        vertical-align: top;\n",
       "    }\n",
       "\n",
       "    .dataframe thead th {\n",
       "        text-align: right;\n",
       "    }\n",
       "</style>\n",
       "<table border=\"1\" class=\"dataframe\">\n",
       "  <thead>\n",
       "    <tr style=\"text-align: right;\">\n",
       "      <th></th>\n",
       "      <th>children</th>\n",
       "      <th>days_employed</th>\n",
       "      <th>dob_years</th>\n",
       "      <th>education_id</th>\n",
       "      <th>family_status_id</th>\n",
       "      <th>gender</th>\n",
       "      <th>income_type</th>\n",
       "      <th>debt</th>\n",
       "      <th>total_income</th>\n",
       "      <th>purpose</th>\n",
       "      <th>total_income_category</th>\n",
       "      <th>purpose_category</th>\n",
       "    </tr>\n",
       "  </thead>\n",
       "  <tbody>\n",
       "    <tr>\n",
       "      <th>0</th>\n",
       "      <td>1</td>\n",
       "      <td>8437</td>\n",
       "      <td>42</td>\n",
       "      <td>0</td>\n",
       "      <td>0</td>\n",
       "      <td>F</td>\n",
       "      <td>сотрудник</td>\n",
       "      <td>0</td>\n",
       "      <td>253875</td>\n",
       "      <td>покупка жилья</td>\n",
       "      <td>B</td>\n",
       "      <td>операции с недвижимостью</td>\n",
       "    </tr>\n",
       "    <tr>\n",
       "      <th>1</th>\n",
       "      <td>1</td>\n",
       "      <td>4024</td>\n",
       "      <td>36</td>\n",
       "      <td>1</td>\n",
       "      <td>0</td>\n",
       "      <td>F</td>\n",
       "      <td>сотрудник</td>\n",
       "      <td>0</td>\n",
       "      <td>112080</td>\n",
       "      <td>приобретение автомобиля</td>\n",
       "      <td>C</td>\n",
       "      <td>операции с автомобилем</td>\n",
       "    </tr>\n",
       "    <tr>\n",
       "      <th>2</th>\n",
       "      <td>0</td>\n",
       "      <td>5623</td>\n",
       "      <td>33</td>\n",
       "      <td>1</td>\n",
       "      <td>0</td>\n",
       "      <td>M</td>\n",
       "      <td>сотрудник</td>\n",
       "      <td>0</td>\n",
       "      <td>145885</td>\n",
       "      <td>покупка жилья</td>\n",
       "      <td>C</td>\n",
       "      <td>операции с недвижимостью</td>\n",
       "    </tr>\n",
       "    <tr>\n",
       "      <th>3</th>\n",
       "      <td>3</td>\n",
       "      <td>4124</td>\n",
       "      <td>32</td>\n",
       "      <td>1</td>\n",
       "      <td>0</td>\n",
       "      <td>M</td>\n",
       "      <td>сотрудник</td>\n",
       "      <td>0</td>\n",
       "      <td>267628</td>\n",
       "      <td>дополнительное образование</td>\n",
       "      <td>B</td>\n",
       "      <td>получение образования</td>\n",
       "    </tr>\n",
       "    <tr>\n",
       "      <th>4</th>\n",
       "      <td>0</td>\n",
       "      <td>4587</td>\n",
       "      <td>53</td>\n",
       "      <td>1</td>\n",
       "      <td>1</td>\n",
       "      <td>F</td>\n",
       "      <td>пенсионер</td>\n",
       "      <td>0</td>\n",
       "      <td>158616</td>\n",
       "      <td>сыграть свадьбу</td>\n",
       "      <td>C</td>\n",
       "      <td>проведение свадьбы</td>\n",
       "    </tr>\n",
       "  </tbody>\n",
       "</table>\n",
       "</div>"
      ],
      "text/plain": [
       "   children  days_employed  dob_years  education_id  family_status_id gender  \\\n",
       "0         1           8437         42             0                 0      F   \n",
       "1         1           4024         36             1                 0      F   \n",
       "2         0           5623         33             1                 0      M   \n",
       "3         3           4124         32             1                 0      M   \n",
       "4         0           4587         53             1                 1      F   \n",
       "\n",
       "  income_type  debt  total_income                     purpose  \\\n",
       "0   сотрудник     0        253875               покупка жилья   \n",
       "1   сотрудник     0        112080     приобретение автомобиля   \n",
       "2   сотрудник     0        145885               покупка жилья   \n",
       "3   сотрудник     0        267628  дополнительное образование   \n",
       "4   пенсионер     0        158616             сыграть свадьбу   \n",
       "\n",
       "  total_income_category          purpose_category  \n",
       "0                     B  операции с недвижимостью  \n",
       "1                     C    операции с автомобилем  \n",
       "2                     C  операции с недвижимостью  \n",
       "3                     B     получение образования  \n",
       "4                     C        проведение свадьбы  "
      ]
     },
     "execution_count": 61,
     "metadata": {},
     "output_type": "execute_result"
    }
   ],
   "source": [
    "# просмотр итоговой таблицы\n",
    "df.head()"
   ]
  },
  {
   "cell_type": "markdown",
   "id": "69584ecf",
   "metadata": {},
   "source": [
    "На этом этап предобработки данных завершен. В данных заполнены пропущенные значения, устранены аномальные значения, удалены дубликаты, проведена категоризация числового признака в виде ежемесячного дохода. Можно переходить к проверке гипотез."
   ]
  },
  {
   "cell_type": "markdown",
   "id": "61cc1ebe",
   "metadata": {},
   "source": [
    "---"
   ]
  },
  {
   "cell_type": "markdown",
   "id": "a8c69187",
   "metadata": {},
   "source": [
    "### Проверка выдвинутых гипотез"
   ]
  },
  {
   "cell_type": "markdown",
   "id": "08ffa78d",
   "metadata": {},
   "source": [
    "#### Есть ли зависимость между количеством детей и возвратом кредита в срок?"
   ]
  },
  {
   "cell_type": "markdown",
   "id": "e1dfaf0f",
   "metadata": {},
   "source": [
    "Проанализируем есть ли зависимость между количеством детей у клиента банка и отсутвствием задержек с возвратом кредита. Для этого сгруппируем данные по количеству детей из столбца `children` таблицы и произведем подсчет количества задолженностей по возврату кредита в срок и их отсутствию.\n",
    "\n",
    "Для удобства интерпретации полученных результатов сведем их в итоговую таблицу, в которую также добавим расчет соотношения количества клиентов с наличием задолженностей к общему количеству клиентов для каждой группы."
   ]
  },
  {
   "cell_type": "code",
   "execution_count": 62,
   "id": "9047a8fa",
   "metadata": {},
   "outputs": [
    {
     "data": {
      "text/html": [
       "<div>\n",
       "<style scoped>\n",
       "    .dataframe tbody tr th:only-of-type {\n",
       "        vertical-align: middle;\n",
       "    }\n",
       "\n",
       "    .dataframe tbody tr th {\n",
       "        vertical-align: top;\n",
       "    }\n",
       "\n",
       "    .dataframe thead th {\n",
       "        text-align: right;\n",
       "    }\n",
       "</style>\n",
       "<table border=\"1\" class=\"dataframe\">\n",
       "  <thead>\n",
       "    <tr style=\"text-align: right;\">\n",
       "      <th>debt</th>\n",
       "      <th>0</th>\n",
       "      <th>1</th>\n",
       "      <th>rate</th>\n",
       "    </tr>\n",
       "    <tr>\n",
       "      <th>children</th>\n",
       "      <th></th>\n",
       "      <th></th>\n",
       "      <th></th>\n",
       "    </tr>\n",
       "  </thead>\n",
       "  <tbody>\n",
       "    <tr>\n",
       "      <th>0</th>\n",
       "      <td>13142.0</td>\n",
       "      <td>1071.0</td>\n",
       "      <td>0.075354</td>\n",
       "    </tr>\n",
       "    <tr>\n",
       "      <th>1</th>\n",
       "      <td>4365.0</td>\n",
       "      <td>444.0</td>\n",
       "      <td>0.092327</td>\n",
       "    </tr>\n",
       "    <tr>\n",
       "      <th>2</th>\n",
       "      <td>1858.0</td>\n",
       "      <td>194.0</td>\n",
       "      <td>0.094542</td>\n",
       "    </tr>\n",
       "    <tr>\n",
       "      <th>3</th>\n",
       "      <td>303.0</td>\n",
       "      <td>27.0</td>\n",
       "      <td>0.081818</td>\n",
       "    </tr>\n",
       "    <tr>\n",
       "      <th>4</th>\n",
       "      <td>37.0</td>\n",
       "      <td>4.0</td>\n",
       "      <td>0.097561</td>\n",
       "    </tr>\n",
       "    <tr>\n",
       "      <th>5</th>\n",
       "      <td>9.0</td>\n",
       "      <td>NaN</td>\n",
       "      <td>NaN</td>\n",
       "    </tr>\n",
       "  </tbody>\n",
       "</table>\n",
       "</div>"
      ],
      "text/plain": [
       "debt            0       1      rate\n",
       "children                           \n",
       "0         13142.0  1071.0  0.075354\n",
       "1          4365.0   444.0  0.092327\n",
       "2          1858.0   194.0  0.094542\n",
       "3           303.0    27.0  0.081818\n",
       "4            37.0     4.0  0.097561\n",
       "5             9.0     NaN       NaN"
      ]
     },
     "metadata": {},
     "output_type": "display_data"
    }
   ],
   "source": [
    "# создадим сводную таблицу группировкой данных методом pivot_table() в так называемую \"широкую\" таблицу\n",
    "children_table = df.pivot_table(index=['children'], columns='debt', values='purpose', aggfunc='count')\n",
    "\n",
    "# подсчитаем долю клиентов с задолженностью для каждой группы для удобства анализа полученных результатов\n",
    "children_table['rate'] = children_table[1] / (children_table[0] + children_table[1])\n",
    "display(children_table)"
   ]
  },
  {
   "cell_type": "markdown",
   "id": "248745a7",
   "metadata": {},
   "source": [
    "В итоговую таблицу попали пропущенные значения, так как для клиентов с 5 детьми в базе не оказалось записей по невозврату кредитов. Также тип данных изменился на вещественные числа. Исправим возникшие проблемы."
   ]
  },
  {
   "cell_type": "code",
   "execution_count": 63,
   "id": "99f8d7bb",
   "metadata": {},
   "outputs": [
    {
     "data": {
      "text/html": [
       "<div>\n",
       "<style scoped>\n",
       "    .dataframe tbody tr th:only-of-type {\n",
       "        vertical-align: middle;\n",
       "    }\n",
       "\n",
       "    .dataframe tbody tr th {\n",
       "        vertical-align: top;\n",
       "    }\n",
       "\n",
       "    .dataframe thead th {\n",
       "        text-align: right;\n",
       "    }\n",
       "</style>\n",
       "<table border=\"1\" class=\"dataframe\">\n",
       "  <thead>\n",
       "    <tr style=\"text-align: right;\">\n",
       "      <th>debt</th>\n",
       "      <th>no</th>\n",
       "      <th>yes</th>\n",
       "      <th>rate</th>\n",
       "    </tr>\n",
       "    <tr>\n",
       "      <th>children</th>\n",
       "      <th></th>\n",
       "      <th></th>\n",
       "      <th></th>\n",
       "    </tr>\n",
       "  </thead>\n",
       "  <tbody>\n",
       "    <tr>\n",
       "      <th>0</th>\n",
       "      <td>13142</td>\n",
       "      <td>1071</td>\n",
       "      <td>0.075354</td>\n",
       "    </tr>\n",
       "    <tr>\n",
       "      <th>1</th>\n",
       "      <td>4365</td>\n",
       "      <td>444</td>\n",
       "      <td>0.092327</td>\n",
       "    </tr>\n",
       "    <tr>\n",
       "      <th>2</th>\n",
       "      <td>1858</td>\n",
       "      <td>194</td>\n",
       "      <td>0.094542</td>\n",
       "    </tr>\n",
       "    <tr>\n",
       "      <th>3</th>\n",
       "      <td>303</td>\n",
       "      <td>27</td>\n",
       "      <td>0.081818</td>\n",
       "    </tr>\n",
       "    <tr>\n",
       "      <th>4</th>\n",
       "      <td>37</td>\n",
       "      <td>4</td>\n",
       "      <td>0.097561</td>\n",
       "    </tr>\n",
       "    <tr>\n",
       "      <th>5</th>\n",
       "      <td>9</td>\n",
       "      <td>0</td>\n",
       "      <td>0.000000</td>\n",
       "    </tr>\n",
       "  </tbody>\n",
       "</table>\n",
       "</div>"
      ],
      "text/plain": [
       "debt         no   yes      rate\n",
       "children                       \n",
       "0         13142  1071  0.075354\n",
       "1          4365   444  0.092327\n",
       "2          1858   194  0.094542\n",
       "3           303    27  0.081818\n",
       "4            37     4  0.097561\n",
       "5             9     0  0.000000"
      ]
     },
     "metadata": {},
     "output_type": "display_data"
    }
   ],
   "source": [
    "# заполнение пропущенных значений\n",
    "children_table = children_table.fillna(0)\n",
    "\n",
    "# замена вещественного типа данных в столбцах 0 и 1 на целочисленный.\n",
    "children_table[0] = children_table[0].astype('int')\n",
    "children_table[1] = children_table[1].astype('int')\n",
    "\n",
    "# переименование столбцов по признаку наличия долга: no - долгов не было, yes - долги есть или были\n",
    "children_table = children_table.rename(columns={0: 'no', 1: 'yes'})\n",
    "\n",
    "# просмотр таблицы\n",
    "display(children_table)"
   ]
  },
  {
   "cell_type": "markdown",
   "id": "461c1dc6",
   "metadata": {},
   "source": [
    "Выводы по результатам:\n",
    "* Минимальная доля клиентов с задолженностями наблюдается у группы без детей (7.5%).\n",
    "* Среди клиентов с 1 или 2 детьми доли задолжености по кредитам примерно равны и составляют 9.2% и 9.5% соотвественно.\n",
    "* Показатель по задолженности для клиентов с 3 детьми составил 8.2%, расположившись, таким образом, между бездетными клиентами и клиентами с 1 ребенком или 2 детьми. Но, объем выборки по данной группе составляет около 1.5% от всех данных и может быть нерепрезентативен. \n",
    "* Для клиентов с 4 и 5 детьми данных еще меньше, поэтому делать какие-то выводы по данным группам некорректно.\n",
    "* В целом, разница между отдельными группами клиентов по признаку количества детей составляет составляет около 2%. Статистическую значимость подобного результата необходимо проверять дополнительно."
   ]
  },
  {
   "cell_type": "markdown",
   "id": "6beeb43b",
   "metadata": {},
   "source": [
    "---"
   ]
  },
  {
   "cell_type": "markdown",
   "id": "b8c416a7",
   "metadata": {},
   "source": [
    "#### Есть ли зависимость между семейным положением и возвратом кредита в срок?"
   ]
  },
  {
   "cell_type": "markdown",
   "id": "bd3049c8",
   "metadata": {},
   "source": [
    "Проанализируем наличие зависимости между семейным положением клиента банка и отсутвствием задержек с возвратом кредита. Для этого сгруппируем данные по семейному положению из столбца `family_status_id` и произведем подсчет количества задолженностей по возврату кредита в срок и их отсутствию.\n",
    "\n",
    "Для нагладности результаты сведем в итоговую таблицу, в которой также подсчитаем соотношение количества клиентов с наличием задолженностей к общему количеству клиентов в каждой группе."
   ]
  },
  {
   "cell_type": "code",
   "execution_count": 64,
   "id": "66d1b2ab",
   "metadata": {},
   "outputs": [
    {
     "data": {
      "text/html": [
       "<div>\n",
       "<style scoped>\n",
       "    .dataframe tbody tr th:only-of-type {\n",
       "        vertical-align: middle;\n",
       "    }\n",
       "\n",
       "    .dataframe tbody tr th {\n",
       "        vertical-align: top;\n",
       "    }\n",
       "\n",
       "    .dataframe thead th {\n",
       "        text-align: right;\n",
       "    }\n",
       "</style>\n",
       "<table border=\"1\" class=\"dataframe\">\n",
       "  <thead>\n",
       "    <tr style=\"text-align: right;\">\n",
       "      <th>debt</th>\n",
       "      <th>no</th>\n",
       "      <th>yes</th>\n",
       "      <th>rate</th>\n",
       "    </tr>\n",
       "    <tr>\n",
       "      <th>family_status_id</th>\n",
       "      <th></th>\n",
       "      <th></th>\n",
       "      <th></th>\n",
       "    </tr>\n",
       "  </thead>\n",
       "  <tbody>\n",
       "    <tr>\n",
       "      <th>женат / замужем</th>\n",
       "      <td>11405</td>\n",
       "      <td>931</td>\n",
       "      <td>0.075470</td>\n",
       "    </tr>\n",
       "    <tr>\n",
       "      <th>гражданский брак</th>\n",
       "      <td>3775</td>\n",
       "      <td>388</td>\n",
       "      <td>0.093202</td>\n",
       "    </tr>\n",
       "    <tr>\n",
       "      <th>вдовец / вдова</th>\n",
       "      <td>893</td>\n",
       "      <td>62</td>\n",
       "      <td>0.064921</td>\n",
       "    </tr>\n",
       "    <tr>\n",
       "      <th>в разводе</th>\n",
       "      <td>1109</td>\n",
       "      <td>85</td>\n",
       "      <td>0.071189</td>\n",
       "    </tr>\n",
       "    <tr>\n",
       "      <th>не женат / не замужем</th>\n",
       "      <td>2532</td>\n",
       "      <td>274</td>\n",
       "      <td>0.097648</td>\n",
       "    </tr>\n",
       "  </tbody>\n",
       "</table>\n",
       "</div>"
      ],
      "text/plain": [
       "debt                      no  yes      rate\n",
       "family_status_id                           \n",
       "женат / замужем        11405  931  0.075470\n",
       "гражданский брак        3775  388  0.093202\n",
       "вдовец / вдова           893   62  0.064921\n",
       "в разводе               1109   85  0.071189\n",
       "не женат / не замужем   2532  274  0.097648"
      ]
     },
     "metadata": {},
     "output_type": "display_data"
    }
   ],
   "source": [
    "# создадим сводную таблицу группировкой данных методом pivot_table() в так называемую \"широкую\" таблицу\n",
    "family_status_table = df.pivot_table(index=['family_status_id'], columns='debt', values='purpose', aggfunc='count')\n",
    "\n",
    "# заменим метки категорий на соответствующие описания\n",
    "family_status = family_status_dict[['family_status_id', 'family_status']].\\\n",
    "set_index('family_status_id').to_dict()['family_status']\n",
    "family_status_table = family_status_table.rename(index=family_status)\n",
    "\n",
    "# подсчитаем долю клиентов с задолженностью для каждой группы для удобства анализа полученных результатов\n",
    "family_status_table['rate'] = family_status_table[1] / (family_status_table[0] + family_status_table[1])\n",
    "\n",
    "# переименование столбцов по признаку наличия долга: no - долгов не было, yes - долги есть или были\n",
    "family_status_table = family_status_table.rename(columns={0: 'no', 1: 'yes'})\n",
    "\n",
    "# просмотр таблицы\n",
    "display(family_status_table)"
   ]
  },
  {
   "cell_type": "markdown",
   "id": "caca686e",
   "metadata": {},
   "source": [
    "Выводы по результатам:\n",
    "* Минимальное значение по невозврату кредитов в срок наблюдается в группе `вдовец / вдова`. Но, данный результат может быть недостоверным, так как выборка по данном группе значительно меньше по сравнению с другими.\n",
    "* Самые высокие значения по невозврату кредитов наблюдаеются в группах `гражданский брак` и `не женат / не замужем` - 9.3% и 9.8% соотвественно.\n",
    "* В группах `женат / замужем` и `в разводе` процент невозвращенных вовремя кредитов также очень близок и составляет 7.5% и 7.1% соотвественно.\n",
    "* Судя по полученным данным, не состоящие в законных отношениях клиенты, несколько менее дисциплинированно относятся к своим обязательствам по кредитам.\n",
    "* В целом, разница между отдельными группами по семейному положению составляет составляет около 3%. Статистическую значимость подобного результата необходимо проверять дополнительно."
   ]
  },
  {
   "cell_type": "markdown",
   "id": "bfb8c39f",
   "metadata": {},
   "source": [
    "---"
   ]
  },
  {
   "cell_type": "markdown",
   "id": "b6b14e5f",
   "metadata": {},
   "source": [
    "#### Есть ли зависимость между уровнем дохода и возвратом кредита в срок?"
   ]
  },
  {
   "cell_type": "markdown",
   "id": "3ae7d73d",
   "metadata": {},
   "source": [
    "Для ответа на данный вопрос проанализируем наличие зависимости между уровнем дохода клиента и отсутвствием задержек с возвратом кредита. Для этого произведем подсчет количества задолженностей по возврату кредита в срок и их отсутствию для различных по уровню ежемесячного дохода групп клиентов, которые представлены столбцом `purpose_category` анализируемой таблицы.\n",
    "\n",
    "Для нагладности результаты сведем в итоговую таблицу, в которой также подсчитаем соотношение количества клиентов с наличием задолженностей к общему количеству клиентов в каждой группе."
   ]
  },
  {
   "cell_type": "code",
   "execution_count": 65,
   "id": "f4aecfff",
   "metadata": {},
   "outputs": [
    {
     "data": {
      "text/html": [
       "<div>\n",
       "<style scoped>\n",
       "    .dataframe tbody tr th:only-of-type {\n",
       "        vertical-align: middle;\n",
       "    }\n",
       "\n",
       "    .dataframe tbody tr th {\n",
       "        vertical-align: top;\n",
       "    }\n",
       "\n",
       "    .dataframe thead th {\n",
       "        text-align: right;\n",
       "    }\n",
       "</style>\n",
       "<table border=\"1\" class=\"dataframe\">\n",
       "  <thead>\n",
       "    <tr style=\"text-align: right;\">\n",
       "      <th>debt</th>\n",
       "      <th>no</th>\n",
       "      <th>yes</th>\n",
       "      <th>rate</th>\n",
       "    </tr>\n",
       "    <tr>\n",
       "      <th>total_income_category</th>\n",
       "      <th></th>\n",
       "      <th></th>\n",
       "      <th></th>\n",
       "    </tr>\n",
       "  </thead>\n",
       "  <tbody>\n",
       "    <tr>\n",
       "      <th>доход свыше 1000001</th>\n",
       "      <td>23</td>\n",
       "      <td>2</td>\n",
       "      <td>0.080000</td>\n",
       "    </tr>\n",
       "    <tr>\n",
       "      <th>доход в диапазоне 200001-1000000</th>\n",
       "      <td>4680</td>\n",
       "      <td>356</td>\n",
       "      <td>0.070691</td>\n",
       "    </tr>\n",
       "    <tr>\n",
       "      <th>доход в диапазоне 50001-200000</th>\n",
       "      <td>14663</td>\n",
       "      <td>1359</td>\n",
       "      <td>0.084821</td>\n",
       "    </tr>\n",
       "    <tr>\n",
       "      <th>доход в диапазоне 30001-50000</th>\n",
       "      <td>328</td>\n",
       "      <td>21</td>\n",
       "      <td>0.060172</td>\n",
       "    </tr>\n",
       "    <tr>\n",
       "      <th>доход в диапазоне 0-30000</th>\n",
       "      <td>20</td>\n",
       "      <td>2</td>\n",
       "      <td>0.090909</td>\n",
       "    </tr>\n",
       "  </tbody>\n",
       "</table>\n",
       "</div>"
      ],
      "text/plain": [
       "debt                                 no   yes      rate\n",
       "total_income_category                                  \n",
       "доход свыше 1000001                  23     2  0.080000\n",
       "доход в диапазоне 200001-1000000   4680   356  0.070691\n",
       "доход в диапазоне 50001-200000    14663  1359  0.084821\n",
       "доход в диапазоне 30001-50000       328    21  0.060172\n",
       "доход в диапазоне 0-30000            20     2  0.090909"
      ]
     },
     "metadata": {},
     "output_type": "display_data"
    }
   ],
   "source": [
    "# создадим сводную таблицу группировкой данных методом pivot_table() в так называемую \"широкую\" таблицу\n",
    "income_table = df.pivot_table(index=['total_income_category'], columns='debt', values='purpose', aggfunc='count')\n",
    "\n",
    "# заменим метки категорий на соответствующие описания\n",
    "purpose_dict = {'E': 'доход в диапазоне 0-30000',\n",
    "                'D': 'доход в диапазоне 30001-50000',\n",
    "                'C': 'доход в диапазоне 50001-200000',\n",
    "                'B': 'доход в диапазоне 200001-1000000',\n",
    "                'A': 'доход свыше 1000001'}\n",
    "income_table = income_table.rename(index=purpose_dict)\n",
    "\n",
    "# подсчитаем долю клиентов с задолженностью для каждой группы для удобства анализа полученных результатов\n",
    "income_table['rate'] = income_table[1] / (income_table[0] + income_table[1])\n",
    "\n",
    "# переименование столбцов по признаку наличия долга: no - долгов не было, yes - долги есть или были\n",
    "income_table = income_table.rename(columns={0: 'no', 1: 'yes'})\n",
    "\n",
    "# просмотр таблицы\n",
    "display(income_table)"
   ]
  },
  {
   "cell_type": "markdown",
   "id": "f46b37df",
   "metadata": {},
   "source": [
    "Выводы по результатам:\n",
    "* Самая низкая задолженность по возврату кредитов около 6% наблюдается в группе клиентов с ежемесячным доходом в диапазоне 30001-50000.\n",
    "* Самая высокая - 9% в группе клиентов с ежемесячным доходом в диапазоне 0-30000. Но, в данной группе всего 22 наблюдения, поэтому этот показатель нельзя считать репрезентативным для данной группы.\n",
    "* В целом, какой-либо зависимости между уровнем дохода и возвратом кредита в срок по полученным данным не обнаружено. Разница между отдельными группами составляет около 3% и ее распределение не позволяет выявить значимые закономерности."
   ]
  },
  {
   "cell_type": "markdown",
   "id": "a8cf2793",
   "metadata": {},
   "source": [
    "---"
   ]
  },
  {
   "cell_type": "markdown",
   "id": "2f236b90",
   "metadata": {},
   "source": [
    "#### Как разные цели кредита влияют на его возврат в срок?"
   ]
  },
  {
   "cell_type": "markdown",
   "id": "f6dcbe64",
   "metadata": {},
   "source": [
    "В завершении исследования проверим как различные цели, под которые берется кредит, влияют на наличие или отсутствие задолженностей по возврату кредита. Для этого произведем подсчет количества задолженностей по возврату кредита в срок и их отсутствию в зависимости от целей кредита для групп из колонки `purpose_category` таблицы.\n",
    "\n",
    "Для нагладности результаты сведем в таблицу, в которой также подсчитаем соотношение количества клиентов с наличием задолженностей к общему количеству клиентов в каждой группе."
   ]
  },
  {
   "cell_type": "code",
   "execution_count": 66,
   "id": "7b10b544",
   "metadata": {},
   "outputs": [
    {
     "data": {
      "text/html": [
       "<div>\n",
       "<style scoped>\n",
       "    .dataframe tbody tr th:only-of-type {\n",
       "        vertical-align: middle;\n",
       "    }\n",
       "\n",
       "    .dataframe tbody tr th {\n",
       "        vertical-align: top;\n",
       "    }\n",
       "\n",
       "    .dataframe thead th {\n",
       "        text-align: right;\n",
       "    }\n",
       "</style>\n",
       "<table border=\"1\" class=\"dataframe\">\n",
       "  <thead>\n",
       "    <tr style=\"text-align: right;\">\n",
       "      <th>debt</th>\n",
       "      <th>no</th>\n",
       "      <th>yes</th>\n",
       "      <th>rate</th>\n",
       "    </tr>\n",
       "    <tr>\n",
       "      <th>purpose_category</th>\n",
       "      <th></th>\n",
       "      <th></th>\n",
       "      <th></th>\n",
       "    </tr>\n",
       "  </thead>\n",
       "  <tbody>\n",
       "    <tr>\n",
       "      <th>операции с автомобилем</th>\n",
       "      <td>3903</td>\n",
       "      <td>402</td>\n",
       "      <td>0.093380</td>\n",
       "    </tr>\n",
       "    <tr>\n",
       "      <th>операции с недвижимостью</th>\n",
       "      <td>10024</td>\n",
       "      <td>782</td>\n",
       "      <td>0.072367</td>\n",
       "    </tr>\n",
       "    <tr>\n",
       "      <th>получение образования</th>\n",
       "      <td>3638</td>\n",
       "      <td>370</td>\n",
       "      <td>0.092315</td>\n",
       "    </tr>\n",
       "    <tr>\n",
       "      <th>проведение свадьбы</th>\n",
       "      <td>2149</td>\n",
       "      <td>186</td>\n",
       "      <td>0.079657</td>\n",
       "    </tr>\n",
       "  </tbody>\n",
       "</table>\n",
       "</div>"
      ],
      "text/plain": [
       "debt                         no  yes      rate\n",
       "purpose_category                              \n",
       "операции с автомобилем     3903  402  0.093380\n",
       "операции с недвижимостью  10024  782  0.072367\n",
       "получение образования      3638  370  0.092315\n",
       "проведение свадьбы         2149  186  0.079657"
      ]
     },
     "metadata": {},
     "output_type": "display_data"
    }
   ],
   "source": [
    "# создадим сводную таблицу группировкой данных методом pivot_table() в так называемую \"широкую\" таблицу\n",
    "\n",
    "purpose_table = df.pivot_table(index=['purpose_category'], columns='debt', values='purpose', aggfunc='count')\n",
    "\n",
    "# подсчитаем долю клиентов с задолженностью для каждой группы для удобства анализа полученных результатов\n",
    "purpose_table['rate'] = purpose_table[1] / (purpose_table[0] + purpose_table[1])\n",
    "\n",
    "# переименование столбцов по признаку наличия долга: no - долгов не было, yes - долги есть или были\n",
    "purpose_table = purpose_table.rename(columns={0: 'no', 1: 'yes'})\n",
    "\n",
    "# просмотр таблицы\n",
    "display(purpose_table)"
   ]
  },
  {
   "cell_type": "markdown",
   "id": "c426b4e2",
   "metadata": {},
   "source": [
    "Выводы по результатам:\n",
    "* Самая низкая задолженность по возврату кредитов наблюдается, когда они берутся под операции с недвижимостью (7.2%).\n",
    "* Немного выше, примерно 8% показатель задолженности по кредитам на проведение свадьбы.\n",
    "* Количество задолженностей по кредитам на получение образования и операции с автомобилями примерно равно и немногим превышает величину в 9%.\n",
    "* В целом, значимых различий в показателе возврата кредита в срок в зависимости от его целей не обнаружено. Эта разница не превышает 1-2%."
   ]
  },
  {
   "cell_type": "markdown",
   "id": "6429dc21",
   "metadata": {},
   "source": [
    "---"
   ]
  },
  {
   "cell_type": "markdown",
   "id": "cef27127",
   "metadata": {},
   "source": [
    "## Общие выводы по исследованию"
   ]
  },
  {
   "cell_type": "markdown",
   "id": "957841cb",
   "metadata": {},
   "source": [
    "3.1. В ходе исследования была осуществлена попытка анализа и выявления зависимости между возвратом кредитов клиентами банка в срок от различных факторов таких как количество детей, семейное положение, уровень дохода и цели получения кредита.\n",
    "\n",
    "\n",
    "В полученных для проведения исследования данных был обнаружен ряд проблем:\n",
    "* Пропущенные значения в столбцах общего трудового стажа `days_imployed` и ежемесячного дохода `total_income` у 10% записей.\n",
    "* Отрицательные и аномальные значения в данных о количестве детей в семье `children` и общем трудовом стаже `days_imployed`.\n",
    "* Обнаружены 76 клиентов, у которых количество детей равнялось 20.\n",
    "\n",
    "\n",
    "Данные явно содержали ошибки различного рода и нуждались в предобработке. В ходе предобработки данных были предприняты следующие меры:\n",
    "* Отрицательные и аномальные значения в данных о количестве детей в семье `children` были заменены медианными.\n",
    "* Было выдвинуто предположение, что отрицательные значения трудового стажа эквивалентны модулю данных значений. Предположение было подтверждено расчетами, в ходе которых было утановлено, что у 22% клиентов данные по трудовому стажу превышают разумные пределы, определенные 15000 днями трудового стажа. По результатам трудового стажа остальных клиентов было определено медианное количество рабочих дней в году и по нему пересчитаны аномальные значения. Количество аномальных значений сократилось с 3458 клиентов до 17. Оставшиеся 17 записей имели неудовлетворительное качество и были удалены.\n",
    "* После корректировки аномальных значений пропущенные данные по трудовому стажу `days_imployed` и ежемесячному доходу `total_income` были также заполнены медианными значениями.\n",
    "\n",
    "\n",
    "3.2. Вещественный тип данных в столбцах общего трудового стажа `days_imployed` и ежемесячного дохода `total_income` с большим количеством знаков после запятой был преобразован в целочисленный. В данных обнаружены дубликаты в количестве 54 записей. Они были получены в результате одинакового значения данных по трудовому стажу `days_employed` и ежемесячному доходу `total_income`. Так как идентификаторов клиентов в полученной таблице нет, то не было возможности проверить дублируются ли данные какого-то одного клиента или информация по разным клиентам совпала каким-либо образом. По этой причине дублированные данные были удалены.\n",
    "\n",
    "\n",
    "3.3. По уникальным значениям столбцов `education` и `family_status` были созданы словари, а с основным датафреймом была проведена декомпозиция путем удаления данных столбцов с сохранением лишь идентификаторов соотвествующих данных.\n",
    "\n",
    "\n",
    "3.4. Для последующего анализа была проведена категоризация данных по ежемесячному доходу `total_income`. Были выделены пять групп по величине дохода и соотвествующие им метки добавлены в основной датафрейм.\n",
    "\n",
    "\n",
    "3.5. Количество категорий целей получения кредита из столбца `purpose` путем удаления неявных дублей удалось сократить с 38 до 4:\n",
    "* `операции с автомобилем`\n",
    "* `операции с недвижимостью`\n",
    "* `проведение свадьбы`\n",
    "* `получение образования`\n",
    "\n",
    "Это позволило корретно проивести анализ влияния различных целей кредита на срок его возврата.\n",
    "\n",
    "\n",
    "3.6. Была проведена проверка гипотезы о влиянии количества детей в семье, семейного положения, величины месячного дохода, а также целей получения кредита на наличие задолженностей по его возврату.\n",
    "\n",
    "Полученные в процессе иследования данные сведены в наглядные таблицы с расчетом долей клиентов с задолженностями для каждой категории.\n",
    "\n",
    "По всем исследованным категориям доля клиентов с задолженнностями не превысила 10% порог, а различия между выделенными группами не превышали 3%.\n",
    "\n",
    "На данном этапе исследования явных закономерностей, влияющих на отсутствие или наличие задолженностей по кредитам не обнаружено. Выдвинутые гипотезы не нашли значимого подтверждения. Возможно, необходима комплексная оценка влияния выделенных признаков."
   ]
  },
  {
   "cell_type": "code",
   "execution_count": null,
   "id": "d53c948e",
   "metadata": {},
   "outputs": [],
   "source": []
  }
 ],
 "metadata": {
  "ExecuteTimeLog": [
   {
    "duration": 660,
    "start_time": "2022-02-01T17:26:04.332Z"
   },
   {
    "duration": 58,
    "start_time": "2022-02-01T17:28:42.237Z"
   },
   {
    "duration": 60,
    "start_time": "2022-02-01T17:28:54.430Z"
   },
   {
    "duration": 10,
    "start_time": "2022-02-01T17:29:41.838Z"
   },
   {
    "duration": 1044,
    "start_time": "2022-02-12T08:37:24.272Z"
   },
   {
    "duration": 17,
    "start_time": "2022-02-12T08:37:25.318Z"
   },
   {
    "duration": 12,
    "start_time": "2022-02-12T08:37:25.337Z"
   },
   {
    "duration": 6,
    "start_time": "2022-02-12T08:37:25.352Z"
   },
   {
    "duration": 76,
    "start_time": "2022-02-12T08:37:25.360Z"
   },
   {
    "duration": 7,
    "start_time": "2022-02-12T08:37:25.439Z"
   },
   {
    "duration": 15,
    "start_time": "2022-02-12T08:37:25.448Z"
   },
   {
    "duration": 8,
    "start_time": "2022-02-12T08:37:25.465Z"
   },
   {
    "duration": 8,
    "start_time": "2022-02-12T08:37:25.477Z"
   },
   {
    "duration": 10,
    "start_time": "2022-02-12T08:37:25.523Z"
   },
   {
    "duration": 8,
    "start_time": "2022-02-12T08:37:25.536Z"
   },
   {
    "duration": 9,
    "start_time": "2022-02-12T08:37:25.547Z"
   },
   {
    "duration": 15,
    "start_time": "2022-02-12T08:37:25.558Z"
   },
   {
    "duration": 49,
    "start_time": "2022-02-12T08:37:25.575Z"
   },
   {
    "duration": 9,
    "start_time": "2022-02-12T08:37:25.627Z"
   },
   {
    "duration": 15,
    "start_time": "2022-02-12T08:37:25.640Z"
   },
   {
    "duration": 13,
    "start_time": "2022-02-12T08:37:25.658Z"
   },
   {
    "duration": 49,
    "start_time": "2022-02-12T08:37:25.674Z"
   },
   {
    "duration": 9,
    "start_time": "2022-02-12T08:37:25.726Z"
   },
   {
    "duration": 21,
    "start_time": "2022-02-12T08:37:25.737Z"
   },
   {
    "duration": 9,
    "start_time": "2022-02-12T08:37:25.761Z"
   },
   {
    "duration": 8,
    "start_time": "2022-02-12T08:37:25.772Z"
   },
   {
    "duration": 44,
    "start_time": "2022-02-12T08:37:25.782Z"
   },
   {
    "duration": 14,
    "start_time": "2022-02-12T08:37:25.828Z"
   },
   {
    "duration": 43,
    "start_time": "2022-02-12T08:37:25.845Z"
   },
   {
    "duration": 35,
    "start_time": "2022-02-12T08:37:25.890Z"
   },
   {
    "duration": 22,
    "start_time": "2022-02-12T08:37:25.931Z"
   },
   {
    "duration": 15,
    "start_time": "2022-02-12T08:37:25.956Z"
   },
   {
    "duration": 73,
    "start_time": "2022-02-12T08:37:25.974Z"
   },
   {
    "duration": 8,
    "start_time": "2022-02-12T08:37:26.050Z"
   },
   {
    "duration": 8,
    "start_time": "2022-02-12T08:37:26.061Z"
   },
   {
    "duration": 6,
    "start_time": "2022-02-12T08:37:26.071Z"
   },
   {
    "duration": 47,
    "start_time": "2022-02-12T08:37:26.079Z"
   },
   {
    "duration": 14,
    "start_time": "2022-02-12T08:37:26.128Z"
   },
   {
    "duration": 5,
    "start_time": "2022-02-12T08:37:26.144Z"
   },
   {
    "duration": 19,
    "start_time": "2022-02-12T08:37:26.152Z"
   },
   {
    "duration": 61,
    "start_time": "2022-02-12T08:37:26.173Z"
   },
   {
    "duration": 50,
    "start_time": "2022-02-12T08:37:26.237Z"
   },
   {
    "duration": 51,
    "start_time": "2022-02-12T08:37:26.289Z"
   },
   {
    "duration": 23,
    "start_time": "2022-02-12T08:37:26.342Z"
   },
   {
    "duration": 9,
    "start_time": "2022-02-12T08:37:26.368Z"
   },
   {
    "duration": 45,
    "start_time": "2022-02-12T08:37:26.380Z"
   },
   {
    "duration": 18,
    "start_time": "2022-02-12T08:37:26.427Z"
   },
   {
    "duration": 18,
    "start_time": "2022-02-12T08:37:26.448Z"
   },
   {
    "duration": 11,
    "start_time": "2022-02-12T08:37:26.469Z"
   },
   {
    "duration": 43,
    "start_time": "2022-02-12T08:37:26.482Z"
   },
   {
    "duration": 18,
    "start_time": "2022-02-12T08:37:26.528Z"
   },
   {
    "duration": 20,
    "start_time": "2022-02-12T08:37:26.549Z"
   },
   {
    "duration": 51,
    "start_time": "2022-02-12T08:37:26.572Z"
   },
   {
    "duration": 11,
    "start_time": "2022-02-12T08:37:26.626Z"
   },
   {
    "duration": 18,
    "start_time": "2022-02-12T08:37:26.640Z"
   },
   {
    "duration": 7,
    "start_time": "2022-02-12T08:37:26.660Z"
   },
   {
    "duration": 18,
    "start_time": "2022-02-12T08:37:26.670Z"
   },
   {
    "duration": 6,
    "start_time": "2022-02-12T08:37:26.723Z"
   },
   {
    "duration": 395,
    "start_time": "2022-02-12T08:37:26.732Z"
   },
   {
    "duration": 10,
    "start_time": "2022-02-12T08:37:27.129Z"
   },
   {
    "duration": 23,
    "start_time": "2022-02-12T08:37:27.141Z"
   },
   {
    "duration": 8,
    "start_time": "2022-02-12T08:37:27.166Z"
   },
   {
    "duration": 399,
    "start_time": "2022-02-12T08:37:27.176Z"
   },
   {
    "duration": 9,
    "start_time": "2022-02-12T08:37:27.578Z"
   },
   {
    "duration": 38,
    "start_time": "2022-02-12T08:37:27.589Z"
   },
   {
    "duration": 31,
    "start_time": "2022-02-12T08:37:27.630Z"
   },
   {
    "duration": 16,
    "start_time": "2022-02-12T08:37:27.664Z"
   },
   {
    "duration": 72,
    "start_time": "2022-02-12T08:37:27.684Z"
   },
   {
    "duration": 34,
    "start_time": "2022-02-12T08:37:27.759Z"
   },
   {
    "duration": 56,
    "start_time": "2022-02-12T08:37:27.796Z"
   },
   {
    "duration": 10,
    "start_time": "2022-02-12T08:56:53.742Z"
   }
  ],
  "kernelspec": {
   "display_name": "Python 3 (ipykernel)",
   "language": "python",
   "name": "python3"
  },
  "language_info": {
   "codemirror_mode": {
    "name": "ipython",
    "version": 3
   },
   "file_extension": ".py",
   "mimetype": "text/x-python",
   "name": "python",
   "nbconvert_exporter": "python",
   "pygments_lexer": "ipython3",
   "version": "3.8.13"
  },
  "toc": {
   "base_numbering": 1,
   "nav_menu": {},
   "number_sections": true,
   "sideBar": true,
   "skip_h1_title": true,
   "title_cell": "Table of Contents",
   "title_sidebar": "Contents",
   "toc_cell": false,
   "toc_position": {
    "height": "calc(100% - 180px)",
    "left": "10px",
    "top": "150px",
    "width": "344.4px"
   },
   "toc_section_display": true,
   "toc_window_display": true
  }
 },
 "nbformat": 4,
 "nbformat_minor": 5
}
