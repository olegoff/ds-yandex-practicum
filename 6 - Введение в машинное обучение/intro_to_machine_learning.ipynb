{
 "cells": [
  {
   "cell_type": "markdown",
   "id": "c805f91c",
   "metadata": {},
   "source": [
    "# Подбор тарифа для клиентов оператора мобильной связи"
   ]
  },
  {
   "cell_type": "markdown",
   "id": "1de57afc",
   "metadata": {},
   "source": [
    "<div style=\"border:solid rebeccapurple 2px; padding: 20px;>\n",
    "    \n",
    "<font color='rebeccapurple'>Привет, Андрей!<br>\n",
    "Прежде всего хочу выразить благодарность за время и внимание, уделённые проверке моего проекта, а также за все рекомендации по его улучшению. Я их все внимательно изучил, проработал и дал свои комментарии.\n",
    "</font>\n",
    "\n",
    "</div>"
   ]
  },
  {
   "cell_type": "markdown",
   "id": "c894b294",
   "metadata": {},
   "source": [
    "Оператору мобильной связи «Мегалайн» необходимо перевести клиентов с архивных тарифных планов. Для этого предполагается построение модели для задачи классификации, которая проанализирует поведение клиентов и предложит им один из двух новых тарифных планов: `«Смарт»` или `«Ультра»`.\n",
    "\n",
    "**Задача исследования** - на основе имеющихся данных о поведении клиентов, которые уже перешли на данные тарифные планы, построить модель, которая выберет подходящий тариф для тех пользователей, которые продолжают пользоваться архивными тарифами.\n",
    "\n",
    "По условию задания необходимо получить модель, доля правильных ответов которой, составит не менее 0.75.\n",
    "\n",
    "**Описание имеющихся данных**\n",
    "\n",
    "* **Датасет из файла** **`users_behavior.csv`** (каждый объект в наборе данных - это информация о поведении одного пользователя за месяц):\n",
    "    * `сalls` —  количество звонков;\n",
    "    * `minutes` — суммарная длительность звонков в минутах;\n",
    "    * `messages` — количество sms-сообщений;\n",
    "    * `mb_used` — израсходованный интернет-трафик в Мб;\n",
    "    * `is_ultra` — каким тарифом пользовался в течение месяца («Ультра» — 1, «Смарт» — 0).\n",
    "    \n",
    "\n",
    "О данных известно, что они не нуждаются в предобработке.\n",
    "\n",
    "Исследование будет проведено в пять этапов:\n",
    "1. Обзор данных.\n",
    "2. Изучение и предобработка данных.\n",
    "3. Построение моделей.\n",
    "4. Проверка модели на вменяемость.\n",
    "5. Общие выводы."
   ]
  },
  {
   "cell_type": "markdown",
   "id": "077996e8",
   "metadata": {},
   "source": [
    "## Обзор и изучение данных"
   ]
  },
  {
   "cell_type": "code",
   "execution_count": 1,
   "id": "a03dbbf5",
   "metadata": {},
   "outputs": [],
   "source": [
    "# импорт необходимых библиотек\n",
    "import pandas as pd\n",
    "import numpy as np\n",
    "import seaborn as sns\n",
    "\n",
    "from sklearn.model_selection import train_test_split\n",
    "from sklearn.ensemble import RandomForestClassifier\n",
    "from sklearn.linear_model import LogisticRegression\n",
    "from sklearn.ensemble import RandomForestClassifier\n",
    "from sklearn.tree import DecisionTreeClassifier\n",
    "from sklearn.dummy import DummyClassifier\n",
    "from sklearn.metrics import accuracy_score\n",
    "\n",
    "import matplotlib.pyplot as plt\n",
    "\n",
    "\n",
    "# чтение из файла\n",
    "df = pd.read_csv('/datasets/users_behavior.csv')"
   ]
  },
  {
   "cell_type": "markdown",
   "id": "63ff03fa",
   "metadata": {},
   "source": [
    "### Обзор данных"
   ]
  },
  {
   "cell_type": "markdown",
   "id": "050e4399",
   "metadata": {},
   "source": [
    "Посмотрим на общий вид данных, сводную информацию по ним, проверим количество пропущенных значений и наличие дубликатов, чтобы убедиться, что данные действительно не нуждаются в предобработке."
   ]
  },
  {
   "cell_type": "code",
   "execution_count": 2,
   "id": "d04784af",
   "metadata": {},
   "outputs": [
    {
     "data": {
      "text/html": [
       "<div>\n",
       "<style scoped>\n",
       "    .dataframe tbody tr th:only-of-type {\n",
       "        vertical-align: middle;\n",
       "    }\n",
       "\n",
       "    .dataframe tbody tr th {\n",
       "        vertical-align: top;\n",
       "    }\n",
       "\n",
       "    .dataframe thead th {\n",
       "        text-align: right;\n",
       "    }\n",
       "</style>\n",
       "<table border=\"1\" class=\"dataframe\">\n",
       "  <thead>\n",
       "    <tr style=\"text-align: right;\">\n",
       "      <th></th>\n",
       "      <th>calls</th>\n",
       "      <th>minutes</th>\n",
       "      <th>messages</th>\n",
       "      <th>mb_used</th>\n",
       "      <th>is_ultra</th>\n",
       "    </tr>\n",
       "  </thead>\n",
       "  <tbody>\n",
       "    <tr>\n",
       "      <th>0</th>\n",
       "      <td>40.0</td>\n",
       "      <td>311.90</td>\n",
       "      <td>83.0</td>\n",
       "      <td>19915.42</td>\n",
       "      <td>0</td>\n",
       "    </tr>\n",
       "    <tr>\n",
       "      <th>1</th>\n",
       "      <td>85.0</td>\n",
       "      <td>516.75</td>\n",
       "      <td>56.0</td>\n",
       "      <td>22696.96</td>\n",
       "      <td>0</td>\n",
       "    </tr>\n",
       "    <tr>\n",
       "      <th>2</th>\n",
       "      <td>77.0</td>\n",
       "      <td>467.66</td>\n",
       "      <td>86.0</td>\n",
       "      <td>21060.45</td>\n",
       "      <td>0</td>\n",
       "    </tr>\n",
       "    <tr>\n",
       "      <th>3</th>\n",
       "      <td>106.0</td>\n",
       "      <td>745.53</td>\n",
       "      <td>81.0</td>\n",
       "      <td>8437.39</td>\n",
       "      <td>1</td>\n",
       "    </tr>\n",
       "    <tr>\n",
       "      <th>4</th>\n",
       "      <td>66.0</td>\n",
       "      <td>418.74</td>\n",
       "      <td>1.0</td>\n",
       "      <td>14502.75</td>\n",
       "      <td>0</td>\n",
       "    </tr>\n",
       "  </tbody>\n",
       "</table>\n",
       "</div>"
      ],
      "text/plain": [
       "   calls  minutes  messages   mb_used  is_ultra\n",
       "0   40.0   311.90      83.0  19915.42         0\n",
       "1   85.0   516.75      56.0  22696.96         0\n",
       "2   77.0   467.66      86.0  21060.45         0\n",
       "3  106.0   745.53      81.0   8437.39         1\n",
       "4   66.0   418.74       1.0  14502.75         0"
      ]
     },
     "execution_count": 2,
     "metadata": {},
     "output_type": "execute_result"
    }
   ],
   "source": [
    "# вывод первых строк данных из файла\n",
    "df.head()"
   ]
  },
  {
   "cell_type": "code",
   "execution_count": 3,
   "id": "f76654dc",
   "metadata": {},
   "outputs": [
    {
     "name": "stdout",
     "output_type": "stream",
     "text": [
      "<class 'pandas.core.frame.DataFrame'>\n",
      "RangeIndex: 3214 entries, 0 to 3213\n",
      "Data columns (total 5 columns):\n",
      " #   Column    Non-Null Count  Dtype  \n",
      "---  ------    --------------  -----  \n",
      " 0   calls     3214 non-null   float64\n",
      " 1   minutes   3214 non-null   float64\n",
      " 2   messages  3214 non-null   float64\n",
      " 3   mb_used   3214 non-null   float64\n",
      " 4   is_ultra  3214 non-null   int64  \n",
      "dtypes: float64(4), int64(1)\n",
      "memory usage: 125.7 KB\n"
     ]
    }
   ],
   "source": [
    "# просмотр сводной информации о данных из файла\n",
    "df.info()"
   ]
  },
  {
   "cell_type": "code",
   "execution_count": 4,
   "id": "c15e084e",
   "metadata": {},
   "outputs": [
    {
     "data": {
      "text/plain": [
       "calls       0\n",
       "minutes     0\n",
       "messages    0\n",
       "mb_used     0\n",
       "is_ultra    0\n",
       "dtype: int64"
      ]
     },
     "execution_count": 4,
     "metadata": {},
     "output_type": "execute_result"
    }
   ],
   "source": [
    "# проверка данных на пропуски\n",
    "df.isna().sum()"
   ]
  },
  {
   "cell_type": "code",
   "execution_count": 5,
   "id": "f7babbc0",
   "metadata": {},
   "outputs": [
    {
     "name": "stdout",
     "output_type": "stream",
     "text": [
      "Количество полных дублированных строк: 0\n"
     ]
    }
   ],
   "source": [
    "# проверка на полные дубликаты в данных\n",
    "print('Количество полных дублированных строк:', df.duplicated().sum())"
   ]
  },
  {
   "cell_type": "markdown",
   "id": "778e4333",
   "metadata": {},
   "source": [
    "### Выводы по обзору данных"
   ]
  },
  {
   "cell_type": "markdown",
   "id": "c5180407",
   "metadata": {},
   "source": [
    "* Данные успешно загружены и проанализированы. Таблица содержит `3214` записей, пропущенных значений, полных дубликатов и нарушений стиля заголовков в данных нет.\n",
    "* Тип данных для количественных признаков `calls` (количество звонков), `minutes` (суммарная длительность звонков), `messages ` (количество sms-сообщений) и `mb_used` (израсходованный интернет-трафик) соотвествует `float64`. Для всех этих данных, кроме `minutes` и `mb_used` изменим тип данных на `int64`, так как количество звонков и сообщений измеряется в целых единицах.\n",
    "* Тип данных категориального признака `is_ultra` (каким тарифом пользовался клиент в течение месяца) соотвествует `int64` и, как следует из описания, принимает значение равное `0` для тарифа `Смарт` и `1` для тарифа `Ультра`.\n",
    "* Несмотря на то, что в задании заявлено об отсуствии необходимости предобработки, всё же проведём её в минимальном виде - изменим типы данных для количества звонков и сообщений."
   ]
  },
  {
   "cell_type": "markdown",
   "id": "2f0b2a61",
   "metadata": {},
   "source": [
    "## Изучение и предобработка данных"
   ]
  },
  {
   "cell_type": "markdown",
   "id": "b164c7dc",
   "metadata": {},
   "source": [
    "### Изменение типов данных"
   ]
  },
  {
   "cell_type": "markdown",
   "id": "25e955f0",
   "metadata": {},
   "source": [
    "Значения `calls` и `messages` приведём к целочисленному типу, проверим данные на полные дубликаты и посмотрим на основные описательные статистики."
   ]
  },
  {
   "cell_type": "code",
   "execution_count": 6,
   "id": "3e80621f",
   "metadata": {},
   "outputs": [],
   "source": [
    "# изменение типа данных для количества звонков calls и сообщений messages с float64 на int64\n",
    "df[['calls', 'messages']] = df[['calls', 'messages']].astype('int64')"
   ]
  },
  {
   "cell_type": "markdown",
   "id": "cd244ecd",
   "metadata": {},
   "source": [
    "Проверим полученный результат, вызвав метод info()."
   ]
  },
  {
   "cell_type": "code",
   "execution_count": 7,
   "id": "b64641d9",
   "metadata": {},
   "outputs": [
    {
     "name": "stdout",
     "output_type": "stream",
     "text": [
      "<class 'pandas.core.frame.DataFrame'>\n",
      "RangeIndex: 3214 entries, 0 to 3213\n",
      "Data columns (total 5 columns):\n",
      " #   Column    Non-Null Count  Dtype  \n",
      "---  ------    --------------  -----  \n",
      " 0   calls     3214 non-null   int64  \n",
      " 1   minutes   3214 non-null   float64\n",
      " 2   messages  3214 non-null   int64  \n",
      " 3   mb_used   3214 non-null   float64\n",
      " 4   is_ultra  3214 non-null   int64  \n",
      "dtypes: float64(2), int64(3)\n",
      "memory usage: 125.7 KB\n"
     ]
    }
   ],
   "source": [
    "# просмотр сводной информации о датафреме после смены типа данных\n",
    "df.info()"
   ]
  },
  {
   "cell_type": "markdown",
   "id": "7439b401",
   "metadata": {},
   "source": [
    "* Тип данных для количества звонков `calls` и сообщений `messages` успешно изменён с `float64` на `int64`."
   ]
  },
  {
   "cell_type": "markdown",
   "id": "6a813c4f",
   "metadata": {},
   "source": [
    "### Изучение данных"
   ]
  },
  {
   "cell_type": "markdown",
   "id": "547801af",
   "metadata": {},
   "source": [
    "Изучим все количественные данные из таблицы. Для этого посмотрим на их основные описательные статистики и посмотрим на графики распределения частот по этим признакам, постром для них графики размаха, чтобы оценить наличие аномальных значений."
   ]
  },
  {
   "cell_type": "code",
   "execution_count": 8,
   "id": "fa0caae6",
   "metadata": {},
   "outputs": [
    {
     "data": {
      "text/html": [
       "<div>\n",
       "<style scoped>\n",
       "    .dataframe tbody tr th:only-of-type {\n",
       "        vertical-align: middle;\n",
       "    }\n",
       "\n",
       "    .dataframe tbody tr th {\n",
       "        vertical-align: top;\n",
       "    }\n",
       "\n",
       "    .dataframe thead th {\n",
       "        text-align: right;\n",
       "    }\n",
       "</style>\n",
       "<table border=\"1\" class=\"dataframe\">\n",
       "  <thead>\n",
       "    <tr style=\"text-align: right;\">\n",
       "      <th></th>\n",
       "      <th>calls</th>\n",
       "      <th>minutes</th>\n",
       "      <th>messages</th>\n",
       "      <th>mb_used</th>\n",
       "    </tr>\n",
       "  </thead>\n",
       "  <tbody>\n",
       "    <tr>\n",
       "      <th>count</th>\n",
       "      <td>3214.000000</td>\n",
       "      <td>3214.000000</td>\n",
       "      <td>3214.000000</td>\n",
       "      <td>3214.000000</td>\n",
       "    </tr>\n",
       "    <tr>\n",
       "      <th>mean</th>\n",
       "      <td>63.038892</td>\n",
       "      <td>438.208787</td>\n",
       "      <td>38.281269</td>\n",
       "      <td>17207.673836</td>\n",
       "    </tr>\n",
       "    <tr>\n",
       "      <th>std</th>\n",
       "      <td>33.236368</td>\n",
       "      <td>234.569872</td>\n",
       "      <td>36.148326</td>\n",
       "      <td>7570.968246</td>\n",
       "    </tr>\n",
       "    <tr>\n",
       "      <th>min</th>\n",
       "      <td>0.000000</td>\n",
       "      <td>0.000000</td>\n",
       "      <td>0.000000</td>\n",
       "      <td>0.000000</td>\n",
       "    </tr>\n",
       "    <tr>\n",
       "      <th>25%</th>\n",
       "      <td>40.000000</td>\n",
       "      <td>274.575000</td>\n",
       "      <td>9.000000</td>\n",
       "      <td>12491.902500</td>\n",
       "    </tr>\n",
       "    <tr>\n",
       "      <th>50%</th>\n",
       "      <td>62.000000</td>\n",
       "      <td>430.600000</td>\n",
       "      <td>30.000000</td>\n",
       "      <td>16943.235000</td>\n",
       "    </tr>\n",
       "    <tr>\n",
       "      <th>75%</th>\n",
       "      <td>82.000000</td>\n",
       "      <td>571.927500</td>\n",
       "      <td>57.000000</td>\n",
       "      <td>21424.700000</td>\n",
       "    </tr>\n",
       "    <tr>\n",
       "      <th>max</th>\n",
       "      <td>244.000000</td>\n",
       "      <td>1632.060000</td>\n",
       "      <td>224.000000</td>\n",
       "      <td>49745.730000</td>\n",
       "    </tr>\n",
       "  </tbody>\n",
       "</table>\n",
       "</div>"
      ],
      "text/plain": [
       "             calls      minutes     messages       mb_used\n",
       "count  3214.000000  3214.000000  3214.000000   3214.000000\n",
       "mean     63.038892   438.208787    38.281269  17207.673836\n",
       "std      33.236368   234.569872    36.148326   7570.968246\n",
       "min       0.000000     0.000000     0.000000      0.000000\n",
       "25%      40.000000   274.575000     9.000000  12491.902500\n",
       "50%      62.000000   430.600000    30.000000  16943.235000\n",
       "75%      82.000000   571.927500    57.000000  21424.700000\n",
       "max     244.000000  1632.060000   224.000000  49745.730000"
      ]
     },
     "execution_count": 8,
     "metadata": {},
     "output_type": "execute_result"
    }
   ],
   "source": [
    "# просмотр описательных статистик по основным показателям\n",
    "df[['calls', 'minutes', 'messages', 'mb_used']].describe()"
   ]
  },
  {
   "cell_type": "markdown",
   "id": "64bcd222",
   "metadata": {},
   "source": [
    "По всем признакам медианные и средние значения отличаются незначительно. Сильного смещения в данных нет. Посмотрим на распределения данных с помощью гистограмм частот и диаграмм размаха. Для этого создадим вспомогательную функцию *pair_chart()*."
   ]
  },
  {
   "cell_type": "code",
   "execution_count": 9,
   "id": "5e704cc9",
   "metadata": {},
   "outputs": [],
   "source": [
    "# функция для построения парных графиков в виде гистограмм распределения частот и диаграмм размаха\n",
    "def pair_chart(data, column_name):\n",
    "    \"\"\"\n",
    "    input: data (pandas.Series)   - данные для построения гистограммы и диаграммы размаха\n",
    "           column_name (str)      - наименование столбца данных\n",
    "    output: None\n",
    "    description: Функция для построения парных графиков для исследуемого параметра:\n",
    "                 - Первый график гистограмма - отображает распределение частот с помощью параметра stat=frequency\n",
    "                 - Второй график диаграмма размаха - отображает максимальные границы выборки и выбросы в данных\n",
    "    \"\"\"\n",
    "    \n",
    "    labels = {'calls': 'Количество звонков',\n",
    "              'minutes': 'Длительность звонков, мин',\n",
    "              'messages': 'Количество sms-сообщений',\n",
    "              'mb_used': 'Израсходованный интернет-трафик, Мб',\n",
    "              'accuracy': 'Точность'\n",
    "             }\n",
    "\n",
    "    sns.set()\n",
    "    sns.set_palette(palette='CMRmap')\n",
    "    f, axes = plt.subplots(1, 2, figsize=(15, 5))\n",
    "    \n",
    "    axes[0].set_title(labels[column_name] + '. Гистограмма частот.', fontsize=14)\n",
    "    axes[0].set_ylabel('Количество', fontsize = 13)\n",
    "    axes[0].set_xlabel(labels[column_name], fontsize = 13)\n",
    "    sns.histplot(data, bins=25, alpha=0.5, kde=True, ax=axes[0], stat='frequency')\n",
    "    \n",
    "    axes[1].set_title(labels[column_name] + '. Диаграмма размаха.', fontsize=14)\n",
    "    axes[1].set_xlabel('', fontsize=13)\n",
    "    sns.boxplot(x=data, orient='h', ax=axes[1], palette='BuPu')\n",
    "    \n",
    "    plt.show();"
   ]
  },
  {
   "cell_type": "code",
   "execution_count": 10,
   "id": "a68fe853",
   "metadata": {},
   "outputs": [
    {
     "data": {
      "image/png": "[encoded data removed]",
      "text/plain": [
       "<Figure size 1080x360 with 2 Axes>"
      ]
     },
     "metadata": {},
     "output_type": "display_data"
    },
    {
     "data": {
      "image/png": "[encoded data removed]",
      "text/plain": [
       "<Figure size 1080x360 with 2 Axes>"
      ]
     },
     "metadata": {},
     "output_type": "display_data"
    },
    {
     "data": {
      "image/png": "[encoded data removed]",
      "text/plain": [
       "<Figure size 1080x360 with 2 Axes>"
      ]
     },
     "metadata": {},
     "output_type": "display_data"
    },
    {
     "data": {
      "image/png": "[encoded data removed]",
      "text/plain": [
       "<Figure size 1080x360 with 2 Axes>"
      ]
     },
     "metadata": {},
     "output_type": "display_data"
    }
   ],
   "source": [
    "# построение соотвествующих графиков для значений из столбцов 'calls', 'minutes', 'messages', 'mb_used'\n",
    "for column in df[['calls', 'minutes', 'messages', 'mb_used']].columns:\n",
    "    pair_chart(df[column], column)"
   ]
  },
  {
   "cell_type": "markdown",
   "id": "c16795a4",
   "metadata": {},
   "source": [
    "Согласно диаграмм размаха все данные имеют выбросы, находящиеся за правой границей, то есть в областях максимальных значений. Оценим долю выбросов по отношению к всем имеющимся данным. Для этого создадим пару вспомогательных функций:\n",
    "* `outliers_value()` - для определения границы, за которой будут находится выбросы;\n",
    "* `outliers_rate()` - определения количества и доли выбросов по отношению ко всем данным."
   ]
  },
  {
   "cell_type": "code",
   "execution_count": 11,
   "id": "546fbe57",
   "metadata": {},
   "outputs": [],
   "source": [
    "# вспомогательная функция для определения границы выбросов\n",
    "def outliers_value(column_name):\n",
    "    \"\"\"\n",
    "    input: column_name (str)      - название столбца (параметра, для которого будет определяться граница)\n",
    "    output: val        (float)    - значение верхней границы, за которой будут находится выбросы\n",
    "    description: Функция находит и возвращает значение границы для исследуемого параметра за которой будут находится выбросы\n",
    "    \"\"\"\n",
    "    val = df[column_name].describe()['75%'] + (df[column_name].describe()['75%'] - df[column_name].describe()['25%']) * 1.5\n",
    "    return val"
   ]
  },
  {
   "cell_type": "code",
   "execution_count": 12,
   "id": "f4d15bd6",
   "metadata": {},
   "outputs": [],
   "source": [
    "# пустой словарь для последующего хранения значений выбросов по ключам в виде имён параметров\n",
    "max_vals = {}\n",
    "\n",
    "# сохранение значений границ выбросов в словарь max_vals с помощью функции outliers_value()\n",
    "for column in df[['calls', 'minutes', 'messages', 'mb_used']].columns:\n",
    "    max_vals[column] = outliers_value(column)"
   ]
  },
  {
   "cell_type": "code",
   "execution_count": 13,
   "id": "ac646bd8",
   "metadata": {},
   "outputs": [],
   "source": [
    "# вспомогательная функция для определения количества и доли выбросов\n",
    "def outliers_rate(column_name, max_vals=max_vals):\n",
    "    \"\"\"\n",
    "    input: column_name (str)      - название столбца (параметра, для которого будут находится количество и доля выбросов)\n",
    "           max_vals (dict)        - словарь с границами выбросов\n",
    "    output: вывод на печать с помощью print() значения количества и доли выбросов\n",
    "    description: Функция расчитывает и выводит на печать значения количества и доли выбросов по отношению ко всем данным\n",
    "    \"\"\"\n",
    "    outliers_count = df.loc[df[column] > max_vals[column]].shape[0]\n",
    "    rate = round(outliers_count / df.shape[0]  * 100, 2)\n",
    "    print(f'Количество выбросов для параметра «{column_name}» равно: {outliers_count} ({rate}%)')"
   ]
  },
  {
   "cell_type": "code",
   "execution_count": 14,
   "id": "23187a3f",
   "metadata": {},
   "outputs": [
    {
     "name": "stdout",
     "output_type": "stream",
     "text": [
      "Количество выбросов для параметра «calls» равно: 62 (1.93%)\n",
      "Количество выбросов для параметра «minutes» равно: 61 (1.9%)\n",
      "Количество выбросов для параметра «messages» равно: 91 (2.83%)\n",
      "Количество выбросов для параметра «mb_used» равно: 77 (2.4%)\n"
     ]
    }
   ],
   "source": [
    "for column in df[['calls', 'minutes', 'messages', 'mb_used']].columns:\n",
    "    outliers_rate(column)"
   ]
  },
  {
   "cell_type": "markdown",
   "id": "7754573a",
   "metadata": {},
   "source": [
    "Посмотрим на соотношение классов целевого признака."
   ]
  },
  {
   "cell_type": "code",
   "execution_count": 15,
   "id": "bf3686b5",
   "metadata": {},
   "outputs": [
    {
     "data": {
      "text/plain": [
       "0 - «Смарт»     0.693528\n",
       "1 - «Ультра»    0.306472\n",
       "Name: is_ultra, dtype: float64"
      ]
     },
     "execution_count": 15,
     "metadata": {},
     "output_type": "execute_result"
    }
   ],
   "source": [
    "# подсчёт долей каждого из классов целевого признака по отношению ко всем данным\n",
    "target_rate = df['is_ultra'].value_counts() / df.shape[0]\n",
    "target_rate.index = ['0 - «Смарт»', '1 - «Ультра»']\n",
    "target_rate"
   ]
  },
  {
   "cell_type": "markdown",
   "id": "b0624547",
   "metadata": {},
   "source": [
    "Для наглядности отобразим соотношение классов в целевом признаке на графике."
   ]
  },
  {
   "cell_type": "code",
   "execution_count": 16,
   "id": "46c20979",
   "metadata": {},
   "outputs": [
    {
     "data": {
      "image/png": "[encoded data removed]",
      "text/plain": [
       "<Figure size 504x360 with 1 Axes>"
      ]
     },
     "metadata": {},
     "output_type": "display_data"
    }
   ],
   "source": [
    "# построение круговой диаграммы для отображения соотношения классов в целевом признаке\n",
    "colors = ['lightsteelblue', 'sandybrown']\n",
    "\n",
    "fig = plt.figure(figsize = (7, 5))\n",
    "fig.suptitle('Соотношение классов в целевом признаке', fontsize=18)\n",
    "plt.pie(\n",
    "    target_rate,\n",
    "    labels = target_rate.index,\n",
    "    autopct='%.0f%%',\n",
    "    textprops={'fontsize': 14},\n",
    "    colors=colors,\n",
    "    explode=(0, 0.07)\n",
    ")\n",
    "centre_circle = plt.Circle((0,0),0.25,fc='white')\n",
    "fig = plt.gcf()\n",
    "fig.gca().add_artist(centre_circle)\n",
    "plt.show();"
   ]
  },
  {
   "cell_type": "markdown",
   "id": "041847d6",
   "metadata": {},
   "source": [
    "### Выводы по обзору данных"
   ]
  },
  {
   "cell_type": "markdown",
   "id": "40afe461",
   "metadata": {},
   "source": [
    "* Типы данных для `calls` и `messages` приведены к целочисленному типу `int64` в соотвествии с хранимой в них информацией.\n",
    "* Все данные обладают незначительным скосом вправо. В данных по количеству sms-сообщений много нулевых значений.\n",
    "* Параметр `calls` содержит `62` выброса (`1.93%`), параметр `minutes` содержит `61` выброс (`1.9%`), параметр `messages` содержит `91` выброс (`2.83%`), параметр `mb_used` содержит `77` выбросов (`2.4%`). Выбросы оставлены как есть.\n",
    "* Соотношение классов в целевом признаке распределено следующим образом:\n",
    "    * `класс 0` (тарифный план `«Смарт»`) - `69.4%` данных;\n",
    "    * `класс 1` (тарифный план `«Ультра»`) - `30.6%` данных.\n",
    "* Так как объектов меньшего класса более `10%`, то исследуемую выборку можно считать сбалансированной."
   ]
  },
  {
   "cell_type": "markdown",
   "id": "321f092a",
   "metadata": {},
   "source": [
    "## Построение моделей"
   ]
  },
  {
   "cell_type": "markdown",
   "id": "305c80ac",
   "metadata": {},
   "source": [
    "Так как целевой признак `is_ultra` - каким тарифом пользовался клиент в течение месяца соотвествует одному из двух фиксированных значений (`«Ультра»` — 1, `«Смарт»` — 0), то предстоит решать задачу бинарной классификации. Для её решения попробуем следующие модели и алгоритмы с подстройкой гиперпараметров:\n",
    "* Решающее дерево `DecisionTreeClassifier()`;\n",
    "* Случайный лес `RandomForestClassifier()`;\n",
    "* Логистическая регрессия `LogisticRegression()`."
   ]
  },
  {
   "cell_type": "markdown",
   "id": "08034b7a",
   "metadata": {},
   "source": [
    "### Разбиение выборки на обучающую и проверочные части"
   ]
  },
  {
   "cell_type": "markdown",
   "id": "2615eed2",
   "metadata": {},
   "source": [
    "Из исходного датасета выделим обучающие и целевой признаки в переменные `features` и `target` соотвественно. В качестве `target` будет выступать столбец с категориальным признаком `is_ultra`. В `features` будут находится все остальные столбцы."
   ]
  },
  {
   "cell_type": "code",
   "execution_count": 17,
   "id": "cf370586",
   "metadata": {},
   "outputs": [],
   "source": [
    "# разделение выборки на обучающие и целевой признаки\n",
    "features = df.drop(['is_ultra'], axis=1)\n",
    "target = df['is_ultra']"
   ]
  },
  {
   "cell_type": "markdown",
   "id": "2ea6ff8a",
   "metadata": {},
   "source": [
    "Зафиксируем псевдослучайность единым начальным значением, которое будет использовано в дальнейшем во всех расчётах, чтобы обеспечить воспроизводимость полученных результатов."
   ]
  },
  {
   "cell_type": "code",
   "execution_count": 18,
   "id": "fe5d299c",
   "metadata": {},
   "outputs": [],
   "source": [
    "# сохраним случайное состояние (число) в переменную rnd\n",
    "rnd = 123"
   ]
  },
  {
   "cell_type": "markdown",
   "id": "aef0a878",
   "metadata": {},
   "source": [
    "Разделим исходные данные на три части: обучающую, валидационную и тестовую в соотношении 3:1:1 (60% данных составит обучающая часть и по 20% валидационная и тестовая)."
   ]
  },
  {
   "cell_type": "code",
   "execution_count": 19,
   "id": "95d52598",
   "metadata": {},
   "outputs": [],
   "source": [
    "# выделение тестовой выборки и сохрание оставшейся части для последующего разделения\n",
    "features_train_valid, features_test, target_train_valid, target_test = train_test_split(\n",
    "    features, target, test_size=0.2, random_state=rnd)\n",
    "\n",
    "# разделение оставшейся части на обучающую и валидационную\n",
    "features_train, features_valid, target_train, target_valid = train_test_split(\n",
    "    features_train_valid, target_train_valid, test_size=0.25, random_state=rnd)"
   ]
  },
  {
   "cell_type": "markdown",
   "id": "c1e53cbd",
   "metadata": {},
   "source": [
    "Проверка размеров полученных частей. "
   ]
  },
  {
   "cell_type": "code",
   "execution_count": 20,
   "id": "916b7b6b",
   "metadata": {},
   "outputs": [
    {
     "data": {
      "text/plain": [
       "((1928, 4), (1928,))"
      ]
     },
     "execution_count": 20,
     "metadata": {},
     "output_type": "execute_result"
    }
   ],
   "source": [
    "# размер обучающей части\n",
    "features_train.shape, target_train.shape"
   ]
  },
  {
   "cell_type": "code",
   "execution_count": 21,
   "id": "ec42d269",
   "metadata": {},
   "outputs": [
    {
     "data": {
      "text/plain": [
       "((643, 4), (643,))"
      ]
     },
     "execution_count": 21,
     "metadata": {},
     "output_type": "execute_result"
    }
   ],
   "source": [
    "# размер валидационной части\n",
    "features_valid.shape, target_valid.shape"
   ]
  },
  {
   "cell_type": "code",
   "execution_count": 22,
   "id": "06fb4f28",
   "metadata": {},
   "outputs": [
    {
     "data": {
      "text/plain": [
       "((643, 4), (643,))"
      ]
     },
     "execution_count": 22,
     "metadata": {},
     "output_type": "execute_result"
    }
   ],
   "source": [
    "# размер тестовой части\n",
    "features_test.shape, target_test.shape"
   ]
  },
  {
   "cell_type": "markdown",
   "id": "a006ce15",
   "metadata": {},
   "source": [
    "* Разбиение проведено корректно в соотвествии с первоначально намеченным соотношением 3:1:1."
   ]
  },
  {
   "cell_type": "markdown",
   "id": "0ac780e9",
   "metadata": {},
   "source": [
    "Проверим соотношение классов целевого признака в тренировочной, валидационной и тестовой частях, полученных из исходного датафреймаю"
   ]
  },
  {
   "cell_type": "code",
   "execution_count": 23,
   "id": "4c515be7",
   "metadata": {},
   "outputs": [
    {
     "data": {
      "text/plain": [
       "0    0.694502\n",
       "1    0.305498\n",
       "Name: is_ultra, dtype: float64"
      ]
     },
     "execution_count": 23,
     "metadata": {},
     "output_type": "execute_result"
    }
   ],
   "source": [
    "# определение соотношения классов в тренировочной части\n",
    "target_train.value_counts() / target_train.shape[0]"
   ]
  },
  {
   "cell_type": "code",
   "execution_count": 24,
   "id": "78f06db2",
   "metadata": {},
   "outputs": [
    {
     "data": {
      "text/plain": [
       "0    0.684292\n",
       "1    0.315708\n",
       "Name: is_ultra, dtype: float64"
      ]
     },
     "execution_count": 24,
     "metadata": {},
     "output_type": "execute_result"
    }
   ],
   "source": [
    "# определение соотношения классов для валидационной части\n",
    "target_valid.value_counts() / target_valid.shape[0]"
   ]
  },
  {
   "cell_type": "code",
   "execution_count": 25,
   "id": "0a6352ea",
   "metadata": {},
   "outputs": [
    {
     "data": {
      "text/plain": [
       "0    0.699844\n",
       "1    0.300156\n",
       "Name: is_ultra, dtype: float64"
      ]
     },
     "execution_count": 25,
     "metadata": {},
     "output_type": "execute_result"
    }
   ],
   "source": [
    "# определение соотношения классов для тестовой части\n",
    "target_test.value_counts() / target_test.shape[0]"
   ]
  },
  {
   "cell_type": "markdown",
   "id": "e5db9036",
   "metadata": {},
   "source": [
    "* Разбиение исходного датафрейма на тренировочную, валидационную и тестовую части практически не повлияло на соотношение классов целевого признака в полученных из исходного датафрема частях."
   ]
  },
  {
   "cell_type": "markdown",
   "id": "dfa86deb",
   "metadata": {},
   "source": [
    "### Решающее дерево"
   ]
  },
  {
   "cell_type": "markdown",
   "id": "b97f94e3",
   "metadata": {},
   "source": [
    "Обучим модель решающего дерева. Так как алгоритм достаточно слабый, то много усилий подборке значений гиперпараметров для него уделять не будем и попробуем улучшить качество модели настройкой лишь одного гиперпараметра `max_depth` - максимальной глубины дерева."
   ]
  },
  {
   "cell_type": "code",
   "execution_count": 26,
   "id": "fa90ff2a",
   "metadata": {},
   "outputs": [
    {
     "name": "stdout",
     "output_type": "stream",
     "text": [
      "Лучший результат для решающего дерева 0.795 при глубине 9\n"
     ]
    }
   ],
   "source": [
    "# обучение модели решающего дерева с подстрокой гиперпараметра max_depth - глубины дерева\n",
    "best_dt_model = None\n",
    "best_dt_result = best_depth = 0\n",
    "\n",
    "for depth in range(1, 21):\n",
    "    dt_model = DecisionTreeClassifier(random_state=rnd, max_depth=depth)\n",
    "    dt_model.fit(features_train, target_train)\n",
    "    predictions = dt_model.predict(features_valid)\n",
    "    result = accuracy_score(target_valid, predictions)\n",
    "\n",
    "    if result > best_dt_result:\n",
    "        best_dt_model = dt_model\n",
    "        best_dt_result = result\n",
    "        best_depth = depth\n",
    "\n",
    "print(f'Лучший результат для решающего дерева {round(best_dt_result, 3)} при глубине {best_depth}')"
   ]
  },
  {
   "cell_type": "markdown",
   "id": "8244cbdc",
   "metadata": {},
   "source": [
    "Проверим какую точность `accuracy` покажет полученная модель на основе решающего дерева на тестовой выборке."
   ]
  },
  {
   "cell_type": "code",
   "execution_count": 27,
   "id": "8fd93400",
   "metadata": {},
   "outputs": [
    {
     "name": "stdout",
     "output_type": "stream",
     "text": [
      "Точность (accuracy) модели на основе решающего дерева на тестовой выборке: 0.787\n"
     ]
    }
   ],
   "source": [
    "# проверка точности модели на основе решающего дерева на тестовой выборке\n",
    "predictions = best_dt_model.predict(features_test)\n",
    "dt_result = accuracy_score(target_test, predictions)\n",
    "print(f'Точность (accuracy) модели на основе решающего дерева на тестовой выборке: {round(dt_result, 3)}')"
   ]
  },
  {
   "cell_type": "markdown",
   "id": "8e97a4f0",
   "metadata": {},
   "source": [
    "* Точность даже такого достаточно слабого, склонного к переобучению, алгоритма машинного обучения как решающее дерево, на тестовой выборке составила `0.787`, что уже удовлетворяет условиям задания. Посмотрим насколько можно улучшить результаты обучением модели на других алгоритмах."
   ]
  },
  {
   "cell_type": "markdown",
   "id": "2cc81123",
   "metadata": {},
   "source": [
    "### Случайный лес"
   ]
  },
  {
   "cell_type": "markdown",
   "id": "59307c10",
   "metadata": {},
   "source": [
    "Случайный лес является более сильным алгоритмом по сравнению с единичным решающим деревом. Поэтому, уделим больше внимания подстройке гиперпараметров данной модели. Для настройки выделим следующие гиперпараметры:\n",
    "* `n_estimators` - количество деревьев;\n",
    "* `max_depth` - максимальная глубина каждого дерева;\n",
    "* `criterion` - тип функции для измерения качества разделения;\n",
    "* `min_samples_split` - минимальное количество примеров для разделения;\n",
    "* `min_samples_leaf` - минимальное количество объектов в листе."
   ]
  },
  {
   "cell_type": "markdown",
   "id": "fab4c196",
   "metadata": {},
   "source": [
    "В процессе подстройки гиперпараметров выберем модель, которая обеспечить лучшую точность `accuracy` на валидационной выборке."
   ]
  },
  {
   "cell_type": "code",
   "execution_count": 72,
   "id": "4ddfa08f",
   "metadata": {},
   "outputs": [
    {
     "name": "stdout",
     "output_type": "stream",
     "text": [
      "Лучший результат для случайного леса 0.81\n",
      " \n",
      "Лучший результат получен на модели с параметрами \n",
      "{'bootstrap': True, 'ccp_alpha': 0.0, 'class_weight': None, 'criterion': 'gini', 'max_depth': 9, 'max_features': 'auto', 'max_leaf_nodes': None, 'max_samples': None, 'min_impurity_decrease': 0.0, 'min_impurity_split': None, 'min_samples_leaf': 4, 'min_samples_split': 2, 'min_weight_fraction_leaf': 0.0, 'n_estimators': 52, 'n_jobs': -1, 'oob_score': False, 'random_state': 123, 'verbose': 0, 'warm_start': False}\n",
      "\n",
      "CPU times: total: 9.31 s\n",
      "Wall time: 3.81 s\n"
     ]
    }
   ],
   "source": [
    "%%time\n",
    "# обучение модели случайного леса с подстрокой различных гиперпараметров\n",
    "best_rf_model = None\n",
    "best_rf_result = 0\n",
    "\n",
    "for est in range(50, 55, 2):\n",
    "    for depth in range (7, 10):\n",
    "        for crit in ['gini', 'entropy']:\n",
    "            for min_split in range(2, 4):\n",
    "                for min_leaf in range(3, 5):\n",
    "                    rf_model = RandomForestClassifier(\n",
    "                        random_state=rnd,\n",
    "                        n_estimators=est,\n",
    "                        max_depth=depth,\n",
    "                        criterion=crit,\n",
    "                        min_samples_split=min_split,\n",
    "                        min_samples_leaf=min_leaf,\n",
    "                        n_jobs=-1\n",
    "                    )\n",
    "                    \n",
    "                    rf_model.fit(features_train, target_train)\n",
    "                    predictions = rf_model.predict(features_valid)\n",
    "                    result = accuracy_score(target_valid, predictions)\n",
    "                    \n",
    "                    if result > best_rf_result:\n",
    "                        best_rf_model = rf_model\n",
    "                        best_rf_result = result\n",
    "            \n",
    "print(f'Лучший результат для случайного леса {round(best_rf_result, 3)}\\n ')\n",
    "print(f'Лучший результат получен на модели с параметрами \\n{best_rf_model.get_params()}\\n')"
   ]
  },
  {
   "cell_type": "markdown",
   "id": "8f206a31",
   "metadata": {},
   "source": [
    "Проверим какую точность `accuracy` покажет полученная модель на основе случайного леса на тестовой выборке."
   ]
  },
  {
   "cell_type": "code",
   "execution_count": 29,
   "id": "beb3a0b6",
   "metadata": {},
   "outputs": [
    {
     "name": "stdout",
     "output_type": "stream",
     "text": [
      "Точность (accuracy) модели на основе случайного леса на тестовой выборке: 0.816\n"
     ]
    }
   ],
   "source": [
    "# проверка точности модели на основе случайного леса на тестовой выборке\n",
    "predictions = best_rf_model.predict(features_test)\n",
    "rf_result = accuracy_score(target_test, predictions)\n",
    "print(f'Точность (accuracy) модели на основе случайного леса на тестовой выборке: {round(rf_result, 3)}')"
   ]
  },
  {
   "cell_type": "markdown",
   "id": "4118cb44",
   "metadata": {},
   "source": [
    "* Использованием более сильного алгоритма машинного обучения, такого как случайный лес, удалось повысить значение точности до `0.816`, но при этом также заметно возрасло время обучения модели, которое занимает процесс перебора гиперпараметров."
   ]
  },
  {
   "cell_type": "code",
   "execution_count": 73,
   "id": "adf7a7ce",
   "metadata": {},
   "outputs": [
    {
     "name": "stdout",
     "output_type": "stream",
     "text": [
      "Лучший результат для случайного леса 0.811\n",
      " \n",
      "Лучший результат получен на модели с параметрами \n",
      "{'bootstrap': True, 'ccp_alpha': 0.0, 'class_weight': None, 'criterion': 'gini', 'max_depth': 9, 'max_features': 'auto', 'max_leaf_nodes': None, 'max_samples': None, 'min_impurity_decrease': 0.0, 'min_impurity_split': None, 'min_samples_leaf': 3, 'min_samples_split': 2, 'min_weight_fraction_leaf': 0.0, 'n_estimators': 50, 'n_jobs': -1, 'oob_score': False, 'random_state': 123, 'verbose': 0, 'warm_start': False}\n",
      "\n",
      "CPU times: total: 15.1 s\n",
      "Wall time: 14.8 s\n"
     ]
    }
   ],
   "source": [
    "%%time\n",
    "from sklearn.model_selection import GridSearchCV\n",
    "\n",
    "\n",
    "clf = RandomForestClassifier(random_state=rnd, n_jobs=-1)\n",
    "\n",
    "params_grid = {\n",
    "    'max_depth': range(7, 10),\n",
    "    'n_estimators': range(50, 55, 2),\n",
    "    'criterion': ['gini', 'entropy'],\n",
    "    'min_samples_split': range(2, 4),\n",
    "    'min_samples_leaf': range(3, 5),\n",
    "   }\n",
    "\n",
    "clf_grid = GridSearchCV(estimator=clf, param_grid=params_grid, scoring='accuracy')\n",
    "clf_grid.fit(features_train, target_train)\n",
    "best_clf = clf_grid.best_estimator_\n",
    "\n",
    "print(f'Лучший результат для случайного леса {round(clf_grid.best_score_, 3)}\\n ')\n",
    "print(f'Лучший результат получен на модели с параметрами \\n{best_clf.get_params()}\\n')"
   ]
  },
  {
   "cell_type": "markdown",
   "id": "8c0c905a",
   "metadata": {},
   "source": [
    "### Логистическая регрессия"
   ]
  },
  {
   "cell_type": "markdown",
   "id": "7b3c686f",
   "metadata": {},
   "source": [
    "Также проверим результат точности `accuracy`, который можено получить на такой модели как логистическая регрессия. В качестве гиперпараметра будем менять `solver` - алгоритм, используемый для решения задачи оптимизации, выбирая его из двух значений `liblinear` и `lbfgs`."
   ]
  },
  {
   "cell_type": "code",
   "execution_count": 30,
   "id": "2790dd46",
   "metadata": {},
   "outputs": [
    {
     "name": "stdout",
     "output_type": "stream",
     "text": [
      "Лучший результат для логистической регрессии 0.734 на алгоритме «lbfgs»\n"
     ]
    }
   ],
   "source": [
    "# обучение модели модели логистической регрессии с подстройкой гиперпараметра в виде выбора алгоритма оптимизации\n",
    "best_reg_model = None\n",
    "best_reg_result = 0\n",
    "\n",
    "solvers = ['liblinear', 'lbfgs']\n",
    "for solver in solvers:\n",
    "    reg_model = LogisticRegression(random_state=rnd, solver=solver)\n",
    "    reg_model.fit(features_train, target_train)\n",
    "    predictions = reg_model.predict(features_valid)\n",
    "    result = accuracy_score(target_valid, predictions)\n",
    "    \n",
    "    if result > best_reg_result:\n",
    "        best_solver = solver\n",
    "        best_reg_result = result\n",
    "        best_reg_model = reg_model\n",
    "            \n",
    "print(f'Лучший результат для логистической регрессии {round(best_reg_result, 3)} на алгоритме «{best_solver}»')"
   ]
  },
  {
   "cell_type": "markdown",
   "id": "1d99ef74",
   "metadata": {},
   "source": [
    "Проверим какую точность `accuracy` покажет полученная модель на основе логистической регрессии на тестовой выборке."
   ]
  },
  {
   "cell_type": "code",
   "execution_count": 31,
   "id": "7b761728",
   "metadata": {},
   "outputs": [
    {
     "name": "stdout",
     "output_type": "stream",
     "text": [
      "Точность (accuracy) модели на основе логистической регрессии на тестовой выборке: 0.751\n"
     ]
    }
   ],
   "source": [
    "# проверка точности модели на основе логистической регрессии на тестовой выборке\n",
    "predictions = best_reg_model.predict(features_test)\n",
    "reg_result = accuracy_score(target_test, predictions)\n",
    "print(f'Точность (accuracy) модели на основе логистической регрессии на тестовой выборке: {round(reg_result, 3)}')"
   ]
  },
  {
   "cell_type": "markdown",
   "id": "cca265f6",
   "metadata": {},
   "source": [
    "* Логистическая регрессия обеспечила точность, равную `0.751`, что меньше значений точности решающего дерева и случайного леса."
   ]
  },
  {
   "cell_type": "markdown",
   "id": "f5ad2498",
   "metadata": {},
   "source": [
    "### Выводы по обученным моделям"
   ]
  },
  {
   "cell_type": "markdown",
   "id": "d2728c49",
   "metadata": {},
   "source": [
    "* Были обучены с подстройкой гиперпараметров и проанализированы результаты работы на тестовой выборке различных моделей классификации: решающего дерева, случайного леса и логистической регрессии.\n",
    "* Наилучшая точность, равная `0.816`, была достигнута для модели случайного леса. Самую низкую точность, равную `0.751`, показала логистическая регрессия. Точность логистической регрессии находится как раз на нижней границе требования к заданию."
   ]
  },
  {
   "cell_type": "markdown",
   "id": "c4e0a94b",
   "metadata": {},
   "source": [
    "## Проверка моделей на вменяемость"
   ]
  },
  {
   "cell_type": "markdown",
   "id": "5bea32f9",
   "metadata": {},
   "source": [
    "### Простейший классификатор"
   ]
  },
  {
   "cell_type": "markdown",
   "id": "b0811bcf",
   "metadata": {},
   "source": [
    "Оценим полученные модели на адекватность, или вменяемость. Для этого сравним их точность с точностью `DummyClassifier()` - простейшего классификатора, который делает прогнозы, используя простейшие правила, игнорируя значения входных признаков `features`, передаваемых в качестве аргумента для метода `fit()`. "
   ]
  },
  {
   "cell_type": "markdown",
   "id": "707f9dc5",
   "metadata": {},
   "source": [
    "В качестве настраиваемых гиперпараметров, будем использовать `strategy` - применяемую для создания прогнозов стратегию, которая будет принимать одно из следующих значений:\n",
    "* `most_frequent` - возвращает наиболее часто встречающуюся в обучающем наборе метку класса;\n",
    "* `prior` - всегда предсказывает класс, который максимизирует предыдущий класс;\n",
    "* `stratified` - генерирует прогнозы с учетом распределения классов обучающей выборки;\n",
    "* `uniform` - генерирует прогнозы равномерно в случайном порядке."
   ]
  },
  {
   "cell_type": "code",
   "execution_count": 32,
   "id": "adc74379",
   "metadata": {},
   "outputs": [
    {
     "name": "stdout",
     "output_type": "stream",
     "text": [
      "Лучший результат 0.684 на алгоритме «uniform»\n"
     ]
    }
   ],
   "source": [
    "# обучение модели модели простейшего классификатора\n",
    "best_dum_model = None\n",
    "best_dum_result = 0\n",
    "\n",
    "strategies = ['most_frequent', 'prior', 'stratified', 'uniform']\n",
    "for strategy in strategies:\n",
    "    dum_model = DummyClassifier(strategy=strategy, random_state=rnd)\n",
    "    dum_model.fit(features_train, target_train)\n",
    "    predictions = dum_model.predict(features_valid)\n",
    "    result = accuracy_score(target_valid, predictions)\n",
    "    \n",
    "    if result > best_dum_result:\n",
    "        best_strategy = strategy\n",
    "        best_dum_result = result\n",
    "        best_dum_model = dum_model\n",
    "\n",
    "print(f'Лучший результат {round(best_dum_result, 3)} на алгоритме «{strategy}»')"
   ]
  },
  {
   "cell_type": "markdown",
   "id": "14991e00",
   "metadata": {},
   "source": [
    "Проверим какую точность `accuracy` покажет лучшая полученная модель на основе простейшего классификатора на тестовой выборке."
   ]
  },
  {
   "cell_type": "code",
   "execution_count": 33,
   "id": "4312058a",
   "metadata": {},
   "outputs": [
    {
     "name": "stdout",
     "output_type": "stream",
     "text": [
      "Точность (accuracy) модели на основе простейшего классификатора на тестовой выборке: 0.7\n"
     ]
    }
   ],
   "source": [
    "# проверка точности для модели на основе простейшего классификатора на тестовой выборке\n",
    "predictions = best_dum_model.predict(features_test)\n",
    "dum_result = accuracy_score(target_test, predictions)\n",
    "print(f'Точность (accuracy) модели на основе простейшего классификатора на тестовой выборке: {round(dum_result, 3)}')"
   ]
  },
  {
   "cell_type": "markdown",
   "id": "224cfd92",
   "metadata": {},
   "source": [
    "Дополнительно проверим полученные модели на вменяемость, сравнив их с точностью случайной модели. Для этого найдём наибольшее значение точности среди всех рассчитанных на `50000` итерациях случайно сгенерированных значениях целевого признака."
   ]
  },
  {
   "cell_type": "code",
   "execution_count": 34,
   "id": "d6a2e88f",
   "metadata": {},
   "outputs": [
    {
     "name": "stdout",
     "output_type": "stream",
     "text": [
      "Точность (accuracy) для случайно сгенерированных значений целевого признака: 0.586\n"
     ]
    }
   ],
   "source": [
    "# получение значений точности для случайно сгенерированных значений целевого признака\n",
    "accuracy = []\n",
    "best_rnd_result = 0\n",
    "\n",
    "for i in range(50000):\n",
    "    np.random.seed(i)\n",
    "    predictions = np.random.randint(2, size=643)\n",
    "    rnd_result = accuracy_score(target_test, predictions)\n",
    "    accuracy.append(rnd_result)\n",
    "    \n",
    "    if rnd_result > best_rnd_result:\n",
    "        best_rnd_result = rnd_result\n",
    "    \n",
    "print(f'Точность (accuracy) для случайно сгенерированных значений целевого признака: {round(best_rnd_result, 3)}')"
   ]
  },
  {
   "cell_type": "markdown",
   "id": "e7509afa",
   "metadata": {},
   "source": [
    "Для случайно сгенерированных в `50000` попыток результатов значений целевого признака максимальная точность составила `0.586`. Чтобы убедиться в том, что данные действительно случайны посмотрим на распределение точности для всех сгенерированных данных. Для этого построим гистограмму распределения частот и диаграмму размаха для точности."
   ]
  },
  {
   "cell_type": "code",
   "execution_count": 35,
   "id": "3f8e7bf3",
   "metadata": {},
   "outputs": [
    {
     "data": {
      "image/png": "[encoded data removed]",
      "text/plain": [
       "<Figure size 1080x360 with 2 Axes>"
      ]
     },
     "metadata": {},
     "output_type": "display_data"
    }
   ],
   "source": [
    "# построение гистограммы частот и диаграммы расмаха для значений точности, полученных на сгенерированных данных\n",
    "pair_chart(pd.DataFrame(accuracy).rename(columns={0:'accuracy'})['accuracy'], 'accuracy')"
   ]
  },
  {
   "cell_type": "markdown",
   "id": "252aba7e",
   "metadata": {},
   "source": [
    "На графиках получена идеальная форма Гауссовского распределения, с медианой и средним точно на значении `0.5`, что подтверждает случайность данных."
   ]
  },
  {
   "cell_type": "markdown",
   "id": "45566a8c",
   "metadata": {},
   "source": [
    "Сведём все полученные значения точности `accuracy` для различных алгоритмов для их наглядного сравнения."
   ]
  },
  {
   "cell_type": "code",
   "execution_count": 36,
   "id": "b94f0359",
   "metadata": {},
   "outputs": [
    {
     "data": {
      "text/html": [
       "<div>\n",
       "<style scoped>\n",
       "    .dataframe tbody tr th:only-of-type {\n",
       "        vertical-align: middle;\n",
       "    }\n",
       "\n",
       "    .dataframe tbody tr th {\n",
       "        vertical-align: top;\n",
       "    }\n",
       "\n",
       "    .dataframe thead th {\n",
       "        text-align: right;\n",
       "    }\n",
       "</style>\n",
       "<table border=\"1\" class=\"dataframe\">\n",
       "  <thead>\n",
       "    <tr style=\"text-align: right;\">\n",
       "      <th></th>\n",
       "      <th>accuracy</th>\n",
       "    </tr>\n",
       "  </thead>\n",
       "  <tbody>\n",
       "    <tr>\n",
       "      <th>random_forest</th>\n",
       "      <td>0.816485</td>\n",
       "    </tr>\n",
       "    <tr>\n",
       "      <th>decision_tree</th>\n",
       "      <td>0.786936</td>\n",
       "    </tr>\n",
       "    <tr>\n",
       "      <th>logistic_regression</th>\n",
       "      <td>0.751166</td>\n",
       "    </tr>\n",
       "    <tr>\n",
       "      <th>dummy</th>\n",
       "      <td>0.699844</td>\n",
       "    </tr>\n",
       "    <tr>\n",
       "      <th>fully_random</th>\n",
       "      <td>0.586314</td>\n",
       "    </tr>\n",
       "  </tbody>\n",
       "</table>\n",
       "</div>"
      ],
      "text/plain": [
       "                     accuracy\n",
       "random_forest        0.816485\n",
       "decision_tree        0.786936\n",
       "logistic_regression  0.751166\n",
       "dummy                0.699844\n",
       "fully_random         0.586314"
      ]
     },
     "metadata": {},
     "output_type": "display_data"
    }
   ],
   "source": [
    "# создание сводной таблицы для точности различных алгоритмов\n",
    "df_res = pd.DataFrame(\n",
    "    [[dt_result, rf_result, reg_result, dum_result, best_rnd_result]], \n",
    "    columns=['decision_tree', 'random_forest', 'logistic_regression', 'dummy', 'fully_random']\n",
    ").T.rename(columns={0:'accuracy'}).sort_values(by='accuracy', ascending=False)\n",
    "\n",
    "# просмотр полученной сводной таблицы с точностью для различных алгоритмов отсортированной по убыванию\n",
    "display(df_res)"
   ]
  },
  {
   "cell_type": "markdown",
   "id": "a87a41cb",
   "metadata": {},
   "source": [
    "Для наглядной визуализации и графического сравнения точности (accuracy) различных моделей построим столбчатую диаграмму."
   ]
  },
  {
   "cell_type": "code",
   "execution_count": 37,
   "id": "4d4731f4",
   "metadata": {},
   "outputs": [
    {
     "data": {
      "image/png": "[encoded data removed]",
      "text/plain": [
       "<Figure size 720x432 with 1 Axes>"
      ]
     },
     "metadata": {},
     "output_type": "display_data"
    }
   ],
   "source": [
    "# построение столбчатой диаграммы для значений точности различных моделей\n",
    "plt.figure(figsize=(10, 6))\n",
    "ax = sns.barplot(data=df_res, x=df_res.index, y='accuracy')\n",
    "ax.set_title('Сравнение точности различных моделей', fontsize = 15)\n",
    "ax.set_ylabel('Точность (accuracy) сравниваемых моделей', fontsize = 13)\n",
    "plt.show();"
   ]
  },
  {
   "cell_type": "markdown",
   "id": "613b39b3",
   "metadata": {},
   "source": [
    "* Точность простейшего алгоритма, равная `0.7` оказалась ниже всех рассмотренных ранее алгоритмов: решающего дерева, случайного леса и логистической регрессии.\n",
    "* Для лучшей модели из случайных точность оставила `0.59`, то есть ещё ниже, чем для лучшего простейшего алгоритма.\n",
    "* Идеальная колоколообразная форма распределения точности случайных моделей со средним и медианой на значении `0.5` подтвердила полную случаность значений точности для случайных моделей."
   ]
  },
  {
   "cell_type": "markdown",
   "id": "98ae2695",
   "metadata": {},
   "source": [
    "### Вывод по проверке моделей на вменяемость"
   ]
  },
  {
   "cell_type": "markdown",
   "id": "cf993ddf",
   "metadata": {},
   "source": [
    "* Самая лучшая модель на основе простейшего алгоритма, которую можно рассматривать как базовую, продемонстрировала более низкое значение точности `accuracy`, равное `0.7`, чем модель логистичкской регрессии, которая продемонстрировала худший по точности результат, равный `0.75`.\n",
    "* Лучшая модель из случайных, точность которых была рассчитана для случайно сгенерированных значений целевого признака, продемонстрировала значение `accuracy`, равное `0.59`, то есть более чем на `10%` худший результат, чем лучший простейший алгоритм на основе *DummyClassifier()*.\n",
    "* Из вышесказанного можно заключить, что все обученные модели (решающее дерево, случайный лес и логистическая регрессия) работают адекватно."
   ]
  },
  {
   "cell_type": "markdown",
   "id": "ebdc14c4",
   "metadata": {},
   "source": [
    "## Общие выводы"
   ]
  },
  {
   "cell_type": "markdown",
   "id": "63e9cbc4",
   "metadata": {},
   "source": [
    "1. Полученные в файлe `users_behavior.csv` данные о поведении клиентов были успешно загружены и проанализированы. В полученных данных содержатся `3214` записей. Пропусков, дубликатов, нарушений стиля заголовков не обнаружено. Установлена необходимость незначаительной предобработки данных в виде изменения типа данных для количества звонков и сообщений.\n",
    "\n",
    "\n",
    "2. Типы данных преобразованы в соотвествии с хранимой информацией. Изучены все количественные данные. Отмечено небольшое смещение данных вправо и наличие выбросов, которые для различных данных составили от `1.9` до `2.83%`. Выброс оставлены как есть. Подсчитано распределение классов целевой переменной в исследуемой выборке и установлено, что `класс 0` (тарифный план `«Смарт»`) представлен `69.4%` данных, а `класс 1` (тарифный план `«Ультра»`) - `30.6%` данных из чего сделан вывод о сбалансированности исследуемой выборки.\n",
    "\n",
    "\n",
    "3. Были проанализированы различные модели с помощью которых была произведена попытка решения задачи бинарной классификации:\n",
    "    * решающее дерево;\n",
    "    * случайный лес;\n",
    "    * логистическая регрессия.\n",
    "    \n",
    "    Все модели были обучены на решение задачи с подстройкой гиперпараметров  для достижения лучшей точности `accuracy`. Наилучшей точности, равной `0.816`, на тестовой выборке удалось достичь для модели случайного леса.\n",
    "   \n",
    "    \n",
    "4. Произведена оценка моделей на вменяемость методом сравнения их точности с точностью простейшего классификатора.\n",
    "    * Самая лучшая модель простейшего алгоритма, полученного после подстройки гиперпараметров, продемонстрировала более низкую точность - `0.7` по сравнению с наиболее слабой из обученных моделей, которой стала логистическая регрессия со значением точности, равным `0.75`.\n",
    "    * Самая лучшая модель из случайных, полученных на случайно сгенерированных значениях целевого признака, обеспечила значение точности, равное `0.59`, что значительно меньше даже по сравнению с моделью простейшего алгоритма.\n",
    "    * Из предыдущих двух подпунктов следует вывод, что все обученные модели (решающее дерево, случайный лес, логистическая регрессия) работают адекватно.\n",
    "\n",
    "\n",
    "5. Все обученные модели (решающее дерево, случайный лес и логистическая регрессия) обеспечили значение точности `accuracy` удовлетворяющее условию задания.\n",
    "    * Максимального значения `accuracy`, равного `0.816`, удалось достичь для модели случайного леса. Самую низкую точность, равную `0.751`, показала логистическая регрессия. Eё точность находится как раз на нижней границе требования к заданию."
   ]
  },
  {
   "cell_type": "code",
   "execution_count": null,
   "id": "a7e3d446",
   "metadata": {},
   "outputs": [],
   "source": []
  }
 ],
 "metadata": {
  "ExecuteTimeLog": [
   {
    "duration": 660,
    "start_time": "2022-02-01T17:26:04.332Z"
   },
   {
    "duration": 58,
    "start_time": "2022-02-01T17:28:42.237Z"
   },
   {
    "duration": 60,
    "start_time": "2022-02-01T17:28:54.430Z"
   },
   {
    "duration": 10,
    "start_time": "2022-02-01T17:29:41.838Z"
   }
  ],
  "kernelspec": {
   "display_name": "Python 3 (ipykernel)",
   "language": "python",
   "name": "python3"
  },
  "language_info": {
   "codemirror_mode": {
    "name": "ipython",
    "version": 3
   },
   "file_extension": ".py",
   "mimetype": "text/x-python",
   "name": "python",
   "nbconvert_exporter": "python",
   "pygments_lexer": "ipython3",
   "version": "3.8.13"
  },
  "toc": {
   "base_numbering": 1,
   "nav_menu": {},
   "number_sections": true,
   "sideBar": true,
   "skip_h1_title": true,
   "title_cell": "Table of Contents",
   "title_sidebar": "Contents",
   "toc_cell": false,
   "toc_position": {
    "height": "calc(100% - 180px)",
    "left": "10px",
    "top": "150px",
    "width": "344.4px"
   },
   "toc_section_display": true,
   "toc_window_display": true
  }
 },
 "nbformat": 4,
 "nbformat_minor": 5
}
