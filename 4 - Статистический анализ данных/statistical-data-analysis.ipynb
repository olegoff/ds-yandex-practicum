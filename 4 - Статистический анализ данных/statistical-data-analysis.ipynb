{
 "cells": [
  {
   "cell_type": "markdown",
   "id": "f4ed45af",
   "metadata": {},
   "source": [
    "# Определение перспективного тарифа для телеком-компании"
   ]
  },
  {
   "cell_type": "markdown",
   "id": "b38865a1",
   "metadata": {},
   "source": [
    "Коммерческому департаменту необходимо понять, какой тариф лучше подходит для компании. Сравнение необходимо провести по двум тарифным планам: `«Смарт»` и `«Ультра»`. Результаты анализа будут использованы для корректировки рекламного бюджета.\n",
    "\n",
    "**Цель анализа** - на основе предоставленных данных проанализировать поведение клиентов и сделать вывод о том, какой тариф приносит больше денег компании. В ходе анализа предстоит проверить две гипотезы:\n",
    "1. Средняя выручка пользователей тарифов `«Ультра»` и `«Смарт»` различаются.\n",
    "2. Средняя выручка пользователей из Москвы отличается от выручки пользователей из других регионов.\n",
    "\n",
    "**Описание тарифов**\n",
    "\n",
    "**Тариф «Смарт»**\n",
    "\n",
    "1. Ежемесячная плата: `550` рублей.\n",
    "2. Включено `500` минут разговора, `50` сообщений и `15` Гб интернет-трафика.\n",
    "3. Стоимость услуг сверх тарифного пакета:\n",
    "    * минута разговора: `3` рубля;\n",
    "    * сообщение: `3` рубля;\n",
    "    * 1 Гб интернет-трафика: `200` рублей.\n",
    "\n",
    "**Тариф «Ультра»**\n",
    "\n",
    "1. Ежемесячная плата: `1950` рублей.\n",
    "2. Включено `3000` минут разговора, `1000` сообщений и `30` Гб интернет-трафика.\n",
    "3. Стоимость услуг сверх тарифного пакета:\n",
    "   * минута разговора: `1` рубль;\n",
    "   * сообщение: `1` рубль;\n",
    "   * 1 Гб интернет-трафика: `150` рублей.\n",
    "\n",
    "\n",
    "Анализ необходимо провести на небольшой выборке клиентов. Все предоставленные для анализа данные находятся в пяти файлах:\n",
    "* `calls.csv` - информация о звонках;\n",
    "* `internet.csv` - информация об интернет-сессиях;\n",
    "* `messages.csv` - информация о соощениях;\n",
    "* `tariffs.csv` - информация о тарифах;\n",
    "* `users.csv` - информация о пользователях.\n",
    "\n",
    "**Описание данных из предоставленных файлов**\n",
    "\n",
    "* **Таблица** **`users`** (информация о пользователях):\n",
    "    * `user_id` — уникальный идентификатор пользователя;\n",
    "    * `first_name` — имя пользователя;\n",
    "    * `last_name` — фамилия пользователя;\n",
    "    * `age` — возраст пользователя (годы);\n",
    "    * `reg_date` — дата подключения тарифа (день, месяц, год);\n",
    "    * `churn_date` — дата прекращения пользования тарифом (если значение пропущено, то тариф ещё действовал на момент выгрузки данных);\n",
    "    * `city` — город проживания пользователя;\n",
    "    * `tarif` — название тарифного плана.\n",
    "\n",
    "\n",
    "* **Таблица** **`calls`** (информация о звонках):\n",
    "    * `id` — уникальный номер звонка;\n",
    "    * `call_date` — дата звонка;\n",
    "    * `duration` — длительность звонка в минутах;\n",
    "    * `user_id` — идентификатор пользователя, сделавшего звонок.\n",
    "\n",
    "\n",
    "* **Таблица** **`messages`** (информация о сообщениях):\n",
    "    * `id` — уникальный номер сообщения;\n",
    "    * `message_date` — дата сообщения;\n",
    "    * `user_id` — идентификатор пользователя, отправившего сообщение.\n",
    "\n",
    "\n",
    "* **Таблица** **`internet`** (информация об интернет-сессиях):\n",
    "    * `id` — уникальный номер сессии;\n",
    "    * `mb_used` — объём потраченного за сессию интернет-трафика (в мегабайтах);\n",
    "    * `session_date` — дата интернет-сессии;\n",
    "    * `user_id` — идентификатор пользователя.\n",
    "\n",
    "\n",
    "* **Таблица** **`tariffs`** (информация о тарифах):\n",
    "    * `tariff_name` — название тарифа;\n",
    "    * `rub_monthly_fee` — ежемесячная абонентская плата в рублях;\n",
    "    * `minutes_included` — количество минут разговора в месяц, включённых в абонентскую плату;\n",
    "    * `messages_included` — количество сообщений в месяц, включённых в абонентскую плату;\n",
    "    * `mb_per_month_included` — объём интернет-трафика, включённого в абонентскую плату (в мегабайтах);\n",
    "    * `rub_per_minute` — стоимость минуты разговора сверх тарифного пакета (например, если в тарифе 100 минут разговора в месяц, то со 101 минуты будет взиматься плата);\n",
    "    * `rub_per_message` — стоимость отправки сообщения сверх тарифного пакета;\n",
    "    * `rub_per_gb` — стоимость дополнительного гигабайта интернет-трафика сверх тарифного пакета (1 гигабайт = 1024 мегабайта).\n",
    "\n",
    "О качестве данных ничего не известно, поэтому перед проверкой гипотез понадобится обзор данных и при необходимости их предобработка.\n",
    "\n",
    "Исследование будет проведено в пять этапов:\n",
    "1. Обзор и изучение данных.\n",
    "2. Предобработка данных, дополнительные расчёты, композиция таблиц.\n",
    "3. Анализ данных.\n",
    "4. Проверка гипотез.\n",
    "5. Формулирование выводов."
   ]
  },
  {
   "cell_type": "markdown",
   "id": "70961482",
   "metadata": {},
   "source": [
    "## Обзор и изучение данных"
   ]
  },
  {
   "cell_type": "code",
   "execution_count": 1,
   "id": "a7124af6",
   "metadata": {},
   "outputs": [],
   "source": [
    "# импорт необходимых библиотек\n",
    "import pandas as pd\n",
    "import numpy as np\n",
    "import math\n",
    "from scipy import stats as st\n",
    "import matplotlib.pyplot as plt\n",
    "\n",
    "\n",
    "# чтение файлов\n",
    "calls_df = pd.read_csv('/datasets/calls.csv')\n",
    "internet_df = pd.read_csv('/datasets/internet.csv')\n",
    "messages_df = pd.read_csv('/datasets/messages.csv')\n",
    "tariffs_df = pd.read_csv('/datasets/tariffs.csv')\n",
    "users_df = pd.read_csv('/datasets/users.csv')"
   ]
  },
  {
   "cell_type": "markdown",
   "id": "4d6c9382",
   "metadata": {},
   "source": [
    "### Обзор данных о звонках (calls_df)"
   ]
  },
  {
   "cell_type": "markdown",
   "id": "c5b79a17",
   "metadata": {},
   "source": [
    "Посмотрим на сводную информацию, общий вид данных, проверим количество пропущенных значений и наличие дубликатов в данных в таблице `calls_df`. Также проверим данные на наличие аномалий и/или ошибок."
   ]
  },
  {
   "cell_type": "code",
   "execution_count": 2,
   "id": "51435314",
   "metadata": {},
   "outputs": [
    {
     "name": "stdout",
     "output_type": "stream",
     "text": [
      "<class 'pandas.core.frame.DataFrame'>\n",
      "RangeIndex: 202607 entries, 0 to 202606\n",
      "Data columns (total 4 columns):\n",
      "id           202607 non-null object\n",
      "call_date    202607 non-null object\n",
      "duration     202607 non-null float64\n",
      "user_id      202607 non-null int64\n",
      "dtypes: float64(1), int64(1), object(2)\n",
      "memory usage: 6.2+ MB\n"
     ]
    }
   ],
   "source": [
    "# просмотр сводной информации о данных из файла calls\n",
    "calls_df.info()"
   ]
  },
  {
   "cell_type": "code",
   "execution_count": 3,
   "id": "4b3b17ed",
   "metadata": {},
   "outputs": [
    {
     "data": {
      "text/html": [
       "<div>\n",
       "<style scoped>\n",
       "    .dataframe tbody tr th:only-of-type {\n",
       "        vertical-align: middle;\n",
       "    }\n",
       "\n",
       "    .dataframe tbody tr th {\n",
       "        vertical-align: top;\n",
       "    }\n",
       "\n",
       "    .dataframe thead th {\n",
       "        text-align: right;\n",
       "    }\n",
       "</style>\n",
       "<table border=\"1\" class=\"dataframe\">\n",
       "  <thead>\n",
       "    <tr style=\"text-align: right;\">\n",
       "      <th></th>\n",
       "      <th>id</th>\n",
       "      <th>call_date</th>\n",
       "      <th>duration</th>\n",
       "      <th>user_id</th>\n",
       "    </tr>\n",
       "  </thead>\n",
       "  <tbody>\n",
       "    <tr>\n",
       "      <td>0</td>\n",
       "      <td>1000_0</td>\n",
       "      <td>2018-07-25</td>\n",
       "      <td>0.00</td>\n",
       "      <td>1000</td>\n",
       "    </tr>\n",
       "    <tr>\n",
       "      <td>1</td>\n",
       "      <td>1000_1</td>\n",
       "      <td>2018-08-17</td>\n",
       "      <td>0.00</td>\n",
       "      <td>1000</td>\n",
       "    </tr>\n",
       "    <tr>\n",
       "      <td>2</td>\n",
       "      <td>1000_2</td>\n",
       "      <td>2018-06-11</td>\n",
       "      <td>2.85</td>\n",
       "      <td>1000</td>\n",
       "    </tr>\n",
       "    <tr>\n",
       "      <td>3</td>\n",
       "      <td>1000_3</td>\n",
       "      <td>2018-09-21</td>\n",
       "      <td>13.80</td>\n",
       "      <td>1000</td>\n",
       "    </tr>\n",
       "    <tr>\n",
       "      <td>4</td>\n",
       "      <td>1000_4</td>\n",
       "      <td>2018-12-15</td>\n",
       "      <td>5.18</td>\n",
       "      <td>1000</td>\n",
       "    </tr>\n",
       "  </tbody>\n",
       "</table>\n",
       "</div>"
      ],
      "text/plain": [
       "       id   call_date  duration  user_id\n",
       "0  1000_0  2018-07-25      0.00     1000\n",
       "1  1000_1  2018-08-17      0.00     1000\n",
       "2  1000_2  2018-06-11      2.85     1000\n",
       "3  1000_3  2018-09-21     13.80     1000\n",
       "4  1000_4  2018-12-15      5.18     1000"
      ]
     },
     "metadata": {},
     "output_type": "display_data"
    }
   ],
   "source": [
    "# вывод первых строк данных из файла calls\n",
    "display(calls_df.head())"
   ]
  },
  {
   "cell_type": "code",
   "execution_count": 4,
   "id": "54ef268a",
   "metadata": {},
   "outputs": [
    {
     "data": {
      "text/html": [
       "<div>\n",
       "<style scoped>\n",
       "    .dataframe tbody tr th:only-of-type {\n",
       "        vertical-align: middle;\n",
       "    }\n",
       "\n",
       "    .dataframe tbody tr th {\n",
       "        vertical-align: top;\n",
       "    }\n",
       "\n",
       "    .dataframe thead th {\n",
       "        text-align: right;\n",
       "    }\n",
       "</style>\n",
       "<table border=\"1\" class=\"dataframe\">\n",
       "  <thead>\n",
       "    <tr style=\"text-align: right;\">\n",
       "      <th></th>\n",
       "      <th>id</th>\n",
       "      <th>call_date</th>\n",
       "      <th>duration</th>\n",
       "      <th>user_id</th>\n",
       "    </tr>\n",
       "  </thead>\n",
       "  <tbody>\n",
       "    <tr>\n",
       "      <td>202602</td>\n",
       "      <td>1499_215</td>\n",
       "      <td>2018-12-26</td>\n",
       "      <td>0.76</td>\n",
       "      <td>1499</td>\n",
       "    </tr>\n",
       "    <tr>\n",
       "      <td>202603</td>\n",
       "      <td>1499_216</td>\n",
       "      <td>2018-10-18</td>\n",
       "      <td>18.83</td>\n",
       "      <td>1499</td>\n",
       "    </tr>\n",
       "    <tr>\n",
       "      <td>202604</td>\n",
       "      <td>1499_217</td>\n",
       "      <td>2018-11-10</td>\n",
       "      <td>10.81</td>\n",
       "      <td>1499</td>\n",
       "    </tr>\n",
       "    <tr>\n",
       "      <td>202605</td>\n",
       "      <td>1499_218</td>\n",
       "      <td>2018-10-06</td>\n",
       "      <td>4.27</td>\n",
       "      <td>1499</td>\n",
       "    </tr>\n",
       "    <tr>\n",
       "      <td>202606</td>\n",
       "      <td>1499_219</td>\n",
       "      <td>2018-12-14</td>\n",
       "      <td>19.62</td>\n",
       "      <td>1499</td>\n",
       "    </tr>\n",
       "  </tbody>\n",
       "</table>\n",
       "</div>"
      ],
      "text/plain": [
       "              id   call_date  duration  user_id\n",
       "202602  1499_215  2018-12-26      0.76     1499\n",
       "202603  1499_216  2018-10-18     18.83     1499\n",
       "202604  1499_217  2018-11-10     10.81     1499\n",
       "202605  1499_218  2018-10-06      4.27     1499\n",
       "202606  1499_219  2018-12-14     19.62     1499"
      ]
     },
     "metadata": {},
     "output_type": "display_data"
    }
   ],
   "source": [
    "# вывод последних строк данных из файла calls\n",
    "display(calls_df.tail())"
   ]
  },
  {
   "cell_type": "code",
   "execution_count": 5,
   "id": "1ca4ff89",
   "metadata": {},
   "outputs": [
    {
     "data": {
      "text/plain": [
       "count    202607.000000\n",
       "mean          6.755887\n",
       "std           5.843365\n",
       "min           0.000000\n",
       "25%           1.300000\n",
       "50%           6.000000\n",
       "75%          10.700000\n",
       "max          38.000000\n",
       "Name: duration, dtype: float64"
      ]
     },
     "execution_count": 5,
     "metadata": {},
     "output_type": "execute_result"
    }
   ],
   "source": [
    "# проверка данных по длительности звонков в минутах на наличие аномалий и/или ошибок\n",
    "calls_df['duration'].describe()"
   ]
  },
  {
   "cell_type": "code",
   "execution_count": 6,
   "id": "989062d4",
   "metadata": {},
   "outputs": [
    {
     "data": {
      "text/plain": [
       "id           0\n",
       "call_date    0\n",
       "duration     0\n",
       "user_id      0\n",
       "dtype: int64"
      ]
     },
     "execution_count": 6,
     "metadata": {},
     "output_type": "execute_result"
    }
   ],
   "source": [
    "# подсчёт количества пропущенных значений в файле calls\n",
    "calls_df.isna().sum()"
   ]
  },
  {
   "cell_type": "code",
   "execution_count": 7,
   "id": "f6493cdf",
   "metadata": {},
   "outputs": [
    {
     "data": {
      "text/plain": [
       "39613"
      ]
     },
     "execution_count": 7,
     "metadata": {},
     "output_type": "execute_result"
    }
   ],
   "source": [
    "# подсчёт количества звонков нулевой длительности в файле calls\n",
    "calls_df[calls_df['duration'] == 0.0]['duration'].count()"
   ]
  },
  {
   "cell_type": "code",
   "execution_count": 8,
   "id": "fc676139",
   "metadata": {},
   "outputs": [
    {
     "data": {
      "text/plain": [
       "0.19551644316336553"
      ]
     },
     "execution_count": 8,
     "metadata": {},
     "output_type": "execute_result"
    }
   ],
   "source": [
    "# подсчёт доли звонков нулевой длительности в файле calls по отношению ко всем данным\n",
    "calls_df[calls_df['duration'] == 0.0]['duration'].count() / calls_df.shape[0]"
   ]
  },
  {
   "cell_type": "code",
   "execution_count": 9,
   "id": "c1ab1ff8",
   "metadata": {},
   "outputs": [
    {
     "data": {
      "text/plain": [
       "0"
      ]
     },
     "execution_count": 9,
     "metadata": {},
     "output_type": "execute_result"
    }
   ],
   "source": [
    "# подсчёт количества дубликатов в файле calls\n",
    "calls_df.duplicated().sum()"
   ]
  },
  {
   "cell_type": "markdown",
   "id": "52ed154d",
   "metadata": {},
   "source": [
    "* Таблица `calls_df` содержит `202607` записей. Данные соотвествуют описанию. Явных дубликатов не обнаружено. Нарушений змеиного стиля заголовков не обнаружено.\n",
    "* Тип данных, связанный с датой, соотвествует `object`. Для работы с датами более удобен формат `datetime`, к которому необходимо привести столбец `call_date`.\n",
    "* Обнаружено `19.6%` звонков с нулевой длительностью. Согласно описанию данных, это не является ошибкой, так как подобным образом обозначены пропущенные звонки.\n",
    "* Присуствует столбец `id`, содержащий записи вида `1000_0`, в которых информация, заключённая в части до нижнего подчёркивания соотвествует данным из столбца `user_id`. Так как данные дублируются, эту часть можно отбросить вместе с разделителем в виде нижнего подчёркивания. Оставшаяся часть записи после нижнего подчёркивания при этом будет соотвествовать идентификатору звонков.\n",
    "* Аномальных и/или ошибочных данных в числовых значениях по столбцу длительности звонков в минутах `duration` не обнаружено."
   ]
  },
  {
   "cell_type": "markdown",
   "id": "861fb85b",
   "metadata": {},
   "source": [
    "### Обзор данных об интернет-сессиях (internet_df)"
   ]
  },
  {
   "cell_type": "markdown",
   "id": "6a47df25",
   "metadata": {},
   "source": [
    "Посмотрим на сводную информацию, общий вид данных, проверим количество пропущенных значений и наличие дубликатов в данных в таблице `internet_df`. Также проверим данные на наличие аномалий и/или ошибок."
   ]
  },
  {
   "cell_type": "code",
   "execution_count": 10,
   "id": "d92f5cfc",
   "metadata": {},
   "outputs": [
    {
     "name": "stdout",
     "output_type": "stream",
     "text": [
      "<class 'pandas.core.frame.DataFrame'>\n",
      "RangeIndex: 149396 entries, 0 to 149395\n",
      "Data columns (total 5 columns):\n",
      "Unnamed: 0      149396 non-null int64\n",
      "id              149396 non-null object\n",
      "mb_used         149396 non-null float64\n",
      "session_date    149396 non-null object\n",
      "user_id         149396 non-null int64\n",
      "dtypes: float64(1), int64(2), object(2)\n",
      "memory usage: 5.7+ MB\n"
     ]
    }
   ],
   "source": [
    "# просмотр сводной информации о данных из файла internet\n",
    "internet_df.info()"
   ]
  },
  {
   "cell_type": "code",
   "execution_count": 11,
   "id": "a95827cc",
   "metadata": {},
   "outputs": [
    {
     "data": {
      "text/html": [
       "<div>\n",
       "<style scoped>\n",
       "    .dataframe tbody tr th:only-of-type {\n",
       "        vertical-align: middle;\n",
       "    }\n",
       "\n",
       "    .dataframe tbody tr th {\n",
       "        vertical-align: top;\n",
       "    }\n",
       "\n",
       "    .dataframe thead th {\n",
       "        text-align: right;\n",
       "    }\n",
       "</style>\n",
       "<table border=\"1\" class=\"dataframe\">\n",
       "  <thead>\n",
       "    <tr style=\"text-align: right;\">\n",
       "      <th></th>\n",
       "      <th>Unnamed: 0</th>\n",
       "      <th>id</th>\n",
       "      <th>mb_used</th>\n",
       "      <th>session_date</th>\n",
       "      <th>user_id</th>\n",
       "    </tr>\n",
       "  </thead>\n",
       "  <tbody>\n",
       "    <tr>\n",
       "      <td>0</td>\n",
       "      <td>0</td>\n",
       "      <td>1000_0</td>\n",
       "      <td>112.95</td>\n",
       "      <td>2018-11-25</td>\n",
       "      <td>1000</td>\n",
       "    </tr>\n",
       "    <tr>\n",
       "      <td>1</td>\n",
       "      <td>1</td>\n",
       "      <td>1000_1</td>\n",
       "      <td>1052.81</td>\n",
       "      <td>2018-09-07</td>\n",
       "      <td>1000</td>\n",
       "    </tr>\n",
       "    <tr>\n",
       "      <td>2</td>\n",
       "      <td>2</td>\n",
       "      <td>1000_2</td>\n",
       "      <td>1197.26</td>\n",
       "      <td>2018-06-25</td>\n",
       "      <td>1000</td>\n",
       "    </tr>\n",
       "    <tr>\n",
       "      <td>3</td>\n",
       "      <td>3</td>\n",
       "      <td>1000_3</td>\n",
       "      <td>550.27</td>\n",
       "      <td>2018-08-22</td>\n",
       "      <td>1000</td>\n",
       "    </tr>\n",
       "    <tr>\n",
       "      <td>4</td>\n",
       "      <td>4</td>\n",
       "      <td>1000_4</td>\n",
       "      <td>302.56</td>\n",
       "      <td>2018-09-24</td>\n",
       "      <td>1000</td>\n",
       "    </tr>\n",
       "  </tbody>\n",
       "</table>\n",
       "</div>"
      ],
      "text/plain": [
       "   Unnamed: 0      id  mb_used session_date  user_id\n",
       "0           0  1000_0   112.95   2018-11-25     1000\n",
       "1           1  1000_1  1052.81   2018-09-07     1000\n",
       "2           2  1000_2  1197.26   2018-06-25     1000\n",
       "3           3  1000_3   550.27   2018-08-22     1000\n",
       "4           4  1000_4   302.56   2018-09-24     1000"
      ]
     },
     "metadata": {},
     "output_type": "display_data"
    }
   ],
   "source": [
    "# вывод первых строк данных из файла internet\n",
    "display(internet_df.head())"
   ]
  },
  {
   "cell_type": "code",
   "execution_count": 12,
   "id": "d08ea154",
   "metadata": {},
   "outputs": [
    {
     "data": {
      "text/html": [
       "<div>\n",
       "<style scoped>\n",
       "    .dataframe tbody tr th:only-of-type {\n",
       "        vertical-align: middle;\n",
       "    }\n",
       "\n",
       "    .dataframe tbody tr th {\n",
       "        vertical-align: top;\n",
       "    }\n",
       "\n",
       "    .dataframe thead th {\n",
       "        text-align: right;\n",
       "    }\n",
       "</style>\n",
       "<table border=\"1\" class=\"dataframe\">\n",
       "  <thead>\n",
       "    <tr style=\"text-align: right;\">\n",
       "      <th></th>\n",
       "      <th>Unnamed: 0</th>\n",
       "      <th>id</th>\n",
       "      <th>mb_used</th>\n",
       "      <th>session_date</th>\n",
       "      <th>user_id</th>\n",
       "    </tr>\n",
       "  </thead>\n",
       "  <tbody>\n",
       "    <tr>\n",
       "      <td>149391</td>\n",
       "      <td>149391</td>\n",
       "      <td>1499_152</td>\n",
       "      <td>318.90</td>\n",
       "      <td>2018-10-03</td>\n",
       "      <td>1499</td>\n",
       "    </tr>\n",
       "    <tr>\n",
       "      <td>149392</td>\n",
       "      <td>149392</td>\n",
       "      <td>1499_153</td>\n",
       "      <td>490.13</td>\n",
       "      <td>2018-12-14</td>\n",
       "      <td>1499</td>\n",
       "    </tr>\n",
       "    <tr>\n",
       "      <td>149393</td>\n",
       "      <td>149393</td>\n",
       "      <td>1499_154</td>\n",
       "      <td>0.00</td>\n",
       "      <td>2018-10-27</td>\n",
       "      <td>1499</td>\n",
       "    </tr>\n",
       "    <tr>\n",
       "      <td>149394</td>\n",
       "      <td>149394</td>\n",
       "      <td>1499_155</td>\n",
       "      <td>1246.32</td>\n",
       "      <td>2018-11-26</td>\n",
       "      <td>1499</td>\n",
       "    </tr>\n",
       "    <tr>\n",
       "      <td>149395</td>\n",
       "      <td>149395</td>\n",
       "      <td>1499_156</td>\n",
       "      <td>544.37</td>\n",
       "      <td>2018-10-26</td>\n",
       "      <td>1499</td>\n",
       "    </tr>\n",
       "  </tbody>\n",
       "</table>\n",
       "</div>"
      ],
      "text/plain": [
       "        Unnamed: 0        id  mb_used session_date  user_id\n",
       "149391      149391  1499_152   318.90   2018-10-03     1499\n",
       "149392      149392  1499_153   490.13   2018-12-14     1499\n",
       "149393      149393  1499_154     0.00   2018-10-27     1499\n",
       "149394      149394  1499_155  1246.32   2018-11-26     1499\n",
       "149395      149395  1499_156   544.37   2018-10-26     1499"
      ]
     },
     "metadata": {},
     "output_type": "display_data"
    }
   ],
   "source": [
    "# вывод последних строк данных из файла internet\n",
    "display(internet_df.tail())"
   ]
  },
  {
   "cell_type": "code",
   "execution_count": 13,
   "id": "c3195503",
   "metadata": {},
   "outputs": [
    {
     "data": {
      "text/plain": [
       "count    149396.000000\n",
       "mean        370.192426\n",
       "std         278.300951\n",
       "min           0.000000\n",
       "25%         138.187500\n",
       "50%         348.015000\n",
       "75%         559.552500\n",
       "max        1724.830000\n",
       "Name: mb_used, dtype: float64"
      ]
     },
     "execution_count": 13,
     "metadata": {},
     "output_type": "execute_result"
    }
   ],
   "source": [
    "# проверка данных по объёму потраченного за сессию интернет-трафика (в мегабайтах) на наличие аномалий и/или ошибок\n",
    "internet_df['mb_used'].describe()"
   ]
  },
  {
   "cell_type": "code",
   "execution_count": 14,
   "id": "b92d1ef3",
   "metadata": {},
   "outputs": [
    {
     "data": {
      "text/plain": [
       "Unnamed: 0      0\n",
       "id              0\n",
       "mb_used         0\n",
       "session_date    0\n",
       "user_id         0\n",
       "dtype: int64"
      ]
     },
     "execution_count": 14,
     "metadata": {},
     "output_type": "execute_result"
    }
   ],
   "source": [
    "# подсчёт количества пропущенных значений в файле internet\n",
    "internet_df.isna().sum()"
   ]
  },
  {
   "cell_type": "code",
   "execution_count": 15,
   "id": "63d82a18",
   "metadata": {},
   "outputs": [
    {
     "data": {
      "text/plain": [
       "0"
      ]
     },
     "execution_count": 15,
     "metadata": {},
     "output_type": "execute_result"
    }
   ],
   "source": [
    "# подсчёт количества дубликатов в файле internet\n",
    "internet_df.duplicated().sum()"
   ]
  },
  {
   "cell_type": "markdown",
   "id": "350dd55a",
   "metadata": {},
   "source": [
    "* Таблица `internet_df` содержит `149396` записей. Данные соотвествуют описанию. Явных дубликатов не обнаружено. Нарушений змеиного стиля заголовков не обнаружено.\n",
    "* Тип данных, связанный с датой, соотвествует `object`. Для работы с датами более удобен формат `datetime`, к которому необходимо привести столбец `session_date`.\n",
    "* В данных обнаружен столбец `Unnamed: 0`, который получился в результате сброса индексов в исходном датафрейме. Его можно удалить.\n",
    "* Присуствует столбец `id`, содержащий записи вида `1000_0`, в которых информация, заключённая в части до нижнего подчёркивания соотвествует данным из столбца `user_id`. Так как данные дублируются, эту часть можно отбросить вместе с разделителем в виде нижнего подчёркивания. Оставшаяся часть записи после нижнего подчёркивания при этом будет соотвествовать идентификатору интернет-сессий.\n",
    "* Аномальных и/или ошибочных данных в числовых значениях по столбцу с объёмом потраченного за сессию интернет-трафика в мегабайтах `mb_used` не обнаружено."
   ]
  },
  {
   "cell_type": "markdown",
   "id": "7ddbf094",
   "metadata": {},
   "source": [
    "### Обзор данных о сообщениях (messages_df)"
   ]
  },
  {
   "cell_type": "markdown",
   "id": "e663c47a",
   "metadata": {},
   "source": [
    "Посмотрим на сводную информацию, общий вид данных, проверим количество пропущенных значений и наличие дубликатов в данных в таблице `messages_df`. Также проверим данные на наличие аномалий и/или ошибок."
   ]
  },
  {
   "cell_type": "code",
   "execution_count": 16,
   "id": "2fa25b0b",
   "metadata": {},
   "outputs": [
    {
     "name": "stdout",
     "output_type": "stream",
     "text": [
      "<class 'pandas.core.frame.DataFrame'>\n",
      "RangeIndex: 123036 entries, 0 to 123035\n",
      "Data columns (total 3 columns):\n",
      "id              123036 non-null object\n",
      "message_date    123036 non-null object\n",
      "user_id         123036 non-null int64\n",
      "dtypes: int64(1), object(2)\n",
      "memory usage: 2.8+ MB\n"
     ]
    }
   ],
   "source": [
    "# просмотр сводной информации о данных из файла messages\n",
    "messages_df.info()"
   ]
  },
  {
   "cell_type": "code",
   "execution_count": 17,
   "id": "fefef791",
   "metadata": {},
   "outputs": [
    {
     "data": {
      "text/html": [
       "<div>\n",
       "<style scoped>\n",
       "    .dataframe tbody tr th:only-of-type {\n",
       "        vertical-align: middle;\n",
       "    }\n",
       "\n",
       "    .dataframe tbody tr th {\n",
       "        vertical-align: top;\n",
       "    }\n",
       "\n",
       "    .dataframe thead th {\n",
       "        text-align: right;\n",
       "    }\n",
       "</style>\n",
       "<table border=\"1\" class=\"dataframe\">\n",
       "  <thead>\n",
       "    <tr style=\"text-align: right;\">\n",
       "      <th></th>\n",
       "      <th>id</th>\n",
       "      <th>message_date</th>\n",
       "      <th>user_id</th>\n",
       "    </tr>\n",
       "  </thead>\n",
       "  <tbody>\n",
       "    <tr>\n",
       "      <td>0</td>\n",
       "      <td>1000_0</td>\n",
       "      <td>2018-06-27</td>\n",
       "      <td>1000</td>\n",
       "    </tr>\n",
       "    <tr>\n",
       "      <td>1</td>\n",
       "      <td>1000_1</td>\n",
       "      <td>2018-10-08</td>\n",
       "      <td>1000</td>\n",
       "    </tr>\n",
       "    <tr>\n",
       "      <td>2</td>\n",
       "      <td>1000_2</td>\n",
       "      <td>2018-08-04</td>\n",
       "      <td>1000</td>\n",
       "    </tr>\n",
       "    <tr>\n",
       "      <td>3</td>\n",
       "      <td>1000_3</td>\n",
       "      <td>2018-06-16</td>\n",
       "      <td>1000</td>\n",
       "    </tr>\n",
       "    <tr>\n",
       "      <td>4</td>\n",
       "      <td>1000_4</td>\n",
       "      <td>2018-12-05</td>\n",
       "      <td>1000</td>\n",
       "    </tr>\n",
       "  </tbody>\n",
       "</table>\n",
       "</div>"
      ],
      "text/plain": [
       "       id message_date  user_id\n",
       "0  1000_0   2018-06-27     1000\n",
       "1  1000_1   2018-10-08     1000\n",
       "2  1000_2   2018-08-04     1000\n",
       "3  1000_3   2018-06-16     1000\n",
       "4  1000_4   2018-12-05     1000"
      ]
     },
     "metadata": {},
     "output_type": "display_data"
    }
   ],
   "source": [
    "# вывод первых строк данных из файла messages\n",
    "display(messages_df.head())"
   ]
  },
  {
   "cell_type": "code",
   "execution_count": 18,
   "id": "53655b34",
   "metadata": {},
   "outputs": [
    {
     "data": {
      "text/html": [
       "<div>\n",
       "<style scoped>\n",
       "    .dataframe tbody tr th:only-of-type {\n",
       "        vertical-align: middle;\n",
       "    }\n",
       "\n",
       "    .dataframe tbody tr th {\n",
       "        vertical-align: top;\n",
       "    }\n",
       "\n",
       "    .dataframe thead th {\n",
       "        text-align: right;\n",
       "    }\n",
       "</style>\n",
       "<table border=\"1\" class=\"dataframe\">\n",
       "  <thead>\n",
       "    <tr style=\"text-align: right;\">\n",
       "      <th></th>\n",
       "      <th>id</th>\n",
       "      <th>message_date</th>\n",
       "      <th>user_id</th>\n",
       "    </tr>\n",
       "  </thead>\n",
       "  <tbody>\n",
       "    <tr>\n",
       "      <td>123031</td>\n",
       "      <td>1499_179</td>\n",
       "      <td>2018-12-12</td>\n",
       "      <td>1499</td>\n",
       "    </tr>\n",
       "    <tr>\n",
       "      <td>123032</td>\n",
       "      <td>1499_180</td>\n",
       "      <td>2018-09-28</td>\n",
       "      <td>1499</td>\n",
       "    </tr>\n",
       "    <tr>\n",
       "      <td>123033</td>\n",
       "      <td>1499_181</td>\n",
       "      <td>2018-09-27</td>\n",
       "      <td>1499</td>\n",
       "    </tr>\n",
       "    <tr>\n",
       "      <td>123034</td>\n",
       "      <td>1499_182</td>\n",
       "      <td>2018-11-15</td>\n",
       "      <td>1499</td>\n",
       "    </tr>\n",
       "    <tr>\n",
       "      <td>123035</td>\n",
       "      <td>1499_183</td>\n",
       "      <td>2018-11-16</td>\n",
       "      <td>1499</td>\n",
       "    </tr>\n",
       "  </tbody>\n",
       "</table>\n",
       "</div>"
      ],
      "text/plain": [
       "              id message_date  user_id\n",
       "123031  1499_179   2018-12-12     1499\n",
       "123032  1499_180   2018-09-28     1499\n",
       "123033  1499_181   2018-09-27     1499\n",
       "123034  1499_182   2018-11-15     1499\n",
       "123035  1499_183   2018-11-16     1499"
      ]
     },
     "metadata": {},
     "output_type": "display_data"
    }
   ],
   "source": [
    "# вывод последних строк данных из файла messages\n",
    "display(messages_df.tail())"
   ]
  },
  {
   "cell_type": "code",
   "execution_count": 19,
   "id": "ef5a2d6a",
   "metadata": {},
   "outputs": [
    {
     "data": {
      "text/plain": [
       "id              0\n",
       "message_date    0\n",
       "user_id         0\n",
       "dtype: int64"
      ]
     },
     "execution_count": 19,
     "metadata": {},
     "output_type": "execute_result"
    }
   ],
   "source": [
    "# подсчёт количества пропущенных значений в файле messages\n",
    "messages_df.isna().sum()"
   ]
  },
  {
   "cell_type": "code",
   "execution_count": 20,
   "id": "d8323fe5",
   "metadata": {},
   "outputs": [
    {
     "data": {
      "text/plain": [
       "0"
      ]
     },
     "execution_count": 20,
     "metadata": {},
     "output_type": "execute_result"
    }
   ],
   "source": [
    "# подсчёт количества дубликатов в файле messages\n",
    "messages_df.duplicated().sum()"
   ]
  },
  {
   "cell_type": "markdown",
   "id": "c6b5627b",
   "metadata": {},
   "source": [
    "* Таблица `message_df` содержит `123036` записей. Данные соотвествуют описанию. Явных дубликатов не обнаружено. Нарушений змеиного стиля заголовков не обнаружено.\n",
    "* Тип данных, связанный с датой, соотвествует `object`. Для работы с датами более удобен формат `datetime`, к которому необходимо привести столбец `message_date`.\n",
    "* В данных присуствует столбец `id`, содержащий записи вида `1000_0`, в которых информация, заключённая в части до нижнего подчёркивания соотвествует данным из столбца `user_id`. Так как данные дублируются, эту часть можно отбросить вместе с разделителем в виде нижнего подчёркивания. Оставшаяся часть записи после нижнего подчёркивания при этом будет соотвествовать идентификатору сообщений."
   ]
  },
  {
   "cell_type": "markdown",
   "id": "e29a43a5",
   "metadata": {},
   "source": [
    "### Обзор данных о тарифах (tariffs_df)"
   ]
  },
  {
   "cell_type": "markdown",
   "id": "803b7a56",
   "metadata": {},
   "source": [
    "Посмотрим на сводную информацию и общий вид данных в таблице `tariffs_df`."
   ]
  },
  {
   "cell_type": "code",
   "execution_count": 21,
   "id": "b0cca8a1",
   "metadata": {},
   "outputs": [
    {
     "name": "stdout",
     "output_type": "stream",
     "text": [
      "<class 'pandas.core.frame.DataFrame'>\n",
      "RangeIndex: 2 entries, 0 to 1\n",
      "Data columns (total 8 columns):\n",
      "messages_included        2 non-null int64\n",
      "mb_per_month_included    2 non-null int64\n",
      "minutes_included         2 non-null int64\n",
      "rub_monthly_fee          2 non-null int64\n",
      "rub_per_gb               2 non-null int64\n",
      "rub_per_message          2 non-null int64\n",
      "rub_per_minute           2 non-null int64\n",
      "tariff_name              2 non-null object\n",
      "dtypes: int64(7), object(1)\n",
      "memory usage: 256.0+ bytes\n"
     ]
    }
   ],
   "source": [
    "# просмотр сводной информации о данных из файла tariffs\n",
    "tariffs_df.info()"
   ]
  },
  {
   "cell_type": "code",
   "execution_count": 22,
   "id": "c973873d",
   "metadata": {},
   "outputs": [
    {
     "data": {
      "text/html": [
       "<div>\n",
       "<style scoped>\n",
       "    .dataframe tbody tr th:only-of-type {\n",
       "        vertical-align: middle;\n",
       "    }\n",
       "\n",
       "    .dataframe tbody tr th {\n",
       "        vertical-align: top;\n",
       "    }\n",
       "\n",
       "    .dataframe thead th {\n",
       "        text-align: right;\n",
       "    }\n",
       "</style>\n",
       "<table border=\"1\" class=\"dataframe\">\n",
       "  <thead>\n",
       "    <tr style=\"text-align: right;\">\n",
       "      <th></th>\n",
       "      <th>messages_included</th>\n",
       "      <th>mb_per_month_included</th>\n",
       "      <th>minutes_included</th>\n",
       "      <th>rub_monthly_fee</th>\n",
       "      <th>rub_per_gb</th>\n",
       "      <th>rub_per_message</th>\n",
       "      <th>rub_per_minute</th>\n",
       "      <th>tariff_name</th>\n",
       "    </tr>\n",
       "  </thead>\n",
       "  <tbody>\n",
       "    <tr>\n",
       "      <td>0</td>\n",
       "      <td>50</td>\n",
       "      <td>15360</td>\n",
       "      <td>500</td>\n",
       "      <td>550</td>\n",
       "      <td>200</td>\n",
       "      <td>3</td>\n",
       "      <td>3</td>\n",
       "      <td>smart</td>\n",
       "    </tr>\n",
       "    <tr>\n",
       "      <td>1</td>\n",
       "      <td>1000</td>\n",
       "      <td>30720</td>\n",
       "      <td>3000</td>\n",
       "      <td>1950</td>\n",
       "      <td>150</td>\n",
       "      <td>1</td>\n",
       "      <td>1</td>\n",
       "      <td>ultra</td>\n",
       "    </tr>\n",
       "  </tbody>\n",
       "</table>\n",
       "</div>"
      ],
      "text/plain": [
       "   messages_included  mb_per_month_included  minutes_included  \\\n",
       "0                 50                  15360               500   \n",
       "1               1000                  30720              3000   \n",
       "\n",
       "   rub_monthly_fee  rub_per_gb  rub_per_message  rub_per_minute tariff_name  \n",
       "0              550         200                3               3       smart  \n",
       "1             1950         150                1               1       ultra  "
      ]
     },
     "metadata": {},
     "output_type": "display_data"
    }
   ],
   "source": [
    "# вывод первых строк данных из файла tariffs\n",
    "display(tariffs_df.head())"
   ]
  },
  {
   "cell_type": "code",
   "execution_count": 23,
   "id": "280b4654",
   "metadata": {},
   "outputs": [
    {
     "data": {
      "text/plain": [
       "messages_included        0\n",
       "mb_per_month_included    0\n",
       "minutes_included         0\n",
       "rub_monthly_fee          0\n",
       "rub_per_gb               0\n",
       "rub_per_message          0\n",
       "rub_per_minute           0\n",
       "tariff_name              0\n",
       "dtype: int64"
      ]
     },
     "execution_count": 23,
     "metadata": {},
     "output_type": "execute_result"
    }
   ],
   "source": [
    "# подсчёт количества пропущенных значений в файле tariffs\n",
    "tariffs_df.isna().sum()"
   ]
  },
  {
   "cell_type": "code",
   "execution_count": 24,
   "id": "352b57cb",
   "metadata": {},
   "outputs": [
    {
     "data": {
      "text/plain": [
       "0"
      ]
     },
     "execution_count": 24,
     "metadata": {},
     "output_type": "execute_result"
    }
   ],
   "source": [
    "# подсчёт количества дубликатов в файле tariffs\n",
    "tariffs_df.duplicated().sum()"
   ]
  },
  {
   "cell_type": "markdown",
   "id": "3b69b73c",
   "metadata": {},
   "source": [
    "* Таблица `tariffs_df` содержит `2` записи и по своей сути представляет собой словарь с описанием различных параметров тарифов. Данные соотвествуют описанию. Нарушений змеиного стиля заголовков не обнаружено.\n",
    "* Согласно таблице тарифу `smart` присвоен индекс `0`, а тарифу `ultra` индекс `1`."
   ]
  },
  {
   "cell_type": "markdown",
   "id": "438770c2",
   "metadata": {},
   "source": [
    "### Обзор данных о пользователях (users_df)"
   ]
  },
  {
   "cell_type": "markdown",
   "id": "298d349d",
   "metadata": {},
   "source": [
    "Посмотрим на сводную информацию, общий вид данных, проверим количество пропущенных значений и наличие дубликатов в данных в таблице `users_df`. Также проверим данные на наличие аномалий и/или ошибок."
   ]
  },
  {
   "cell_type": "code",
   "execution_count": 25,
   "id": "f279ffde",
   "metadata": {},
   "outputs": [
    {
     "name": "stdout",
     "output_type": "stream",
     "text": [
      "<class 'pandas.core.frame.DataFrame'>\n",
      "RangeIndex: 500 entries, 0 to 499\n",
      "Data columns (total 8 columns):\n",
      "user_id       500 non-null int64\n",
      "age           500 non-null int64\n",
      "churn_date    38 non-null object\n",
      "city          500 non-null object\n",
      "first_name    500 non-null object\n",
      "last_name     500 non-null object\n",
      "reg_date      500 non-null object\n",
      "tariff        500 non-null object\n",
      "dtypes: int64(2), object(6)\n",
      "memory usage: 31.4+ KB\n"
     ]
    }
   ],
   "source": [
    "# просмотр сводной информации о данных из файла users\n",
    "users_df.info()"
   ]
  },
  {
   "cell_type": "code",
   "execution_count": 26,
   "id": "d979928d",
   "metadata": {},
   "outputs": [
    {
     "data": {
      "text/html": [
       "<div>\n",
       "<style scoped>\n",
       "    .dataframe tbody tr th:only-of-type {\n",
       "        vertical-align: middle;\n",
       "    }\n",
       "\n",
       "    .dataframe tbody tr th {\n",
       "        vertical-align: top;\n",
       "    }\n",
       "\n",
       "    .dataframe thead th {\n",
       "        text-align: right;\n",
       "    }\n",
       "</style>\n",
       "<table border=\"1\" class=\"dataframe\">\n",
       "  <thead>\n",
       "    <tr style=\"text-align: right;\">\n",
       "      <th></th>\n",
       "      <th>user_id</th>\n",
       "      <th>age</th>\n",
       "      <th>churn_date</th>\n",
       "      <th>city</th>\n",
       "      <th>first_name</th>\n",
       "      <th>last_name</th>\n",
       "      <th>reg_date</th>\n",
       "      <th>tariff</th>\n",
       "    </tr>\n",
       "  </thead>\n",
       "  <tbody>\n",
       "    <tr>\n",
       "      <td>0</td>\n",
       "      <td>1000</td>\n",
       "      <td>52</td>\n",
       "      <td>NaN</td>\n",
       "      <td>Краснодар</td>\n",
       "      <td>Рафаил</td>\n",
       "      <td>Верещагин</td>\n",
       "      <td>2018-05-25</td>\n",
       "      <td>ultra</td>\n",
       "    </tr>\n",
       "    <tr>\n",
       "      <td>1</td>\n",
       "      <td>1001</td>\n",
       "      <td>41</td>\n",
       "      <td>NaN</td>\n",
       "      <td>Москва</td>\n",
       "      <td>Иван</td>\n",
       "      <td>Ежов</td>\n",
       "      <td>2018-11-01</td>\n",
       "      <td>smart</td>\n",
       "    </tr>\n",
       "    <tr>\n",
       "      <td>2</td>\n",
       "      <td>1002</td>\n",
       "      <td>59</td>\n",
       "      <td>NaN</td>\n",
       "      <td>Стерлитамак</td>\n",
       "      <td>Евгений</td>\n",
       "      <td>Абрамович</td>\n",
       "      <td>2018-06-17</td>\n",
       "      <td>smart</td>\n",
       "    </tr>\n",
       "    <tr>\n",
       "      <td>3</td>\n",
       "      <td>1003</td>\n",
       "      <td>23</td>\n",
       "      <td>NaN</td>\n",
       "      <td>Москва</td>\n",
       "      <td>Белла</td>\n",
       "      <td>Белякова</td>\n",
       "      <td>2018-08-17</td>\n",
       "      <td>ultra</td>\n",
       "    </tr>\n",
       "    <tr>\n",
       "      <td>4</td>\n",
       "      <td>1004</td>\n",
       "      <td>68</td>\n",
       "      <td>NaN</td>\n",
       "      <td>Новокузнецк</td>\n",
       "      <td>Татьяна</td>\n",
       "      <td>Авдеенко</td>\n",
       "      <td>2018-05-14</td>\n",
       "      <td>ultra</td>\n",
       "    </tr>\n",
       "  </tbody>\n",
       "</table>\n",
       "</div>"
      ],
      "text/plain": [
       "   user_id  age churn_date         city first_name  last_name    reg_date  \\\n",
       "0     1000   52        NaN    Краснодар     Рафаил  Верещагин  2018-05-25   \n",
       "1     1001   41        NaN       Москва       Иван       Ежов  2018-11-01   \n",
       "2     1002   59        NaN  Стерлитамак    Евгений  Абрамович  2018-06-17   \n",
       "3     1003   23        NaN       Москва      Белла   Белякова  2018-08-17   \n",
       "4     1004   68        NaN  Новокузнецк    Татьяна   Авдеенко  2018-05-14   \n",
       "\n",
       "  tariff  \n",
       "0  ultra  \n",
       "1  smart  \n",
       "2  smart  \n",
       "3  ultra  \n",
       "4  ultra  "
      ]
     },
     "metadata": {},
     "output_type": "display_data"
    }
   ],
   "source": [
    "# вывод первых строк данных из файла users\n",
    "display(users_df.head())"
   ]
  },
  {
   "cell_type": "code",
   "execution_count": 27,
   "id": "82985210",
   "metadata": {},
   "outputs": [
    {
     "data": {
      "text/plain": [
       "count    500.00000\n",
       "mean      46.58800\n",
       "std       16.66763\n",
       "min       18.00000\n",
       "25%       32.00000\n",
       "50%       46.00000\n",
       "75%       62.00000\n",
       "max       75.00000\n",
       "Name: age, dtype: float64"
      ]
     },
     "execution_count": 27,
     "metadata": {},
     "output_type": "execute_result"
    }
   ],
   "source": [
    "# проверка данных по возрасту на наличие аномалий и/или ошибок\n",
    "users_df['age'].describe()"
   ]
  },
  {
   "cell_type": "code",
   "execution_count": 28,
   "id": "545670fa",
   "metadata": {},
   "outputs": [
    {
     "data": {
      "text/plain": [
       "user_id         0\n",
       "age             0\n",
       "churn_date    462\n",
       "city            0\n",
       "first_name      0\n",
       "last_name       0\n",
       "reg_date        0\n",
       "tariff          0\n",
       "dtype: int64"
      ]
     },
     "execution_count": 28,
     "metadata": {},
     "output_type": "execute_result"
    }
   ],
   "source": [
    "# подсчёт количества пропущенных значений в файле users\n",
    "users_df.isna().sum()"
   ]
  },
  {
   "cell_type": "code",
   "execution_count": 29,
   "id": "5f10b7d8",
   "metadata": {},
   "outputs": [
    {
     "data": {
      "text/plain": [
       "user_id       0.000\n",
       "age           0.000\n",
       "churn_date    0.924\n",
       "city          0.000\n",
       "first_name    0.000\n",
       "last_name     0.000\n",
       "reg_date      0.000\n",
       "tariff        0.000\n",
       "dtype: float64"
      ]
     },
     "execution_count": 29,
     "metadata": {},
     "output_type": "execute_result"
    }
   ],
   "source": [
    "# подсчёт доли пропущенных значений в файле users по отношению ко всем данным\n",
    "users_df.isna().sum() / users_df.shape[0]"
   ]
  },
  {
   "cell_type": "code",
   "execution_count": 30,
   "id": "fc168e97",
   "metadata": {},
   "outputs": [
    {
     "data": {
      "text/plain": [
       "0"
      ]
     },
     "execution_count": 30,
     "metadata": {},
     "output_type": "execute_result"
    }
   ],
   "source": [
    "# подсчёт количества дубликатов в файле users\n",
    "users_df.duplicated().sum()"
   ]
  },
  {
   "cell_type": "markdown",
   "id": "10c22e1e",
   "metadata": {},
   "source": [
    "* Таблица `users_df` содержит `500` записей. Данные соотвествуют описанию. Явных дубликатов не обнаружено. Нарушений змеиного стиля заголовков не обнаружено.\n",
    "* Тип данных, связанный с датой, соотвествует `object`. Для работы с датами более удобен формат `datetime`, к которому необходимо привести столбцы `churn_date` и `reg_date`.\n",
    "* В столбце `churn_date` обнаружено `92.4%` пропусков с информацией о дате прекращения пользования тарифом, что означает то, что для большей части пользователей тариф ещё действовал на момент выгрузки данных.\n",
    "* Строковые значения `smart` и `ultra` по столбцу `tariff` для удобства следует заменить на `0` и `1`, в соотвествии с индексами тарифов из таблицы `tariffs_df`.\n",
    "* Аномальных и/или ошибочных данных в числовых значениях по столбцу с возрастом клиентов `age` не обнаружено."
   ]
  },
  {
   "cell_type": "markdown",
   "id": "4ee5305d",
   "metadata": {},
   "source": [
    "### Выводы по обзору данных"
   ]
  },
  {
   "cell_type": "markdown",
   "id": "17de254c",
   "metadata": {},
   "source": [
    "* Данные успешно загружены из предоставленных для анализа файлов. Данные соотвествуют предоставленному описанию и не имеют явных дубликатов.\n",
    "* Изучена общая информация о таблицах, определены направления для преобразования данных перед их анализом.\n",
    "* В процессе предобработки данных необходимо провести их дополнительное исследование для поиска скрытых проблем или ошибок, которые не были выявлены на этапе общего обзора и изучения данных."
   ]
  },
  {
   "cell_type": "markdown",
   "id": "211c321b",
   "metadata": {},
   "source": [
    "## Предобработка данных, дополнительные расчёты, композиция таблиц"
   ]
  },
  {
   "cell_type": "markdown",
   "id": "58b9160d",
   "metadata": {},
   "source": [
    "Произведём необходимые исправления в данных и устранение выявленных по результатам общего обзора проблем."
   ]
  },
  {
   "cell_type": "markdown",
   "id": "cfeaf2bc",
   "metadata": {},
   "source": [
    "### Предобработка данных о звонках (calls_df)"
   ]
  },
  {
   "cell_type": "markdown",
   "id": "13ee4382",
   "metadata": {},
   "source": [
    "В таблице `calls_df` дату звонка `call_date` приведём к типу `datetime`, чтобы иметь возможность в дальнейшем использовать встроенные в *pandas* методы для работы с датами."
   ]
  },
  {
   "cell_type": "code",
   "execution_count": 31,
   "id": "408cc216",
   "metadata": {},
   "outputs": [],
   "source": [
    "# преобразование типа данных в столбце call_date таблицы calls_df к типу данных datetime\n",
    "calls_df['call_date'] = pd.to_datetime(calls_df['call_date'], format='%Y-%m-%d')"
   ]
  },
  {
   "cell_type": "markdown",
   "id": "48c6e601",
   "metadata": {},
   "source": [
    "Обработаем записи в столбце `id`, создав для этого вспомогательную функцию `string_id_mod`."
   ]
  },
  {
   "cell_type": "code",
   "execution_count": 32,
   "id": "727b0645",
   "metadata": {},
   "outputs": [],
   "source": [
    "# вспомогательная функция для удаления лишних данных в строковых значениях столбца id\n",
    "def string_id_mod(row):\n",
    "    \"\"\"\n",
    "    input: row - строка из датафрейма\n",
    "    ouput: (object) - обработанная по столбцу `id` строка\n",
    "    Функция принимает на вход строки с данными из датафрейма,\n",
    "    получает данные в виде строк из стобца `id` вида `XXXX_X` и возвращает строку, в которой отброшено всё,\n",
    "    что находится до нижнего подчёркивания, включая само нижнее подчёркивание.\n",
    "    \"\"\"\n",
    "    string_id = row['id']\n",
    "    return string_id[string_id.find('_') + 1:]"
   ]
  },
  {
   "cell_type": "code",
   "execution_count": 33,
   "id": "a08c7b3a",
   "metadata": {},
   "outputs": [],
   "source": [
    "# обработка строк в столбце id с помощью вспомогательной функции string_id_mod\n",
    "calls_df['id'] = calls_df.apply(string_id_mod, axis=1)\n",
    "\n",
    "# переименование столбца id в calls_id\n",
    "calls_df = calls_df.rename(columns={'id': 'calls_id'})\n",
    "\n",
    "# преобразование типа данных в столбце calls_id к целочисленному типу\n",
    "calls_df['calls_id'] = calls_df['calls_id'].astype('int64')"
   ]
  },
  {
   "cell_type": "markdown",
   "id": "7ffcde0c",
   "metadata": {},
   "source": [
    "Проверим за какой период представлены данные в таблице `calls_df`."
   ]
  },
  {
   "cell_type": "code",
   "execution_count": 34,
   "id": "df1b8a33",
   "metadata": {},
   "outputs": [
    {
     "data": {
      "text/plain": [
       "(Timestamp('2018-01-01 00:00:00'), Timestamp('2018-12-31 00:00:00'))"
      ]
     },
     "execution_count": 34,
     "metadata": {},
     "output_type": "execute_result"
    }
   ],
   "source": [
    "# просмотр минимального и максимального значений даты в таблице calls_df\n",
    "calls_df['call_date'].min(), calls_df['call_date'].max()"
   ]
  },
  {
   "cell_type": "markdown",
   "id": "7e95b0a2",
   "metadata": {},
   "source": [
    "Данные в таблице `calls_df` представлены за календарный год с `1 января 2018 года` по `31 декабря 2018 года`. С учётом того, что данные представлены за календарный год, логичным шагом будет визуализация распределения количества звонков по месяцам."
   ]
  },
  {
   "cell_type": "code",
   "execution_count": 35,
   "id": "6e82ea61",
   "metadata": {},
   "outputs": [
    {
     "data": {
      "image/png": "[encoded data removed]",
      "text/plain": [
       "<Figure size 432x288 with 1 Axes>"
      ]
     },
     "metadata": {
      "needs_background": "light"
     },
     "output_type": "display_data"
    }
   ],
   "source": [
    "# вывод графика распределения количества звонков по месяцам\n",
    "(\n",
    "    calls_df['call_date'].dt.month\n",
    "    .plot(kind='hist', bins=12, title='Распределение количества звонков по месяцам', grid=True)\n",
    ");"
   ]
  },
  {
   "cell_type": "markdown",
   "id": "09bac3cc",
   "metadata": {},
   "source": [
    "Также посмотрим на распределение суммарной продолжительности звонков по месяцам. Для этого добавим к таблице новый столбец `month_call` с номером месяца, в котором состоялся звонок."
   ]
  },
  {
   "cell_type": "code",
   "execution_count": 36,
   "id": "49c64ede",
   "metadata": {},
   "outputs": [],
   "source": [
    "# добавление колонки month_call с номером месяца, в котором состоялся звонок, к исходной таблице\n",
    "calls_df['month_call'] = calls_df['call_date'].dt.month"
   ]
  },
  {
   "cell_type": "markdown",
   "id": "f95fb80b",
   "metadata": {},
   "source": [
    "После добавления можно построить график распределения суммарной продолжительности звонков по месяцам."
   ]
  },
  {
   "cell_type": "code",
   "execution_count": 37,
   "id": "9a4dff9b",
   "metadata": {},
   "outputs": [
    {
     "data": {
      "image/png": "[encoded data removed]",
      "text/plain": [
       "<Figure size 432x288 with 1 Axes>"
      ]
     },
     "metadata": {
      "needs_background": "light"
     },
     "output_type": "display_data"
    }
   ],
   "source": [
    "# вывод графика распределения суммарной продолжительности звонков по месяцам\n",
    "(\n",
    "    calls_df.groupby('month_call')\n",
    "    .agg({'duration':'sum'})\n",
    "    .reset_index()[['month_call', 'duration']]\n",
    "    .plot(kind='bar', x='month_call', y='duration', rot=360,\n",
    "          title='Распределение суммарной продолжительности звонков по месяцам')\n",
    ");"
   ]
  },
  {
   "cell_type": "markdown",
   "id": "170bf367",
   "metadata": {},
   "source": [
    "Определим общее количество пропущенных звонков в имеющейся выборке."
   ]
  },
  {
   "cell_type": "code",
   "execution_count": 38,
   "id": "08fc5a9e",
   "metadata": {},
   "outputs": [
    {
     "name": "stdout",
     "output_type": "stream",
     "text": [
      "Количество пропущенных звонков в выборке: 39613\n"
     ]
    }
   ],
   "source": [
    "print('Количество пропущенных звонков в выборке:', calls_df[calls_df['duration'] == 0].shape[0])"
   ]
  },
  {
   "cell_type": "markdown",
   "id": "2f68bbe6",
   "metadata": {},
   "source": [
    "Построим график распределения продолжительности всех звонков, за исключением пропущенных."
   ]
  },
  {
   "cell_type": "code",
   "execution_count": 39,
   "id": "f39c9572",
   "metadata": {},
   "outputs": [
    {
     "data": {
      "image/png": "[encoded data removed]",
      "text/plain": [
       "<Figure size 432x288 with 1 Axes>"
      ]
     },
     "metadata": {
      "needs_background": "light"
     },
     "output_type": "display_data"
    }
   ],
   "source": [
    "# вывод графика распределения продолжительности звонков\n",
    "(\n",
    "    calls_df[calls_df['duration'] != 0]['duration']\n",
    "    .plot(kind='hist', bins=50, grid=True, title='Распределение продолжительности звонков')\n",
    ");"
   ]
  },
  {
   "cell_type": "markdown",
   "id": "512cf56d",
   "metadata": {},
   "source": [
    "Преобразуем столбец с длительностью звонков `duration` путём округления в большую сторону и преобразованием данных к целочисленному типу."
   ]
  },
  {
   "cell_type": "code",
   "execution_count": 40,
   "id": "a3136d05",
   "metadata": {},
   "outputs": [],
   "source": [
    "# округление данных о продолжительности звонков в большую сторону и приведение их к целочисленному типу\n",
    "calls_df['duration'] = calls_df['duration'].apply(np.ceil).astype('int64')"
   ]
  },
  {
   "cell_type": "markdown",
   "id": "38a47619",
   "metadata": {},
   "source": [
    "В завершении предобработки данных таблицы `call_df` посмотрим на основные описательные статистики."
   ]
  },
  {
   "cell_type": "code",
   "execution_count": 41,
   "id": "f1364e15",
   "metadata": {},
   "outputs": [
    {
     "data": {
      "text/html": [
       "<div>\n",
       "<style scoped>\n",
       "    .dataframe tbody tr th:only-of-type {\n",
       "        vertical-align: middle;\n",
       "    }\n",
       "\n",
       "    .dataframe tbody tr th {\n",
       "        vertical-align: top;\n",
       "    }\n",
       "\n",
       "    .dataframe thead th {\n",
       "        text-align: right;\n",
       "    }\n",
       "</style>\n",
       "<table border=\"1\" class=\"dataframe\">\n",
       "  <thead>\n",
       "    <tr style=\"text-align: right;\">\n",
       "      <th></th>\n",
       "      <th>calls_id</th>\n",
       "      <th>duration</th>\n",
       "      <th>user_id</th>\n",
       "      <th>month_call</th>\n",
       "    </tr>\n",
       "  </thead>\n",
       "  <tbody>\n",
       "    <tr>\n",
       "      <td>count</td>\n",
       "      <td>202607.000000</td>\n",
       "      <td>202607.000000</td>\n",
       "      <td>202607.000000</td>\n",
       "      <td>202607.000000</td>\n",
       "    </tr>\n",
       "    <tr>\n",
       "      <td>mean</td>\n",
       "      <td>308.577181</td>\n",
       "      <td>7.158198</td>\n",
       "      <td>1253.940619</td>\n",
       "      <td>8.574067</td>\n",
       "    </tr>\n",
       "    <tr>\n",
       "      <td>std</td>\n",
       "      <td>259.948786</td>\n",
       "      <td>5.959173</td>\n",
       "      <td>144.722751</td>\n",
       "      <td>2.787093</td>\n",
       "    </tr>\n",
       "    <tr>\n",
       "      <td>min</td>\n",
       "      <td>0.000000</td>\n",
       "      <td>0.000000</td>\n",
       "      <td>1000.000000</td>\n",
       "      <td>1.000000</td>\n",
       "    </tr>\n",
       "    <tr>\n",
       "      <td>25%</td>\n",
       "      <td>108.000000</td>\n",
       "      <td>2.000000</td>\n",
       "      <td>1126.000000</td>\n",
       "      <td>7.000000</td>\n",
       "    </tr>\n",
       "    <tr>\n",
       "      <td>50%</td>\n",
       "      <td>243.000000</td>\n",
       "      <td>6.000000</td>\n",
       "      <td>1260.000000</td>\n",
       "      <td>9.000000</td>\n",
       "    </tr>\n",
       "    <tr>\n",
       "      <td>75%</td>\n",
       "      <td>446.000000</td>\n",
       "      <td>11.000000</td>\n",
       "      <td>1379.000000</td>\n",
       "      <td>11.000000</td>\n",
       "    </tr>\n",
       "    <tr>\n",
       "      <td>max</td>\n",
       "      <td>1759.000000</td>\n",
       "      <td>38.000000</td>\n",
       "      <td>1499.000000</td>\n",
       "      <td>12.000000</td>\n",
       "    </tr>\n",
       "  </tbody>\n",
       "</table>\n",
       "</div>"
      ],
      "text/plain": [
       "            calls_id       duration        user_id     month_call\n",
       "count  202607.000000  202607.000000  202607.000000  202607.000000\n",
       "mean      308.577181       7.158198    1253.940619       8.574067\n",
       "std       259.948786       5.959173     144.722751       2.787093\n",
       "min         0.000000       0.000000    1000.000000       1.000000\n",
       "25%       108.000000       2.000000    1126.000000       7.000000\n",
       "50%       243.000000       6.000000    1260.000000       9.000000\n",
       "75%       446.000000      11.000000    1379.000000      11.000000\n",
       "max      1759.000000      38.000000    1499.000000      12.000000"
      ]
     },
     "execution_count": 41,
     "metadata": {},
     "output_type": "execute_result"
    }
   ],
   "source": [
    "# вызов метода describe для просмотра описательных статистик данных в таблице calls_df\n",
    "calls_df.describe()"
   ]
  },
  {
   "cell_type": "markdown",
   "id": "9003117a",
   "metadata": {},
   "source": [
    "* Данные в таблице `calls_df` с информацией о звонках представлены за период полного календарного `2018` года.\n",
    "* Количество звонков по месяцам, а также их общая продолжительность растёт линейно на протяжении всего наблюдаемого периода. Расхождений нет.\n",
    "* Распределение продолжительности звонков близко к распределению Пуассона. Данные скошены вправо. Среднее значение `6.8` немного больше медианного, равного `6.0`.\n",
    "* Аномальных и/или ошибочных значений в данных не обнаружено."
   ]
  },
  {
   "cell_type": "markdown",
   "id": "6c081e27",
   "metadata": {},
   "source": [
    "### Предобработка данных об интернет-сессиях (internet_df)"
   ]
  },
  {
   "cell_type": "markdown",
   "id": "f0ff1aea",
   "metadata": {},
   "source": [
    "В таблице `internet_df` дату интернет-сессий `session_date` приведём к типу `datetime`, чтобы иметь возможность в дальнейшем использовать встроенные в *pandas* методы для работы с датами."
   ]
  },
  {
   "cell_type": "code",
   "execution_count": 42,
   "id": "696b362d",
   "metadata": {},
   "outputs": [],
   "source": [
    "# преобразование типа данных в столбце session_date таблицы internet_df к типу данных datetime\n",
    "internet_df['session_date'] = pd.to_datetime(internet_df['session_date'], format='%Y-%m-%d')"
   ]
  },
  {
   "cell_type": "markdown",
   "id": "653dfb68",
   "metadata": {},
   "source": [
    "Удалим столбец `Unnamed: 0`, образовавшийся после сброса индексов в таблице."
   ]
  },
  {
   "cell_type": "code",
   "execution_count": 43,
   "id": "8e23840a",
   "metadata": {},
   "outputs": [],
   "source": [
    "# удаление столбца Unnamed: 0\n",
    "internet_df = internet_df.drop(['Unnamed: 0'], axis=1)"
   ]
  },
  {
   "cell_type": "markdown",
   "id": "04fdb4bb",
   "metadata": {},
   "source": [
    "Обработаем записи в столбце `id`, отбросив в записях всё, что находится до нижнего подчёркивания, включая его самого."
   ]
  },
  {
   "cell_type": "code",
   "execution_count": 44,
   "id": "f40d3b09",
   "metadata": {},
   "outputs": [],
   "source": [
    "# обработка строк в столбце id с помощью вспомогательной функции string_id_mod\n",
    "internet_df['id'] = internet_df.apply(string_id_mod, axis=1)\n",
    "\n",
    "# переименование столбца id в calls_id\n",
    "internet_df = internet_df.rename(columns={'id': 'internet_session_id'})\n",
    "\n",
    "# преобразование типа данных в столбце calls_id к целочисленному типу\n",
    "internet_df['internet_session_id'] = internet_df['internet_session_id'].astype('int64')"
   ]
  },
  {
   "cell_type": "markdown",
   "id": "142f482a",
   "metadata": {},
   "source": [
    "Проверим за какой период представлены данные в таблице `internet_df`."
   ]
  },
  {
   "cell_type": "code",
   "execution_count": 45,
   "id": "786c4196",
   "metadata": {},
   "outputs": [
    {
     "data": {
      "text/plain": [
       "(Timestamp('2018-01-01 00:00:00'), Timestamp('2018-12-31 00:00:00'))"
      ]
     },
     "execution_count": 45,
     "metadata": {},
     "output_type": "execute_result"
    }
   ],
   "source": [
    "# просмотр минимального и максимального значений даты в таблице internet_df\n",
    "internet_df['session_date'].min(), internet_df['session_date'].max()"
   ]
  },
  {
   "cell_type": "markdown",
   "id": "40348287",
   "metadata": {},
   "source": [
    "Данные в таблице `internet_df` представлены за календарный год с `1 января 2018 года` по `31 декабря 2018 года`. С учётом того, что данные представлены за календарный год, логичным шагом будет визуализация распределения объёма потраченного интернет-трафика по месяцам."
   ]
  },
  {
   "cell_type": "code",
   "execution_count": 46,
   "id": "d2122988",
   "metadata": {},
   "outputs": [
    {
     "data": {
      "image/png": "[encoded data removed]",
      "text/plain": [
       "<Figure size 432x288 with 1 Axes>"
      ]
     },
     "metadata": {
      "needs_background": "light"
     },
     "output_type": "display_data"
    }
   ],
   "source": [
    "# вывод графика распределения потраченного интернет-трафика по месяцам\n",
    "(\n",
    "    internet_df['session_date'].dt.month\n",
    "    .plot(kind='hist', bins=12, title='Распределение потраченного интернет-трафика по месяцам', grid=True)\n",
    ");"
   ]
  },
  {
   "cell_type": "markdown",
   "id": "64a75193",
   "metadata": {},
   "source": [
    "Также посмотрим на распределение суммарного количества потраченного интернет-трафика по месяцам. Для этого добавим к таблице новый столбец `month_session` с номером месяца, в котором была открыта сессия."
   ]
  },
  {
   "cell_type": "code",
   "execution_count": 47,
   "id": "6b351770",
   "metadata": {},
   "outputs": [],
   "source": [
    "# добавление колонки month_session с номером месяца, в котором состоялась интернет-сессия, к исходной таблице\n",
    "internet_df['month_session'] = internet_df['session_date'].dt.month"
   ]
  },
  {
   "cell_type": "markdown",
   "id": "7d238cb7",
   "metadata": {},
   "source": [
    "После добавления можно построить график распределения суммарного количества израсходованного трафика интернет-сессий по месяцам."
   ]
  },
  {
   "cell_type": "code",
   "execution_count": 48,
   "id": "e212258f",
   "metadata": {},
   "outputs": [
    {
     "data": {
      "image/png": "[encoded data removed]",
      "text/plain": [
       "<Figure size 432x288 with 1 Axes>"
      ]
     },
     "metadata": {
      "needs_background": "light"
     },
     "output_type": "display_data"
    }
   ],
   "source": [
    "# вывод графика распределения суммарного количества израсходованного трафика интернет-сессий по месяцам\n",
    "(\n",
    "    internet_df.groupby('month_session')\n",
    "    .agg({'mb_used':'sum'})\n",
    "    .reset_index()[['month_session', 'mb_used']]\n",
    "    .plot(kind='bar', x='month_session', y='mb_used', rot=360,\n",
    "          title=\"\"\"Распределение суммарного количества израсходованного\n",
    "          трафика интернет-сессий по месяцам\"\"\")\n",
    ");"
   ]
  },
  {
   "cell_type": "markdown",
   "id": "47d626a4",
   "metadata": {},
   "source": [
    "Определим общее количество интернет-сессий с нулевым значением израсходованного интернет-трафика."
   ]
  },
  {
   "cell_type": "code",
   "execution_count": 49,
   "id": "e27b2475",
   "metadata": {},
   "outputs": [
    {
     "name": "stdout",
     "output_type": "stream",
     "text": [
      "Количество интернет-сессий с нулевым значением израсходованного интернет-трафика: 19598\n"
     ]
    }
   ],
   "source": [
    "print('Количество интернет-сессий с нулевым значением израсходованного интернет-трафика:',\\\n",
    "      internet_df[internet_df['mb_used'] == 0].shape[0])"
   ]
  },
  {
   "cell_type": "markdown",
   "id": "ca6a3eed",
   "metadata": {},
   "source": [
    "Построим график распределения израсходованного интернет-трафика."
   ]
  },
  {
   "cell_type": "code",
   "execution_count": 50,
   "id": "13f9e4c2",
   "metadata": {},
   "outputs": [
    {
     "data": {
      "image/png": "[encoded data removed]",
      "text/plain": [
       "<Figure size 432x288 with 1 Axes>"
      ]
     },
     "metadata": {
      "needs_background": "light"
     },
     "output_type": "display_data"
    }
   ],
   "source": [
    "# вывод графика распределения израсходованного интернет-трафика\n",
    "(\n",
    "    internet_df[internet_df['mb_used'] !=0]['mb_used']\n",
    "    .plot(kind='hist', bins=50, grid=True, title='Распределение израсходованного интернет-трафика')\n",
    ");"
   ]
  },
  {
   "cell_type": "markdown",
   "id": "34a8906c",
   "metadata": {},
   "source": [
    "Преобразуем столбец с объёмом потраченного за сессию интернет-трафика `mb_used` путём округления в большую сторону и преобразованием данных к целочисленному типу."
   ]
  },
  {
   "cell_type": "code",
   "execution_count": 51,
   "id": "6aca1673",
   "metadata": {},
   "outputs": [],
   "source": [
    "# округление данных с объёмом потраченного интернет-трафика в большую сторону и приведение их к целочисленному типу\n",
    "internet_df['mb_used'] = internet_df['mb_used'].apply(np.ceil).astype('int64')"
   ]
  },
  {
   "cell_type": "markdown",
   "id": "c48fb591",
   "metadata": {},
   "source": [
    "В завершении предобработки данных таблицы `internet_df` посмотрим на основные описательные статистики."
   ]
  },
  {
   "cell_type": "code",
   "execution_count": 52,
   "id": "cbffb410",
   "metadata": {},
   "outputs": [
    {
     "data": {
      "text/html": [
       "<div>\n",
       "<style scoped>\n",
       "    .dataframe tbody tr th:only-of-type {\n",
       "        vertical-align: middle;\n",
       "    }\n",
       "\n",
       "    .dataframe tbody tr th {\n",
       "        vertical-align: top;\n",
       "    }\n",
       "\n",
       "    .dataframe thead th {\n",
       "        text-align: right;\n",
       "    }\n",
       "</style>\n",
       "<table border=\"1\" class=\"dataframe\">\n",
       "  <thead>\n",
       "    <tr style=\"text-align: right;\">\n",
       "      <th></th>\n",
       "      <th>internet_session_id</th>\n",
       "      <th>mb_used</th>\n",
       "      <th>user_id</th>\n",
       "      <th>month_session</th>\n",
       "    </tr>\n",
       "  </thead>\n",
       "  <tbody>\n",
       "    <tr>\n",
       "      <td>count</td>\n",
       "      <td>149396.000000</td>\n",
       "      <td>149396.000000</td>\n",
       "      <td>149396.000000</td>\n",
       "      <td>149396.000000</td>\n",
       "    </tr>\n",
       "    <tr>\n",
       "      <td>mean</td>\n",
       "      <td>205.811856</td>\n",
       "      <td>370.622098</td>\n",
       "      <td>1252.099842</td>\n",
       "      <td>8.563315</td>\n",
       "    </tr>\n",
       "    <tr>\n",
       "      <td>std</td>\n",
       "      <td>157.267497</td>\n",
       "      <td>278.387019</td>\n",
       "      <td>144.050823</td>\n",
       "      <td>2.788717</td>\n",
       "    </tr>\n",
       "    <tr>\n",
       "      <td>min</td>\n",
       "      <td>0.000000</td>\n",
       "      <td>0.000000</td>\n",
       "      <td>1000.000000</td>\n",
       "      <td>1.000000</td>\n",
       "    </tr>\n",
       "    <tr>\n",
       "      <td>25%</td>\n",
       "      <td>78.000000</td>\n",
       "      <td>139.000000</td>\n",
       "      <td>1130.000000</td>\n",
       "      <td>7.000000</td>\n",
       "    </tr>\n",
       "    <tr>\n",
       "      <td>50%</td>\n",
       "      <td>172.000000</td>\n",
       "      <td>349.000000</td>\n",
       "      <td>1251.000000</td>\n",
       "      <td>9.000000</td>\n",
       "    </tr>\n",
       "    <tr>\n",
       "      <td>75%</td>\n",
       "      <td>302.000000</td>\n",
       "      <td>560.000000</td>\n",
       "      <td>1380.000000</td>\n",
       "      <td>11.000000</td>\n",
       "    </tr>\n",
       "    <tr>\n",
       "      <td>max</td>\n",
       "      <td>833.000000</td>\n",
       "      <td>1725.000000</td>\n",
       "      <td>1499.000000</td>\n",
       "      <td>12.000000</td>\n",
       "    </tr>\n",
       "  </tbody>\n",
       "</table>\n",
       "</div>"
      ],
      "text/plain": [
       "       internet_session_id        mb_used        user_id  month_session\n",
       "count        149396.000000  149396.000000  149396.000000  149396.000000\n",
       "mean            205.811856     370.622098    1252.099842       8.563315\n",
       "std             157.267497     278.387019     144.050823       2.788717\n",
       "min               0.000000       0.000000    1000.000000       1.000000\n",
       "25%              78.000000     139.000000    1130.000000       7.000000\n",
       "50%             172.000000     349.000000    1251.000000       9.000000\n",
       "75%             302.000000     560.000000    1380.000000      11.000000\n",
       "max             833.000000    1725.000000    1499.000000      12.000000"
      ]
     },
     "execution_count": 52,
     "metadata": {},
     "output_type": "execute_result"
    }
   ],
   "source": [
    "# вызов метода describe для просмотра описательных статистик данных в таблице internet_df\n",
    "internet_df.describe()"
   ]
  },
  {
   "cell_type": "markdown",
   "id": "ce64f829",
   "metadata": {},
   "source": [
    "* Данные в таблице `internet_df` с информацией об интернет-сессиях представлены за период полного календарного `2018` года.\n",
    "* Количество потраченного интернет трафика по месяцам, а также суммарное количество израсходованного трафика растёт линейно на протяжении всего наблюдаемого периода. Расхождений нет.\n",
    "* Распределение израсходованного интернет-трафика близко к распределению Пуассона. Данные скошены вправо. Среднее значение `370` немного больше медианного, равного `348`.\n",
    "* Аномальных и/или ошибочных значений в данных не обнаружено."
   ]
  },
  {
   "cell_type": "markdown",
   "id": "5b817b2d",
   "metadata": {},
   "source": [
    "### Предобработка данных о сообщениях (messages_df)"
   ]
  },
  {
   "cell_type": "markdown",
   "id": "a698190a",
   "metadata": {},
   "source": [
    "В таблице `messages_df` дату отправки сообщений `message_date` приведём к типу `datetime`, чтобы иметь возможность в дальнейшем использовать встроенные в *pandas* методы для работы с датами."
   ]
  },
  {
   "cell_type": "code",
   "execution_count": 53,
   "id": "24e72aa8",
   "metadata": {},
   "outputs": [],
   "source": [
    "# преобразование типа данных в столбце message_date таблицы messages_df к типу данных datetime\n",
    "messages_df['message_date'] = pd.to_datetime(messages_df['message_date'], format='%Y-%m-%d')"
   ]
  },
  {
   "cell_type": "markdown",
   "id": "fd1144e3",
   "metadata": {},
   "source": [
    "Обработаем записи в столбце `id`, отбросив в записях всё, что находится до нижнего подчёркивания, включая его самого."
   ]
  },
  {
   "cell_type": "code",
   "execution_count": 54,
   "id": "61e5bff9",
   "metadata": {},
   "outputs": [],
   "source": [
    "# обработка строк в столбце id с помощью вспомогательной функции string_id_mod\n",
    "messages_df['id'] = messages_df.apply(string_id_mod, axis=1)\n",
    "\n",
    "# переименование столбца id в calls_id\n",
    "messages_df = messages_df.rename(columns={'id': 'message_id'})\n",
    "\n",
    "# преобразование типа данных в столбце calls_id к целочисленному типу\n",
    "messages_df['message_id'] = messages_df['message_id'].astype('int64')"
   ]
  },
  {
   "cell_type": "markdown",
   "id": "73f32c79",
   "metadata": {},
   "source": [
    "Проверим за какой период представлены данные в таблице `message_df`."
   ]
  },
  {
   "cell_type": "code",
   "execution_count": 55,
   "id": "f5da7670",
   "metadata": {},
   "outputs": [
    {
     "data": {
      "text/plain": [
       "(Timestamp('2018-01-02 00:00:00'), Timestamp('2018-12-31 00:00:00'))"
      ]
     },
     "execution_count": 55,
     "metadata": {},
     "output_type": "execute_result"
    }
   ],
   "source": [
    "# просмотр минимального и максимального значений даты в таблице message_df\n",
    "messages_df['message_date'].min(), messages_df['message_date'].max()"
   ]
  },
  {
   "cell_type": "markdown",
   "id": "aa84a418",
   "metadata": {},
   "source": [
    "Данные в таблице `messages_df` также представлены за календарный год с `1 января 2018 года` по `31 декабря 2018 года`. С учётом этого, логичным шагом будет визуализация распределения количества сообщений по месяцам."
   ]
  },
  {
   "cell_type": "code",
   "execution_count": 56,
   "id": "4576dec0",
   "metadata": {},
   "outputs": [
    {
     "data": {
      "image/png": "[encoded data removed]",
      "text/plain": [
       "<Figure size 432x288 with 1 Axes>"
      ]
     },
     "metadata": {
      "needs_background": "light"
     },
     "output_type": "display_data"
    }
   ],
   "source": [
    "# вывод графика распределения количества сообщений по месяцам\n",
    "(\n",
    "    messages_df['message_date'].dt.month\n",
    "    .plot(kind='hist', bins=12, title='Распределение количества сообщений по месяцам', grid=True)\n",
    ");"
   ]
  },
  {
   "cell_type": "markdown",
   "id": "06f45fe8",
   "metadata": {},
   "source": [
    "В завершении предобработки данных таблицы `messages_df` посмотрим на основные описательные статистики."
   ]
  },
  {
   "cell_type": "code",
   "execution_count": 57,
   "id": "c8eb64ce",
   "metadata": {},
   "outputs": [
    {
     "data": {
      "text/html": [
       "<div>\n",
       "<style scoped>\n",
       "    .dataframe tbody tr th:only-of-type {\n",
       "        vertical-align: middle;\n",
       "    }\n",
       "\n",
       "    .dataframe tbody tr th {\n",
       "        vertical-align: top;\n",
       "    }\n",
       "\n",
       "    .dataframe thead th {\n",
       "        text-align: right;\n",
       "    }\n",
       "</style>\n",
       "<table border=\"1\" class=\"dataframe\">\n",
       "  <thead>\n",
       "    <tr style=\"text-align: right;\">\n",
       "      <th></th>\n",
       "      <th>message_id</th>\n",
       "      <th>user_id</th>\n",
       "    </tr>\n",
       "  </thead>\n",
       "  <tbody>\n",
       "    <tr>\n",
       "      <td>count</td>\n",
       "      <td>123036.000000</td>\n",
       "      <td>123036.000000</td>\n",
       "    </tr>\n",
       "    <tr>\n",
       "      <td>mean</td>\n",
       "      <td>267.595281</td>\n",
       "      <td>1256.989410</td>\n",
       "    </tr>\n",
       "    <tr>\n",
       "      <td>std</td>\n",
       "      <td>248.577464</td>\n",
       "      <td>143.523967</td>\n",
       "    </tr>\n",
       "    <tr>\n",
       "      <td>min</td>\n",
       "      <td>0.000000</td>\n",
       "      <td>1000.000000</td>\n",
       "    </tr>\n",
       "    <tr>\n",
       "      <td>25%</td>\n",
       "      <td>81.000000</td>\n",
       "      <td>1134.000000</td>\n",
       "    </tr>\n",
       "    <tr>\n",
       "      <td>50%</td>\n",
       "      <td>195.000000</td>\n",
       "      <td>1271.000000</td>\n",
       "    </tr>\n",
       "    <tr>\n",
       "      <td>75%</td>\n",
       "      <td>379.000000</td>\n",
       "      <td>1381.000000</td>\n",
       "    </tr>\n",
       "    <tr>\n",
       "      <td>max</td>\n",
       "      <td>1462.000000</td>\n",
       "      <td>1499.000000</td>\n",
       "    </tr>\n",
       "  </tbody>\n",
       "</table>\n",
       "</div>"
      ],
      "text/plain": [
       "          message_id        user_id\n",
       "count  123036.000000  123036.000000\n",
       "mean      267.595281    1256.989410\n",
       "std       248.577464     143.523967\n",
       "min         0.000000    1000.000000\n",
       "25%        81.000000    1134.000000\n",
       "50%       195.000000    1271.000000\n",
       "75%       379.000000    1381.000000\n",
       "max      1462.000000    1499.000000"
      ]
     },
     "execution_count": 57,
     "metadata": {},
     "output_type": "execute_result"
    }
   ],
   "source": [
    "# вызов метода describe для просмотра описательных статистик данных в таблице messages_df\n",
    "messages_df.describe()"
   ]
  },
  {
   "cell_type": "markdown",
   "id": "e78ededf",
   "metadata": {},
   "source": [
    "* Данные в таблице `messages_df` с информацией о сообщениях представлены за период полного календарного `2018` года.\n",
    "* Количество отправленных сообщений по месяцам растёт линейно на протяжении всего наблюдаемого периода.\n",
    "* Аномальных и/или ошибочных значений в данных не обнаружено."
   ]
  },
  {
   "cell_type": "markdown",
   "id": "05817a17",
   "metadata": {},
   "source": [
    "### Предобработка данных о пользователях (users_df)"
   ]
  },
  {
   "cell_type": "markdown",
   "id": "2eb06242",
   "metadata": {},
   "source": [
    "В таблице `users_df` дату подключения тарифа `reg_date` и дату прекращения пользования тарифом `churn_date` приведём к типу `datetime`, чтобы иметь возможность в дальнейшем использовать встроенные в *pandas* методы для работы с датами."
   ]
  },
  {
   "cell_type": "code",
   "execution_count": 58,
   "id": "78ba30dc",
   "metadata": {},
   "outputs": [],
   "source": [
    "# преобразование типа данных в столбце reg_date таблицы users_df к типу данных datetime\n",
    "users_df['reg_date'] = pd.to_datetime(users_df['reg_date'], format='%Y-%m-%d')\n",
    "\n",
    "# преобразование типа данных в столбце churn_date таблицы users_df к типу данных datetime\n",
    "users_df['churn_date'] = pd.to_datetime(users_df['churn_date'], format='%Y-%m-%d')"
   ]
  },
  {
   "cell_type": "markdown",
   "id": "ed2402c6",
   "metadata": {},
   "source": [
    "Замена строковых значений `smart` и `ultra` по столбцу `tariff` на `0` и `1`, в соотвествии с индексами тарифов из таблицы `tariffs_df`."
   ]
  },
  {
   "cell_type": "code",
   "execution_count": 59,
   "id": "b51b20eb",
   "metadata": {},
   "outputs": [],
   "source": [
    "# замена значений с помощью метода map()\n",
    "users_df['tariff'] = users_df['tariff'].map({'smart': 0, 'ultra': 1})"
   ]
  },
  {
   "cell_type": "markdown",
   "id": "941a75da",
   "metadata": {},
   "source": [
    "Проверим как пользователи распределены по различным городам. Для этого построим круговую диаграмму распределения пользователей по городам, взяв 20 первых значений из отсортированного в порядке убывания списка."
   ]
  },
  {
   "cell_type": "code",
   "execution_count": 60,
   "id": "f86388b3",
   "metadata": {},
   "outputs": [
    {
     "data": {
      "image/png": "[encoded data removed]",
      "text/plain": [
       "<Figure size 576x576 with 1 Axes>"
      ]
     },
     "metadata": {},
     "output_type": "display_data"
    }
   ],
   "source": [
    "# визуализация первые 20 записей о распредлении пользователей по городам, отсортированных по убыванию\n",
    "users_df['city'].value_counts().head(20).plot(\n",
    "    kind='pie',\n",
    "    figsize=(8, 8),\n",
    "    label='',\n",
    "    title='Распределение пользователей по городам'\n",
    ");"
   ]
  },
  {
   "cell_type": "markdown",
   "id": "b273720b",
   "metadata": {},
   "source": [
    "Проверим за какой период представлены данные в таблице `users_df`."
   ]
  },
  {
   "cell_type": "code",
   "execution_count": 61,
   "id": "56ecdcbb",
   "metadata": {},
   "outputs": [
    {
     "data": {
      "text/plain": [
       "(Timestamp('2018-01-01 00:00:00'), Timestamp('2018-12-31 00:00:00'))"
      ]
     },
     "execution_count": 61,
     "metadata": {},
     "output_type": "execute_result"
    }
   ],
   "source": [
    "# просмотр минимального и максимального значений даты в таблице users_df\n",
    "users_df['reg_date'].min(), users_df['reg_date'].max()"
   ]
  },
  {
   "cell_type": "markdown",
   "id": "04bb1d53",
   "metadata": {},
   "source": [
    "Данные в таблице `users_df` представлены за календарный год с `1 января 2018 года` по `31 декабря 2018 года`. С учётом этого, посмотрим на распределение количества подключений тарифов по месяцам."
   ]
  },
  {
   "cell_type": "code",
   "execution_count": 62,
   "id": "6d847ac5",
   "metadata": {},
   "outputs": [
    {
     "data": {
      "image/png": "[encoded data removed]",
      "text/plain": [
       "<Figure size 432x288 with 1 Axes>"
      ]
     },
     "metadata": {
      "needs_background": "light"
     },
     "output_type": "display_data"
    }
   ],
   "source": [
    "# вывод графика распределения количества подключений тарифов по месяцам\n",
    "(\n",
    "    users_df['reg_date'].dt.month\n",
    "    .plot(kind='hist', bins=12, title='Распределение количества подключений тарифов по месяцам', grid=True)\n",
    ");"
   ]
  },
  {
   "cell_type": "markdown",
   "id": "ca60c8f7",
   "metadata": {},
   "source": [
    "В завершении предобработки данных таблицы `users_df` посмотрим на основные описательные статистики."
   ]
  },
  {
   "cell_type": "code",
   "execution_count": 63,
   "id": "89f97560",
   "metadata": {},
   "outputs": [
    {
     "data": {
      "text/html": [
       "<div>\n",
       "<style scoped>\n",
       "    .dataframe tbody tr th:only-of-type {\n",
       "        vertical-align: middle;\n",
       "    }\n",
       "\n",
       "    .dataframe tbody tr th {\n",
       "        vertical-align: top;\n",
       "    }\n",
       "\n",
       "    .dataframe thead th {\n",
       "        text-align: right;\n",
       "    }\n",
       "</style>\n",
       "<table border=\"1\" class=\"dataframe\">\n",
       "  <thead>\n",
       "    <tr style=\"text-align: right;\">\n",
       "      <th></th>\n",
       "      <th>user_id</th>\n",
       "      <th>age</th>\n",
       "      <th>tariff</th>\n",
       "    </tr>\n",
       "  </thead>\n",
       "  <tbody>\n",
       "    <tr>\n",
       "      <td>count</td>\n",
       "      <td>500.000000</td>\n",
       "      <td>500.00000</td>\n",
       "      <td>500.000000</td>\n",
       "    </tr>\n",
       "    <tr>\n",
       "      <td>mean</td>\n",
       "      <td>1249.500000</td>\n",
       "      <td>46.58800</td>\n",
       "      <td>0.298000</td>\n",
       "    </tr>\n",
       "    <tr>\n",
       "      <td>std</td>\n",
       "      <td>144.481833</td>\n",
       "      <td>16.66763</td>\n",
       "      <td>0.457838</td>\n",
       "    </tr>\n",
       "    <tr>\n",
       "      <td>min</td>\n",
       "      <td>1000.000000</td>\n",
       "      <td>18.00000</td>\n",
       "      <td>0.000000</td>\n",
       "    </tr>\n",
       "    <tr>\n",
       "      <td>25%</td>\n",
       "      <td>1124.750000</td>\n",
       "      <td>32.00000</td>\n",
       "      <td>0.000000</td>\n",
       "    </tr>\n",
       "    <tr>\n",
       "      <td>50%</td>\n",
       "      <td>1249.500000</td>\n",
       "      <td>46.00000</td>\n",
       "      <td>0.000000</td>\n",
       "    </tr>\n",
       "    <tr>\n",
       "      <td>75%</td>\n",
       "      <td>1374.250000</td>\n",
       "      <td>62.00000</td>\n",
       "      <td>1.000000</td>\n",
       "    </tr>\n",
       "    <tr>\n",
       "      <td>max</td>\n",
       "      <td>1499.000000</td>\n",
       "      <td>75.00000</td>\n",
       "      <td>1.000000</td>\n",
       "    </tr>\n",
       "  </tbody>\n",
       "</table>\n",
       "</div>"
      ],
      "text/plain": [
       "           user_id        age      tariff\n",
       "count   500.000000  500.00000  500.000000\n",
       "mean   1249.500000   46.58800    0.298000\n",
       "std     144.481833   16.66763    0.457838\n",
       "min    1000.000000   18.00000    0.000000\n",
       "25%    1124.750000   32.00000    0.000000\n",
       "50%    1249.500000   46.00000    0.000000\n",
       "75%    1374.250000   62.00000    1.000000\n",
       "max    1499.000000   75.00000    1.000000"
      ]
     },
     "execution_count": 63,
     "metadata": {},
     "output_type": "execute_result"
    }
   ],
   "source": [
    "# вызов метода describe для просмотра описательных статистик данных в таблице users_df\n",
    "users_df.describe()"
   ]
  },
  {
   "cell_type": "markdown",
   "id": "353bd382",
   "metadata": {},
   "source": [
    "* Данные в таблице `users_df` с информацией о пользователях представлены за период полного календарного `2018` года.\n",
    "* Количество подключений пользователей к тарифам в помесячном разрезе наблюдаемого периода остаётся постоянным с некоторыми отклонениями от среднего значения.\n",
    "* Наибольшее количество пользователей находится в Москве, Санкт-Петербурге и Новосибирске, что согласуется с численностью населения в данных городах.\n",
    "* Аномальных и/или ошибочных значений в данных не обнаружено."
   ]
  },
  {
   "cell_type": "markdown",
   "id": "2fadb537",
   "metadata": {},
   "source": [
    "### Дополнительные расчёты и добавление данных"
   ]
  },
  {
   "cell_type": "markdown",
   "id": "98839221",
   "metadata": {},
   "source": [
    "Для анализа данных и статистической проверки гипотез необходимы дополнительные параметры для тарифных планов, такие как:\n",
    "* количество сделанных звонков и израсходованных минут разговора по месяцам;\n",
    "* количество отправленных сообщений по месяцам;\n",
    "* объём израсходованного интернет-трафика по месяцам;\n",
    "* помесячная выручка с каждого пользователя.\n",
    "\n",
    "Для расчёта помесячной выручки с каждого пользователя необходимо из суммарного количества звонков, сообщений и интернет-трафика вычесть бесплатный лимит, далее полученный остаток умножить на значение из соответствующего тарифного плана и прибавить абонентскую плату, по тарифному плану."
   ]
  },
  {
   "cell_type": "markdown",
   "id": "eb564e31",
   "metadata": {},
   "source": [
    "#### Количество совершённых звонков и израсходованных минут разговора по месяцам"
   ]
  },
  {
   "cell_type": "markdown",
   "id": "cfec7f41",
   "metadata": {},
   "source": [
    "На основе датафрейма `calls_df` создадим новую сводную таблицу с количеством звонков по месяцам `calls_by_month`."
   ]
  },
  {
   "cell_type": "code",
   "execution_count": 64,
   "id": "9bd9b76a",
   "metadata": {},
   "outputs": [
    {
     "data": {
      "text/html": [
       "<div>\n",
       "<style scoped>\n",
       "    .dataframe tbody tr th:only-of-type {\n",
       "        vertical-align: middle;\n",
       "    }\n",
       "\n",
       "    .dataframe tbody tr th {\n",
       "        vertical-align: top;\n",
       "    }\n",
       "\n",
       "    .dataframe thead th {\n",
       "        text-align: right;\n",
       "    }\n",
       "</style>\n",
       "<table border=\"1\" class=\"dataframe\">\n",
       "  <thead>\n",
       "    <tr style=\"text-align: right;\">\n",
       "      <th>month_call</th>\n",
       "      <th>1</th>\n",
       "      <th>2</th>\n",
       "      <th>3</th>\n",
       "      <th>4</th>\n",
       "      <th>5</th>\n",
       "      <th>6</th>\n",
       "      <th>7</th>\n",
       "      <th>8</th>\n",
       "      <th>9</th>\n",
       "      <th>10</th>\n",
       "      <th>11</th>\n",
       "      <th>12</th>\n",
       "    </tr>\n",
       "    <tr>\n",
       "      <th>user_id</th>\n",
       "      <th></th>\n",
       "      <th></th>\n",
       "      <th></th>\n",
       "      <th></th>\n",
       "      <th></th>\n",
       "      <th></th>\n",
       "      <th></th>\n",
       "      <th></th>\n",
       "      <th></th>\n",
       "      <th></th>\n",
       "      <th></th>\n",
       "      <th></th>\n",
       "    </tr>\n",
       "  </thead>\n",
       "  <tbody>\n",
       "    <tr>\n",
       "      <td>1000</td>\n",
       "      <td>NaN</td>\n",
       "      <td>NaN</td>\n",
       "      <td>NaN</td>\n",
       "      <td>NaN</td>\n",
       "      <td>22.0</td>\n",
       "      <td>43.0</td>\n",
       "      <td>47.0</td>\n",
       "      <td>52.0</td>\n",
       "      <td>58.0</td>\n",
       "      <td>57.0</td>\n",
       "      <td>43.0</td>\n",
       "      <td>46.0</td>\n",
       "    </tr>\n",
       "    <tr>\n",
       "      <td>1001</td>\n",
       "      <td>NaN</td>\n",
       "      <td>NaN</td>\n",
       "      <td>NaN</td>\n",
       "      <td>NaN</td>\n",
       "      <td>NaN</td>\n",
       "      <td>NaN</td>\n",
       "      <td>NaN</td>\n",
       "      <td>NaN</td>\n",
       "      <td>NaN</td>\n",
       "      <td>NaN</td>\n",
       "      <td>59.0</td>\n",
       "      <td>63.0</td>\n",
       "    </tr>\n",
       "    <tr>\n",
       "      <td>1002</td>\n",
       "      <td>NaN</td>\n",
       "      <td>NaN</td>\n",
       "      <td>NaN</td>\n",
       "      <td>NaN</td>\n",
       "      <td>NaN</td>\n",
       "      <td>15.0</td>\n",
       "      <td>26.0</td>\n",
       "      <td>42.0</td>\n",
       "      <td>36.0</td>\n",
       "      <td>33.0</td>\n",
       "      <td>32.0</td>\n",
       "      <td>33.0</td>\n",
       "    </tr>\n",
       "    <tr>\n",
       "      <td>1003</td>\n",
       "      <td>NaN</td>\n",
       "      <td>NaN</td>\n",
       "      <td>NaN</td>\n",
       "      <td>NaN</td>\n",
       "      <td>NaN</td>\n",
       "      <td>NaN</td>\n",
       "      <td>NaN</td>\n",
       "      <td>55.0</td>\n",
       "      <td>134.0</td>\n",
       "      <td>108.0</td>\n",
       "      <td>115.0</td>\n",
       "      <td>108.0</td>\n",
       "    </tr>\n",
       "    <tr>\n",
       "      <td>1004</td>\n",
       "      <td>NaN</td>\n",
       "      <td>NaN</td>\n",
       "      <td>NaN</td>\n",
       "      <td>NaN</td>\n",
       "      <td>9.0</td>\n",
       "      <td>31.0</td>\n",
       "      <td>22.0</td>\n",
       "      <td>19.0</td>\n",
       "      <td>26.0</td>\n",
       "      <td>29.0</td>\n",
       "      <td>19.0</td>\n",
       "      <td>21.0</td>\n",
       "    </tr>\n",
       "  </tbody>\n",
       "</table>\n",
       "</div>"
      ],
      "text/plain": [
       "month_call  1   2   3   4     5     6     7     8      9      10     11     12\n",
       "user_id                                                                       \n",
       "1000       NaN NaN NaN NaN  22.0  43.0  47.0  52.0   58.0   57.0   43.0   46.0\n",
       "1001       NaN NaN NaN NaN   NaN   NaN   NaN   NaN    NaN    NaN   59.0   63.0\n",
       "1002       NaN NaN NaN NaN   NaN  15.0  26.0  42.0   36.0   33.0   32.0   33.0\n",
       "1003       NaN NaN NaN NaN   NaN   NaN   NaN  55.0  134.0  108.0  115.0  108.0\n",
       "1004       NaN NaN NaN NaN   9.0  31.0  22.0  19.0   26.0   29.0   19.0   21.0"
      ]
     },
     "metadata": {},
     "output_type": "display_data"
    }
   ],
   "source": [
    "# формирование сводной таблицы по количеству звонков по месяцам\n",
    "calls_by_month = calls_df.pivot_table(\n",
    "    index=['user_id'],\n",
    "    columns='month_call',\n",
    "    values='calls_id',\n",
    "    aggfunc='count')\n",
    "\n",
    "# просмотр первых строк полученной таблицы\n",
    "display(calls_by_month.head(5))"
   ]
  },
  {
   "cell_type": "markdown",
   "id": "8c50bbe3",
   "metadata": {},
   "source": [
    "Также на основе датафрейма `calls_df` создадим новую сводную таблицу с количеством израсходованных минут по месяцам `minutes_by_month`."
   ]
  },
  {
   "cell_type": "code",
   "execution_count": 65,
   "id": "4009a198",
   "metadata": {},
   "outputs": [
    {
     "data": {
      "text/html": [
       "<div>\n",
       "<style scoped>\n",
       "    .dataframe tbody tr th:only-of-type {\n",
       "        vertical-align: middle;\n",
       "    }\n",
       "\n",
       "    .dataframe tbody tr th {\n",
       "        vertical-align: top;\n",
       "    }\n",
       "\n",
       "    .dataframe thead th {\n",
       "        text-align: right;\n",
       "    }\n",
       "</style>\n",
       "<table border=\"1\" class=\"dataframe\">\n",
       "  <thead>\n",
       "    <tr style=\"text-align: right;\">\n",
       "      <th>month_call</th>\n",
       "      <th>1</th>\n",
       "      <th>2</th>\n",
       "      <th>3</th>\n",
       "      <th>4</th>\n",
       "      <th>5</th>\n",
       "      <th>6</th>\n",
       "      <th>7</th>\n",
       "      <th>8</th>\n",
       "      <th>9</th>\n",
       "      <th>10</th>\n",
       "      <th>11</th>\n",
       "      <th>12</th>\n",
       "    </tr>\n",
       "    <tr>\n",
       "      <th>user_id</th>\n",
       "      <th></th>\n",
       "      <th></th>\n",
       "      <th></th>\n",
       "      <th></th>\n",
       "      <th></th>\n",
       "      <th></th>\n",
       "      <th></th>\n",
       "      <th></th>\n",
       "      <th></th>\n",
       "      <th></th>\n",
       "      <th></th>\n",
       "      <th></th>\n",
       "    </tr>\n",
       "  </thead>\n",
       "  <tbody>\n",
       "    <tr>\n",
       "      <td>1000</td>\n",
       "      <td>NaN</td>\n",
       "      <td>NaN</td>\n",
       "      <td>NaN</td>\n",
       "      <td>NaN</td>\n",
       "      <td>159.0</td>\n",
       "      <td>172.0</td>\n",
       "      <td>340.0</td>\n",
       "      <td>408.0</td>\n",
       "      <td>466.0</td>\n",
       "      <td>350.0</td>\n",
       "      <td>338.0</td>\n",
       "      <td>333.0</td>\n",
       "    </tr>\n",
       "    <tr>\n",
       "      <td>1001</td>\n",
       "      <td>NaN</td>\n",
       "      <td>NaN</td>\n",
       "      <td>NaN</td>\n",
       "      <td>NaN</td>\n",
       "      <td>NaN</td>\n",
       "      <td>NaN</td>\n",
       "      <td>NaN</td>\n",
       "      <td>NaN</td>\n",
       "      <td>NaN</td>\n",
       "      <td>NaN</td>\n",
       "      <td>430.0</td>\n",
       "      <td>414.0</td>\n",
       "    </tr>\n",
       "    <tr>\n",
       "      <td>1002</td>\n",
       "      <td>NaN</td>\n",
       "      <td>NaN</td>\n",
       "      <td>NaN</td>\n",
       "      <td>NaN</td>\n",
       "      <td>NaN</td>\n",
       "      <td>117.0</td>\n",
       "      <td>214.0</td>\n",
       "      <td>289.0</td>\n",
       "      <td>206.0</td>\n",
       "      <td>212.0</td>\n",
       "      <td>243.0</td>\n",
       "      <td>236.0</td>\n",
       "    </tr>\n",
       "    <tr>\n",
       "      <td>1003</td>\n",
       "      <td>NaN</td>\n",
       "      <td>NaN</td>\n",
       "      <td>NaN</td>\n",
       "      <td>NaN</td>\n",
       "      <td>NaN</td>\n",
       "      <td>NaN</td>\n",
       "      <td>NaN</td>\n",
       "      <td>380.0</td>\n",
       "      <td>961.0</td>\n",
       "      <td>855.0</td>\n",
       "      <td>824.0</td>\n",
       "      <td>802.0</td>\n",
       "    </tr>\n",
       "    <tr>\n",
       "      <td>1004</td>\n",
       "      <td>NaN</td>\n",
       "      <td>NaN</td>\n",
       "      <td>NaN</td>\n",
       "      <td>NaN</td>\n",
       "      <td>35.0</td>\n",
       "      <td>171.0</td>\n",
       "      <td>135.0</td>\n",
       "      <td>137.0</td>\n",
       "      <td>117.0</td>\n",
       "      <td>145.0</td>\n",
       "      <td>117.0</td>\n",
       "      <td>130.0</td>\n",
       "    </tr>\n",
       "  </tbody>\n",
       "</table>\n",
       "</div>"
      ],
      "text/plain": [
       "month_call  1   2   3   4      5      6      7      8      9      10     11  \\\n",
       "user_id                                                                       \n",
       "1000       NaN NaN NaN NaN  159.0  172.0  340.0  408.0  466.0  350.0  338.0   \n",
       "1001       NaN NaN NaN NaN    NaN    NaN    NaN    NaN    NaN    NaN  430.0   \n",
       "1002       NaN NaN NaN NaN    NaN  117.0  214.0  289.0  206.0  212.0  243.0   \n",
       "1003       NaN NaN NaN NaN    NaN    NaN    NaN  380.0  961.0  855.0  824.0   \n",
       "1004       NaN NaN NaN NaN   35.0  171.0  135.0  137.0  117.0  145.0  117.0   \n",
       "\n",
       "month_call     12  \n",
       "user_id            \n",
       "1000        333.0  \n",
       "1001        414.0  \n",
       "1002        236.0  \n",
       "1003        802.0  \n",
       "1004        130.0  "
      ]
     },
     "metadata": {},
     "output_type": "display_data"
    }
   ],
   "source": [
    "# формирование сводной таблицы по продолжительности звонков по месяцам\n",
    "minutes_by_month = calls_df.pivot_table(\n",
    "    index=['user_id'],\n",
    "    columns='month_call',\n",
    "    values='duration',\n",
    "    aggfunc='sum')\n",
    "\n",
    "# просмотр первых строк полученной таблицы\n",
    "display(minutes_by_month.head(5))"
   ]
  },
  {
   "cell_type": "markdown",
   "id": "c9a8eab6",
   "metadata": {},
   "source": [
    "#### Объём израсходованного интернет-трафика по месяцам"
   ]
  },
  {
   "cell_type": "markdown",
   "id": "4f2ae884",
   "metadata": {},
   "source": [
    "На основе датафрейма `internet_df` создадим новую сводную таблицу с объёмом потраченного трафика по месяцам `mb_by_month`."
   ]
  },
  {
   "cell_type": "code",
   "execution_count": 66,
   "id": "7f2e75a2",
   "metadata": {},
   "outputs": [
    {
     "data": {
      "text/html": [
       "<div>\n",
       "<style scoped>\n",
       "    .dataframe tbody tr th:only-of-type {\n",
       "        vertical-align: middle;\n",
       "    }\n",
       "\n",
       "    .dataframe tbody tr th {\n",
       "        vertical-align: top;\n",
       "    }\n",
       "\n",
       "    .dataframe thead th {\n",
       "        text-align: right;\n",
       "    }\n",
       "</style>\n",
       "<table border=\"1\" class=\"dataframe\">\n",
       "  <thead>\n",
       "    <tr style=\"text-align: right;\">\n",
       "      <th>month_session</th>\n",
       "      <th>1</th>\n",
       "      <th>2</th>\n",
       "      <th>3</th>\n",
       "      <th>4</th>\n",
       "      <th>5</th>\n",
       "      <th>6</th>\n",
       "      <th>7</th>\n",
       "      <th>8</th>\n",
       "      <th>9</th>\n",
       "      <th>10</th>\n",
       "      <th>11</th>\n",
       "      <th>12</th>\n",
       "    </tr>\n",
       "    <tr>\n",
       "      <th>user_id</th>\n",
       "      <th></th>\n",
       "      <th></th>\n",
       "      <th></th>\n",
       "      <th></th>\n",
       "      <th></th>\n",
       "      <th></th>\n",
       "      <th></th>\n",
       "      <th></th>\n",
       "      <th></th>\n",
       "      <th></th>\n",
       "      <th></th>\n",
       "      <th></th>\n",
       "    </tr>\n",
       "  </thead>\n",
       "  <tbody>\n",
       "    <tr>\n",
       "      <td>1000</td>\n",
       "      <td>NaN</td>\n",
       "      <td>NaN</td>\n",
       "      <td>NaN</td>\n",
       "      <td>NaN</td>\n",
       "      <td>2256.0</td>\n",
       "      <td>23257.0</td>\n",
       "      <td>14016.0</td>\n",
       "      <td>14070.0</td>\n",
       "      <td>14581.0</td>\n",
       "      <td>14717.0</td>\n",
       "      <td>14768.0</td>\n",
       "      <td>9827.0</td>\n",
       "    </tr>\n",
       "    <tr>\n",
       "      <td>1001</td>\n",
       "      <td>NaN</td>\n",
       "      <td>NaN</td>\n",
       "      <td>NaN</td>\n",
       "      <td>NaN</td>\n",
       "      <td>NaN</td>\n",
       "      <td>NaN</td>\n",
       "      <td>NaN</td>\n",
       "      <td>NaN</td>\n",
       "      <td>NaN</td>\n",
       "      <td>NaN</td>\n",
       "      <td>18452.0</td>\n",
       "      <td>14053.0</td>\n",
       "    </tr>\n",
       "    <tr>\n",
       "      <td>1002</td>\n",
       "      <td>NaN</td>\n",
       "      <td>NaN</td>\n",
       "      <td>NaN</td>\n",
       "      <td>NaN</td>\n",
       "      <td>NaN</td>\n",
       "      <td>10871.0</td>\n",
       "      <td>17601.0</td>\n",
       "      <td>20347.0</td>\n",
       "      <td>16712.0</td>\n",
       "      <td>13905.0</td>\n",
       "      <td>18610.0</td>\n",
       "      <td>18137.0</td>\n",
       "    </tr>\n",
       "    <tr>\n",
       "      <td>1003</td>\n",
       "      <td>NaN</td>\n",
       "      <td>NaN</td>\n",
       "      <td>NaN</td>\n",
       "      <td>NaN</td>\n",
       "      <td>NaN</td>\n",
       "      <td>NaN</td>\n",
       "      <td>NaN</td>\n",
       "      <td>8571.0</td>\n",
       "      <td>12479.0</td>\n",
       "      <td>14779.0</td>\n",
       "      <td>11368.0</td>\n",
       "      <td>10132.0</td>\n",
       "    </tr>\n",
       "    <tr>\n",
       "      <td>1004</td>\n",
       "      <td>NaN</td>\n",
       "      <td>NaN</td>\n",
       "      <td>NaN</td>\n",
       "      <td>NaN</td>\n",
       "      <td>13415.0</td>\n",
       "      <td>17619.0</td>\n",
       "      <td>22243.0</td>\n",
       "      <td>28607.0</td>\n",
       "      <td>15125.0</td>\n",
       "      <td>18494.0</td>\n",
       "      <td>15631.0</td>\n",
       "      <td>18038.0</td>\n",
       "    </tr>\n",
       "  </tbody>\n",
       "</table>\n",
       "</div>"
      ],
      "text/plain": [
       "month_session  1   2   3   4        5        6        7        8        9   \\\n",
       "user_id                                                                      \n",
       "1000          NaN NaN NaN NaN   2256.0  23257.0  14016.0  14070.0  14581.0   \n",
       "1001          NaN NaN NaN NaN      NaN      NaN      NaN      NaN      NaN   \n",
       "1002          NaN NaN NaN NaN      NaN  10871.0  17601.0  20347.0  16712.0   \n",
       "1003          NaN NaN NaN NaN      NaN      NaN      NaN   8571.0  12479.0   \n",
       "1004          NaN NaN NaN NaN  13415.0  17619.0  22243.0  28607.0  15125.0   \n",
       "\n",
       "month_session       10       11       12  \n",
       "user_id                                   \n",
       "1000           14717.0  14768.0   9827.0  \n",
       "1001               NaN  18452.0  14053.0  \n",
       "1002           13905.0  18610.0  18137.0  \n",
       "1003           14779.0  11368.0  10132.0  \n",
       "1004           18494.0  15631.0  18038.0  "
      ]
     },
     "metadata": {},
     "output_type": "display_data"
    }
   ],
   "source": [
    "# формирование сводной таблицы по объёму потраченного трафика по месяцам\n",
    "mb_by_month = internet_df.pivot_table(\n",
    "    index=['user_id'],\n",
    "    columns='month_session',\n",
    "    values='mb_used',\n",
    "    aggfunc='sum')\n",
    "\n",
    "# просмотр первых строк полученной таблицы\n",
    "display(mb_by_month.head(5))"
   ]
  },
  {
   "cell_type": "markdown",
   "id": "94b57649",
   "metadata": {},
   "source": [
    "#### Количество отправленных сообщений по месяцам"
   ]
  },
  {
   "cell_type": "markdown",
   "id": "9b58fbcc",
   "metadata": {},
   "source": [
    "Перед созданием сводной таблицы необходимо к датафрейму `messages_df` добавить новый столбец `month_message` с номером месяца, в котором было отправлено сообщение."
   ]
  },
  {
   "cell_type": "code",
   "execution_count": 67,
   "id": "39f8e346",
   "metadata": {},
   "outputs": [],
   "source": [
    "# добавление колонки month_message с номером месяца, в котором было отправлено сообщение, к исходной таблице messages_df\n",
    "messages_df['month_message'] = messages_df['message_date'].dt.month"
   ]
  },
  {
   "cell_type": "markdown",
   "id": "f2c2df7a",
   "metadata": {},
   "source": [
    "На основе датафрейма `messages_df` создадим новую сводную таблицу с количеством отправленных пользователями сообщений с разбивкой по месяцам `mb_by_month`."
   ]
  },
  {
   "cell_type": "code",
   "execution_count": 68,
   "id": "fa7a0dac",
   "metadata": {},
   "outputs": [
    {
     "data": {
      "text/html": [
       "<div>\n",
       "<style scoped>\n",
       "    .dataframe tbody tr th:only-of-type {\n",
       "        vertical-align: middle;\n",
       "    }\n",
       "\n",
       "    .dataframe tbody tr th {\n",
       "        vertical-align: top;\n",
       "    }\n",
       "\n",
       "    .dataframe thead th {\n",
       "        text-align: right;\n",
       "    }\n",
       "</style>\n",
       "<table border=\"1\" class=\"dataframe\">\n",
       "  <thead>\n",
       "    <tr style=\"text-align: right;\">\n",
       "      <th>month_message</th>\n",
       "      <th>1</th>\n",
       "      <th>2</th>\n",
       "      <th>3</th>\n",
       "      <th>4</th>\n",
       "      <th>5</th>\n",
       "      <th>6</th>\n",
       "      <th>7</th>\n",
       "      <th>8</th>\n",
       "      <th>9</th>\n",
       "      <th>10</th>\n",
       "      <th>11</th>\n",
       "      <th>12</th>\n",
       "    </tr>\n",
       "    <tr>\n",
       "      <th>user_id</th>\n",
       "      <th></th>\n",
       "      <th></th>\n",
       "      <th></th>\n",
       "      <th></th>\n",
       "      <th></th>\n",
       "      <th></th>\n",
       "      <th></th>\n",
       "      <th></th>\n",
       "      <th></th>\n",
       "      <th></th>\n",
       "      <th></th>\n",
       "      <th></th>\n",
       "    </tr>\n",
       "  </thead>\n",
       "  <tbody>\n",
       "    <tr>\n",
       "      <td>1000</td>\n",
       "      <td>NaN</td>\n",
       "      <td>NaN</td>\n",
       "      <td>NaN</td>\n",
       "      <td>NaN</td>\n",
       "      <td>22.0</td>\n",
       "      <td>60.0</td>\n",
       "      <td>75.0</td>\n",
       "      <td>81.0</td>\n",
       "      <td>57.0</td>\n",
       "      <td>73.0</td>\n",
       "      <td>58.0</td>\n",
       "      <td>70.0</td>\n",
       "    </tr>\n",
       "    <tr>\n",
       "      <td>1002</td>\n",
       "      <td>NaN</td>\n",
       "      <td>NaN</td>\n",
       "      <td>NaN</td>\n",
       "      <td>NaN</td>\n",
       "      <td>NaN</td>\n",
       "      <td>4.0</td>\n",
       "      <td>11.0</td>\n",
       "      <td>13.0</td>\n",
       "      <td>4.0</td>\n",
       "      <td>10.0</td>\n",
       "      <td>16.0</td>\n",
       "      <td>12.0</td>\n",
       "    </tr>\n",
       "    <tr>\n",
       "      <td>1003</td>\n",
       "      <td>NaN</td>\n",
       "      <td>NaN</td>\n",
       "      <td>NaN</td>\n",
       "      <td>NaN</td>\n",
       "      <td>NaN</td>\n",
       "      <td>NaN</td>\n",
       "      <td>NaN</td>\n",
       "      <td>37.0</td>\n",
       "      <td>91.0</td>\n",
       "      <td>83.0</td>\n",
       "      <td>94.0</td>\n",
       "      <td>75.0</td>\n",
       "    </tr>\n",
       "    <tr>\n",
       "      <td>1004</td>\n",
       "      <td>NaN</td>\n",
       "      <td>NaN</td>\n",
       "      <td>NaN</td>\n",
       "      <td>NaN</td>\n",
       "      <td>95.0</td>\n",
       "      <td>134.0</td>\n",
       "      <td>181.0</td>\n",
       "      <td>151.0</td>\n",
       "      <td>146.0</td>\n",
       "      <td>165.0</td>\n",
       "      <td>158.0</td>\n",
       "      <td>162.0</td>\n",
       "    </tr>\n",
       "    <tr>\n",
       "      <td>1005</td>\n",
       "      <td>7.0</td>\n",
       "      <td>38.0</td>\n",
       "      <td>56.0</td>\n",
       "      <td>41.0</td>\n",
       "      <td>42.0</td>\n",
       "      <td>47.0</td>\n",
       "      <td>56.0</td>\n",
       "      <td>64.0</td>\n",
       "      <td>52.0</td>\n",
       "      <td>44.0</td>\n",
       "      <td>51.0</td>\n",
       "      <td>54.0</td>\n",
       "    </tr>\n",
       "  </tbody>\n",
       "</table>\n",
       "</div>"
      ],
      "text/plain": [
       "month_message   1     2     3     4     5      6      7      8      9      10  \\\n",
       "user_id                                                                         \n",
       "1000           NaN   NaN   NaN   NaN  22.0   60.0   75.0   81.0   57.0   73.0   \n",
       "1002           NaN   NaN   NaN   NaN   NaN    4.0   11.0   13.0    4.0   10.0   \n",
       "1003           NaN   NaN   NaN   NaN   NaN    NaN    NaN   37.0   91.0   83.0   \n",
       "1004           NaN   NaN   NaN   NaN  95.0  134.0  181.0  151.0  146.0  165.0   \n",
       "1005           7.0  38.0  56.0  41.0  42.0   47.0   56.0   64.0   52.0   44.0   \n",
       "\n",
       "month_message     11     12  \n",
       "user_id                      \n",
       "1000            58.0   70.0  \n",
       "1002            16.0   12.0  \n",
       "1003            94.0   75.0  \n",
       "1004           158.0  162.0  \n",
       "1005            51.0   54.0  "
      ]
     },
     "metadata": {},
     "output_type": "display_data"
    }
   ],
   "source": [
    "# формирование сводной таблицы по количеству отправленных сообщений по месяцам\n",
    "messages_by_month = messages_df.pivot_table(\n",
    "    index=['user_id'],\n",
    "    columns='month_message',\n",
    "    values='message_id',\n",
    "    aggfunc='count')\n",
    "\n",
    "# просмотр первых строк полученной таблицы\n",
    "display(messages_by_month.head(5))"
   ]
  },
  {
   "cell_type": "markdown",
   "id": "270a0cbb",
   "metadata": {},
   "source": [
    "#### Выручка от пользователей по месяцам"
   ]
  },
  {
   "cell_type": "markdown",
   "id": "91bf3014",
   "metadata": {},
   "source": [
    "Рассчитаем помесячную выручку с каждого пользователя. Для удобства расчётов сведём все данные в таблицу `profit`, строки которой будут содержать данные о количестве минут разговора, объёме израсходованного интернет-трафика, количестве отправленных сообщений по каждому клиенту. Кроме того, в строках будет также содержаться такая информация о текущем пользовательском тарифе как лимиты на суммарное количество звонков, сообщений и интернет-трафика, стоимость данных услуг сверх установленных лимитов, а также абонентская плата по тарифу."
   ]
  },
  {
   "cell_type": "code",
   "execution_count": 69,
   "id": "ac9d6ad9",
   "metadata": {},
   "outputs": [
    {
     "data": {
      "text/plain": [
       "(3174, 492, 5904)"
      ]
     },
     "execution_count": 69,
     "metadata": {},
     "output_type": "execute_result"
    }
   ],
   "source": [
    "# произведём агрегацию длительности звонков пользователей по месяцам с помощью методов groupby() и agg()\n",
    "calls_month = (\n",
    "    calls_df.groupby(['user_id', 'month_call'], as_index=False)\n",
    "    .agg({'duration': 'sum'})\n",
    "    .rename(columns={'month_call': 'month', 'duration': 'calls_sum'})\n",
    ")\n",
    "\n",
    "# проверим размер получившейся таблицы и количество уникальных пользователей в ней, \n",
    "# и максимально допустимое количество строк в таблице\n",
    "calls_month.shape[0], calls_month['user_id'].nunique(), calls_month['user_id'].nunique() * 12"
   ]
  },
  {
   "cell_type": "markdown",
   "id": "661bf649",
   "metadata": {},
   "source": [
    "Полученные данные выглядят правдоподобно и не превышают максимально допустимый размер в `5904` строки, который может быть определён как произведение количества уникальных пользователей, равное `492` на количество месяцев анализируемого периода, равное `12`."
   ]
  },
  {
   "cell_type": "code",
   "execution_count": 70,
   "id": "cdc3d40f",
   "metadata": {},
   "outputs": [
    {
     "data": {
      "text/plain": [
       "(2717, 426, 5112)"
      ]
     },
     "execution_count": 70,
     "metadata": {},
     "output_type": "execute_result"
    }
   ],
   "source": [
    "# произведём агрегацию количества сообщений пользователей по месяцам с помощью методов groupby() и agg()\n",
    "messages_month = (\n",
    "    messages_df.groupby(['user_id', 'month_message'], as_index=False)\n",
    "    .agg({'message_id': 'count'})\n",
    "    .rename(columns={'month_message': 'month', 'message_id': 'messages_sum'})\n",
    ")\n",
    "\n",
    "# проверим размер получившейся таблицы и количество уникальных пользователей в ней, \n",
    "# и максимально допустимое количество строк в таблице\n",
    "messages_month.shape[0], messages_month['user_id'].nunique(), messages_month['user_id'].nunique() * 12"
   ]
  },
  {
   "cell_type": "markdown",
   "id": "e0ec5007",
   "metadata": {},
   "source": [
    "Полученные данные выглядят правдоподобно и не превышают максимально допустимый размер в `5112` строк, который может быть определён как произведение количества уникальных пользователей, равное `426` на количество месяцев анализируемого периода, равное `12`."
   ]
  },
  {
   "cell_type": "code",
   "execution_count": 71,
   "id": "49e01be6",
   "metadata": {},
   "outputs": [
    {
     "data": {
      "text/plain": [
       "(3203, 497, 5964)"
      ]
     },
     "execution_count": 71,
     "metadata": {},
     "output_type": "execute_result"
    }
   ],
   "source": [
    "# произведём агрегацию объёма израсходованного пользователями трафика по месяцам с помощью методов groupby() и agg()\n",
    "internet_month = (\n",
    "    internet_df.groupby(['user_id', 'month_session'], as_index=False)\n",
    "    .agg({'mb_used': 'sum'})\n",
    "    .rename(columns={'month_session': 'month', 'mb_used': 'traffic_sum'})\n",
    ")\n",
    "\n",
    "# проверим размер получившейся таблицы и количество уникальных пользователей в ней, \n",
    "# и максимально допустимое количество строк в таблице\n",
    "internet_month.shape[0], internet_month['user_id'].nunique(), internet_month['user_id'].nunique() * 12"
   ]
  },
  {
   "cell_type": "markdown",
   "id": "555571f2",
   "metadata": {},
   "source": [
    "Полученные данные выглядят правдоподобно и не превышают максимально допустимый размер в `5964` строки, который может быть определён как произведение количества уникальных пользователей, равное `497` на количество месяцев анализируемого периода, равное `12`."
   ]
  },
  {
   "cell_type": "markdown",
   "id": "8ddad046",
   "metadata": {},
   "source": [
    "Используя полученные промежуточные таблицы `calls_month`, `messages_month` и `internet_month`, объединим их между собой по значениям идентификатора пользователя `user_id` и месяца `month`. К полученному результату присоединим также данные из датафрейма `users_df`, касающиеся тарифа пользователя `tariff` и его города `city`.\n",
    "\n",
    "Для таблиц `calls_month`, `messages_month` и `internet_month` используем внешний тип слияния `outer`, при котором в итоговую таблицу попадают все данные, которые присутствуют хотя бы в одном из датафреймов.\n",
    "\n",
    "Для присоединения к полученному результату данных из датафрейма `users_df` с данными о пользователях, используем тип слияния `left`, при котором в итоговый датафрейм обязательно будут включены все строки из левого датафрейма."
   ]
  },
  {
   "cell_type": "code",
   "execution_count": 72,
   "id": "4bdfce79",
   "metadata": {},
   "outputs": [],
   "source": [
    "# объединим полученные на предыдущих шагах таблицы calls_month, messages_month и internet_month по пльзователям и \n",
    "# месяцам в итоговую таблицу profit\n",
    "profit = calls_month.merge(messages_month, on=['user_id','month'], how='outer')\\\n",
    ".merge(internet_month, on=['user_id','month'], how='outer')\\\n",
    ".merge(users_df[['user_id', 'tariff', 'city']], on='user_id', how='left')\\"
   ]
  },
  {
   "cell_type": "code",
   "execution_count": 73,
   "id": "94b1f270",
   "metadata": {},
   "outputs": [
    {
     "data": {
      "text/plain": [
       "(3214, 7)"
      ]
     },
     "metadata": {},
     "output_type": "display_data"
    }
   ],
   "source": [
    "# проверка размера полученной таблицы\n",
    "display(profit.shape)"
   ]
  },
  {
   "cell_type": "code",
   "execution_count": 74,
   "id": "ea74b822",
   "metadata": {},
   "outputs": [],
   "source": [
    "# добавим к датафрейму tariffs_df столбец tariff с числовым идентификатором тарифа для последующего объединения\n",
    "# по его значению\n",
    "tariffs_df['tariff'] = tariffs_df['tariff_name']\n",
    "tariffs_df['tariff'] = tariffs_df['tariff'].map({'smart': 0, 'ultra': 1})"
   ]
  },
  {
   "cell_type": "markdown",
   "id": "4f499e77",
   "metadata": {},
   "source": [
    "К сводной таблице добавим из датафрейма `tariffs_df` такие данные о тарифах как:\n",
    "* `messages_included` - количество сообщений в месяц, включённых в абонентскую плату;\n",
    "* `mb_per_month_included` - объём интернет-трафика, включённого в абонентскую плату (в мегабайтах);\n",
    "* `minutes_included` - количество минут разговора в месяц, включённых в абонентскую плату;\n",
    "* `rub_monthly_fee` - ежемесячная абонентская плата в рублях;\n",
    "* `rub_per_gb` - стоимость дополнительного гигабайта интернет-трафика сверх тарифного пакета;\n",
    "* `rub_per_message` - стоимость отправки сообщения сверх тарифного пакета;\n",
    "* `rub_per_minute` - стоимость минуты разговора сверх тарифного пакета.\n",
    "\n",
    "Они потребуются для дальнейших расчётов. Для присоединения к полученному результату данных из датафрейма `tariffs_df` с информацией о тарифах, используем тип слияния `left`, при котором в итоговый датафрейм обязательно будут включены все строки из левого датафрейма, то есть из `profit`."
   ]
  },
  {
   "cell_type": "code",
   "execution_count": 75,
   "id": "c56f5c8c",
   "metadata": {},
   "outputs": [],
   "source": [
    "# список столбцов для объединения\n",
    "tariffs_columns = ['messages_included',\n",
    "                  'mb_per_month_included',\n",
    "                  'minutes_included',\n",
    "                  'rub_monthly_fee',\n",
    "                  'rub_per_gb',\n",
    "                  'rub_per_message',\n",
    "                  'rub_per_minute',\n",
    "                  'tariff',\n",
    "                  'tariff_name']\n",
    "\n",
    "# объединение сводной таблицы profit с данными по тарифу из датафрейма tariffs_df\n",
    "profit = profit.merge(tariffs_df[tariffs_columns], on = 'tariff', how = 'left')"
   ]
  },
  {
   "cell_type": "code",
   "execution_count": 76,
   "id": "ec96b390",
   "metadata": {},
   "outputs": [
    {
     "data": {
      "text/html": [
       "<div>\n",
       "<style scoped>\n",
       "    .dataframe tbody tr th:only-of-type {\n",
       "        vertical-align: middle;\n",
       "    }\n",
       "\n",
       "    .dataframe tbody tr th {\n",
       "        vertical-align: top;\n",
       "    }\n",
       "\n",
       "    .dataframe thead th {\n",
       "        text-align: right;\n",
       "    }\n",
       "</style>\n",
       "<table border=\"1\" class=\"dataframe\">\n",
       "  <thead>\n",
       "    <tr style=\"text-align: right;\">\n",
       "      <th></th>\n",
       "      <th>user_id</th>\n",
       "      <th>month</th>\n",
       "      <th>calls_sum</th>\n",
       "      <th>messages_sum</th>\n",
       "      <th>traffic_sum</th>\n",
       "      <th>tariff</th>\n",
       "      <th>city</th>\n",
       "      <th>messages_included</th>\n",
       "      <th>mb_per_month_included</th>\n",
       "      <th>minutes_included</th>\n",
       "      <th>rub_monthly_fee</th>\n",
       "      <th>rub_per_gb</th>\n",
       "      <th>rub_per_message</th>\n",
       "      <th>rub_per_minute</th>\n",
       "      <th>tariff_name</th>\n",
       "    </tr>\n",
       "  </thead>\n",
       "  <tbody>\n",
       "    <tr>\n",
       "      <td>0</td>\n",
       "      <td>1000</td>\n",
       "      <td>5</td>\n",
       "      <td>159.0</td>\n",
       "      <td>22.0</td>\n",
       "      <td>2256.0</td>\n",
       "      <td>1</td>\n",
       "      <td>Краснодар</td>\n",
       "      <td>1000</td>\n",
       "      <td>30720</td>\n",
       "      <td>3000</td>\n",
       "      <td>1950</td>\n",
       "      <td>150</td>\n",
       "      <td>1</td>\n",
       "      <td>1</td>\n",
       "      <td>ultra</td>\n",
       "    </tr>\n",
       "    <tr>\n",
       "      <td>1</td>\n",
       "      <td>1000</td>\n",
       "      <td>6</td>\n",
       "      <td>172.0</td>\n",
       "      <td>60.0</td>\n",
       "      <td>23257.0</td>\n",
       "      <td>1</td>\n",
       "      <td>Краснодар</td>\n",
       "      <td>1000</td>\n",
       "      <td>30720</td>\n",
       "      <td>3000</td>\n",
       "      <td>1950</td>\n",
       "      <td>150</td>\n",
       "      <td>1</td>\n",
       "      <td>1</td>\n",
       "      <td>ultra</td>\n",
       "    </tr>\n",
       "    <tr>\n",
       "      <td>2</td>\n",
       "      <td>1000</td>\n",
       "      <td>7</td>\n",
       "      <td>340.0</td>\n",
       "      <td>75.0</td>\n",
       "      <td>14016.0</td>\n",
       "      <td>1</td>\n",
       "      <td>Краснодар</td>\n",
       "      <td>1000</td>\n",
       "      <td>30720</td>\n",
       "      <td>3000</td>\n",
       "      <td>1950</td>\n",
       "      <td>150</td>\n",
       "      <td>1</td>\n",
       "      <td>1</td>\n",
       "      <td>ultra</td>\n",
       "    </tr>\n",
       "    <tr>\n",
       "      <td>3</td>\n",
       "      <td>1000</td>\n",
       "      <td>8</td>\n",
       "      <td>408.0</td>\n",
       "      <td>81.0</td>\n",
       "      <td>14070.0</td>\n",
       "      <td>1</td>\n",
       "      <td>Краснодар</td>\n",
       "      <td>1000</td>\n",
       "      <td>30720</td>\n",
       "      <td>3000</td>\n",
       "      <td>1950</td>\n",
       "      <td>150</td>\n",
       "      <td>1</td>\n",
       "      <td>1</td>\n",
       "      <td>ultra</td>\n",
       "    </tr>\n",
       "    <tr>\n",
       "      <td>4</td>\n",
       "      <td>1000</td>\n",
       "      <td>9</td>\n",
       "      <td>466.0</td>\n",
       "      <td>57.0</td>\n",
       "      <td>14581.0</td>\n",
       "      <td>1</td>\n",
       "      <td>Краснодар</td>\n",
       "      <td>1000</td>\n",
       "      <td>30720</td>\n",
       "      <td>3000</td>\n",
       "      <td>1950</td>\n",
       "      <td>150</td>\n",
       "      <td>1</td>\n",
       "      <td>1</td>\n",
       "      <td>ultra</td>\n",
       "    </tr>\n",
       "    <tr>\n",
       "      <td>5</td>\n",
       "      <td>1000</td>\n",
       "      <td>10</td>\n",
       "      <td>350.0</td>\n",
       "      <td>73.0</td>\n",
       "      <td>14717.0</td>\n",
       "      <td>1</td>\n",
       "      <td>Краснодар</td>\n",
       "      <td>1000</td>\n",
       "      <td>30720</td>\n",
       "      <td>3000</td>\n",
       "      <td>1950</td>\n",
       "      <td>150</td>\n",
       "      <td>1</td>\n",
       "      <td>1</td>\n",
       "      <td>ultra</td>\n",
       "    </tr>\n",
       "    <tr>\n",
       "      <td>6</td>\n",
       "      <td>1000</td>\n",
       "      <td>11</td>\n",
       "      <td>338.0</td>\n",
       "      <td>58.0</td>\n",
       "      <td>14768.0</td>\n",
       "      <td>1</td>\n",
       "      <td>Краснодар</td>\n",
       "      <td>1000</td>\n",
       "      <td>30720</td>\n",
       "      <td>3000</td>\n",
       "      <td>1950</td>\n",
       "      <td>150</td>\n",
       "      <td>1</td>\n",
       "      <td>1</td>\n",
       "      <td>ultra</td>\n",
       "    </tr>\n",
       "    <tr>\n",
       "      <td>7</td>\n",
       "      <td>1000</td>\n",
       "      <td>12</td>\n",
       "      <td>333.0</td>\n",
       "      <td>70.0</td>\n",
       "      <td>9827.0</td>\n",
       "      <td>1</td>\n",
       "      <td>Краснодар</td>\n",
       "      <td>1000</td>\n",
       "      <td>30720</td>\n",
       "      <td>3000</td>\n",
       "      <td>1950</td>\n",
       "      <td>150</td>\n",
       "      <td>1</td>\n",
       "      <td>1</td>\n",
       "      <td>ultra</td>\n",
       "    </tr>\n",
       "    <tr>\n",
       "      <td>8</td>\n",
       "      <td>1001</td>\n",
       "      <td>11</td>\n",
       "      <td>430.0</td>\n",
       "      <td>NaN</td>\n",
       "      <td>18452.0</td>\n",
       "      <td>0</td>\n",
       "      <td>Москва</td>\n",
       "      <td>50</td>\n",
       "      <td>15360</td>\n",
       "      <td>500</td>\n",
       "      <td>550</td>\n",
       "      <td>200</td>\n",
       "      <td>3</td>\n",
       "      <td>3</td>\n",
       "      <td>smart</td>\n",
       "    </tr>\n",
       "    <tr>\n",
       "      <td>9</td>\n",
       "      <td>1001</td>\n",
       "      <td>12</td>\n",
       "      <td>414.0</td>\n",
       "      <td>NaN</td>\n",
       "      <td>14053.0</td>\n",
       "      <td>0</td>\n",
       "      <td>Москва</td>\n",
       "      <td>50</td>\n",
       "      <td>15360</td>\n",
       "      <td>500</td>\n",
       "      <td>550</td>\n",
       "      <td>200</td>\n",
       "      <td>3</td>\n",
       "      <td>3</td>\n",
       "      <td>smart</td>\n",
       "    </tr>\n",
       "  </tbody>\n",
       "</table>\n",
       "</div>"
      ],
      "text/plain": [
       "   user_id  month  calls_sum  messages_sum  traffic_sum  tariff       city  \\\n",
       "0     1000      5      159.0          22.0       2256.0       1  Краснодар   \n",
       "1     1000      6      172.0          60.0      23257.0       1  Краснодар   \n",
       "2     1000      7      340.0          75.0      14016.0       1  Краснодар   \n",
       "3     1000      8      408.0          81.0      14070.0       1  Краснодар   \n",
       "4     1000      9      466.0          57.0      14581.0       1  Краснодар   \n",
       "5     1000     10      350.0          73.0      14717.0       1  Краснодар   \n",
       "6     1000     11      338.0          58.0      14768.0       1  Краснодар   \n",
       "7     1000     12      333.0          70.0       9827.0       1  Краснодар   \n",
       "8     1001     11      430.0           NaN      18452.0       0     Москва   \n",
       "9     1001     12      414.0           NaN      14053.0       0     Москва   \n",
       "\n",
       "   messages_included  mb_per_month_included  minutes_included  \\\n",
       "0               1000                  30720              3000   \n",
       "1               1000                  30720              3000   \n",
       "2               1000                  30720              3000   \n",
       "3               1000                  30720              3000   \n",
       "4               1000                  30720              3000   \n",
       "5               1000                  30720              3000   \n",
       "6               1000                  30720              3000   \n",
       "7               1000                  30720              3000   \n",
       "8                 50                  15360               500   \n",
       "9                 50                  15360               500   \n",
       "\n",
       "   rub_monthly_fee  rub_per_gb  rub_per_message  rub_per_minute tariff_name  \n",
       "0             1950         150                1               1       ultra  \n",
       "1             1950         150                1               1       ultra  \n",
       "2             1950         150                1               1       ultra  \n",
       "3             1950         150                1               1       ultra  \n",
       "4             1950         150                1               1       ultra  \n",
       "5             1950         150                1               1       ultra  \n",
       "6             1950         150                1               1       ultra  \n",
       "7             1950         150                1               1       ultra  \n",
       "8              550         200                3               3       smart  \n",
       "9              550         200                3               3       smart  "
      ]
     },
     "metadata": {},
     "output_type": "display_data"
    }
   ],
   "source": [
    "# просмотр полученного результата\n",
    "display(profit.head(10))"
   ]
  },
  {
   "cell_type": "code",
   "execution_count": 77,
   "id": "ac3ded7c",
   "metadata": {},
   "outputs": [
    {
     "data": {
      "text/plain": [
       "(3214, 15)"
      ]
     },
     "metadata": {},
     "output_type": "display_data"
    }
   ],
   "source": [
    "# проверка размера полученной таблицы\n",
    "display(profit.shape)"
   ]
  },
  {
   "cell_type": "markdown",
   "id": "7992cba3",
   "metadata": {},
   "source": [
    "Общее количество строк в самой большой таблице до объединения составляло `3203`. В свобной таблице получилось `3214` записей, то есть на `11` строк больше. Подобный результат допустим для внешнего объединения и говорит о том, что объединение произошло по внешним областям, которые могли иметь некоторые отличия в датафреймах.\n",
    "\n",
    "Главное, что значение количества строк в сводном датафрейме не меньше количества строк в самой большой таблице, участвующей в объединении, что означает то, что объединение проведено корректно, потерь данных нет."
   ]
  },
  {
   "cell_type": "markdown",
   "id": "6cf14ac9",
   "metadata": {},
   "source": [
    "Приведём к целочисленному типу данные с ежемесячным количеством израсходованных минут `calls_sum`, отправленных сообщений `messages_sum` и объёмом потраченного интернет-трафика `traffic_sum`. Пропущенные значения перед этим заполним `0`, что будет означать что в данном месяце для данного клиента не было оказано соотвествующих услуг."
   ]
  },
  {
   "cell_type": "code",
   "execution_count": 78,
   "id": "9e163bf2",
   "metadata": {},
   "outputs": [],
   "source": [
    "# заполнение пропущенных значений нолями\n",
    "profit.loc[profit['calls_sum'].isna(), 'calls_sum'] = 0\n",
    "profit.loc[profit['messages_sum'].isna(), 'messages_sum'] = 0\n",
    "profit.loc[profit['traffic_sum'].isna(), 'traffic_sum'] = 0\n",
    "\n",
    "# преобразование данных к целочисленному типу\n",
    "profit['calls_sum'] = profit['calls_sum'].astype('int64')\n",
    "profit['messages_sum'] = profit['messages_sum'].astype('int64')\n",
    "profit['traffic_sum'] = profit['traffic_sum'].astype('int64')"
   ]
  },
  {
   "cell_type": "markdown",
   "id": "efd306f2",
   "metadata": {},
   "source": [
    "Для расчёта помесячной выручки с каждого пользователя создадим вспомогательную функцию *find_profit()*. Затем применим её к каждой строке таблицы `profit` с помощью метода *apply()* и занесём полученный результат в новый столбец `profit`."
   ]
  },
  {
   "cell_type": "code",
   "execution_count": 79,
   "id": "3e354d5a",
   "metadata": {},
   "outputs": [],
   "source": [
    "def find_profit(row):\n",
    "    \"\"\"\n",
    "    input: row - строка из датафрейма\n",
    "    ouput: (profit) - рассчитанное значение помесячной выручки для каждого пользователя\n",
    "    \n",
    "    Описание функции:\n",
    "    - из суммарных значений количества звонков, сообщений и трафика вычитаются бесплатные лимиты;\n",
    "    - если остаток после предыдущего шага больше ноля, то он умножается на соотвествующее значение из тарифного плана \n",
    "      и суммируется;\n",
    "    - к сумме, полученной на предыдущем шаге, добавляется значение абонентской платы, соотвествующее тарифу.\n",
    "    \"\"\"\n",
    "    profit = row['rub_monthly_fee']\n",
    "    \n",
    "    # добавим к абонентской плате выручку от превышения лимитов по времени разговоров\n",
    "    if row['calls_sum'] > row['minutes_included']:\n",
    "        profit += (row['calls_sum'] - row['minutes_included']) * row['rub_per_minute']\n",
    "    \n",
    "    # добавим к выручке доход от превышения лимитов по отправленным сообщениям\n",
    "    if row['messages_sum'] > row['messages_included']:\n",
    "        profit += (row['messages_sum'] - row['messages_included']) * row['rub_per_message']\n",
    "    \n",
    "    # добавим к выручке доход от превышения лимитов по израсходованному объёму интернет-трафика\n",
    "    if row['traffic_sum'] > row['mb_per_month_included']:\n",
    "        profit += math.ceil((row['traffic_sum'] - row['mb_per_month_included']) / 1024) * row['rub_per_gb']\n",
    "        \n",
    "    return profit"
   ]
  },
  {
   "cell_type": "code",
   "execution_count": 80,
   "id": "ebff066a",
   "metadata": {},
   "outputs": [],
   "source": [
    "# применим функцию find_profit() к таблице profit\n",
    "profit['profit'] = profit.apply(find_profit, axis=1)"
   ]
  },
  {
   "cell_type": "markdown",
   "id": "3adb99a4",
   "metadata": {},
   "source": [
    "Также для анализа может оказаться полезным значение переплаты пользователей за услуги сверх установленных лимитов. Для расчёта возможной переплаты каждого пользователя создадим вспомогательную функцию *find_overpayment()*. Затем применим её к каждой строке таблицы `profit` с помощью метода *apply()* и занесём полученный результат в новый столбец `overpay`."
   ]
  },
  {
   "cell_type": "code",
   "execution_count": 81,
   "id": "f678b4fd",
   "metadata": {},
   "outputs": [],
   "source": [
    "def find_overpayment(row):\n",
    "    \"\"\"\n",
    "    input: row - строка из датафрейма\n",
    "    ouput: (overpay) - рассчитанное значение возможной переплаты для каждого пользователя\n",
    "    \n",
    "    Описание функции:\n",
    "    - возвращает величину переплаты пользователя как разницу между выручкой и тарифом\n",
    "    \"\"\"\n",
    "    fee = row['rub_monthly_fee']\n",
    "    pay = row['profit']\n",
    "    \n",
    "    # расчёт значения переплаты\n",
    "    if pay > fee:\n",
    "        return pay - fee\n",
    "    else:\n",
    "        return 0"
   ]
  },
  {
   "cell_type": "code",
   "execution_count": 82,
   "id": "d3e7fc91",
   "metadata": {},
   "outputs": [],
   "source": [
    "# применим функцию find_overpayment() к таблице profit\n",
    "profit['overpay'] = profit.apply(find_overpayment, axis=1)"
   ]
  },
  {
   "cell_type": "markdown",
   "id": "33e2dfef",
   "metadata": {},
   "source": [
    "Так как предполагается анализ относительных значений переплат, то добавим также в таблицу `profit` новый столбец `overpay_ratio` как долю переплат по отношению к ежемесячной тарифной плате."
   ]
  },
  {
   "cell_type": "code",
   "execution_count": 83,
   "id": "993ad563",
   "metadata": {},
   "outputs": [],
   "source": [
    "# добавление значений по доле переплат к таблице profit\n",
    "profit['overpay_ratio'] = profit['overpay'] / profit['rub_monthly_fee']"
   ]
  },
  {
   "cell_type": "code",
   "execution_count": 84,
   "id": "2e4b15bd",
   "metadata": {},
   "outputs": [
    {
     "data": {
      "text/html": [
       "<div>\n",
       "<style scoped>\n",
       "    .dataframe tbody tr th:only-of-type {\n",
       "        vertical-align: middle;\n",
       "    }\n",
       "\n",
       "    .dataframe tbody tr th {\n",
       "        vertical-align: top;\n",
       "    }\n",
       "\n",
       "    .dataframe thead th {\n",
       "        text-align: right;\n",
       "    }\n",
       "</style>\n",
       "<table border=\"1\" class=\"dataframe\">\n",
       "  <thead>\n",
       "    <tr style=\"text-align: right;\">\n",
       "      <th></th>\n",
       "      <th>user_id</th>\n",
       "      <th>month</th>\n",
       "      <th>calls_sum</th>\n",
       "      <th>messages_sum</th>\n",
       "      <th>traffic_sum</th>\n",
       "      <th>tariff</th>\n",
       "      <th>city</th>\n",
       "      <th>messages_included</th>\n",
       "      <th>mb_per_month_included</th>\n",
       "      <th>minutes_included</th>\n",
       "      <th>rub_monthly_fee</th>\n",
       "      <th>rub_per_gb</th>\n",
       "      <th>rub_per_message</th>\n",
       "      <th>rub_per_minute</th>\n",
       "      <th>tariff_name</th>\n",
       "      <th>profit</th>\n",
       "      <th>overpay</th>\n",
       "      <th>overpay_ratio</th>\n",
       "    </tr>\n",
       "  </thead>\n",
       "  <tbody>\n",
       "    <tr>\n",
       "      <td>0</td>\n",
       "      <td>1000</td>\n",
       "      <td>5</td>\n",
       "      <td>159</td>\n",
       "      <td>22</td>\n",
       "      <td>2256</td>\n",
       "      <td>1</td>\n",
       "      <td>Краснодар</td>\n",
       "      <td>1000</td>\n",
       "      <td>30720</td>\n",
       "      <td>3000</td>\n",
       "      <td>1950</td>\n",
       "      <td>150</td>\n",
       "      <td>1</td>\n",
       "      <td>1</td>\n",
       "      <td>ultra</td>\n",
       "      <td>1950</td>\n",
       "      <td>0</td>\n",
       "      <td>0.000000</td>\n",
       "    </tr>\n",
       "    <tr>\n",
       "      <td>1</td>\n",
       "      <td>1000</td>\n",
       "      <td>6</td>\n",
       "      <td>172</td>\n",
       "      <td>60</td>\n",
       "      <td>23257</td>\n",
       "      <td>1</td>\n",
       "      <td>Краснодар</td>\n",
       "      <td>1000</td>\n",
       "      <td>30720</td>\n",
       "      <td>3000</td>\n",
       "      <td>1950</td>\n",
       "      <td>150</td>\n",
       "      <td>1</td>\n",
       "      <td>1</td>\n",
       "      <td>ultra</td>\n",
       "      <td>1950</td>\n",
       "      <td>0</td>\n",
       "      <td>0.000000</td>\n",
       "    </tr>\n",
       "    <tr>\n",
       "      <td>2</td>\n",
       "      <td>1000</td>\n",
       "      <td>7</td>\n",
       "      <td>340</td>\n",
       "      <td>75</td>\n",
       "      <td>14016</td>\n",
       "      <td>1</td>\n",
       "      <td>Краснодар</td>\n",
       "      <td>1000</td>\n",
       "      <td>30720</td>\n",
       "      <td>3000</td>\n",
       "      <td>1950</td>\n",
       "      <td>150</td>\n",
       "      <td>1</td>\n",
       "      <td>1</td>\n",
       "      <td>ultra</td>\n",
       "      <td>1950</td>\n",
       "      <td>0</td>\n",
       "      <td>0.000000</td>\n",
       "    </tr>\n",
       "    <tr>\n",
       "      <td>3</td>\n",
       "      <td>1000</td>\n",
       "      <td>8</td>\n",
       "      <td>408</td>\n",
       "      <td>81</td>\n",
       "      <td>14070</td>\n",
       "      <td>1</td>\n",
       "      <td>Краснодар</td>\n",
       "      <td>1000</td>\n",
       "      <td>30720</td>\n",
       "      <td>3000</td>\n",
       "      <td>1950</td>\n",
       "      <td>150</td>\n",
       "      <td>1</td>\n",
       "      <td>1</td>\n",
       "      <td>ultra</td>\n",
       "      <td>1950</td>\n",
       "      <td>0</td>\n",
       "      <td>0.000000</td>\n",
       "    </tr>\n",
       "    <tr>\n",
       "      <td>4</td>\n",
       "      <td>1000</td>\n",
       "      <td>9</td>\n",
       "      <td>466</td>\n",
       "      <td>57</td>\n",
       "      <td>14581</td>\n",
       "      <td>1</td>\n",
       "      <td>Краснодар</td>\n",
       "      <td>1000</td>\n",
       "      <td>30720</td>\n",
       "      <td>3000</td>\n",
       "      <td>1950</td>\n",
       "      <td>150</td>\n",
       "      <td>1</td>\n",
       "      <td>1</td>\n",
       "      <td>ultra</td>\n",
       "      <td>1950</td>\n",
       "      <td>0</td>\n",
       "      <td>0.000000</td>\n",
       "    </tr>\n",
       "    <tr>\n",
       "      <td>5</td>\n",
       "      <td>1000</td>\n",
       "      <td>10</td>\n",
       "      <td>350</td>\n",
       "      <td>73</td>\n",
       "      <td>14717</td>\n",
       "      <td>1</td>\n",
       "      <td>Краснодар</td>\n",
       "      <td>1000</td>\n",
       "      <td>30720</td>\n",
       "      <td>3000</td>\n",
       "      <td>1950</td>\n",
       "      <td>150</td>\n",
       "      <td>1</td>\n",
       "      <td>1</td>\n",
       "      <td>ultra</td>\n",
       "      <td>1950</td>\n",
       "      <td>0</td>\n",
       "      <td>0.000000</td>\n",
       "    </tr>\n",
       "    <tr>\n",
       "      <td>6</td>\n",
       "      <td>1000</td>\n",
       "      <td>11</td>\n",
       "      <td>338</td>\n",
       "      <td>58</td>\n",
       "      <td>14768</td>\n",
       "      <td>1</td>\n",
       "      <td>Краснодар</td>\n",
       "      <td>1000</td>\n",
       "      <td>30720</td>\n",
       "      <td>3000</td>\n",
       "      <td>1950</td>\n",
       "      <td>150</td>\n",
       "      <td>1</td>\n",
       "      <td>1</td>\n",
       "      <td>ultra</td>\n",
       "      <td>1950</td>\n",
       "      <td>0</td>\n",
       "      <td>0.000000</td>\n",
       "    </tr>\n",
       "    <tr>\n",
       "      <td>7</td>\n",
       "      <td>1000</td>\n",
       "      <td>12</td>\n",
       "      <td>333</td>\n",
       "      <td>70</td>\n",
       "      <td>9827</td>\n",
       "      <td>1</td>\n",
       "      <td>Краснодар</td>\n",
       "      <td>1000</td>\n",
       "      <td>30720</td>\n",
       "      <td>3000</td>\n",
       "      <td>1950</td>\n",
       "      <td>150</td>\n",
       "      <td>1</td>\n",
       "      <td>1</td>\n",
       "      <td>ultra</td>\n",
       "      <td>1950</td>\n",
       "      <td>0</td>\n",
       "      <td>0.000000</td>\n",
       "    </tr>\n",
       "    <tr>\n",
       "      <td>8</td>\n",
       "      <td>1001</td>\n",
       "      <td>11</td>\n",
       "      <td>430</td>\n",
       "      <td>0</td>\n",
       "      <td>18452</td>\n",
       "      <td>0</td>\n",
       "      <td>Москва</td>\n",
       "      <td>50</td>\n",
       "      <td>15360</td>\n",
       "      <td>500</td>\n",
       "      <td>550</td>\n",
       "      <td>200</td>\n",
       "      <td>3</td>\n",
       "      <td>3</td>\n",
       "      <td>smart</td>\n",
       "      <td>1350</td>\n",
       "      <td>800</td>\n",
       "      <td>1.454545</td>\n",
       "    </tr>\n",
       "    <tr>\n",
       "      <td>9</td>\n",
       "      <td>1001</td>\n",
       "      <td>12</td>\n",
       "      <td>414</td>\n",
       "      <td>0</td>\n",
       "      <td>14053</td>\n",
       "      <td>0</td>\n",
       "      <td>Москва</td>\n",
       "      <td>50</td>\n",
       "      <td>15360</td>\n",
       "      <td>500</td>\n",
       "      <td>550</td>\n",
       "      <td>200</td>\n",
       "      <td>3</td>\n",
       "      <td>3</td>\n",
       "      <td>smart</td>\n",
       "      <td>550</td>\n",
       "      <td>0</td>\n",
       "      <td>0.000000</td>\n",
       "    </tr>\n",
       "  </tbody>\n",
       "</table>\n",
       "</div>"
      ],
      "text/plain": [
       "   user_id  month  calls_sum  messages_sum  traffic_sum  tariff       city  \\\n",
       "0     1000      5        159            22         2256       1  Краснодар   \n",
       "1     1000      6        172            60        23257       1  Краснодар   \n",
       "2     1000      7        340            75        14016       1  Краснодар   \n",
       "3     1000      8        408            81        14070       1  Краснодар   \n",
       "4     1000      9        466            57        14581       1  Краснодар   \n",
       "5     1000     10        350            73        14717       1  Краснодар   \n",
       "6     1000     11        338            58        14768       1  Краснодар   \n",
       "7     1000     12        333            70         9827       1  Краснодар   \n",
       "8     1001     11        430             0        18452       0     Москва   \n",
       "9     1001     12        414             0        14053       0     Москва   \n",
       "\n",
       "   messages_included  mb_per_month_included  minutes_included  \\\n",
       "0               1000                  30720              3000   \n",
       "1               1000                  30720              3000   \n",
       "2               1000                  30720              3000   \n",
       "3               1000                  30720              3000   \n",
       "4               1000                  30720              3000   \n",
       "5               1000                  30720              3000   \n",
       "6               1000                  30720              3000   \n",
       "7               1000                  30720              3000   \n",
       "8                 50                  15360               500   \n",
       "9                 50                  15360               500   \n",
       "\n",
       "   rub_monthly_fee  rub_per_gb  rub_per_message  rub_per_minute tariff_name  \\\n",
       "0             1950         150                1               1       ultra   \n",
       "1             1950         150                1               1       ultra   \n",
       "2             1950         150                1               1       ultra   \n",
       "3             1950         150                1               1       ultra   \n",
       "4             1950         150                1               1       ultra   \n",
       "5             1950         150                1               1       ultra   \n",
       "6             1950         150                1               1       ultra   \n",
       "7             1950         150                1               1       ultra   \n",
       "8              550         200                3               3       smart   \n",
       "9              550         200                3               3       smart   \n",
       "\n",
       "   profit  overpay  overpay_ratio  \n",
       "0    1950        0       0.000000  \n",
       "1    1950        0       0.000000  \n",
       "2    1950        0       0.000000  \n",
       "3    1950        0       0.000000  \n",
       "4    1950        0       0.000000  \n",
       "5    1950        0       0.000000  \n",
       "6    1950        0       0.000000  \n",
       "7    1950        0       0.000000  \n",
       "8    1350      800       1.454545  \n",
       "9     550        0       0.000000  "
      ]
     },
     "metadata": {},
     "output_type": "display_data"
    }
   ],
   "source": [
    "# проверка полученного результата\n",
    "display(profit.head(10))"
   ]
  },
  {
   "cell_type": "markdown",
   "id": "873ad659",
   "metadata": {},
   "source": [
    "Данные о помесячной выручке, переплатах и доле переплат относительно месячных тарифов для каждого пользователя успешно добавлены в таблицу `profit`."
   ]
  },
  {
   "cell_type": "markdown",
   "id": "e56b4b27",
   "metadata": {},
   "source": [
    "### Выводы по предобработке данных"
   ]
  },
  {
   "cell_type": "markdown",
   "id": "fc41990d",
   "metadata": {},
   "source": [
    "* Все данные, относящиеся к различным датам, были преобразованы к типу данных `datetime`.\n",
    "* Как и заявлено в описании к данным, они соотвествуют периоду полного календарного `2018` года.\n",
    "* Количество совершаемых звонков и отправляемых сообщений, а также объём расходуемого пользователями интернет-трафика, растут линейно от месяца к месяцу в наблюдаемом временном промежутке, что может говорить о стабильном развитии компании Мегалайн и росте лояльности у её клиентов.\n",
    "* Распределения по продолжительности звонков и израсходованному интернет-трафику близки к распределению Пуассона. Данные скошены вправо.\n",
    "* Почти половину пользователей Мегалайна составляют жители трёх крупнейших городов: Москвы, Санкт-Петербурга и Новосибирска.\n",
    "* Для последующих статистических проверок гипотез произведены дополнительные расчёты и добавлены такие данные как: количество совершённых звонков и израсходованных минут разговора по месяцам, количество отправленных сообщений по месяцам, объём израсходованного интернет-трафика по месяцам и помесячная выручка с каждого пользователя."
   ]
  },
  {
   "cell_type": "markdown",
   "id": "ab9d4973",
   "metadata": {},
   "source": [
    "## Анализ данных"
   ]
  },
  {
   "cell_type": "markdown",
   "id": "747e1876",
   "metadata": {},
   "source": [
    "### Анализ количества минут разговоров"
   ]
  },
  {
   "cell_type": "markdown",
   "id": "4fb5dea4",
   "metadata": {},
   "source": [
    "Для анализа данных и расчёта статистических показателей по исследуемым тарифам создадим вспомогательную функцию `get_stats`."
   ]
  },
  {
   "cell_type": "code",
   "execution_count": 85,
   "id": "eaf6dacc",
   "metadata": {},
   "outputs": [],
   "source": [
    "# функция для расчёта статистических характеристик\n",
    "def get_stats(column, tariff):\n",
    "    \"\"\"\n",
    "    input:    column - параметр (столбец) из датафрейма profit, для которого рассчитываются статистические параметры\n",
    "              tariff - тарифный план, для которого производятся расчёты\n",
    "    ouput:    (profit) - рассчитанное значение помесячной выручки для каждого пользователя\n",
    "    \n",
    "    Описание функции:\n",
    "    - функция выполняет срез из датафрейма profit по заданному тарифу tariff;\n",
    "    - рассчитывает средние месячные значения по параметру column по каждому пользователю;\n",
    "    - выводит статистические показатели по срезу (среднее, дисперсию и стандартное отклонение).\n",
    "    \"\"\"    \n",
    "    # получим из датафрейма profit статистические данные по column для пользователей тарифа tariff\n",
    "    # полученные данные сгруппируем по user_id и вычислим среднее значение column по имеющимся данным\n",
    "    stat = (\n",
    "        profit.loc[(profit['tariff_name'] == tariff) & (profit[column] > 0)]\n",
    "        .groupby('user_id')[column]\n",
    "        .agg('mean')\n",
    "    )\n",
    "    \n",
    "    print(f'Тариф -- \"{tariff.upper()}\" --')\n",
    "    # подсчёт среднего значения и его вывод\n",
    "    print(f'Среднее значение: {round(stat.mean(), 0)}')\n",
    "    # подсчёт значения дисперсии и её вывод\n",
    "    print(f'Дисперсия: {round(np.var(stat), 0)}')\n",
    "    # подсчёт стандартного отклонения как квадратного корня из дисперсии\n",
    "    print(f'Стандартное отклонение: {round(np.sqrt(np.var(stat)), 0)}')\n",
    "    return stat"
   ]
  },
  {
   "cell_type": "code",
   "execution_count": 86,
   "id": "42e4a482",
   "metadata": {},
   "outputs": [
    {
     "name": "stdout",
     "output_type": "stream",
     "text": [
      "Тариф -- \"SMART\" --\n",
      "Среднее значение: 421.0\n",
      "Дисперсия: 20519.0\n",
      "Стандартное отклонение: 143.0\n"
     ]
    }
   ],
   "source": [
    "# просмотр статистических характеристик для анализа минут разговоров для тарифа smart\n",
    "minutes_smart = get_stats('calls_sum', 'smart')"
   ]
  },
  {
   "cell_type": "code",
   "execution_count": 87,
   "id": "c0ad119f",
   "metadata": {},
   "outputs": [
    {
     "name": "stdout",
     "output_type": "stream",
     "text": [
      "Тариф -- \"ULTRA\" --\n",
      "Среднее значение: 547.0\n",
      "Дисперсия: 71369.0\n",
      "Стандартное отклонение: 267.0\n"
     ]
    }
   ],
   "source": [
    "# просмотр статистических характеристик для анализа минут разговоров для тарифа ultra\n",
    "minutes_ultra = get_stats('calls_sum', 'ultra')"
   ]
  },
  {
   "cell_type": "markdown",
   "id": "c7e0f9c1",
   "metadata": {},
   "source": [
    "Чтобы избежать дублирования кода и иметь возможность сопоставления различных параметров сравниваемых тарифных планов, создадим вспомогательную функцию, которая построит две гистограммы (для тарифов `smart` и `ultra`) в единой системе координат."
   ]
  },
  {
   "cell_type": "code",
   "execution_count": 88,
   "id": "456acb04",
   "metadata": {},
   "outputs": [],
   "source": [
    "# функция для отрисовки двойных гистограмм по тарифам smart и ultra для исследуемого параметра\n",
    "def show_double_hist(smart, ultra, axis_name, bins_count, range_values, smart_lim = 0, ultra_lim = 0):\n",
    "    \"\"\"\n",
    "    input: smart (pandas.Series) - срез данных по тарифу smart с усреднёнными значениями исследуемого параметра\n",
    "           ultra (pandas.Series) - срез данных по тарифу ultra с усреднёнными значениями исследуемого параметра\n",
    "           axis_name (str) - название исследуемого параметра\n",
    "           bins_count (int) - количество корзин в гистограмме\n",
    "           range_values (tuple) - пределы значений исследуемого параметра для построения гистограмм\n",
    "           smart_lim (int) - лимит по исследуемому параметру для тарифа smart\n",
    "           ultra_lim (int) - лимит по исследуемому параметру для тарифа ultra\n",
    "    ouput: None\n",
    "    Функция отрисовывает парную гистограмму срезов для тарифов smart и ultra для исследуемого параметра \n",
    "    в единой системе координат.\n",
    "    \"\"\"\n",
    "    \n",
    "    # параметры графика для тарифа smart\n",
    "    ax = smart.plot(\n",
    "        kind = 'hist',\n",
    "        bins = bins_count,\n",
    "        range = range_values,\n",
    "        linewidth = 3,\n",
    "        density = True,\n",
    "        alpha = 0.7,\n",
    "        figsize=(9, 6),\n",
    "        grid = True,\n",
    "        title = 'Плотность распределения',\n",
    "        legend = True,\n",
    "        label = 'smart'\n",
    "        )\n",
    "    \n",
    "    # параметры графика для тарифа ultra\n",
    "    ultra.plot(\n",
    "        kind = 'hist',\n",
    "        ax = ax,\n",
    "        range = range_values,\n",
    "        bins = bins_count,\n",
    "        linewidth = 3,        \n",
    "        density = True,\n",
    "        alpha = 0.7,\n",
    "        figsize=(9, 6),\n",
    "        grid = True,\n",
    "        legend = True,\n",
    "        label = 'ultra',\n",
    "        )\n",
    "    \n",
    "    # создание заголовка для графика и подписей к осям\n",
    "    ax.set_title(axis_name + '. Плотность распределения', fontsize=14)\n",
    "    ax.set_xlabel(axis_name + '. Среднее месячное значение', fontsize=12)\n",
    "    ax.set_ylabel('Плотность распределения', fontsize=12)\n",
    "    \n",
    "    # границы предоплаченных периодов для исследуемого параметра\n",
    "    if smart_lim:\n",
    "        plt.axvline(x = smart_lim, color = 'steelblue', linestyle = '--')\n",
    "    if ultra_lim:\n",
    "        plt.axvline(x = ultra_lim, color = 'peru', linestyle = '--')\n",
    "    plt.show();"
   ]
  },
  {
   "cell_type": "code",
   "execution_count": 89,
   "id": "8ce28eb6",
   "metadata": {},
   "outputs": [
    {
     "data": {
      "image/png": "[encoded data removed]",
      "text/plain": [
       "<Figure size 648x432 with 1 Axes>"
      ]
     },
     "metadata": {
      "needs_background": "light"
     },
     "output_type": "display_data"
    }
   ],
   "source": [
    "# построение гистограммы распределении минут разговоров для тарифных планов с помощью функции show_double_hist()\n",
    "show_double_hist(minutes_smart,\n",
    "                 minutes_ultra,\n",
    "                 'Время разговора (мин.)',\n",
    "                 bins_count=20,\n",
    "                 range_values=(0, 1800),\n",
    "                 smart_lim = 500\n",
    "                )"
   ]
  },
  {
   "cell_type": "markdown",
   "id": "ad8c79b9",
   "metadata": {},
   "source": [
    "* Пользователи тарифа *smart* тратят в среднем на разговоры `421` минуту, а тарифа *ultra* - `547` минут.\n",
    "* Стандартное отклонение по времени разговора для тарифа *smart* составило `143`, а для тарифа *ultra* - `267`, что говорит о том, что для тарифа *smart* значения более плотно сгруппированы вокруг среднего значения, или по-другому разброс значений для тарифа *ultra* больше, чем для тарифа *smart*.\n",
    "* На гистограммах наблюдается большее смещение вправо средней продолжительности звонков на тарифе *ultra*. Гистограммы, в целом, отображают распределение близкое к нормальному с некоторым смещением вправо для графика тарифного плана *ultra*.\n",
    "* После достижения лимита на продолжительность разговоров в `500` минут по тарифному плану *smart* наблюдается заметное снижение количества общей продолжительности разговоров. Из этого можно сделать вывод, что пользователи стараются не превышать предоплаченный лимит по тарифному плану. У пользователей тарифного плана *ultra* включённый в абонентскую плату лимит на продолжительность разговоров существенно выше, составляет `3000` минут и по графикам можно отметить, что хотя пользователи данного тарифа и пользуются его расширенными возможностями, подавляющему их большинству не грозит перерасход по данному показателю."
   ]
  },
  {
   "cell_type": "markdown",
   "id": "1513e837",
   "metadata": {},
   "source": [
    "### Анализ потраченного интернет-трафика"
   ]
  },
  {
   "cell_type": "markdown",
   "id": "c19dae5c",
   "metadata": {},
   "source": [
    "Аналогичный анализ проведём для объёма израсходованного пользователями тарифных планов интернет-трафика."
   ]
  },
  {
   "cell_type": "code",
   "execution_count": 90,
   "id": "cda1b4ee",
   "metadata": {},
   "outputs": [
    {
     "name": "stdout",
     "output_type": "stream",
     "text": [
      "Тариф -- \"SMART\" --\n",
      "Среднее значение: 16237.0\n",
      "Дисперсия: 13118523.0\n",
      "Стандартное отклонение: 3622.0\n"
     ]
    }
   ],
   "source": [
    "# просмотр статистических характеристик для анализа израсходованного интернет-трафика для тарифа smart\n",
    "internet_smart = get_stats('traffic_sum', 'smart')"
   ]
  },
  {
   "cell_type": "code",
   "execution_count": 91,
   "id": "0e230ebb",
   "metadata": {},
   "outputs": [
    {
     "name": "stdout",
     "output_type": "stream",
     "text": [
      "Тариф -- \"ULTRA\" --\n",
      "Среднее значение: 19762.0\n",
      "Дисперсия: 66414724.0\n",
      "Стандартное отклонение: 8150.0\n"
     ]
    }
   ],
   "source": [
    "# просмотр статистических характеристик для анализа израсходованного интернет-трафика для тарифа ultra\n",
    "internet_ultra = get_stats('traffic_sum', 'ultra')"
   ]
  },
  {
   "cell_type": "code",
   "execution_count": 92,
   "id": "c187968f",
   "metadata": {},
   "outputs": [
    {
     "data": {
      "image/png": "[encoded data removed]",
      "text/plain": [
       "<Figure size 648x432 with 1 Axes>"
      ]
     },
     "metadata": {
      "needs_background": "light"
     },
     "output_type": "display_data"
    }
   ],
   "source": [
    "# построение гистограммы распределении минут объёма израсходованного интернет-трафика для тарифных планов\n",
    "# с помощью функции show_double_hist()\n",
    "show_double_hist(internet_smart,\n",
    "                 internet_ultra,\n",
    "                 'Интернет-трафик (мб)',\n",
    "                 bins_count=20,\n",
    "                 range_values=(0, 50000),\n",
    "                 smart_lim = 15360,\n",
    "                 ultra_lim = 30720\n",
    "                )"
   ]
  },
  {
   "cell_type": "markdown",
   "id": "502708ee",
   "metadata": {},
   "source": [
    "* Пользователи тарифа *smart* тратят в среднем `16237` мегабайт интернет-трафика, а тарифа *ultra* - `19762` мегабайт.\n",
    "* Стандартное отклонение по объёму израсходованного интерент-трафика для тарифа *smart* составило `3622`, а для тарифа *ultra* - `8150`, что говорит о том, что для тарифа *smart* значения более плотно сгруппированы вокруг среднего значения, или по-другому разброс значений для тарифа *ultra* больше, чем для тарифа *smart*.\n",
    "* На гистограмме наблюдается практически идеально симметричное относительно среднего значения нормальное распределение для тарифа *smart*. Для тарифа *ultra* наблюдается несколько большее смещение вправо.\n",
    "* С объёмом расходуемого интернет-трафика картина несколько иная. Здесь уже пользователи тарифного плаана *smart* более охотно идут или вынуждены идти на превышение предоплаченного лимита в `15` гигабайт (`15360` мегабайт), в отличие от пользователей тарифного плана *ultra* для которого наблюдается резкое сокращение расходуемого интернет-трафика после достижения лимита в 30 гигабайт (`30720` мегабайт)."
   ]
  },
  {
   "cell_type": "markdown",
   "id": "c0228470",
   "metadata": {},
   "source": [
    "### Анализ количества отправленных сообщений"
   ]
  },
  {
   "cell_type": "markdown",
   "id": "133938ff",
   "metadata": {},
   "source": [
    "Ещё одним параметром для анализа является количество отправленных пользователями тарифов `smart` и `ultra` сообщений."
   ]
  },
  {
   "cell_type": "code",
   "execution_count": 93,
   "id": "21744202",
   "metadata": {},
   "outputs": [
    {
     "name": "stdout",
     "output_type": "stream",
     "text": [
      "Тариф -- \"SMART\" --\n",
      "Среднее значение: 38.0\n",
      "Дисперсия: 615.0\n",
      "Стандартное отклонение: 25.0\n"
     ]
    }
   ],
   "source": [
    "# просмотр статистических характеристик по количеству отправленных сообщений для тарифа smart\n",
    "messages_smart = get_stats('messages_sum', 'smart')"
   ]
  },
  {
   "cell_type": "code",
   "execution_count": 94,
   "id": "7f5cb3f7",
   "metadata": {},
   "outputs": [
    {
     "name": "stdout",
     "output_type": "stream",
     "text": [
      "Тариф -- \"ULTRA\" --\n",
      "Среднее значение: 65.0\n",
      "Дисперсия: 1868.0\n",
      "Стандартное отклонение: 43.0\n"
     ]
    }
   ],
   "source": [
    "# просмотр статистических характеристик по количеству отправленных сообщений для тарифа ultra\n",
    "messages_ultra = get_stats('messages_sum', 'ultra')"
   ]
  },
  {
   "cell_type": "code",
   "execution_count": 95,
   "id": "313846cb",
   "metadata": {},
   "outputs": [
    {
     "data": {
      "image/png": "[encoded data removed]",
      "text/plain": [
       "<Figure size 648x432 with 1 Axes>"
      ]
     },
     "metadata": {
      "needs_background": "light"
     },
     "output_type": "display_data"
    }
   ],
   "source": [
    "# построение гистограммы распределении по количеству отправленных сообщений с помощью функции show_double_hist()\n",
    "show_double_hist(messages_smart,\n",
    "                 messages_ultra,\n",
    "                 'Количество сообщений',\n",
    "                 bins_count=20,\n",
    "                 range_values=(0, 200),\n",
    "                 smart_lim = 50,\n",
    "                )"
   ]
  },
  {
   "cell_type": "markdown",
   "id": "2cb02ea6",
   "metadata": {},
   "source": [
    "* Пользователи тарифа *smart* отправляют в среднем `38` сообщений, а тарифа *ultra* - `67` сообщений.\n",
    "* Стандартное отклонение по объёму израсходованного интерент-трафика для тарифа *smart* составило `26` единиц, а для тарифа *ultra* - `44`, что говорит о том, что для тарифа *smart* значения более плотно сгруппированы вокруг среднего значения, или по-другому разброс значений для тарифа *ultra* больше, чем для тарифа *smart*.\n",
    "* На гистограммах можно отметить более выраженное смещение вправо для тарифа *ultra* относительно тарифа *smart*. Форма гистограмм напоминают распределение Пуассона. Отдельные пики и общее отсуствие сглажености могут быть объяснены малым количеством исследуемых данных (всего 500 пользователей на оба тарифных плана).\n",
    "* После достижения лимита на количество сообщений в `50` единиц по тарифному плану *smart* наблюдается резкое снижение количества сообщений из чего можно сделать вывод, что пользователи стараются не превышать предоплаченный лимит по тарифному плану. Пользователи же тарифного плана *ultra* в своем большинстве не расходуют и пятой части лимита на сообщения, равного `1000` единиц."
   ]
  },
  {
   "cell_type": "markdown",
   "id": "01734348",
   "metadata": {},
   "source": [
    "### Анализ выручки от пользователей"
   ]
  },
  {
   "cell_type": "markdown",
   "id": "3f8275cd",
   "metadata": {},
   "source": [
    "Проведём анализ выручки от пользователей оператора связи по тарифам `smart` и `ultra`."
   ]
  },
  {
   "cell_type": "code",
   "execution_count": 96,
   "id": "920692b9",
   "metadata": {},
   "outputs": [
    {
     "name": "stdout",
     "output_type": "stream",
     "text": [
      "Тариф -- \"SMART\" --\n",
      "Среднее значение: 1330.0\n",
      "Дисперсия: 367217.0\n",
      "Стандартное отклонение: 606.0\n"
     ]
    }
   ],
   "source": [
    "# просмотр статистических характеристик по выручке от пользователей для тарифа smart\n",
    "profit_smart = get_stats('profit', 'smart')"
   ]
  },
  {
   "cell_type": "code",
   "execution_count": 97,
   "id": "50f30505",
   "metadata": {},
   "outputs": [
    {
     "name": "stdout",
     "output_type": "stream",
     "text": [
      "Тариф -- \"ULTRA\" --\n",
      "Среднее значение: 2087.0\n",
      "Дисперсия: 89898.0\n",
      "Стандартное отклонение: 300.0\n"
     ]
    }
   ],
   "source": [
    "# просмотр статистических характеристик по выручке от пользователей для тарифа ultra\n",
    "profit_ultra = get_stats('profit', 'ultra')"
   ]
  },
  {
   "cell_type": "code",
   "execution_count": 98,
   "id": "3d137a35",
   "metadata": {},
   "outputs": [
    {
     "data": {
      "image/png": "[encoded data removed]",
      "text/plain": [
       "<Figure size 648x432 with 1 Axes>"
      ]
     },
     "metadata": {
      "needs_background": "light"
     },
     "output_type": "display_data"
    }
   ],
   "source": [
    "# построение гистограммы распределении по выручке от пользователей с помощью функции show_double_hist()\n",
    "show_double_hist(profit_smart,\n",
    "                 profit_ultra,\n",
    "                 'Выручка',\n",
    "                 bins_count=20,\n",
    "                 range_values=(500, 5000),\n",
    "                 smart_lim = 550,\n",
    "                 ultra_lim = 1950\n",
    "                )"
   ]
  },
  {
   "cell_type": "markdown",
   "id": "47c145c8",
   "metadata": {},
   "source": [
    "Посмотрим как именяется выручка от пользователей по месяцам на протяжении исследуемого периода. Для этого построим линейный график зависимости выручки по месяцам для тарифных планов `smart` и `ultra`. Для удобства построения такого графика создадим вспомогательную функцию *show_double_line_chart()*."
   ]
  },
  {
   "cell_type": "code",
   "execution_count": 99,
   "id": "0d9f1d8d",
   "metadata": {},
   "outputs": [],
   "source": [
    "# функция для отрисовки парных линейных графиков \n",
    "def show_double_line_chart(smart, ultra, y_data, range_value, ylim):\n",
    "    \"\"\"\n",
    "    input: smart (pandas.Series) - исследуемый срез данных по тарифу smart\n",
    "           ultra (pandas.Series) - исследуемый срез данных по тарифу ultra\n",
    "           column (str) - название параметра (столбца) по которому будет произведена группировка данных\n",
    "           range_value (tuple) - пределы значений в столбце column для построения графика\n",
    "           ylim (tuple) - пределы значений по у оси для построения гистограммы\n",
    "    ouput: None\n",
    "    Функция отрисовывает парные линейные графики из для тарифов smart и ultra в единой системе координат по заданному\n",
    "    параметру.\n",
    "    \"\"\"\n",
    "    # параметры графика для тарифа smart\n",
    "    ax = (smart.plot(y=f'{y_data}',\n",
    "                     style='-o',\n",
    "                     figsize=(8, 5),\n",
    "                     ylim = ylim,\n",
    "                     label = 'smart',\n",
    "                     grid=True\n",
    "                )\n",
    "         )\n",
    "    # параметры графика для тарифа ultra\n",
    "    (\n",
    "        ultra.plot(ax = ax,\n",
    "                   y=f'{y_data}',\n",
    "                   style='-o',\n",
    "                   figsize=(8, 5),\n",
    "                   ylim = ylim,\n",
    "                   label = 'ultra',\n",
    "                   grid=True\n",
    "             )\n",
    "    )\n",
    "    \n",
    "    \n",
    "    if y_data == 'profit':\n",
    "        # создание заголовка для графика и подписей к осям\n",
    "        ax.set_title('График месячной выручки', fontsize=14)\n",
    "        ax.set_xlabel('Месяцы', fontsize=12)\n",
    "        ax.set_ylabel('Месячная выручка', fontsize=12)\n",
    "        \n",
    "        # уровень ежемесячной платы по тарифу smart\n",
    "        plt.axhline(y = 550, color = 'C0', linestyle = '--')\n",
    "        # уровень ежемесячной платы по тарифу ultra\n",
    "        plt.axhline(y = 1950, color = 'darkorange', linestyle = '--')\n",
    "    elif y_data == 'overpay_ratio':\n",
    "        # создание заголовка для графика и подписей к осям\n",
    "        ax.set_title('Доля переплат пользователей по месяцам', fontsize=14)\n",
    "        ax.set_xlabel('Месяцы', fontsize=12)\n",
    "        ax.set_ylabel('Доля переплат', fontsize=12)\n",
    "    plt.show();"
   ]
  },
  {
   "cell_type": "code",
   "execution_count": 100,
   "id": "3fdc3800",
   "metadata": {},
   "outputs": [
    {
     "data": {
      "image/png": "[encoded data removed]",
      "text/plain": [
       "<Figure size 576x360 with 1 Axes>"
      ]
     },
     "metadata": {
      "needs_background": "light"
     },
     "output_type": "display_data"
    }
   ],
   "source": [
    "# построение графика помесячной прибыли для тарифов smart и ultra\n",
    "show_double_line_chart(profit.loc[(profit['tariff_name'] == 'smart') & (profit['profit'] > 0)]\n",
    "                       .groupby('month')['profit']\n",
    "                       .agg(profit='mean'),\n",
    "                       profit.loc[(profit['tariff_name'] == 'ultra') & (profit['profit'] > 0)]\n",
    "                       .groupby('month')['profit']\n",
    "                       .agg(profit='mean'),\n",
    "                       'profit',\n",
    "                       range_value=(1, 12),\n",
    "                       ylim=(450, 2500))"
   ]
  },
  {
   "cell_type": "markdown",
   "id": "d7e7a153",
   "metadata": {},
   "source": [
    "Также проанализируем сколько переплачивают пользователи тарифных планов `smart` и `ultra` сверх ежемесячной абонентской платы. Для начала посмотрим на график средних значений доли переплат по месяцам."
   ]
  },
  {
   "cell_type": "code",
   "execution_count": 101,
   "id": "2245205d",
   "metadata": {},
   "outputs": [
    {
     "data": {
      "image/png": "[encoded data removed]",
      "text/plain": [
       "<Figure size 576x360 with 1 Axes>"
      ]
     },
     "metadata": {
      "needs_background": "light"
     },
     "output_type": "display_data"
    }
   ],
   "source": [
    "# построение графика средней доли переплат для тарифов smart и ultra\n",
    "show_double_line_chart(profit.loc[(profit['tariff_name'] == 'smart') & (profit['overpay_ratio'] > 0)]\n",
    "                       .groupby('month')['overpay_ratio']\n",
    "                       .agg(overpay_ratio='mean'),\n",
    "                       profit.loc[(profit['tariff_name'] == 'ultra') & (profit['overpay_ratio'] > 0)]\n",
    "                       .groupby('month')['overpay_ratio']\n",
    "                       .agg(overpay_ratio='mean'),\n",
    "                       'overpay_ratio',\n",
    "                       range_value=(1, 12),\n",
    "                       ylim=(0, 3))"
   ]
  },
  {
   "cell_type": "markdown",
   "id": "a27db3a9",
   "metadata": {},
   "source": [
    "Как следует из графика выше, у пользователей тарифного плана `smart`, которым приходится использовать услуги сверх тарифного пакета, значение переплат всегда превышает `100%` рубеж и очень часто `150%`. В то же время пользователи тарифного плана `ultra` редко переплачивают свыше `50%`.\n",
    "\n",
    "Далее посмотрим на переплаты по тарифам с накопительным эффектом. Для этого вместо агрегирующей функции, вычисляющей среднее значение `mean`, используем агрегирующую фунцию для суммирования значений долей переплат `sum`."
   ]
  },
  {
   "cell_type": "code",
   "execution_count": 102,
   "id": "ac642daa",
   "metadata": {},
   "outputs": [
    {
     "data": {
      "image/png": "[encoded data removed]",
      "text/plain": [
       "<Figure size 576x360 with 1 Axes>"
      ]
     },
     "metadata": {
      "needs_background": "light"
     },
     "output_type": "display_data"
    }
   ],
   "source": [
    "# построение графика доли переплат для тарифов smart и ultra\n",
    "show_double_line_chart(profit.loc[(profit['tariff_name'] == 'smart') & (profit['overpay_ratio'] > 0)]\n",
    "                       .groupby('month')['overpay_ratio']\n",
    "                       .agg(overpay_ratio='sum'),\n",
    "                       profit.loc[(profit['tariff_name'] == 'ultra') & (profit['overpay_ratio'] > 0)]\n",
    "                       .groupby('month')['overpay_ratio']\n",
    "                       .agg(overpay_ratio='sum'),\n",
    "                       'overpay_ratio',\n",
    "                       range_value=(1, 12),\n",
    "                       ylim=(0, 700))"
   ]
  },
  {
   "cell_type": "markdown",
   "id": "7c7683c1",
   "metadata": {},
   "source": [
    "Также для большей наглядности посмотрим на общее количество переплат на сравниваемых тарифных планах. Для этого вместо агрегирующей функции, вычисляющей значение суммы `sum` долей переплат, используем агрегирующую фунцию подсчёта общего количества переплат `count`."
   ]
  },
  {
   "cell_type": "code",
   "execution_count": 103,
   "id": "1e38cb09",
   "metadata": {},
   "outputs": [
    {
     "data": {
      "image/png": "[encoded data removed]",
      "text/plain": [
       "<Figure size 576x360 with 1 Axes>"
      ]
     },
     "metadata": {
      "needs_background": "light"
     },
     "output_type": "display_data"
    }
   ],
   "source": [
    "# построение графика доли переплат для тарифов smart и ultra\n",
    "show_double_line_chart(profit.loc[(profit['tariff_name'] == 'smart') & (profit['overpay_ratio'] > 0)]\n",
    "                       .groupby('month')['overpay_ratio']\n",
    "                       .agg(overpay_ratio='count'),\n",
    "                       profit.loc[(profit['tariff_name'] == 'ultra') & (profit['overpay_ratio'] > 0)]\n",
    "                       .groupby('month')['overpay_ratio']\n",
    "                       .agg(overpay_ratio='count'),\n",
    "                       'overpay_ratio',\n",
    "                       range_value=(1, 12),\n",
    "                       ylim=(0, 300))"
   ]
  },
  {
   "cell_type": "markdown",
   "id": "1337c366",
   "metadata": {},
   "source": [
    "### Выводы по анализу данных"
   ]
  },
  {
   "cell_type": "markdown",
   "id": "51bfa8f6",
   "metadata": {},
   "source": [
    "* По тарифным планам `smart` и `ultra` для значений общей продолжительности разговоров, количества отправленных сообщений и объёма израсходованного интернет-трафика расчитаны статистические характеристики: средние значения, дисперсии и стандартные отклонения.\n",
    "* По общей продолжительности разговоров, количеству отправленных сообщений и объёму израсходованного интернет-трафика для обоих тарифных планов построены парные гистограммы распределения данных показателей.\n",
    "* По графикам отпределено, что у пользователей тарифного плана `smart` наблюдается нехватка лимитов по количеству разговоров и отправляемых сообщений, что приводит к нежеланию пользоваться ими далее и платить за превышение. При этом, пользователи данного тарифного плана более охотно идут или вынуждены идти на превышение лимитов по объёму израсходованного интернет-трафика. На тарифном плане `ultra` лимиты по количеству разговоров и отправляемых сообщений значительно выше, абоненты ими активно пользуются и всё равно не приближаются к их исчерпанию, чего не скажешь об объёме расходуемого интернет-трафика. Пользователи тарифного плана `ultra`, как следует из графика, достигают предоплаченного лимита и далее стараются экономить трафик и не переплачивать за интернет сверх тарифного пакета.\n",
    "* У пользователей тарифного плана `smart`, которым приходится использовать услуги сверх тарифного пакета, значение переплат всегда превышает `100%` рубеж и очень часто `150%`. В то же время пользователи тарифного плана `ultra` редко переплачивают свыше `50%`. Разница в переплатах очень сильно проявляется, если посмотреть на данные с накопительным эффектом. Для тарифного плана `smart` в этом случае наблюдается ежемесячный линейный рост, в то время как на тарифе `ultra` переплаты сохраняют стабильный уровень. Многочисленные переплаты у пользователей тарифного плана `smart` и их стремительный рост могут подорвать лояльность клиентов оператора сотовой связи «Мегалайн».\n",
    "* Тарифный план `ultra` демонстрирует более высокую прибыльность по графику месячной выручки по сравнению с тарифом `smart`, но необходимо статистическое подтверждение, что данный результат не является случайным."
   ]
  },
  {
   "cell_type": "markdown",
   "id": "8ce0b8b8",
   "metadata": {},
   "source": [
    "## Проверка гипотез"
   ]
  },
  {
   "cell_type": "markdown",
   "id": "cde97e99",
   "metadata": {},
   "source": [
    "### Средняя выручка на тарифах \"Смарт\" и \"Ультра\" различаются"
   ]
  },
  {
   "cell_type": "markdown",
   "id": "338b2498",
   "metadata": {},
   "source": [
    "Сформулируем нулевую гипотезу H<sub>0</sub>:\n",
    "* Средняя выручка пользователей тарифа «Смарт» равна средней выручке тарифа «Ультра».\n",
    "\n",
    "Альтернативная гипотеза H<sub>1</sub>:\n",
    "* Средняя выручка пользователей тарифов «Смарт» и «Ультра» различается.\n",
    "\n",
    "Для проверки гипотезы определим пороговое значение уровня значимости `alpha = 0.05`, сформируем соотвествующие выборки и сравним их средние t-тестом с помощью функции `st.ttest_ind`, так как выборки независимы."
   ]
  },
  {
   "cell_type": "code",
   "execution_count": 104,
   "id": "837c74ae",
   "metadata": {},
   "outputs": [],
   "source": [
    "# сформируем выборку по выручке от каждого пользователя по тарифу smart\n",
    "profit_smart = (\n",
    "    profit.loc[profit['tariff_name'] == 'smart']\n",
    "    .groupby('user_id')['profit']\n",
    "    .agg('mean')\n",
    ")\n",
    "\n",
    "# сформируем выборку по выручке от каждого пользователя по тарифу ultra\n",
    "profit_ultra = (\n",
    "    profit.loc[profit['tariff_name'] == 'ultra']\n",
    "    .groupby('user_id')['profit']\n",
    "    .agg('mean')\n",
    ")"
   ]
  },
  {
   "cell_type": "code",
   "execution_count": 105,
   "id": "7bd145db",
   "metadata": {},
   "outputs": [
    {
     "data": {
      "text/plain": [
       "(350, 148)"
      ]
     },
     "execution_count": 105,
     "metadata": {},
     "output_type": "execute_result"
    }
   ],
   "source": [
    "# проверим количество строк в каждой выборке\n",
    "profit_smart.shape[0], profit_ultra.shape[0]"
   ]
  },
  {
   "cell_type": "markdown",
   "id": "b565f43f",
   "metadata": {},
   "source": [
    "Так как выборки разного размера и можно предположить, что дисперсии у них также разные, для функции `st.ttest_ind` укажем параметр `equal_var = False`."
   ]
  },
  {
   "cell_type": "code",
   "execution_count": 106,
   "id": "ef0ce681",
   "metadata": {},
   "outputs": [
    {
     "name": "stdout",
     "output_type": "stream",
     "text": [
      "p-значение:  1.5026228308148506e-58\n"
     ]
    }
   ],
   "source": [
    "# определение p-уровня значимости для проверки гипотезы\n",
    "results = st.ttest_ind(profit_smart, profit_ultra, equal_var=False)\n",
    "print('p-значение: ', results.pvalue)"
   ]
  },
  {
   "cell_type": "markdown",
   "id": "6743aea0",
   "metadata": {},
   "source": [
    "* Для нулевой гитпотезы о равенстве средней выручки пользователей тарифов «Смарт» и «Ультра» получено p-значение гораздо меньшее уровня значимости `alpha = 0.05` и практически равное 0. Исходя из этого, отвергаем нулевую гипотезу в пользу альтернативной.\n",
    "* Текущей гипотезой станет та, которая говорит о различиях выручки пользователей на тарифах «Смарт» и «Ультра», то есть альтернативная гипотеза H<sub>1</sub>."
   ]
  },
  {
   "cell_type": "markdown",
   "id": "5d5474a8",
   "metadata": {},
   "source": [
    "### Средняя выручка в Москве отличается от других регионов"
   ]
  },
  {
   "cell_type": "markdown",
   "id": "e99abd4e",
   "metadata": {},
   "source": [
    "Сформулируем нулевую гипотезу H<sub>0</sub>:\n",
    "* Cредняя выручка пользователей из Москвы равна средней выручке пользователей из других регионов.\n",
    "\n",
    "Альтернативная гипотеза H<sub>1</sub>:\n",
    "* Средняя выручка пользователей из Москвы отличается от выручки пользователей из других регионов\n",
    "\n",
    "Для проверки гипотезы определим пороговое значение уровня значимости `alpha = 0.05`, сформируем соотвествующие выборки и сравним их средние t-тестом с помощью функции `st.ttest_ind`, так как выборки независимы."
   ]
  },
  {
   "cell_type": "code",
   "execution_count": 107,
   "id": "d3aa416d",
   "metadata": {},
   "outputs": [],
   "source": [
    "# сформируем выборку по выручке от каждого пользователя из города Москва\n",
    "profit_moscow = (\n",
    "    profit.loc[profit['city'] == 'Москва']\n",
    "    .groupby('user_id')['profit']\n",
    "    .agg('mean')\n",
    ")\n",
    "\n",
    "# сформируем выборку по выручке от каждого пользователя из всех остальных городов, кроме Москвы\n",
    "profit_other = (\n",
    "    profit.loc[profit['city'] != 'Москва']\n",
    "    .groupby('user_id')['profit']\n",
    "    .agg('mean')\n",
    ")"
   ]
  },
  {
   "cell_type": "code",
   "execution_count": 108,
   "id": "7fa2fa4d",
   "metadata": {},
   "outputs": [
    {
     "data": {
      "text/plain": [
       "(99, 399)"
      ]
     },
     "execution_count": 108,
     "metadata": {},
     "output_type": "execute_result"
    }
   ],
   "source": [
    "# проверим количество строк в каждой выборке\n",
    "profit_moscow.shape[0], profit_other.shape[0]"
   ]
  },
  {
   "cell_type": "markdown",
   "id": "58f5cfbd",
   "metadata": {},
   "source": [
    "Так как выборки разного размера и можно предположить, что дисперсии у них также разные, для функции `st.ttest_ind` укажем параметр `equal_var = False`."
   ]
  },
  {
   "cell_type": "code",
   "execution_count": 109,
   "id": "1269b256",
   "metadata": {},
   "outputs": [
    {
     "name": "stdout",
     "output_type": "stream",
     "text": [
      "p-значение:  0.3564524858933712\n"
     ]
    }
   ],
   "source": [
    "# определение p-уровня значимости для проверки гипотезы\n",
    "results = st.ttest_ind(profit_moscow, profit_other, equal_var=False)\n",
    "print('p-значение: ', results.pvalue)"
   ]
  },
  {
   "cell_type": "markdown",
   "id": "0e11a817",
   "metadata": {},
   "source": [
    "* Для нулевой гитпотезы о равенстве средней выручки пользователей в Москве и остальных городах получено p-значение, равное `0.37`, что превышает принятый уровень зачимости `alpha = 0.05`. Это означает, что вероятность получить такое или большее различие случайно составляет почти `37%`, а это говорит о слишком большой вероятности, чтобы делать вывод о значимом различии между средними показателями выручки по Москве и остальным регионам. Следовательно, нет оснований для того, чтобы отвергнуть нулевую гипотезу.\n",
    "* Текущей гипотезой остаётся нулевая, которая говорит о равенстве средней выручки пользователей из Москвы средней выручке пользователей из других регионов."
   ]
  },
  {
   "cell_type": "markdown",
   "id": "cc8de369",
   "metadata": {},
   "source": [
    "### Выводы по проверке гипотез"
   ]
  },
  {
   "cell_type": "markdown",
   "id": "328542bf",
   "metadata": {},
   "source": [
    "* Проверка первой гипотезы позволила отвергнуть нулевую гипотезу H<sub>0</sub> в пользу альтернативной H<sub>1</sub>, которая звучит как:\n",
    "    * <ins>*Средняя выручка пользователей тарифов «Смарт» и «Ультра» различается.*</ins>\n",
    "* Проверка второй гипотезы не позволила отвергнуть нулевую гипотезу H<sub>0</sub> в пользу альтернативной H<sub>1</sub> и текущей осталась нулевая гипотеза, которая звучит следующим образом:\n",
    "    * <ins>*Cредняя выручка пользователей из Москвы равна средней выручке пользователей из других регионов.*</ins>"
   ]
  },
  {
   "cell_type": "markdown",
   "id": "4f11432a",
   "metadata": {},
   "source": [
    "## Общие выводы по исследованию"
   ]
  },
  {
   "cell_type": "markdown",
   "id": "c0fef693",
   "metadata": {},
   "source": [
    "1. Полученные в файлах `calls.csv`, `internet.csv`, `messages.csv`, `tariffs.csv`, `users.csv` данные о звонках, сообщениях, интернет-трафике, тарифах и пользователях компании федерального оператора сотовой связи «Мегалайн» проверены на наличие дубликатов, аномальных и/или ошибочных данных. Определены направления для предобработки и преобразования данных.\n",
    "2. На этапе предобработки все данные, которые относятся к датам, были преобразованы к типу `datetime` для удобства последующей работы. Изучены основные характеристики, которые будут участвовать в дальнейшем анализе, такие как количество звонков по месяцам `month_call`, суммарная продолжительность звонков `duration` по месяцам, израсходованный интернет-трафик по месяцам `mb_used`, распредление отправленных сообщений по месяцам. Определён количественный линейный рост по данным показателям. Форма распределений установлена как близкая к распределению Пуассона.\n",
    "3. Установлено, что почти половину пользователей оператора составляют жители трёх крупнейших городов: Москвы, Санкт-Петербурга и Новосибирска.\n",
    "4. Для каждого пользователя рассчитаны помесячные показатели количества совершенных звонков, израсходованных минут разговора, объёма израсходованного интернет-трафика, количества отправленных сообщений и выручки с каждого клиента.\n",
    "5. Проанализированы статистические данные тарифов `smart` и `ultra` по таким параметрам как количество минут разговора, объём потраченного интернет-трафика и количество отправленных сообщений. Для них рассчитаны средние значения, дисперисия и стандартное отклонение.\n",
    "6. Установлено, что на тарифном плане `smart` пользователи упираются в лимиты по времени разговора и количеству отправляемых сообщений и стараются не пользоваться этими услугами сверх лимитов по тарифу. При этом, они более охотно соглашаются на использование дополнительных интернет-услуг сверх тарифного плана. На тарифном плане `ultra` ситуация противоположная. Бо́льшие лимиты по времени разговора и количеству отправляемых сообщений для исследуемых пользователей недостижимы и они более активно пользуются данными услугами. Чего нельзя сказать об услуге по предоставлению интернет-трафика, где для группы пользователей тарифного плана `ultra` наблюдается исчерпание включённого в абонентскую плату лимита и последующее резкое сокращение использования данной услуги.\n",
    "7. Анализ графиков зависимости доли переплат у пользователей различных тарифных планов показал, что пользователи тарифного плана `smart`, которым приходится использовать услуги сверх тарифного пакета, переплачивают `100-150%` от ежемесячной платы. Тогда как пользователи тарифного плана `ultra` редко переплачивают свыше `50%`. Разница в переплатах очень сильно проявляется на данные с накопительным эффектом. Многочисленные переплаты у пользователей тарифного плана `smart` и их стремительный рост могут подорвать лояльность клиентов оператора сотовой связи «Мегалайн».\n",
    "8. Определено, что тарифный план `ultra` демонстрирует более высокую прибыльность по сравнению с тарифом `smart`. По результатам анализа было принято решение о необходимости статистической проверки данного наблюдения, чтобы убедиться в том, что оно не является случайным.\n",
    "9. Для проверки выдвинутых гипотез проведены t-тесты на сравнение средних при пороговом уровне значимости `alpha = 0.05`.\n",
    "\n",
    "Нулевая гипотеза H<sub>0</sub>, сформулированная как:\n",
    "* *средняя выручка пользователей тарифа «Смарт» равна средней выручке тарифа «Ультра»* отвергнута в пользу альтернативной гипотезы H<sub>1</sub>, которая звучит следующим образом:\n",
    "    * <ins>*Средняя выручка пользователей тарифов «Смарт» и «Ультра» различается.*</ins>\n",
    "\n",
    "Нулевая гипотеза H<sub>0</sub>, сформулированная как:\n",
    "* *cредняя выручка пользователей из Москвы равна средней выручке пользователей из других регионов* не получила по результатам t-теста статистически значимых данных, которые позволили бы отклонить её в пользу альтернативной гипотезы и по этой причине эта гипотеза осталась действующей.\n",
    "10. С точки зрения бизнеса тарифный план `ultra` приносит больше денег и выглядит более предпочтительным для продвижения с рекламным бюджетом."
   ]
  },
  {
   "cell_type": "code",
   "execution_count": null,
   "id": "6d97b326",
   "metadata": {},
   "outputs": [],
   "source": []
  }
 ],
 "metadata": {
  "ExecuteTimeLog": [
   {
    "duration": 660,
    "start_time": "2022-02-01T17:26:04.332Z"
   },
   {
    "duration": 58,
    "start_time": "2022-02-01T17:28:42.237Z"
   },
   {
    "duration": 60,
    "start_time": "2022-02-01T17:28:54.430Z"
   },
   {
    "duration": 10,
    "start_time": "2022-02-01T17:29:41.838Z"
   },
   {
    "duration": 101,
    "start_time": "2022-03-15T17:00:55.160Z"
   }
  ],
  "kernelspec": {
   "display_name": "Python 3 (ipykernel)",
   "language": "python",
   "name": "python3"
  },
  "language_info": {
   "codemirror_mode": {
    "name": "ipython",
    "version": 3
   },
   "file_extension": ".py",
   "mimetype": "text/x-python",
   "name": "python",
   "nbconvert_exporter": "python",
   "pygments_lexer": "ipython3",
   "version": "3.8.13"
  },
  "toc": {
   "base_numbering": 1,
   "nav_menu": {},
   "number_sections": true,
   "sideBar": true,
   "skip_h1_title": true,
   "title_cell": "Table of Contents",
   "title_sidebar": "Contents",
   "toc_cell": false,
   "toc_position": {
    "height": "calc(100% - 180px)",
    "left": "10px",
    "top": "150px",
    "width": "344.4px"
   },
   "toc_section_display": true,
   "toc_window_display": true
  }
 },
 "nbformat": 4,
 "nbformat_minor": 5
}
